{
  "nbformat": 4,
  "nbformat_minor": 0,
  "metadata": {
    "colab": {
      "provenance": []
    },
    "kernelspec": {
      "name": "python3",
      "display_name": "Python 3"
    },
    "language_info": {
      "name": "python"
    }
  },
  "cells": [
    {
      "cell_type": "markdown",
      "source": [
        "#Bem-vindo(a) a aula 3 do módulo de Data Science\n",
        "\n",
        "### Nessa aula vamos aprender sobre funções *lambda*"
      ],
      "metadata": {
        "id": "J3RqmdGz6psU"
      }
    },
    {
      "cell_type": "markdown",
      "source": [
        "#### O que são funções *lambda?*\n",
        "\n",
        "As funções *lambda*, são conhecidas por vários nomes:\n",
        "\n",
        "- Lambda Expressions\n",
        "- Anonymous Functions\n",
        "- Lambda Abstractions\n",
        "- Lambda Form\n",
        "- Functions Literals\n",
        "\n",
        "Porém, uma boa parte da comunidade *Python* conhece ela por *Anonymous Functions*(Funções anônimas), ou seja, essas funções não possuem necessidade de serem referenciadas com nomes.\n"
      ],
      "metadata": {
        "id": "39Jzg4bX67Yr"
      }
    },
    {
      "cell_type": "markdown",
      "source": [
        "####Quais são as diferenças e as covergências entre as funções padrões(*def*) e as funções *lambda*?\n",
        "\n",
        "####Funções Padrões\n",
        "\n",
        "- Utilizada muitas vezes\n",
        "- Muitas linhas de código\n",
        "- Somente nomeada\n",
        "- Nenhum ou muitos parâmetros\n",
        "- Nenhum ou muitos retornos\n",
        "\n",
        "####Funções *lambda*\n",
        "\n",
        "- Utilizada uma única vez\n",
        "- Definição em uma linha\n",
        "- Nomeada ou Anônima\n",
        "- Nenhum ou muitos parâmetros\n",
        "- Um ou muitos retornos\n",
        "\n"
      ],
      "metadata": {
        "id": "g__Pj8Wo7JUD"
      }
    },
    {
      "cell_type": "markdown",
      "source": [
        "####Como criar funções *lambda*?"
      ],
      "metadata": {
        "id": "_XyF3QNi9k69"
      }
    },
    {
      "cell_type": "markdown",
      "source": [
        "Bom, as funções *lambda* possuem a palavra reservada que é a própria *lambda*, são seguidas de um ou mais argumentos e uma expressão.\n",
        "\n",
        "```\n",
        "lambda {argumentos} : {expressão}\n",
        "```\n",
        "\n",
        "###Obs:\n",
        "As funções *lambda* não podem conter outros comandos(statements).\n",
        "\n",
        "- return\n",
        "- pass\n",
        "- assert\n",
        "- raise\n",
        "\n",
        "Se tentarmos passar esses comandos receberemos um erro:"
      ],
      "metadata": {
        "id": "8DB7HPhk9zPM"
      }
    },
    {
      "cell_type": "code",
      "source": [
        "print(lambda texto: return texto.upper())"
      ],
      "metadata": {
        "colab": {
          "base_uri": "https://localhost:8080/",
          "height": 142
        },
        "id": "h73IJXyiAC_k",
        "outputId": "20c22e37-1c63-4887-fc01-885b31eb97ca"
      },
      "execution_count": null,
      "outputs": [
        {
          "output_type": "error",
          "ename": "SyntaxError",
          "evalue": "ignored",
          "traceback": [
            "\u001b[0;36m  File \u001b[0;32m\"<ipython-input-1-7f7f7d2fa98a>\"\u001b[0;36m, line \u001b[0;32m1\u001b[0m\n\u001b[0;31m    print(lambda texto: return texto.upper())\u001b[0m\n\u001b[0m                        ^\u001b[0m\n\u001b[0;31mSyntaxError\u001b[0m\u001b[0;31m:\u001b[0m invalid syntax\n"
          ]
        }
      ]
    },
    {
      "cell_type": "markdown",
      "source": [
        "###Olhando na prática funções lambda"
      ],
      "metadata": {
        "id": "f8azPkLtAPzj"
      }
    },
    {
      "cell_type": "code",
      "source": [
        "soma = lambda x, y: x + y\n",
        "print(soma(2,2))"
      ],
      "metadata": {
        "colab": {
          "base_uri": "https://localhost:8080/"
        },
        "id": "bylVP27RAfKi",
        "outputId": "adc5ef38-4308-4b75-ab54-f15f359595fe"
      },
      "execution_count": null,
      "outputs": [
        {
          "output_type": "stream",
          "name": "stdout",
          "text": [
            "4\n"
          ]
        }
      ]
    },
    {
      "cell_type": "markdown",
      "source": [
        "Nesse caso acima, os parâmetros são x e y, que vão receber o valor 2 e irão retornar o a soma entre esses dois valores."
      ],
      "metadata": {
        "id": "wuwIv6wnAr91"
      }
    },
    {
      "cell_type": "markdown",
      "source": [
        "Certo, mas como dissemos acima, as funções *lambda* podem ser executadas sem serem armazenadas em uma variável, vamos ver como fazemos isso."
      ],
      "metadata": {
        "id": "eNgYaxLCA9xg"
      }
    },
    {
      "cell_type": "code",
      "source": [
        "print((lambda x, y: x * y)(3, 3))"
      ],
      "metadata": {
        "colab": {
          "base_uri": "https://localhost:8080/"
        },
        "id": "f2rPraC9BLeN",
        "outputId": "abeb51a4-b537-4d1b-d5b9-98107251c070"
      },
      "execution_count": null,
      "outputs": [
        {
          "output_type": "stream",
          "name": "stdout",
          "text": [
            "9\n"
          ]
        }
      ]
    },
    {
      "cell_type": "markdown",
      "source": [
        "Outra curiosidade das funções *lambda* é que elas podem ter parâmetros nomeados"
      ],
      "metadata": {
        "id": "945QartYBXtu"
      }
    },
    {
      "cell_type": "code",
      "source": [
        "subtrair = lambda x, y: x - y\n",
        "print(subtrair(x=10, y=4))"
      ],
      "metadata": {
        "colab": {
          "base_uri": "https://localhost:8080/"
        },
        "id": "cIZbOYrYB8j6",
        "outputId": "dee346e0-fc0f-47c9-d4f3-84a4f2c4d09e"
      },
      "execution_count": null,
      "outputs": [
        {
          "output_type": "stream",
          "name": "stdout",
          "text": [
            "6\n"
          ]
        }
      ]
    },
    {
      "cell_type": "markdown",
      "source": [
        "Além disso, as funções *lambda*, assim como as padrões, também podem possuir parâmetros *args e **kwargs."
      ],
      "metadata": {
        "id": "d-5NMvhoCF-q"
      }
    },
    {
      "cell_type": "code",
      "source": [
        "somar_lista = lambda *args: sum(*args)\n",
        "print(somar_lista([100, 200, 150]))"
      ],
      "metadata": {
        "colab": {
          "base_uri": "https://localhost:8080/"
        },
        "id": "lKWon_i5CU4N",
        "outputId": "9d6c0d13-46f4-4eec-d461-2e8dea7b399c"
      },
      "execution_count": null,
      "outputs": [
        {
          "output_type": "stream",
          "name": "stdout",
          "text": [
            "450\n"
          ]
        }
      ]
    },
    {
      "cell_type": "code",
      "source": [
        "somar_valor_dict = lambda **kwargs: sum(kwargs.values())\n",
        "print(somar_valor_dict(a=44, b=33, c=27))"
      ],
      "metadata": {
        "colab": {
          "base_uri": "https://localhost:8080/"
        },
        "id": "ZwvS5IFTD0tP",
        "outputId": "b57b5953-6cfb-4ba8-d975-838c64ec307a"
      },
      "execution_count": null,
      "outputs": [
        {
          "output_type": "stream",
          "name": "stdout",
          "text": [
            "104\n"
          ]
        }
      ]
    },
    {
      "cell_type": "markdown",
      "source": [
        "###Certo, então qual devemos usar? Funções padrões ou funções *lambda*?"
      ],
      "metadata": {
        "id": "DMX7u5nCEIUf"
      }
    },
    {
      "cell_type": "markdown",
      "source": [
        "Bom, as funções *lambda* serão de extrema importância quando estivermos fazendo alguns métodos como *apply()*, *map()* e *filter()*, porém, sempre que pude utilize as funções padrões, elas são de mais fácil leitura."
      ],
      "metadata": {
        "id": "2JfbZsjTEcY8"
      }
    },
    {
      "cell_type": "markdown",
      "source": [
        "## Bom, agora que entendemos um pouco das funções *lambda*, vamos fazer algumas questões"
      ],
      "metadata": {
        "id": "8JGGzLbmGuQn"
      }
    },
    {
      "cell_type": "markdown",
      "source": [
        "1. Crie uma função lambda que calcule o quadrado de um número.\n",
        "\n",
        "2. Crie uma função lambda para verificar se o número é par.\n",
        "\n",
        "3. Crie uma função lambda para converter *strings* em maiúsculas.\n",
        "\n",
        "4. Crie uma função lambda para calcular a área de um retângulo."
      ],
      "metadata": {
        "id": "P7083Cq0Kdpr"
      }
    },
    {
      "cell_type": "code",
      "source": [
        "# Questão 1\n",
        "print((lambda x: x ** 2)(10))"
      ],
      "metadata": {
        "colab": {
          "base_uri": "https://localhost:8080/"
        },
        "id": "js3ylol1KlhV",
        "outputId": "2b0d6686-2b37-41a2-f51a-3963f76a3214"
      },
      "execution_count": null,
      "outputs": [
        {
          "output_type": "stream",
          "name": "stdout",
          "text": [
            "100\n"
          ]
        }
      ]
    },
    {
      "cell_type": "code",
      "source": [
        "print((lambda x: x % 2 == 0)(10))"
      ],
      "metadata": {
        "colab": {
          "base_uri": "https://localhost:8080/"
        },
        "id": "jjF3XP0nNVID",
        "outputId": "d73c3996-94f2-466f-8b1b-fb8b40eb9621"
      },
      "execution_count": null,
      "outputs": [
        {
          "output_type": "stream",
          "name": "stdout",
          "text": [
            "True\n"
          ]
        }
      ]
    },
    {
      "cell_type": "code",
      "source": [
        "print((lambda txt: txt.upper())('hello world'))"
      ],
      "metadata": {
        "colab": {
          "base_uri": "https://localhost:8080/"
        },
        "id": "HYt06pgtN8MX",
        "outputId": "cce809e9-3cf1-43d0-d469-3464a298f6ac"
      },
      "execution_count": null,
      "outputs": [
        {
          "output_type": "stream",
          "name": "stdout",
          "text": [
            "HELLO WORLD\n"
          ]
        }
      ]
    },
    {
      "cell_type": "code",
      "source": [
        "print((lambda direita, cima: direita * cima)(10, 20))"
      ],
      "metadata": {
        "colab": {
          "base_uri": "https://localhost:8080/"
        },
        "id": "UasXDldCOEFt",
        "outputId": "c313f9f7-9451-4410-bdd1-943ecd4c35e3"
      },
      "execution_count": null,
      "outputs": [
        {
          "output_type": "stream",
          "name": "stdout",
          "text": [
            "200\n"
          ]
        }
      ]
    },
    {
      "cell_type": "markdown",
      "source": [
        "##Certo, agora vamos ver o real uso das funções *lambda*\n",
        "\n",
        "Como foi vimos acima, é preferivel que utilizemos as funções padrões sempre que for possível, mas as funções *lambda* são muito fortes quando são utilizadas com algumas outras funções.\n",
        "\n",
        "Nesse caso, estamos falando das funções *map()*, *filter()*, *reduce()*."
      ],
      "metadata": {
        "id": "MVDSUEJDOTHV"
      }
    },
    {
      "cell_type": "markdown",
      "source": [
        "###*map()*"
      ],
      "metadata": {
        "id": "l1ZOfR18PxJS"
      }
    },
    {
      "cell_type": "markdown",
      "source": [
        "A função *map()* serve para aplicarmos uma função a cada elemento de um iterável que será passado como argumento do nosso parâmetro, nesse caso a função *map()* poderá ser usada com funções padrões e será apresentada as duas formas"
      ],
      "metadata": {
        "id": "DmVor7kqQz5N"
      }
    },
    {
      "cell_type": "markdown",
      "source": [
        "Primeiro, vamos fazer um exemplo aplicando a multiplicação de 10 a cada elemento de uma lista.\n"
      ],
      "metadata": {
        "id": "w-DM6pfvUK3j"
      }
    },
    {
      "cell_type": "code",
      "source": [
        "def multiplicar(x):\n",
        "  return x * 10\n",
        "\n",
        "# Vamos criar uma lista de 10 números\n",
        "lista = [*range(1, 11)]\n",
        "# Vamos aplicar a função map e guardar o resultado em uma nova variável\n",
        "lista2 = map(multiplicar, lista)\n",
        "print(lista2)"
      ],
      "metadata": {
        "colab": {
          "base_uri": "https://localhost:8080/"
        },
        "id": "53D7tjKBUVVl",
        "outputId": "e13ac1dd-6845-492f-d96a-f9105fe11544"
      },
      "execution_count": null,
      "outputs": [
        {
          "output_type": "stream",
          "name": "stdout",
          "text": [
            "<map object at 0x7ba1148670a0>\n"
          ]
        }
      ]
    },
    {
      "cell_type": "markdown",
      "source": [
        "Perceba que nossa IDE imprimiu um objeto estranho, isso acontece porque nossa variável não está vindo como uma lista e pra isso precisamos transformar em uma lista"
      ],
      "metadata": {
        "id": "9tZnKndyU3nL"
      }
    },
    {
      "cell_type": "code",
      "source": [
        "lista2 = list(lista2)\n",
        "print(lista2)"
      ],
      "metadata": {
        "colab": {
          "base_uri": "https://localhost:8080/"
        },
        "id": "2pTSpJ9MVjbO",
        "outputId": "e2547c3d-347c-4f3e-89d8-d040c6a293a5"
      },
      "execution_count": null,
      "outputs": [
        {
          "output_type": "stream",
          "name": "stdout",
          "text": [
            "[10, 20, 30, 40, 50, 60, 70, 80, 90, 100]\n"
          ]
        }
      ]
    },
    {
      "cell_type": "markdown",
      "source": [
        "Agora vamos fazer isso com a função *lambda*"
      ],
      "metadata": {
        "id": "Dbg91gm5Vu0_"
      }
    },
    {
      "cell_type": "code",
      "source": [
        "print(list(map(lambda x: x * 10, range(1, 11))))"
      ],
      "metadata": {
        "colab": {
          "base_uri": "https://localhost:8080/"
        },
        "id": "l4eGPh5_V1bF",
        "outputId": "73f1275a-5a50-4f40-9975-46ad3a2d43b5"
      },
      "execution_count": null,
      "outputs": [
        {
          "output_type": "stream",
          "name": "stdout",
          "text": [
            "[10, 20, 30, 40, 50, 60, 70, 80, 90, 100]\n"
          ]
        }
      ]
    },
    {
      "cell_type": "markdown",
      "source": [
        "Nesse sentido, como o segundo parâmetro da função é *map()* é um iterável podemos passar dicionários, tuplas, listas.\n",
        "\n",
        "Vamos ver um exemplo com dicionário."
      ],
      "metadata": {
        "id": "R6pPeRgxWBDy"
      }
    },
    {
      "cell_type": "code",
      "source": [
        "pessoas = [\n",
        "    {\"nome\": \"Alice\", \"altura\": 160},\n",
        "    {\"nome\": \"Bob\", \"altura\": 175},\n",
        "    {\"nome\": \"Charlie\", \"altura\": 150},\n",
        "    {\"nome\": \"David\", \"altura\": 168},\n",
        "    {\"nome\": \"Eve\", \"altura\": 162}\n",
        "]\n",
        "\n",
        "print(list(map(lambda altura : altura['altura'] > 160, pessoas)))"
      ],
      "metadata": {
        "colab": {
          "base_uri": "https://localhost:8080/"
        },
        "id": "UOLsp8jLX8rA",
        "outputId": "99185493-4664-4c3f-de94-c2ebf92b36da"
      },
      "execution_count": 5,
      "outputs": [
        {
          "output_type": "stream",
          "name": "stdout",
          "text": [
            "[False, True, False, True, True]\n"
          ]
        }
      ]
    },
    {
      "cell_type": "code",
      "source": [
        "print(list(map(lambda pessoa : pessoa['nome'] if pessoa['altura'] > 160 else '' , pessoas)))"
      ],
      "metadata": {
        "colab": {
          "base_uri": "https://localhost:8080/"
        },
        "id": "7NAVF5i1Ys9B",
        "outputId": "ef696da9-316e-4895-8839-08a1381e3cea"
      },
      "execution_count": null,
      "outputs": [
        {
          "output_type": "stream",
          "name": "stdout",
          "text": [
            "['', 'Bob', '', 'David', 'Eve']\n"
          ]
        }
      ]
    },
    {
      "cell_type": "markdown",
      "source": [
        "###*filter()*"
      ],
      "metadata": {
        "id": "dVw9IYE0ZMsk"
      }
    },
    {
      "cell_type": "markdown",
      "source": [
        "A função *filter()* em *Python* é uma função de ordem superior que permite filtrar elementos de uma sequência como uma lista, tupla, dicionário com uma determinada condição, assim, o *filter* retorna uma lista com apenas os elementos que satisfazem a condição passada.\n",
        "\n",
        "Sintaxe:\n",
        "```\n",
        "filter(função aplicada, iterável)\n",
        "```\n",
        "\n",
        "Vamos ver alguns exemplos usando *filter* com funções padrões e *lambda*."
      ],
      "metadata": {
        "id": "mfR1CDDKRbk7"
      }
    },
    {
      "cell_type": "code",
      "source": [
        "lista = [*range(1,11)]\n",
        "\n",
        "def numero_par(x):\n",
        "  return x % 2 == 0\n",
        "\n",
        "print(list(filter(numero_par, lista)))"
      ],
      "metadata": {
        "colab": {
          "base_uri": "https://localhost:8080/"
        },
        "id": "cp3kEFrDTqqf",
        "outputId": "2639ad8c-3aa7-43a9-9a4a-25a5acc6b811"
      },
      "execution_count": 2,
      "outputs": [
        {
          "output_type": "stream",
          "name": "stdout",
          "text": [
            "[2, 4, 6, 8, 10]\n"
          ]
        }
      ]
    },
    {
      "cell_type": "markdown",
      "source": [
        "Fazendo agora com funções *lambda*"
      ],
      "metadata": {
        "id": "4lXmqlndURUx"
      }
    },
    {
      "cell_type": "code",
      "source": [
        "print(list(filter(lambda x: x % 2 == 0, lista)))"
      ],
      "metadata": {
        "colab": {
          "base_uri": "https://localhost:8080/"
        },
        "id": "MXaWInezUce-",
        "outputId": "1e6b7ae7-8fd9-4cf0-dc7f-143bfa8110a1"
      },
      "execution_count": 3,
      "outputs": [
        {
          "output_type": "stream",
          "name": "stdout",
          "text": [
            "[2, 4, 6, 8, 10]\n"
          ]
        }
      ]
    },
    {
      "cell_type": "markdown",
      "source": [
        "Podemos também ver exemplos com dicionários, vamos usar o dicionário de **pessoas** que vimos acima.\n",
        "\n",
        "Vamos filtrar as pessoas quem não possuem 1,60."
      ],
      "metadata": {
        "id": "FAKdM56_UhxQ"
      }
    },
    {
      "cell_type": "code",
      "source": [
        "print(list(filter(lambda x: x['altura'] != 160, pessoas)))"
      ],
      "metadata": {
        "colab": {
          "base_uri": "https://localhost:8080/"
        },
        "id": "bmPKwI3fUsi2",
        "outputId": "b35cbefa-165e-473d-9d61-4413ee84aabe"
      },
      "execution_count": 6,
      "outputs": [
        {
          "output_type": "stream",
          "name": "stdout",
          "text": [
            "[{'nome': 'Bob', 'altura': 175}, {'nome': 'Charlie', 'altura': 150}, {'nome': 'David', 'altura': 168}, {'nome': 'Eve', 'altura': 162}]\n"
          ]
        }
      ]
    },
    {
      "cell_type": "markdown",
      "source": [
        "Também podemos filtrar apenas as pessoas que possuem mais de 1,65"
      ],
      "metadata": {
        "id": "EFpXcCi7VHSX"
      }
    },
    {
      "cell_type": "code",
      "source": [
        "print(list(filter(lambda x: x['altura'] > 165, pessoas)))"
      ],
      "metadata": {
        "colab": {
          "base_uri": "https://localhost:8080/"
        },
        "id": "l0WXba9aV7-x",
        "outputId": "1c8e9fd6-7a13-4c61-df6f-3a8bb4a4e2f6"
      },
      "execution_count": 7,
      "outputs": [
        {
          "output_type": "stream",
          "name": "stdout",
          "text": [
            "[{'nome': 'Bob', 'altura': 175}, {'nome': 'David', 'altura': 168}]\n"
          ]
        }
      ]
    },
    {
      "cell_type": "markdown",
      "source": [
        "###*reduce()*"
      ],
      "metadata": {
        "id": "XFXzgEjhWBym"
      }
    },
    {
      "cell_type": "markdown",
      "source": [
        "A função *reduce()* é a última função complementar que veremos hoje, a *reduce()* é uma função que permite aplicar, de forma cumulativa, um função a todos os elementos de um iterável. Ela agrega os elementos da sequência de forma sucessiva, aplicando a função cumulativa com o intuito de chegar em um único valor.\n",
        "\n",
        "Sintaxe:\n",
        "```\n",
        "reduce(função, iterável)\n",
        "```"
      ],
      "metadata": {
        "id": "vb8TPW-VXylC"
      }
    },
    {
      "cell_type": "markdown",
      "source": [
        "**OBS:**\n",
        "  - A função *reduce* não é *builtin* do *Python*, nesse caso, devemos importar um módulo chamado de ***functools***"
      ],
      "metadata": {
        "id": "4a3A39_6Y9OY"
      }
    },
    {
      "cell_type": "code",
      "source": [
        "from functools import reduce\n",
        "\n",
        "def somar_numeros_lista(x, y):\n",
        "  return x + y\n",
        "\n",
        "lista_reduce = [*range(1, 11)]\n",
        "\n",
        "print(reduce(somar_numeros_lista, lista_reduce))"
      ],
      "metadata": {
        "colab": {
          "base_uri": "https://localhost:8080/"
        },
        "id": "_Vs9ub5SZUTH",
        "outputId": "6058fa72-70e1-42e4-ab70-4a7ba8b1217a"
      },
      "execution_count": 9,
      "outputs": [
        {
          "output_type": "stream",
          "name": "stdout",
          "text": [
            "55\n"
          ]
        }
      ]
    },
    {
      "cell_type": "code",
      "source": [
        "print(reduce(lambda x, y: x + y, lista_reduce))"
      ],
      "metadata": {
        "colab": {
          "base_uri": "https://localhost:8080/"
        },
        "id": "d7lT-fNYah7-",
        "outputId": "8d6a9ea5-a48a-4cd7-bffe-940562d05649"
      },
      "execution_count": 10,
      "outputs": [
        {
          "output_type": "stream",
          "name": "stdout",
          "text": [
            "55\n"
          ]
        }
      ]
    },
    {
      "cell_type": "markdown",
      "source": [
        "Certo, vamos entender o que esta acontecendo.\n",
        "\n",
        "Nesse caso, criamos uma função que recebe dois parâmetros e possui um retorno da soma desses dois parâmetros, a função *reduce* nesse caso, vai acumular os resultados, da seguinte forma:\n",
        "\n",
        "O parâmetro x receberá o valor 1 -> x = 1\n",
        "\n",
        "O parâmetro y receberá o valor 2 -> y = 2\n",
        "\n",
        "Depois o resultado dessa soma será armazenada em x e y receberá o próximo valor da lista, isso se estenderá por todo o iterável até ele finalizar."
      ],
      "metadata": {
        "id": "nBww3dVPbjez"
      }
    },
    {
      "cell_type": "markdown",
      "source": [
        "Agora podemos brincar com a função *reduce* de várias maneiras.\n",
        "\n",
        "Vamos verificar qual o maior número de um iterável."
      ],
      "metadata": {
        "id": "pqUWBn4yeO0-"
      }
    },
    {
      "cell_type": "code",
      "source": [
        "tupla_numeros = (20, 150, 10, 321, 40, 210, 1)\n",
        "print(reduce(lambda x, y: x if x > y else y, tupla_numeros))"
      ],
      "metadata": {
        "colab": {
          "base_uri": "https://localhost:8080/"
        },
        "id": "zBQEBQWQej_4",
        "outputId": "0048599b-530b-46bc-d028-9f52595aff6d"
      },
      "execution_count": 11,
      "outputs": [
        {
          "output_type": "stream",
          "name": "stdout",
          "text": [
            "321\n"
          ]
        }
      ]
    },
    {
      "cell_type": "markdown",
      "source": [
        "Agora, para fixarmos nosso conteúdo, vamos fazer alguns exercícios."
      ],
      "metadata": {
        "id": "Hji3sfgne2Tl"
      }
    },
    {
      "cell_type": "markdown",
      "source": [
        "1. Retornar uma lista de valores pares de 1 à 20\n",
        "2. Retornar uma lista de valores ímpares de 30 à 50\n"
      ],
      "metadata": {
        "id": "_vt7dHJ1fL8E"
      }
    },
    {
      "cell_type": "code",
      "source": [
        "# Questão 1\n",
        "print(list(filter(lambda num: num % 2 == 0, [*range(1, 21)])))"
      ],
      "metadata": {
        "colab": {
          "base_uri": "https://localhost:8080/"
        },
        "id": "ioQ0dIwAfWCK",
        "outputId": "03d0a015-770e-483c-8514-6d79f9d80b13"
      },
      "execution_count": 13,
      "outputs": [
        {
          "output_type": "stream",
          "name": "stdout",
          "text": [
            "[2, 4, 6, 8, 10, 12, 14, 16, 18, 20]\n"
          ]
        }
      ]
    },
    {
      "cell_type": "code",
      "source": [
        "# Questão 2\n",
        "print(list(filter(lambda num: num % 2 != 0, [*range(30, 50)])))"
      ],
      "metadata": {
        "colab": {
          "base_uri": "https://localhost:8080/"
        },
        "id": "qvqFahxofes-",
        "outputId": "a586ccdc-b911-4e86-eece-d38d63869d65"
      },
      "execution_count": 14,
      "outputs": [
        {
          "output_type": "stream",
          "name": "stdout",
          "text": [
            "[31, 33, 35, 37, 39, 41, 43, 45, 47, 49]\n"
          ]
        }
      ]
    },
    {
      "cell_type": "markdown",
      "source": [
        "3. Dada uma lista de temperaturas em Celsius, converta cada temperatura para Fahrenheit usando a fórmula (C * 9/5) + 32."
      ],
      "metadata": {
        "id": "egqDt9VohVkf"
      }
    },
    {
      "cell_type": "code",
      "source": [
        "lista_celsius = [24, 15, 16, 32, 22]\n",
        "print(list(map(lambda num: (num * 9/5) + 32, lista_celsius)))"
      ],
      "metadata": {
        "colab": {
          "base_uri": "https://localhost:8080/"
        },
        "id": "g3JhulUjhzo2",
        "outputId": "2785973a-39ad-4418-f1e2-e4a22774e97e"
      },
      "execution_count": 17,
      "outputs": [
        {
          "output_type": "stream",
          "name": "stdout",
          "text": [
            "[75.2, 59.0, 60.8, 89.6, 71.6]\n"
          ]
        }
      ]
    },
    {
      "cell_type": "markdown",
      "source": [
        "4. Dada uma lista de strings, filtre as strings que contêm a letra 'a' e converta as strings restantes para maiúsculas."
      ],
      "metadata": {
        "id": "-GpwOVeki0hJ"
      }
    },
    {
      "cell_type": "code",
      "source": [
        "strings = ['casa', 'carro', 'avião', 'bicicleta', 'ônibus']\n",
        "\n",
        "strings_com_a = filter(lambda s: 'a' in s, strings)\n",
        "strings_maiusculas = map(lambda s: s.upper(), strings_com_a)\n",
        "print(list(strings_maiusculas))"
      ],
      "metadata": {
        "colab": {
          "base_uri": "https://localhost:8080/"
        },
        "id": "NhZwZFgwiHg8",
        "outputId": "fc2ba53b-e945-41d3-8c66-18d090751fec"
      },
      "execution_count": 18,
      "outputs": [
        {
          "output_type": "stream",
          "name": "stdout",
          "text": [
            "['CASA', 'CARRO', 'AVIÃO', 'BICICLETA']\n"
          ]
        }
      ]
    }
  ]
}