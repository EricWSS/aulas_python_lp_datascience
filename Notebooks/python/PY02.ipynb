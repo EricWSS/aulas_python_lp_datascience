{
  "nbformat": 4,
  "nbformat_minor": 0,
  "metadata": {
    "colab": {
      "provenance": []
    },
    "kernelspec": {
      "name": "python3",
      "display_name": "Python 3"
    },
    "language_info": {
      "name": "python"
    }
  },
  "cells": [
    {
      "cell_type": "markdown",
      "source": [
        "## Bem-vindo(a) a aula 2 do módulo de *Python*\n",
        "\n",
        "###Nessa aula, vamos ver coleções de dados em *Python*                   \n",
        "⚡⚡⚡⚡⚡⚡⚡⚡⚡⚡⚡⚡⚡⚡⚡⚡⚡⚡⚡⚡⚡⚡⚡⚡⚡⚡⚡⚡⚡⚡⚡⚡⚡⚡⚡⚡⚡⚡⚡⚡⚡⚡⚡⚡⚡⚡⚡\n",
        "\n",
        "Tópicos da aula:\n",
        "- Introdução as coleções, entendendo o conceito e para que serve\n",
        "- Listas\n",
        "- Funções que as listas possuem\n",
        "- Tuplas\n",
        "- Desempacotamento de coleções"
      ],
      "metadata": {
        "id": "bO_h46OoXwl7"
      }
    },
    {
      "cell_type": "markdown",
      "source": [
        "### O que são coleções?\n",
        "\n",
        "Coleção é uma estrutura que permite armazenar múltiplos objetos dentro de uma única unidade, ou seja, agora podemos criar variáveis que vão armazenar mais de uma valor. Dessa maneira, temos agora o benefício de utilizar apenas uma variável para armazenar um conjuntos de dados, não precisamos mais criar diversas variáveis, cada uma armazenando um tipo de dado."
      ],
      "metadata": {
        "id": "tS3EPVSWbq2l"
      }
    },
    {
      "cell_type": "markdown",
      "source": [
        "### Listas\n",
        "\n",
        "Agora que entendemos o que são coleções, vamos entender o primeiro tipo de coleção em *Python*, que são as listas.\n",
        "\n",
        "Uma lista é uma coleção de valores, separados por vírgulas, onde esses valores possuem uma posição que é identificado por um índice, por padrão, no *Python* colocamos [ ] em volta desses valores, esses colchetes indicam que aquela variável é uma lista.  "
      ],
      "metadata": {
        "id": "DhTTIqbfhKDD"
      }
    },
    {
      "cell_type": "markdown",
      "source": [
        "Exemplo de como faziamos antes:\n",
        "\n",
        "```\n",
        "nome1 = 'Felipe'\n",
        "nome2 = 'José'\n",
        "nome3 = 'Davi'\n",
        "```\n",
        "\n",
        "Dessa forma, se quisessemos criar vários nomes precisariamos criar várias variáveis. Porém agora que possuímos a coleção de listas, podemos criar apenas uma unidade, que ficaria da seguinte forma."
      ],
      "metadata": {
        "id": "LLZpPVlKf0R1"
      }
    },
    {
      "cell_type": "markdown",
      "source": [
        "Por padrão, quando criamos uma lista, declaramos a variável no plural ou com o nome listas na frente, por exemplo:\n",
        "\n",
        "```\n",
        "nomes = []\n",
        "lista_nome = []\n",
        "```\n",
        "\n",
        "O [ ] serve para identificar que aquela variável é do tipo lista."
      ],
      "metadata": {
        "id": "-6eOw7IRI4J2"
      }
    },
    {
      "cell_type": "code",
      "source": [
        "# Agora, vamos verificar se essa variável é realmente uma lista, utilizando a\n",
        "# nossa função type.\n",
        "nomes = []\n",
        "print(type(nomes))\n"
      ],
      "metadata": {
        "colab": {
          "base_uri": "https://localhost:8080/"
        },
        "id": "rtCkCJLvm7v8",
        "outputId": "5baebcaf-494e-4ff2-b3ed-2229c5545047"
      },
      "execution_count": null,
      "outputs": [
        {
          "output_type": "stream",
          "name": "stdout",
          "text": [
            "<class 'list'>\n"
          ]
        }
      ]
    },
    {
      "cell_type": "markdown",
      "source": [
        "Perceba que o nosso terminal retornou o *class 'list'*, ou seja, agora possuímos mais um tipo de dado, além da *string*, *float*, *int* e *bool*."
      ],
      "metadata": {
        "id": "u0s2oJVdnLgQ"
      }
    },
    {
      "cell_type": "markdown",
      "source": [
        "###Certo, agora vamos verificar como criar uma lista de dados.\n",
        "Como foi visto acima, criamos uma lista de dados dentro dos colchetes e separando essa lista com vírgulas. Então podemos criar uma lista da seguinte maneira.\n",
        "\n",
        "```\n",
        "nomes = ['Felipe', 'José', 'Renan']\n",
        "```\n",
        "\n",
        "Assim, podemos atribuir quantos dados quisermos dentro dessa lista. Agora vamos exibir essa lista no nosso terminal."
      ],
      "metadata": {
        "id": "n9iaaMAOnj4r"
      }
    },
    {
      "cell_type": "code",
      "source": [
        "nomes = ['Felipe', 'José', 'Renan']\n",
        "print(nomes)"
      ],
      "metadata": {
        "colab": {
          "base_uri": "https://localhost:8080/"
        },
        "id": "CFKmDtW1oXVc",
        "outputId": "1c4d4dd9-6036-4d24-de15-530778a86912"
      },
      "execution_count": null,
      "outputs": [
        {
          "output_type": "stream",
          "name": "stdout",
          "text": [
            "['Felipe', 'José', 'Renan']\n"
          ]
        }
      ]
    },
    {
      "cell_type": "markdown",
      "source": [
        "Perceba que essa lista, funciona como uma variável normal, ela retorna todos os dados com a nossa função de *print*.\n",
        "\n",
        "Porém, nossa lista está apenas com nomes, quer dizer então que nossa lista só aceita *strings*?\n",
        "\n",
        "\n",
        "**NÃO**\n",
        "\n",
        "Nossa lista aceita números, valores boleanos e textos.\n",
        "\n",
        "Vamos verificar....."
      ],
      "metadata": {
        "id": "Kd-XtlPWoit1"
      }
    },
    {
      "cell_type": "code",
      "source": [
        "lista_qualquer = ['Patrícia', 26, True, False, 17.5]\n",
        "print(lista_qualquer)"
      ],
      "metadata": {
        "colab": {
          "base_uri": "https://localhost:8080/"
        },
        "id": "YCnXmearpLKv",
        "outputId": "35478daa-1c03-4821-dc99-45ce985f0457"
      },
      "execution_count": null,
      "outputs": [
        {
          "output_type": "stream",
          "name": "stdout",
          "text": [
            "['Patrícia', 26, True, False, 17.5]\n"
          ]
        }
      ]
    },
    {
      "cell_type": "markdown",
      "source": [
        "Perceba que o *Python* não reclama de nossa lista possuir diversos valores, com diferentes tipos, diferentemente de outras linguagens de programação, algumas só aceitam listas de dados que possuem os mesmos tipos."
      ],
      "metadata": {
        "id": "XfbUPG8YpbwQ"
      }
    },
    {
      "cell_type": "markdown",
      "source": [
        "### Índices....\n",
        "\n",
        "Agora, como também vimos acima, as listas possuem índices, assim como as strings, dessa forma, cada dado dentro de uma lista, é referenciado por índice, da seguinte maneira."
      ],
      "metadata": {
        "id": "oaWhoM87pvyB"
      }
    },
    {
      "cell_type": "code",
      "source": [
        "lista = ['Olá meu chapa', 1, 1.1, True, False]\n",
        "print(lista[2])"
      ],
      "metadata": {
        "colab": {
          "base_uri": "https://localhost:8080/"
        },
        "id": "D2N36k3Hqapb",
        "outputId": "aa4a938e-4015-41ed-a44a-a7fcfe01e1d0"
      },
      "execution_count": null,
      "outputs": [
        {
          "output_type": "stream",
          "name": "stdout",
          "text": [
            "1.1\n"
          ]
        }
      ]
    },
    {
      "cell_type": "markdown",
      "source": [
        "Veja, nossa lista possuem índices, dessa forma, podemos chamar nossos dados, através de índices."
      ],
      "metadata": {
        "id": "2TVjouT0qkFU"
      }
    },
    {
      "cell_type": "code",
      "source": [
        "lista[2] = 2.1\n",
        "print(lista)"
      ],
      "metadata": {
        "colab": {
          "base_uri": "https://localhost:8080/"
        },
        "id": "38pwa8Buqxf-",
        "outputId": "4d98a193-468a-4eb3-946c-28945c604939"
      },
      "execution_count": null,
      "outputs": [
        {
          "output_type": "stream",
          "name": "stdout",
          "text": [
            "['Olá meu chapa', 1, 2.1, True, False]\n"
          ]
        }
      ]
    },
    {
      "cell_type": "markdown",
      "source": [
        "Ou seja, podemos até mesmo alterar valores dessa lista."
      ],
      "metadata": {
        "id": "x7CR845Oq1T3"
      }
    },
    {
      "cell_type": "markdown",
      "source": [
        "## Agora, vamos fazer um breve exercício:\n",
        "Crie uma lista, com os seus dados de nome, idade e altura, porém, eles precisam estar errados, por exemplo:\n",
        "```\n",
        "dados = ['Filipe', 20, 1.50]\n",
        "```\n",
        "Nesse caso, escreva na tela esse dados e altere esses dados através da função *input*"
      ],
      "metadata": {
        "id": "_P-WG72nq6nK"
      }
    },
    {
      "cell_type": "code",
      "source": [
        "dados = ['Filipe', 20, 1.50]\n",
        "\n",
        "print(f'''\n",
        "  Olá {dados[0]}, tudo bem?\n",
        "  Você possui {dados[1]} anos\n",
        "  e tem uma altura de {dados[2]} metros, correto?\n",
        "      ''')\n"
      ],
      "metadata": {
        "colab": {
          "base_uri": "https://localhost:8080/"
        },
        "id": "INkA2jpVq7qR",
        "outputId": "d113ca17-400a-4d5f-ea53-5e9903448b1d"
      },
      "execution_count": null,
      "outputs": [
        {
          "output_type": "stream",
          "name": "stdout",
          "text": [
            "\n",
            "  Olá Filipe, tudo bem? \n",
            "  Você possui 20 anos \n",
            "  e tem uma altura de 1.5 metros, correto?\n",
            "      \n"
          ]
        }
      ]
    },
    {
      "cell_type": "code",
      "source": [
        "dados[0] = 'Felipe'\n",
        "dados[1] = 22\n",
        "dados[2] = 1.89\n",
        "\n",
        "print(f'''\n",
        "\n",
        "  ----------- Corrigido -------------\n",
        "  Olá {dados[0]}, tudo bem?\n",
        "  Você possui {dados[1]} anos\n",
        "  e tem uma altura de {dados[2]} metros, correto?\n",
        "      ''')"
      ],
      "metadata": {
        "colab": {
          "base_uri": "https://localhost:8080/"
        },
        "id": "fLJGeITNs6Sd",
        "outputId": "f4d9531b-590a-41ad-931a-02e656d8954e"
      },
      "execution_count": null,
      "outputs": [
        {
          "output_type": "stream",
          "name": "stdout",
          "text": [
            "\n",
            "\n",
            "  ----------- Corrigido ------------- \n",
            "  Olá Felipe, tudo bem? \n",
            "  Você possui 22 anos \n",
            "  e tem uma altura de 1.89 metros, correto?\n",
            "      \n"
          ]
        }
      ]
    },
    {
      "cell_type": "markdown",
      "source": [
        "Certo, uma curiosidade da indexação é que ela funciona de forma contrária, que fica da seguinte forma"
      ],
      "metadata": {
        "id": "ALaoj4QMtQpU"
      }
    },
    {
      "cell_type": "code",
      "source": [
        "lista_numeros = [1,2,3,4,5,6]\n",
        "print(lista_numeros[-1])"
      ],
      "metadata": {
        "colab": {
          "base_uri": "https://localhost:8080/"
        },
        "id": "nuciQAfbtleC",
        "outputId": "a198da86-c006-45e0-e379-ce10734b85c3"
      },
      "execution_count": null,
      "outputs": [
        {
          "output_type": "stream",
          "name": "stdout",
          "text": [
            "6\n"
          ]
        }
      ]
    },
    {
      "cell_type": "markdown",
      "source": [
        "Isso acontece porque, o índice 0 é referenciado com o primeiro número, portanto, o último número sempre será o -1 e assim por diante, facilitando até mesmo alguns tipos de buscas."
      ],
      "metadata": {
        "id": "8Lr2f-hmtq7Z"
      }
    },
    {
      "cell_type": "markdown",
      "source": [
        "###Outro método que podemos utilizar nas listas, são os famosos *slices*\n",
        "\n",
        "Os *slices* são métodos de fatiamento de listas, ou seja, podemos agora escolher a \"fatia\" inicial que queremos, até a última."
      ],
      "metadata": {
        "id": "TP6C6vlkuTPw"
      }
    },
    {
      "cell_type": "code",
      "source": [
        "# Utilizando a mesma lista_numeros, podemos agora pegar os números de 1 a 3 por exemplo\n",
        "print(lista_numeros[0:3])\n",
        "# Ou seja, ele pega as variáveis da posição 0 até a posição 2, desconsiderando a posição 3"
      ],
      "metadata": {
        "colab": {
          "base_uri": "https://localhost:8080/"
        },
        "id": "--Kf9fAwuwhs",
        "outputId": "a0248495-948c-4d52-b776-6f58300c160f"
      },
      "execution_count": null,
      "outputs": [
        {
          "output_type": "stream",
          "name": "stdout",
          "text": [
            "[1, 2, 3]\n"
          ]
        }
      ]
    },
    {
      "cell_type": "markdown",
      "source": [
        "## Vamos ver algumas funções que as listas possuem."
      ],
      "metadata": {
        "id": "U9yIR5YBuEA-"
      }
    },
    {
      "cell_type": "markdown",
      "source": [
        "Agora que vimos algumas especificações de listas, vamos ver as suas funções mais utilizadas"
      ],
      "metadata": {
        "id": "mmiJKtZUuNAC"
      }
    },
    {
      "cell_type": "markdown",
      "source": [
        " Se chamarmos uma varíavel de lista e colocarmos um ponto, verificaremos no nosso VsCode, que as listas possuem várias funções,\n",
        " essas funções são chamadas de built-in"
      ],
      "metadata": {
        "id": "_1Tkps_LwtsR"
      }
    },
    {
      "cell_type": "markdown",
      "source": [
        "![Captura de tela de 2023-08-05 00-37-17.png](data:image/png;base64,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)"
      ],
      "metadata": {
        "id": "KG9-gQ1axNid"
      }
    },
    {
      "cell_type": "markdown",
      "source": [
        "Vamos verificar agora como podemos adicionar um dado em uma lista"
      ],
      "metadata": {
        "id": "Zf2A6NM1xZZC"
      }
    },
    {
      "cell_type": "code",
      "source": [
        "# Vamos criar uma lista vazia\n",
        "lista = []\n",
        "# Temos a função chamada de append, essa função é responsável por adicionar o valor\n",
        "lista.append('Olá mundo')\n",
        "print(lista)"
      ],
      "metadata": {
        "colab": {
          "base_uri": "https://localhost:8080/"
        },
        "id": "YHH2z1WFx8lT",
        "outputId": "5be80307-b48d-47a4-b5d3-39f3e1094c8c"
      },
      "execution_count": null,
      "outputs": [
        {
          "output_type": "stream",
          "name": "stdout",
          "text": [
            "['Olá mundo']\n"
          ]
        }
      ]
    },
    {
      "cell_type": "markdown",
      "source": [
        "Veja que nossa lista agora pode ter dados adicionados e detalhe, não precisamos passar dados específicos, podemos passar também variáveis."
      ],
      "metadata": {
        "id": "FYaxnq4wyMQ0"
      }
    },
    {
      "cell_type": "code",
      "source": [
        "nome = 'Felipe'\n",
        "lista.append(nome)\n",
        "print(lista)"
      ],
      "metadata": {
        "colab": {
          "base_uri": "https://localhost:8080/"
        },
        "id": "GoP9MHu6yb88",
        "outputId": "5c12eb8a-6439-43ca-e01b-1c01c0b108c8"
      },
      "execution_count": null,
      "outputs": [
        {
          "output_type": "stream",
          "name": "stdout",
          "text": [
            "['Olá mundo', 'Felipe']\n"
          ]
        }
      ]
    },
    {
      "cell_type": "markdown",
      "source": [
        "Veja que nossa lista agora está agregando dados dentro dela, porém, veja que ele sempre será o último item e por isso teremos que ver outro método para escolhermos a posição do nosso dado, esse método é o *insert*"
      ],
      "metadata": {
        "id": "pIC1cp-qyghU"
      }
    },
    {
      "cell_type": "code",
      "source": [
        "# O método insert requer dois dados, a posição e o dado em si que será inserido.\n",
        "# Criando uma lista\n",
        "lista_nomes = ['Gabriela', 'Filipe', 'Camila']\n",
        "# Agora só precisamos chamar nossa variável e passar a nossa função\n",
        "lista_nomes.insert(1, 'Fernando')\n",
        "print(lista_nomes)"
      ],
      "metadata": {
        "colab": {
          "base_uri": "https://localhost:8080/"
        },
        "id": "cuZnT-1U0LQn",
        "outputId": "2d410200-4ea7-45fa-e822-4f553d10deb1"
      },
      "execution_count": null,
      "outputs": [
        {
          "output_type": "stream",
          "name": "stdout",
          "text": [
            "['Gabriela', 'Fernando', 'Filipe', 'Camila']\n"
          ]
        }
      ]
    },
    {
      "cell_type": "markdown",
      "source": [
        "### Agora que vimos como adicionar dados a nossa lista, vamos ver como deletar alguns dados\n",
        "\n",
        "Para deletar dados nós temos mais opções, são elas:\n",
        "- *del*\n",
        "- *remove()*\n",
        "- *pop()*\n",
        "\n",
        "Primeiro, vamos ver o método *del*:\n",
        "O método *del* remove um item da lista baseado na posição indicada. Perceba que ele não acompanha os parênteses, então como podemos utilizar ele?\n",
        "\n",
        "Da seguinte forma:\n",
        " ```\n",
        " lista = [1, 2, 3, 4]\n",
        "\n",
        " del lista[0]\n",
        " ```\n",
        "\n",
        " Diferente das outras funções, o *del* não vem depois da variável e sim antes dela."
      ],
      "metadata": {
        "id": "t3gx_0WC9uQW"
      }
    },
    {
      "cell_type": "code",
      "source": [
        "# Exemplo\n",
        "lista = [1, 2, 3, 4]\n",
        "del lista[0]\n",
        "print(lista)"
      ],
      "metadata": {
        "colab": {
          "base_uri": "https://localhost:8080/"
        },
        "id": "f3T4vVPv--pb",
        "outputId": "86c0afe8-b481-47d5-efcb-54329b6924de"
      },
      "execution_count": null,
      "outputs": [
        {
          "output_type": "stream",
          "name": "stdout",
          "text": [
            "[2, 3, 4]\n"
          ]
        }
      ]
    },
    {
      "cell_type": "markdown",
      "source": [
        "### O outro método que veremos é o *remove*\n",
        "\n",
        "**OBS: Só o *del* é diferentão dessa forma, o método *remove* e *pop*, vão acompanhar os outros métodos que já vimos.**\n",
        "\n",
        "O método *remove* vai servir para removermos a primeira a primeira ocorrência do dado, por exemplo:\n",
        "\n",
        "```\n",
        "lista = ['Abacaxi', 10.50, 'Maça', 12.20, 'Manga', 12, 'Abacaxi']\n",
        "lista.remove('Abacaxi')\n",
        "```\n",
        "\n",
        "Se passarmos dessa forma, somente o primeiro dado **Abacaxi** será removido, enquanto o último permanecerá intacto."
      ],
      "metadata": {
        "id": "x3oNTEDN_Dj4"
      }
    },
    {
      "cell_type": "code",
      "source": [
        "lista = ['Abacaxi', 10.50, 'Maça', 12.20, 'Manga', 12, 'Abacaxi']\n",
        "lista.remove('Abacaxi')\n",
        "print(lista)"
      ],
      "metadata": {
        "colab": {
          "base_uri": "https://localhost:8080/"
        },
        "id": "a9kr121DA2mG",
        "outputId": "2762b1a8-574e-438e-ad5a-f96df28b9ae0"
      },
      "execution_count": null,
      "outputs": [
        {
          "output_type": "stream",
          "name": "stdout",
          "text": [
            "[10.5, 'Maça', 12.2, 'Manga', 12, 'Abacaxi']\n"
          ]
        }
      ]
    },
    {
      "cell_type": "markdown",
      "source": [
        "### E agora, temos o método *pop*\n",
        "O *pop* na sua forma mais pura, sem nenhuma paramêtro, irá remover o última item da lista, da seguinte forma:"
      ],
      "metadata": {
        "id": "KZ2smubAA5Mm"
      }
    },
    {
      "cell_type": "code",
      "source": [
        "lista_pop = [True, False, True, 1.1, 3.2, 2, 1, 'Felipe']\n",
        "# Se passarmos aqui o lista.pop(), o pop deve remover o último item\n",
        "lista_pop.pop()\n",
        "print(lista_pop)"
      ],
      "metadata": {
        "colab": {
          "base_uri": "https://localhost:8080/"
        },
        "id": "BtvIHGnqBtCc",
        "outputId": "62447148-029e-416c-c0e9-5d97ca329be4"
      },
      "execution_count": null,
      "outputs": [
        {
          "output_type": "stream",
          "name": "stdout",
          "text": [
            "[True, False, True, 1.1, 3.2, 2, 1]\n"
          ]
        }
      ]
    },
    {
      "cell_type": "markdown",
      "source": [
        "Certo, mas temos mais uma forma de usar o *pop*, que é escolhendo a posição que eu quero deletar, que vamos ver da seguinte forma:"
      ],
      "metadata": {
        "id": "cXR9KVJuCBZ-"
      }
    },
    {
      "cell_type": "code",
      "source": [
        "# Chamando a nossa lista acima novamente\n",
        "\n",
        "lista_pop.pop(2)\n",
        "\n",
        "# Agora estamos falando que queremos remover o dado da posição 2\n",
        "\n",
        "print(lista_pop)"
      ],
      "metadata": {
        "colab": {
          "base_uri": "https://localhost:8080/"
        },
        "id": "tJ94kfw7CZVi",
        "outputId": "0e4296c5-9ce0-4e41-ba72-af328e2f38f4"
      },
      "execution_count": null,
      "outputs": [
        {
          "output_type": "stream",
          "name": "stdout",
          "text": [
            "[True, False, 1.1, 3.2, 2, 1]\n"
          ]
        }
      ]
    },
    {
      "cell_type": "markdown",
      "source": [
        "Dessa maneira, removemos o outro True da lista."
      ],
      "metadata": {
        "id": "eQ4QwoADCoOm"
      }
    },
    {
      "cell_type": "markdown",
      "source": [
        "Agora que vimos alguns métodos de listas, vamos aos exercícios:\n"
      ],
      "metadata": {
        "id": "ET-oTGKjCuVJ"
      }
    },
    {
      "cell_type": "markdown",
      "source": [
        "Como falamos, o assunto é acumulativo, então vamos tentar utilizar tudo que aprendemos até agora:\n",
        "\n",
        "1° Faça um programa que possua um laço de repetição, que peça 10 nomes ao usuário.\n",
        "\n",
        "\n",
        "2° Com base na questão anterior, continue o programa, porém, agora não coloque limite nesse programa, o laço só vai parar quando o usuário digitar um N ou um Não, isso ficará a sua escolha\n",
        "(Dicas: Use o *while*, condicionais e break)\n",
        "\n",
        "3° Com base, também, na questão anterior, agora pergunte ao usuário se existe algum dado que ele deseja deletar, se sim, delete e mostre novamente a lista para ele."
      ],
      "metadata": {
        "id": "i1V4LsfWC__e"
      }
    },
    {
      "cell_type": "code",
      "source": [
        "# Vamos lá, vamos fazer por partes\n",
        "# Questão 1\n",
        "\n",
        "# for i in range(10): -> Porque não vamos usar dessa forma?\n",
        "# Perceba, a nossa variável i será usada para algo? Não né, então não precisamos criar uma variável e como fazemos para não declarar e o nosso for funcionar?\n",
        "# Utilizamos o _\n",
        "nomes = []\n",
        "for _ in range(10):\n",
        "  nome = input('Digite um nome: ')\n",
        "  nomes.append(nome)\n",
        "print(nomes)\n"
      ],
      "metadata": {
        "colab": {
          "base_uri": "https://localhost:8080/"
        },
        "id": "kKYe4WOpDU6g",
        "outputId": "8cfce410-1263-423b-df92-3fd5fa5857d1"
      },
      "execution_count": null,
      "outputs": [
        {
          "output_type": "stream",
          "name": "stdout",
          "text": [
            "Digite um nome: felipe\n",
            "Digite um nome: felipe\n",
            "Digite um nome: felipe\n",
            "Digite um nome: felipe\n",
            "Digite um nome: felipe\n",
            "Digite um nome: felipe\n",
            "Digite um nome: felipe\n",
            "Digite um nome: felipe\n",
            "Digite um nome: felipe\n",
            "Digite um nome: felipe\n",
            "['felipe', 'felipe', 'felipe', 'felipe', 'felipe', 'felipe', 'felipe', 'felipe', 'felipe', 'felipe']\n"
          ]
        }
      ]
    },
    {
      "cell_type": "code",
      "source": [
        "# Tranquilo, certo?\n",
        "# Questão 2\n",
        "nomes= []\n",
        "while True:\n",
        "  nome = input('Digite um nome: ')\n",
        "  nomes.append(nome)\n",
        "  escolha = input('Você deseja continuar?(Não/N)').upper()\n",
        "  if escolha == 'Não' or escolha == 'N':\n",
        "    break\n",
        "\n",
        "print(nomes)"
      ],
      "metadata": {
        "colab": {
          "base_uri": "https://localhost:8080/"
        },
        "id": "YviYrst-GCSy",
        "outputId": "36eca826-9dbf-4960-9fa6-bb8cbaa12f29"
      },
      "execution_count": null,
      "outputs": [
        {
          "output_type": "stream",
          "name": "stdout",
          "text": [
            "Digite um nome: felipe\n",
            "Você deseja continuar?(Não/N)s\n",
            "Digite um nome: Fernando\n",
            "Você deseja continuar?(Não/N)s\n",
            "Digite um nome: Carla\n",
            "Você deseja continuar?(Não/N)n\n",
            "['felipe', 'Fernando', 'Carla']\n"
          ]
        }
      ]
    },
    {
      "cell_type": "code",
      "source": [
        "# Questão 3\n",
        "nomes= []\n",
        "while True:\n",
        "  nome = input('Digite um nome: ').title()\n",
        "  nomes.append(nome)\n",
        "  escolha = input('Você deseja continuar?(Não/N)').upper()\n",
        "  if escolha == 'Não' or escolha == 'N':\n",
        "    break\n",
        "\n",
        "  deletar = input('Existe algum dado que você deseja deletar?(Sim/S)').upper()\n",
        "  if deletar == 'S' or deletar == 'Sim':\n",
        "    print(nomes)\n",
        "    dado_deletado = int(input('Escreva o índice que você quer deletar: '))\n",
        "    del nomes[dado_deletado]\n",
        "\n",
        "print(nomes)"
      ],
      "metadata": {
        "colab": {
          "base_uri": "https://localhost:8080/"
        },
        "id": "cDQrZSwxGsQc",
        "outputId": "83b972e0-9939-4191-c707-4e6c56d0e836"
      },
      "execution_count": null,
      "outputs": [
        {
          "output_type": "stream",
          "name": "stdout",
          "text": [
            "Digite um nome: felipe\n",
            "Você deseja continuar?(Não/N)s\n",
            "Existe algum dado que você deseja deletar?(Sim/S)s\n",
            "['Felipe']\n",
            "Escreva o índice que você quer deletar: 0\n",
            "Digite um nome: fernando\n",
            "Você deseja continuar?(Não/N)s\n",
            "Existe algum dado que você deseja deletar?(Sim/S)s\n",
            "['Fernando']\n",
            "Escreva o índice que você quer deletar: 0\n",
            "Digite um nome: lipeta\n",
            "Você deseja continuar?(Não/N)N\n",
            "['Lipeta']\n"
          ]
        }
      ]
    },
    {
      "cell_type": "markdown",
      "source": [
        "Perceba que utilizamos tudo aquilo que já vimos em aulas passadas."
      ],
      "metadata": {
        "id": "xMascxHGIXDG"
      }
    },
    {
      "cell_type": "markdown",
      "source": [
        "Aqui estão alguns *links* para você ver mais de listas\n",
        "\n",
        "https://www.devmedia.com.br/como-trabalhar-com-listas-em-python/37460\n",
        "\n",
        "https://pythonacademy.com.br/blog/listas-no-python\n",
        "\n",
        "https://docs.python.org/pt-br/3/tutorial/datastructures.html"
      ],
      "metadata": {
        "id": "hV6ZHq19JOFV"
      }
    },
    {
      "cell_type": "markdown",
      "source": [
        "## Tuplas\n",
        "Agora que vimos os principais métodos de listas, veremos a coleção de dados de tuplas em Python"
      ],
      "metadata": {
        "id": "-4t33rvTMJi_"
      }
    },
    {
      "cell_type": "markdown",
      "source": [
        "Primeiro vamos entender a diferença de Tuplas e Listas. Primeiramente, como vimos, as listas são elementos mutáveis, ou seja, podemos mudar os dados através dos seus índices, já as tuplas não podemos fazer isso, as tuplas são elementos imutáveis, além do que as declarações de tuplas são feitas de forma diferente, nesse caso, vamos ver ...."
      ],
      "metadata": {
        "id": "-5r7p-7hMXX4"
      }
    },
    {
      "cell_type": "markdown",
      "source": [
        "Para declararmos uma tupla em Python utilizamos a seguinte sintáxe:\n",
        "\n",
        "```\n",
        "tupla_nomes = ('Felipe', 'Adriano', 'Gabriel')\n",
        "```\n",
        "Dessa maneira, já estamos declarando uma tupla em Python, ou seja, não utilizamos os colchetes"
      ],
      "metadata": {
        "id": "cSfZpokwN22M"
      }
    },
    {
      "cell_type": "code",
      "source": [
        "tuplas_nomes = ('Felipe', 'Hardmann', 'Adriano')\n",
        "print(tuplas_nomes)"
      ],
      "metadata": {
        "colab": {
          "base_uri": "https://localhost:8080/"
        },
        "id": "V-G_JzuoTBZ9",
        "outputId": "2c002fbb-59e1-4214-f26c-f73c14ee8c8d"
      },
      "execution_count": 1,
      "outputs": [
        {
          "output_type": "stream",
          "name": "stdout",
          "text": [
            "('Felipe', 'Hardmann', 'Adriano')\n"
          ]
        }
      ]
    },
    {
      "cell_type": "markdown",
      "source": [
        "Perceba que os dados são apresentados da mesma forma que uma lista, diferenciando apenas na parte dos colchetes.\n",
        "\n",
        "Agora vamos requisitar o tipo dessa variável"
      ],
      "metadata": {
        "id": "pRpVWhHTTMIo"
      }
    },
    {
      "cell_type": "code",
      "source": [
        "print(type(tuplas_nomes))"
      ],
      "metadata": {
        "colab": {
          "base_uri": "https://localhost:8080/"
        },
        "id": "2ZwSTxoKVvlH",
        "outputId": "1eaf3e50-3422-4c24-b9ee-1a63d9e60251"
      },
      "execution_count": 2,
      "outputs": [
        {
          "output_type": "stream",
          "name": "stdout",
          "text": [
            "<class 'tuple'>\n"
          ]
        }
      ]
    },
    {
      "cell_type": "markdown",
      "source": [
        "Como vimos acima, o nosso tipo de variável retorna como *Tuple*, ou seja, uma tupla e como vimos elas são imutáveis.\n",
        "\n",
        "Então, vamos tentar alterar um dado de uma tupla."
      ],
      "metadata": {
        "id": "09l1bKv6V9zP"
      }
    },
    {
      "cell_type": "code",
      "source": [
        "tupla_numeros = (1, 2, 3, 4, 5)\n",
        "tupla_numeros[0] = 2"
      ],
      "metadata": {
        "colab": {
          "base_uri": "https://localhost:8080/",
          "height": 192
        },
        "id": "MWJdQGVyWQf9",
        "outputId": "5f7f16fc-39b9-4c4c-d986-5e4079b762da"
      },
      "execution_count": 3,
      "outputs": [
        {
          "output_type": "error",
          "ename": "TypeError",
          "evalue": "ignored",
          "traceback": [
            "\u001b[0;31m---------------------------------------------------------------------------\u001b[0m",
            "\u001b[0;31mTypeError\u001b[0m                                 Traceback (most recent call last)",
            "\u001b[0;32m<ipython-input-3-744152704c69>\u001b[0m in \u001b[0;36m<cell line: 2>\u001b[0;34m()\u001b[0m\n\u001b[1;32m      1\u001b[0m \u001b[0mtupla_numeros\u001b[0m \u001b[0;34m=\u001b[0m \u001b[0;34m(\u001b[0m\u001b[0;36m1\u001b[0m\u001b[0;34m,\u001b[0m \u001b[0;36m2\u001b[0m\u001b[0;34m,\u001b[0m \u001b[0;36m3\u001b[0m\u001b[0;34m,\u001b[0m \u001b[0;36m4\u001b[0m\u001b[0;34m,\u001b[0m \u001b[0;36m5\u001b[0m\u001b[0;34m)\u001b[0m\u001b[0;34m\u001b[0m\u001b[0;34m\u001b[0m\u001b[0m\n\u001b[0;32m----> 2\u001b[0;31m \u001b[0mtupla_numeros\u001b[0m\u001b[0;34m[\u001b[0m\u001b[0;36m0\u001b[0m\u001b[0;34m]\u001b[0m \u001b[0;34m=\u001b[0m \u001b[0;36m2\u001b[0m\u001b[0;34m\u001b[0m\u001b[0;34m\u001b[0m\u001b[0m\n\u001b[0m",
            "\u001b[0;31mTypeError\u001b[0m: 'tuple' object does not support item assignment"
          ]
        }
      ]
    },
    {
      "cell_type": "markdown",
      "source": [
        "Perceba que ele retornou uma mensagem de erro, *objeto 'tuple' não suporta atribuição de item*, ou seja, não podemos alterar dados da tupla"
      ],
      "metadata": {
        "id": "cSIM--hMWr2N"
      }
    },
    {
      "cell_type": "markdown",
      "source": [
        "Dessa forma, podemos utilizar tuplas para inserir sequências de dados que não serão modificados de maneira alguma, como um CPF."
      ],
      "metadata": {
        "id": "DNzYZz8MXSej"
      }
    },
    {
      "cell_type": "markdown",
      "source": [
        "Agora então vamos ver um método que utilizamos bastante em Tuplas, que seria o desempacotamento de tuplas"
      ],
      "metadata": {
        "id": "t8C-242dY5vQ"
      }
    },
    {
      "cell_type": "code",
      "source": [
        "# Podemos desempacotar a lista atribuindo seus dados a variáveis, da seguinte forma\n",
        "tecnologias = ('Python', 'PHP', 'Java')\n",
        "(python, php, java) = tecnologias\n",
        "# Dessa forma atribuimos as variáveis\n",
        "print(python)\n",
        "print(php)\n",
        "print(java)"
      ],
      "metadata": {
        "colab": {
          "base_uri": "https://localhost:8080/"
        },
        "id": "BVtTZ6s7Zm7H",
        "outputId": "02af71ce-6fbb-499c-fe6e-95151fae9a6f"
      },
      "execution_count": 5,
      "outputs": [
        {
          "output_type": "stream",
          "name": "stdout",
          "text": [
            "Python\n",
            "PHP\n",
            "Java\n"
          ]
        }
      ]
    },
    {
      "cell_type": "markdown",
      "source": [
        "Perceba que todas as variáveis estão pegando de acordo com o índice dos dados"
      ],
      "metadata": {
        "id": "wktvQNHgciqh"
      }
    },
    {
      "cell_type": "markdown",
      "source": [
        "Quais estruturas de dados devo usar, Listas ou Tuplas?\n",
        "A execução do programa é mais rápida quando manipulamos uma tupla do que\n",
        "uma equivalente lista.\n",
        "Às vezes desejamos que os dados não sejam modificados, se determinados que\n",
        "valores em uma coleção devem ser constantes no programa, utilizar uma Tupla nos\n",
        "protege contra acidentes de modificação.\n",
        "Por outro lado, as listas nos permitem ser mais flexíveis com alterações, facilitando a\n",
        "resolução e trazendo soluções para seu programa.\n",
        "O interessante é saber em quais situações será necessário o uso de cada uma\n",
        "dessas estruturas."
      ],
      "metadata": {
        "id": "QA29pLJPcwZP"
      }
    },
    {
      "cell_type": "code",
      "source": [],
      "metadata": {
        "id": "QtHZb1Y7c1Gv"
      },
      "execution_count": null,
      "outputs": []
    }
  ]
}