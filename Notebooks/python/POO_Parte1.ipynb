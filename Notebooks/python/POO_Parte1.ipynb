{
  "nbformat": 4,
  "nbformat_minor": 0,
  "metadata": {
    "colab": {
      "provenance": []
    },
    "kernelspec": {
      "name": "python3",
      "display_name": "Python 3"
    },
    "language_info": {
      "name": "python"
    }
  },
  "cells": [
    {
      "cell_type": "markdown",
      "source": [
        "##Bem-vindo(a) a primeira aula de POO(Programação orientada a objetos)\n",
        "\n",
        "Tópicos da aula de hoje:\n",
        "\n",
        "- 1° Introdução ao *POO*   \n",
        "- 2° Mão na massa em *POO*\n",
        "- 3° Exercícios de *POO*"
      ],
      "metadata": {
        "id": "IYjD0QUXUqdL"
      }
    },
    {
      "cell_type": "markdown",
      "source": [
        "###Introudução ao *POO*\n",
        "\n",
        "####Paradigma de programação\n",
        "\n",
        "O paradigma de uma linguagem de programação é a sua identidade. Corresponde a um conjunto de características que, juntas, definem como ela opera e resolve os problemas. Nesse caso, se entende como paradigma como um conjunto de regras que uma linguagem de programação vai seguir.\n",
        "\n",
        "Um paradigma de programação fornece e determina a visão\n",
        "que o programador possui sobre a estruturação e execução do\n",
        "programa. Por exemplo, em programação orientada a objetos,\n",
        "os programadores podem abstrair um programa como uma\n",
        "coleção de objetos que interagem entre si."
      ],
      "metadata": {
        "id": "oXzI-WimYl6Y"
      }
    },
    {
      "cell_type": "markdown",
      "source": [
        "###Paradigma da programação orientada a objetos\n",
        "\n",
        "A programação orientada a objetos surgiu na década de 60 com Alan Kay.\n",
        "\n",
        "Alguns links para entender a história do *POO*:\n",
        "\n",
        "https://materialpublic.imd.ufrn.br/curso/disciplina/1/8/1/3\n",
        "\n",
        "https://pt.wikipedia.org/wiki/Programa%C3%A7%C3%A3o_orientada_a_objetos\n"
      ],
      "metadata": {
        "id": "sI22AlNXaSmU"
      }
    },
    {
      "cell_type": "markdown",
      "source": [
        "O *POO* foi criado para tentar se aproximar o mundo virtual do mundo real.\n",
        "\n",
        "Nesse paradigma o programador é responsável por moldar o mundo da orientação a objetos, estamos trabalhando com a orientação a objetos desde o começo, você só não percebeu, quando implementamos a orientação a objetos, estamos afirmando que tudo agora no nosso programa é um objeto, assim como no mundo real, onde tudo é um objeto real."
      ],
      "metadata": {
        "id": "eWGR_vt-cB_X"
      }
    },
    {
      "cell_type": "markdown",
      "source": [
        "###Tudo é um objeto!!!!\n",
        "\n",
        "Pense em um objeto como uma \"super variável\":\n",
        "O objeto armazena dados, também, pode-se fazer\n",
        "requisições a esse objeto, pedindo que ele execute\n",
        "operações.\n",
        "\n",
        "Vamos ver um exemplo de quando estavámos utilizando o *POO*"
      ],
      "metadata": {
        "id": "skYPn0wEcTXr"
      }
    },
    {
      "cell_type": "code",
      "source": [
        "# Aqui declaramos a variável do tipo string como hugo\n",
        "name = 'hugo'\n",
        "# Vamos pedir o tipo dessa variável\n",
        "print(type(name))"
      ],
      "metadata": {
        "colab": {
          "base_uri": "https://localhost:8080/"
        },
        "id": "LcRVif-wdQzG",
        "outputId": "4093d2c9-2343-4a73-c6fd-ccd6895b2eca"
      },
      "execution_count": null,
      "outputs": [
        {
          "output_type": "stream",
          "name": "stdout",
          "text": [
            "<class 'str'>\n"
          ]
        }
      ]
    },
    {
      "cell_type": "markdown",
      "source": [
        "Já vimos isso nas primeiras aulas, o retorno da classe *str*.\n",
        "\n",
        "Além disso, vimos que podemos fazer algumas funções dentro desse tipo, certo?"
      ],
      "metadata": {
        "id": "0-BtuNIGd5NH"
      }
    },
    {
      "cell_type": "code",
      "source": [
        "print(name.upper())\n",
        "print(name.lower())\n",
        "print(name.title())"
      ],
      "metadata": {
        "colab": {
          "base_uri": "https://localhost:8080/"
        },
        "id": "DBI5MYm_eMoc",
        "outputId": "8df0163d-12e9-4766-f0a2-b42c9a83c099"
      },
      "execution_count": null,
      "outputs": [
        {
          "output_type": "stream",
          "name": "stdout",
          "text": [
            "HUGO\n",
            "hugo\n",
            "Hugo\n"
          ]
        }
      ]
    },
    {
      "cell_type": "markdown",
      "source": [
        "Certo, mas se estivessémos trabalhando com números?"
      ],
      "metadata": {
        "id": "FPNo6--ieRz6"
      }
    },
    {
      "cell_type": "code",
      "source": [
        "age = 8\n",
        "print(type(age))\n",
        "# Nesse caso, temos o tipo int"
      ],
      "metadata": {
        "colab": {
          "base_uri": "https://localhost:8080/"
        },
        "id": "zY6Kui7teqSF",
        "outputId": "39bdd41a-3350-45e5-e728-5f8f83fcaf55"
      },
      "execution_count": null,
      "outputs": [
        {
          "output_type": "stream",
          "name": "stdout",
          "text": [
            "<class 'int'>\n"
          ]
        }
      ]
    },
    {
      "cell_type": "markdown",
      "source": [
        "Agora vamos tentar chamar as mesmas funções"
      ],
      "metadata": {
        "id": "bFUmfp3Ceugx"
      }
    },
    {
      "cell_type": "code",
      "source": [
        "age.upper()\n",
        "age.title()"
      ],
      "metadata": {
        "colab": {
          "base_uri": "https://localhost:8080/",
          "height": 195
        },
        "id": "pavwogsUe66h",
        "outputId": "3396bfb3-a25b-45b4-ea86-f147ed644814"
      },
      "execution_count": null,
      "outputs": [
        {
          "output_type": "error",
          "ename": "AttributeError",
          "evalue": "ignored",
          "traceback": [
            "\u001b[0;31m---------------------------------------------------------------------------\u001b[0m",
            "\u001b[0;31mAttributeError\u001b[0m                            Traceback (most recent call last)",
            "\u001b[0;32m<ipython-input-4-a5469fda1c71>\u001b[0m in \u001b[0;36m<cell line: 1>\u001b[0;34m()\u001b[0m\n\u001b[0;32m----> 1\u001b[0;31m \u001b[0mage\u001b[0m\u001b[0;34m.\u001b[0m\u001b[0mupper\u001b[0m\u001b[0;34m(\u001b[0m\u001b[0;34m)\u001b[0m\u001b[0;34m\u001b[0m\u001b[0;34m\u001b[0m\u001b[0m\n\u001b[0m\u001b[1;32m      2\u001b[0m \u001b[0mage\u001b[0m\u001b[0;34m.\u001b[0m\u001b[0mtitle\u001b[0m\u001b[0;34m(\u001b[0m\u001b[0;34m)\u001b[0m\u001b[0;34m\u001b[0m\u001b[0;34m\u001b[0m\u001b[0m\n",
            "\u001b[0;31mAttributeError\u001b[0m: 'int' object has no attribute 'upper'"
          ]
        }
      ]
    },
    {
      "cell_type": "markdown",
      "source": [
        "Perceba que eu não tenho como chamar essas funções, justamente por ela não ser da classe *int*.\n",
        "\n",
        "Ou seja, cada classe que vimos, possuem seus métodos próprios, com responsabilidades únicas.\n",
        "\n",
        "Pensando assim, fazemos requisições a cada objeto para efetuar seus métodos, assim, uma mensagem é uma chamada pertencente a um método em particular."
      ],
      "metadata": {
        "id": "ySTUwCNIe9Pp"
      }
    },
    {
      "cell_type": "markdown",
      "source": [
        "De uma classe se gera um objeto, esses\n",
        "objetos possuem dados e instruções sobre\n",
        "como manipular os dados que estão ligados\n",
        "à solução do problema."
      ],
      "metadata": {
        "id": "YJWQx2NgfT7y"
      }
    },
    {
      "cell_type": "markdown",
      "source": [
        "###Atributos e Classes\n",
        "\n",
        "Vamos ver um exemplo de carros.\n",
        "\n",
        "Podemos descrever um carro através de suas características, que vamos chamar eles de atributos\n",
        "\n",
        "Podemos entender os atributos como variáveis que pertencem aquela classe em específico."
      ],
      "metadata": {
        "id": "V_ke3rdLlFw3"
      }
    },
    {
      "cell_type": "markdown",
      "source": [
        "Vamos visualizar os atributos/características de um carro:\n",
        "\n",
        "- marca(string)\n",
        "- modelo(string)\n",
        "- ano(string)\n",
        "- peso(float)\n",
        "- possui porta(boolean)\n",
        "\n",
        "Nossas classes podem possuir quantos atributos quisermos e nós, como programadores vamos decidir quais atributos essa classe terá."
      ],
      "metadata": {
        "id": "08tBuIyUn6U8"
      }
    },
    {
      "cell_type": "markdown",
      "source": [
        "Além disso, podemos descrever algumas ações que nossa classe possui, vamos chamar essas ações de métodos e utilizar as nossas funções."
      ],
      "metadata": {
        "id": "G9znLasBqBPf"
      }
    },
    {
      "cell_type": "markdown",
      "source": [
        "E vemos esses métodos quando chamamos alguma variável de algum tipo específico, por exemplo quando temos a variável do tipo String, possuímos aqueles métodos específicos das Strings, tipo *upper*, *title* e entre outros.\n",
        "\n",
        "Nesse caso do nosso carro, ele possui alguns métodos, ou seja, ações.\n",
        "\n",
        "- *ligar()*\n",
        "- *buzinar()*\n",
        "- *frear()*\n",
        "\n"
      ],
      "metadata": {
        "id": "DJW0DMh4q51b"
      }
    },
    {
      "cell_type": "markdown",
      "source": [
        "### Objetos\n",
        "\n",
        "Vamos entender um pouco sobre os objetos\n",
        "\n",
        "Já entendemos que as classes são abstrações que\n",
        "criamos de algo do mundo real, como fazemos para criar\n",
        "algo concreto dessas classes? Ou seja, criar os OBJETOS,\n",
        "que são instâncias da classe.\n",
        "\n",
        "Para instanciar uma classe, utilizamos o método\n",
        "construtor.\n",
        "\n",
        "Será o método construtor que irá construir algo concreto\n",
        "daquela classe: O objeto.\n",
        "\n",
        "Em Python utilizamos __ ___init___ __ para criar o método\n",
        "construtor de determinada classe."
      ],
      "metadata": {
        "id": "OX4CFrXos7k8"
      }
    },
    {
      "cell_type": "markdown",
      "source": [
        "Vamos criar nossa classe em *Python*, temos a palavra reservada chamada *class*.\n",
        "\n",
        "###Obs:\n",
        "Quando criamos as classes em Python, vamos mudar o nosso estilo de codificação, vamos usar o PascalCase, porém, somente em **classes**."
      ],
      "metadata": {
        "id": "ItJhSUIutD-D"
      }
    },
    {
      "cell_type": "code",
      "source": [
        "class Carro:\n",
        "  ..."
      ],
      "metadata": {
        "id": "LNngEJnttWGa"
      },
      "execution_count": null,
      "outputs": []
    },
    {
      "cell_type": "markdown",
      "source": [
        "Agora vamos criar nossos atributos, nossas características.\n",
        "\n",
        "Junto com nosso método construtor."
      ],
      "metadata": {
        "id": "UyP_lizptnNa"
      }
    },
    {
      "cell_type": "code",
      "source": [
        "class Carro:\n",
        "  def __init__(self, marca, modelo, ano, peso, possui_portas):\n",
        "    self.marca = marca\n",
        "    self.modelo = modelo\n",
        "    self.ano = ano\n",
        "    self.peso = peso\n",
        "    self.possui_portas = possui_portas"
      ],
      "metadata": {
        "id": "icmH0HK0t5c-"
      },
      "execution_count": null,
      "outputs": []
    },
    {
      "cell_type": "markdown",
      "source": [
        "Aqui criamos nossa classe e temos o nosso método construtor."
      ],
      "metadata": {
        "id": "r87dg2GgumJl"
      }
    },
    {
      "cell_type": "code",
      "source": [
        "class Carro:\n",
        "  def __init__(self, marca, modelo, ano, peso, possui_portas):\n",
        "    self.marca = marca\n",
        "    self.modelo = modelo\n",
        "    self.ano = ano\n",
        "    self.peso = peso\n",
        "    self.possui_portas = possui_portas\n",
        "\n",
        "  def ligar(self):\n",
        "    return f'O carro {self.modelo} está ligado'"
      ],
      "metadata": {
        "id": "Qou28JXbuuak"
      },
      "execution_count": null,
      "outputs": []
    },
    {
      "cell_type": "code",
      "source": [
        "carro1 = Carro('Chevrolet', 'Celta', '2001', 1200, True)"
      ],
      "metadata": {
        "id": "CxDDF0yEu4sU"
      },
      "execution_count": null,
      "outputs": []
    },
    {
      "cell_type": "code",
      "source": [
        "print(carro1.ano)"
      ],
      "metadata": {
        "colab": {
          "base_uri": "https://localhost:8080/"
        },
        "id": "Tk81hlBkvHvb",
        "outputId": "7c85856a-78a0-4e57-966f-00bfe31dc404"
      },
      "execution_count": null,
      "outputs": [
        {
          "output_type": "stream",
          "name": "stdout",
          "text": [
            "2001\n"
          ]
        }
      ]
    },
    {
      "cell_type": "code",
      "source": [
        "print(carro1.ligar())"
      ],
      "metadata": {
        "colab": {
          "base_uri": "https://localhost:8080/"
        },
        "id": "qJmRAPnvvMIq",
        "outputId": "573e8b17-6d00-4167-f459-33b9f39f2926"
      },
      "execution_count": null,
      "outputs": [
        {
          "output_type": "stream",
          "name": "stdout",
          "text": [
            "O carro Celta está ligado\n"
          ]
        }
      ]
    }
  ]
}