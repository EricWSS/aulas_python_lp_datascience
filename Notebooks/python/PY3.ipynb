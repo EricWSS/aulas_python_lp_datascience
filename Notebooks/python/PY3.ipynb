{
  "nbformat": 4,
  "nbformat_minor": 0,
  "metadata": {
    "colab": {
      "provenance": []
    },
    "kernelspec": {
      "name": "python3",
      "display_name": "Python 3"
    },
    "language_info": {
      "name": "python"
    }
  },
  "cells": [
    {
      "cell_type": "markdown",
      "source": [
        "#Bem-vindo(a) a aula 3 do módulo de *Python*\n",
        "\n",
        "### Nessa aula veremos mais sobre coleções, dessa vez com foco em Dicionários e conjuntos.\n",
        "\n",
        "Tópicos da aula:\n",
        "\n",
        "- 1° Formas de criar um dicionário\n",
        "\n",
        "- 2° Operações Suportadas por dicionário\n",
        "\n",
        "- 3° Conjuntos\n",
        "\n",
        "- 4° Vamos ver outras formas de se criar coleções\n",
        "    \n",
        "- 5° Exercícios\n"
      ],
      "metadata": {
        "id": "edlAo6M2JvN4"
      }
    },
    {
      "cell_type": "markdown",
      "source": [
        "### O que são dicionários?\n",
        "\n",
        "Um dicionário em Python é um tipo de coleção que possui uma chave e um valor, podemos entender ele como uma lista com rótulos, portanto, diferente das listas que acessamos através de índices, em um dicionários vamos acessar os dados através das chaves.\n",
        "\n",
        "O uso de dicionários na parte de desenvolvimento é muito comum, principalmente por suas funções serem primordiais para consulta em arquivos do tipo json.\n",
        "\n",
        "Exemplo de arquivos JSON:\n",
        "\n",
        "https://jsonplaceholder.typicode.com/comments\n",
        "\n",
        "https://jsonplaceholder.typicode.com/posts"
      ],
      "metadata": {
        "id": "s43w9sRFTQbu"
      }
    },
    {
      "cell_type": "markdown",
      "source": [
        "É muito simples criarmos um dicionário, basta criarmos uma variável e atribuirmos ela a um conjunto de chaves, dessa maneira:"
      ],
      "metadata": {
        "id": "D1tPWg_6XWkr"
      }
    },
    {
      "cell_type": "code",
      "source": [
        "dicionario = {}"
      ],
      "metadata": {
        "id": "q8gqLgNPXth5"
      },
      "execution_count": 1,
      "outputs": []
    },
    {
      "cell_type": "markdown",
      "source": [
        "Dessa forma, já criamos o nosso dicionário, para verificarmos isso basta utilizarmos o nosso comando *type()*"
      ],
      "metadata": {
        "id": "9MX4Zst4XwNB"
      }
    },
    {
      "cell_type": "code",
      "source": [
        "print(type(dicionario))"
      ],
      "metadata": {
        "colab": {
          "base_uri": "https://localhost:8080/"
        },
        "id": "rAS2FfvLYMmR",
        "outputId": "ee63d3ce-a2c6-496e-8683-d9e86d9d69ab"
      },
      "execution_count": 2,
      "outputs": [
        {
          "output_type": "stream",
          "name": "stdout",
          "text": [
            "<class 'dict'>\n"
          ]
        }
      ]
    },
    {
      "cell_type": "markdown",
      "source": [
        "Agora vamos ver como criar dicionários com dados, bem, assim como vimos nas listas e tuplas, temos algumas formas para criar essas coleções e o dicionário não é diferentem, criamos basicamente uma \"lista\", porém com chave e valor, da seguinte forma."
      ],
      "metadata": {
        "id": "dS5hhFL_YO85"
      }
    },
    {
      "cell_type": "code",
      "source": [
        "infinity = {'turma 718': 'Data Science'}"
      ],
      "metadata": {
        "id": "RhCwB7srYzHI"
      },
      "execution_count": 3,
      "outputs": []
    },
    {
      "cell_type": "markdown",
      "source": [
        "Assim, já temos o nosso dicionário, com a representação de chave e valor, então diferente da lista que para representar o dado precisariámos passar:\n",
        "\n",
        "```\n",
        "print(infinity[0])\n",
        "```\n",
        "\n",
        "No dicionário apresentamos o dado através da chave, da seguinte forma"
      ],
      "metadata": {
        "id": "nRwZONHQZLOO"
      }
    },
    {
      "cell_type": "code",
      "source": [
        "print(infinity['turma 718'])"
      ],
      "metadata": {
        "colab": {
          "base_uri": "https://localhost:8080/"
        },
        "id": "tYiwZE72aI_T",
        "outputId": "5aef4f16-d7f7-4c13-ac45-c34cb188fc6e"
      },
      "execution_count": 4,
      "outputs": [
        {
          "output_type": "stream",
          "name": "stdout",
          "text": [
            "Data Science\n"
          ]
        }
      ]
    },
    {
      "cell_type": "markdown",
      "source": [
        "Dessa forma, agora sabemos que sempre que chamarmos a 'turma 718' vamos estar nos referenciando a Data Science."
      ],
      "metadata": {
        "id": "VVTyU5gCaMJJ"
      }
    },
    {
      "cell_type": "markdown",
      "source": [
        "Outra forma que temos de construir um dicionário é através da própria classe dele, veja, quando pedimos o tipo de um dicionário ele retorna pra gente o *<class 'dict'>*, isso está referênciando o tipo daquela variável. Assim, podemos criar a partir dessa classe da seguinte forma:"
      ],
      "metadata": {
        "id": "9uRa5cUCaaa_"
      }
    },
    {
      "cell_type": "code",
      "source": [
        "# 1° forma\n",
        "escola = dict([('turma2', 718), ('turma1', 713)])\n",
        "print(escola)"
      ],
      "metadata": {
        "colab": {
          "base_uri": "https://localhost:8080/"
        },
        "id": "U1aLllcGbbI0",
        "outputId": "6fbe197a-b244-4656-bb97-451a84341e92"
      },
      "execution_count": 6,
      "outputs": [
        {
          "output_type": "stream",
          "name": "stdout",
          "text": [
            "{'turma2': 718, 'turma1': 713}\n"
          ]
        }
      ]
    },
    {
      "cell_type": "markdown",
      "source": [
        "Essa primeira forma utilizamos uma lista de tuplas, onde o primeiro dado da tupla é a chave e o segundo é o valor. Porém, ainda temos outra forma que é utilizando \"paramêtros\" nomeados."
      ],
      "metadata": {
        "id": "gxlqYtF8b-YM"
      }
    },
    {
      "cell_type": "code",
      "source": [
        "# 2° forma\n",
        "dados = dict(nome='Felipe', idade=22)\n",
        "print(dados)"
      ],
      "metadata": {
        "colab": {
          "base_uri": "https://localhost:8080/"
        },
        "id": "k42MUE4XcO2_",
        "outputId": "9b63314f-189d-4363-b2d2-79170b56a1da"
      },
      "execution_count": 7,
      "outputs": [
        {
          "output_type": "stream",
          "name": "stdout",
          "text": [
            "{'nome': 'Felipe', 'idade': 22}\n"
          ]
        }
      ]
    },
    {
      "cell_type": "markdown",
      "source": [
        "Essas são alguma das formas de se construir um dicionário de forma \"bruta\", ou seja, já criando as chaves e valores, porém, há algumas observações a se fazer\n",
        "\n",
        "- Obs: Se repertirmos a chave, só será armazenado o último valor atribuido a essa chave.\n"
      ],
      "metadata": {
        "id": "EfopnS-edUad"
      }
    },
    {
      "cell_type": "markdown",
      "source": [
        "## Agora vamos ver as principais operações de dicionários"
      ],
      "metadata": {
        "id": "5TpRHmjgdhsN"
      }
    },
    {
      "cell_type": "markdown",
      "source": [
        "### *list*"
      ],
      "metadata": {
        "id": "OVMtbU_veXrW"
      }
    },
    {
      "cell_type": "markdown",
      "source": [
        "O *list* é usado para listas, ou seja podemos criar uma lista com esse *list*, porém, quando usado com dicionário ele irá retornar a lista de chaves que está sendo usada no dicionário."
      ],
      "metadata": {
        "id": "jh2qKwn4flqk"
      }
    },
    {
      "cell_type": "code",
      "source": [
        "dados_professor = {\n",
        "    'nome': 'Felipe Hardmann',\n",
        "    'idade': 22,\n",
        "    'matricula': 12345,\n",
        "    'turmas': (718, 715, 108)\n",
        "}\n",
        "# Isso mesmo, assim como em listas e tuplas, podemos passar coleções dentro de dicionários"
      ],
      "metadata": {
        "id": "GikLuzSEf_wc"
      },
      "execution_count": 8,
      "outputs": []
    },
    {
      "cell_type": "code",
      "source": [
        "# Usando o método list\n",
        "print(list(dados_professor))"
      ],
      "metadata": {
        "colab": {
          "base_uri": "https://localhost:8080/"
        },
        "id": "U7WMDAxBg7c8",
        "outputId": "ae529aac-b354-4d9c-a09d-8148db293425"
      },
      "execution_count": 9,
      "outputs": [
        {
          "output_type": "stream",
          "name": "stdout",
          "text": [
            "['nome', 'idade', 'matricula', 'turmas']\n"
          ]
        }
      ]
    },
    {
      "cell_type": "markdown",
      "source": [
        "### *len*"
      ],
      "metadata": {
        "id": "-Zna1JxdhOLb"
      }
    },
    {
      "cell_type": "markdown",
      "source": [
        "Podemos usar a função *len* para visualizar a quantidade de itens dentro de um dicionário.\n"
      ],
      "metadata": {
        "id": "mWwoAK-IhVqS"
      }
    },
    {
      "cell_type": "code",
      "source": [
        "print(len(dados_professor))"
      ],
      "metadata": {
        "colab": {
          "base_uri": "https://localhost:8080/"
        },
        "id": "t9xyBYf2hkum",
        "outputId": "57c976c8-0aa7-49b3-f901-48f3ed688127"
      },
      "execution_count": 10,
      "outputs": [
        {
          "output_type": "stream",
          "name": "stdout",
          "text": [
            "4\n"
          ]
        }
      ]
    },
    {
      "cell_type": "markdown",
      "source": [
        "### Criando uma nova chave e valor dentro do dicionário\n"
      ],
      "metadata": {
        "id": "Cag44K2ghnQX"
      }
    },
    {
      "cell_type": "code",
      "source": [
        "dados_professor['altura'] = 1.89"
      ],
      "metadata": {
        "id": "Wk0ixf9JiG8c"
      },
      "execution_count": 11,
      "outputs": []
    },
    {
      "cell_type": "markdown",
      "source": [
        "Não tinhamos o dado altura no nosso dicionário, porém, se atribuirmos uma chave e criarmos um valor nessa chave, nosso dicionário incrementa esses valores automaticamente."
      ],
      "metadata": {
        "id": "cK4mUrFyiLJ9"
      }
    },
    {
      "cell_type": "code",
      "source": [
        "print(dados_professor)"
      ],
      "metadata": {
        "colab": {
          "base_uri": "https://localhost:8080/"
        },
        "id": "qhvRdhEaiciK",
        "outputId": "d8741c88-ec14-4d47-ef29-1f9acd3520c9"
      },
      "execution_count": 12,
      "outputs": [
        {
          "output_type": "stream",
          "name": "stdout",
          "text": [
            "{'nome': 'Felipe Hardmann', 'idade': 22, 'matricula': 12345, 'turmas': (718, 715, 108), 'altura': 1.89}\n"
          ]
        }
      ]
    },
    {
      "cell_type": "markdown",
      "source": [
        "### *del*"
      ],
      "metadata": {
        "id": "VA4um4mmirCb"
      }
    },
    {
      "cell_type": "markdown",
      "source": [
        "Assim como tinhamos a função *del* em listas, temos em dicionários, porém essa função não deleta apenas o dado e sim a chave e os valores atrelados a essa chave."
      ],
      "metadata": {
        "id": "aAZ-zvNfi3_q"
      }
    },
    {
      "cell_type": "code",
      "source": [
        "del dados_professor['turmas']"
      ],
      "metadata": {
        "id": "EqEjhigpjSdp"
      },
      "execution_count": 13,
      "outputs": []
    },
    {
      "cell_type": "code",
      "source": [
        "print(dados_professor)"
      ],
      "metadata": {
        "colab": {
          "base_uri": "https://localhost:8080/"
        },
        "id": "vDywNgIrjW56",
        "outputId": "136b4d60-dffc-4a37-dbc5-e1192f6c07c6"
      },
      "execution_count": 14,
      "outputs": [
        {
          "output_type": "stream",
          "name": "stdout",
          "text": [
            "{'nome': 'Felipe Hardmann', 'idade': 22, 'matricula': 12345, 'altura': 1.89}\n"
          ]
        }
      ]
    },
    {
      "cell_type": "markdown",
      "source": [
        "### chave in dicionario"
      ],
      "metadata": {
        "id": "KJmrCZkEjZnQ"
      }
    },
    {
      "cell_type": "markdown",
      "source": [
        "Outra forma que podemos utilizar é a verificação de existência de uma determinada chave no meio do dicionário, esse dado vai retornar um *True* ou *False*"
      ],
      "metadata": {
        "id": "5Y2Kx6B3kn2U"
      }
    },
    {
      "cell_type": "code",
      "source": [
        "print('altura' in dados_professor)"
      ],
      "metadata": {
        "colab": {
          "base_uri": "https://localhost:8080/"
        },
        "id": "_a8fU63XlUtK",
        "outputId": "4dbca552-d3b6-46a9-8a07-49ab45088a58"
      },
      "execution_count": 15,
      "outputs": [
        {
          "output_type": "stream",
          "name": "stdout",
          "text": [
            "True\n"
          ]
        }
      ]
    },
    {
      "cell_type": "code",
      "source": [
        "print('peso' in dados_professor)"
      ],
      "metadata": {
        "colab": {
          "base_uri": "https://localhost:8080/"
        },
        "id": "xGelTn9kldhC",
        "outputId": "43e4c69f-a101-4c58-c49f-776ff56ee21d"
      },
      "execution_count": 16,
      "outputs": [
        {
          "output_type": "stream",
          "name": "stdout",
          "text": [
            "False\n"
          ]
        }
      ]
    },
    {
      "cell_type": "markdown",
      "source": [
        "Portanto, assim como temos *in*, temos também a função *not in*"
      ],
      "metadata": {
        "id": "ZK5G6VppllXR"
      }
    },
    {
      "cell_type": "code",
      "source": [
        "print('nome' not in dados_professor)"
      ],
      "metadata": {
        "colab": {
          "base_uri": "https://localhost:8080/"
        },
        "id": "e7oFgKDWlxgA",
        "outputId": "2b7e0022-b56a-4944-d76c-e4f97a6a810c"
      },
      "execution_count": 17,
      "outputs": [
        {
          "output_type": "stream",
          "name": "stdout",
          "text": [
            "False\n"
          ]
        }
      ]
    },
    {
      "cell_type": "code",
      "source": [
        "print('cpf' not in dados_professor)"
      ],
      "metadata": {
        "colab": {
          "base_uri": "https://localhost:8080/"
        },
        "id": "HU4A7xmMl1uc",
        "outputId": "b5c522d5-7ebd-40e1-e02b-4436ad31d418"
      },
      "execution_count": 18,
      "outputs": [
        {
          "output_type": "stream",
          "name": "stdout",
          "text": [
            "True\n"
          ]
        }
      ]
    },
    {
      "cell_type": "markdown",
      "source": [
        "### *clear*"
      ],
      "metadata": {
        "id": "TFNpp4WWl6D3"
      }
    },
    {
      "cell_type": "markdown",
      "source": [
        "A função *clear* é resposável por apagar todos os itens do dicionário"
      ],
      "metadata": {
        "id": "X_KARxR3mPMA"
      }
    },
    {
      "cell_type": "code",
      "source": [
        "trabalho = {'entrada': 8, 'saida': 18}\n",
        "print(trabalho)"
      ],
      "metadata": {
        "colab": {
          "base_uri": "https://localhost:8080/"
        },
        "id": "UfaBYTqembD0",
        "outputId": "3428db0e-6c7b-4287-f3f6-cd40ff1f1662"
      },
      "execution_count": 19,
      "outputs": [
        {
          "output_type": "stream",
          "name": "stdout",
          "text": [
            "{'entrada': 8, 'saida': 18}\n"
          ]
        }
      ]
    },
    {
      "cell_type": "code",
      "source": [
        "trabalho.clear()\n",
        "print(trabalho)"
      ],
      "metadata": {
        "colab": {
          "base_uri": "https://localhost:8080/"
        },
        "id": "rA8PyzZCm9M6",
        "outputId": "8ed7c815-1f0f-464b-e3b1-c0d9ddf43f6e"
      },
      "execution_count": 20,
      "outputs": [
        {
          "output_type": "stream",
          "name": "stdout",
          "text": [
            "{}\n"
          ]
        }
      ]
    },
    {
      "cell_type": "markdown",
      "source": [
        "Perceba que nossa variável ainda existe, porém os dados dentro dela foram deletados."
      ],
      "metadata": {
        "id": "dPnN1ao_nABH"
      }
    },
    {
      "cell_type": "markdown",
      "source": [
        "### copy"
      ],
      "metadata": {
        "id": "BwvPKEGbnI5n"
      }
    },
    {
      "cell_type": "markdown",
      "source": [
        "Essa função vai retornar uma cópia do nosso dicionário, mas porque não igualamos somente esse variável a uma nova variável?"
      ],
      "metadata": {
        "id": "KSMysKxlnfx_"
      }
    },
    {
      "cell_type": "code",
      "source": [
        "dados_professor2 = dados_professor\n",
        "print(dados_professor2)"
      ],
      "metadata": {
        "colab": {
          "base_uri": "https://localhost:8080/"
        },
        "id": "rIQbrmIfnk9r",
        "outputId": "4f302f70-61c5-4172-cd35-e71518f565c2"
      },
      "execution_count": 21,
      "outputs": [
        {
          "output_type": "stream",
          "name": "stdout",
          "text": [
            "{'nome': 'Felipe Hardmann', 'idade': 22, 'matricula': 12345, 'altura': 1.89}\n"
          ]
        }
      ]
    },
    {
      "cell_type": "markdown",
      "source": [
        "Perceba que ele criou da mesma forma, uma cópia do nosso *dados_professor*, porém essa cópia não serve pra gente, já que ela não é independente"
      ],
      "metadata": {
        "id": "dRg5NXo0nz_4"
      }
    },
    {
      "cell_type": "code",
      "source": [
        "dados_professor['cpf'] = '111.111.111-11'\n",
        "print(dados_professor)"
      ],
      "metadata": {
        "colab": {
          "base_uri": "https://localhost:8080/"
        },
        "id": "N_NY4ll7oDwk",
        "outputId": "48ab52f2-a356-43ca-ba76-0c96b2c0fa9a"
      },
      "execution_count": 22,
      "outputs": [
        {
          "output_type": "stream",
          "name": "stdout",
          "text": [
            "{'nome': 'Felipe Hardmann', 'idade': 22, 'matricula': 12345, 'altura': 1.89, 'cpf': '111.111.111-11'}\n"
          ]
        }
      ]
    },
    {
      "cell_type": "markdown",
      "source": [
        "Tudo certo? Não\n",
        "\n",
        "Se imprimirmos a nossa variável dados_professor2, ele também terá cpf.\n",
        "\n",
        "Mas por que? Porque Deus quis assim......\n",
        "\n",
        "Porque falamos que a nossa variável é igual a outra, ou seja, ela sempre seguirá a outra, mas não desejamos isso, queremos ma cópia que não caminhe junto a antiga variável, assim, utilizamos *copy*"
      ],
      "metadata": {
        "id": "y6zG8nswoLbO"
      }
    },
    {
      "cell_type": "code",
      "source": [
        "dados_professor_copia = dados_professor.copy()"
      ],
      "metadata": {
        "id": "_TSGjeA7oOCU"
      },
      "execution_count": 24,
      "outputs": []
    },
    {
      "cell_type": "code",
      "source": [
        "print(dados_professor_copia)"
      ],
      "metadata": {
        "colab": {
          "base_uri": "https://localhost:8080/"
        },
        "id": "qyjE9TPUpH7c",
        "outputId": "a6aa66a4-7a0f-4601-b076-3231fc843c43"
      },
      "execution_count": 25,
      "outputs": [
        {
          "output_type": "stream",
          "name": "stdout",
          "text": [
            "{'nome': 'Felipe Hardmann', 'idade': 22, 'matricula': 12345, 'altura': 1.89, 'cpf': '111.111.111-11'}\n"
          ]
        }
      ]
    },
    {
      "cell_type": "code",
      "source": [
        "# Agora se mudarmos a original a cópia não será alterada\n",
        "dados_professor['escola'] = 'infinity'"
      ],
      "metadata": {
        "id": "g_oFGAgxpKKH"
      },
      "execution_count": 28,
      "outputs": []
    },
    {
      "cell_type": "code",
      "source": [
        "print(dados_professor_copia)"
      ],
      "metadata": {
        "colab": {
          "base_uri": "https://localhost:8080/"
        },
        "id": "YTZgwNMrpZrT",
        "outputId": "3dd2bf40-3450-4370-d93c-1d2008298d41"
      },
      "execution_count": 29,
      "outputs": [
        {
          "output_type": "stream",
          "name": "stdout",
          "text": [
            "{'nome': 'Felipe Hardmann', 'idade': 22, 'matricula': 12345, 'altura': 1.89, 'cpf': '111.111.111-11'}\n"
          ]
        }
      ]
    },
    {
      "cell_type": "markdown",
      "source": [
        "Agora nossa cópia não possui o dado de escola, mesmo a original sendo alterada"
      ],
      "metadata": {
        "id": "jjAQ_bBzpkLz"
      }
    },
    {
      "cell_type": "markdown",
      "source": [
        "### *fromkeys*\n"
      ],
      "metadata": {
        "id": "SbwsV57hpsSU"
      }
    },
    {
      "cell_type": "markdown",
      "source": [
        "Esse é um método que retorna as chaves definidas através de um iterável"
      ],
      "metadata": {
        "id": "S9WY3-vmxSIV"
      }
    },
    {
      "cell_type": "code",
      "source": [
        "lista_nomes = ['Felipe', 'Mauricio', 'Rosana']\n",
        "dict_nomes = dict.fromkeys(lista_nomes)\n",
        "print(dict_nomes)"
      ],
      "metadata": {
        "colab": {
          "base_uri": "https://localhost:8080/"
        },
        "id": "0ljUqEpKxuuP",
        "outputId": "d37391cd-3dde-41a9-c9c0-dee65f67921a"
      },
      "execution_count": 31,
      "outputs": [
        {
          "output_type": "stream",
          "name": "stdout",
          "text": [
            "{'Felipe': None, 'Mauricio': None, 'Rosana': None}\n"
          ]
        }
      ]
    },
    {
      "cell_type": "markdown",
      "source": [
        "Por padrão, quando não passamos os valores, ele sempre virá como *None*, porém, se quisermos atribuir valores, podemos passar também dentro da função, ou seja, atribuirmos outro paramêtro."
      ],
      "metadata": {
        "id": "m6iGhJ4YyXpj"
      }
    },
    {
      "cell_type": "code",
      "source": [
        "dict_nomes = dict.fromkeys(lista_nomes, 1)"
      ],
      "metadata": {
        "id": "49DoKp6cyzAR"
      },
      "execution_count": 32,
      "outputs": []
    },
    {
      "cell_type": "code",
      "source": [
        "print(dict_nomes)"
      ],
      "metadata": {
        "colab": {
          "base_uri": "https://localhost:8080/"
        },
        "id": "bFOe0EqDy2Ri",
        "outputId": "401d3db4-8ebd-42d7-8062-316c34da7018"
      },
      "execution_count": 33,
      "outputs": [
        {
          "output_type": "stream",
          "name": "stdout",
          "text": [
            "{'Felipe': 1, 'Mauricio': 1, 'Rosana': 1}\n"
          ]
        }
      ]
    },
    {
      "cell_type": "code",
      "source": [
        "lista = [1, 2, 3]\n",
        "dict_nomes = dict.fromkeys(lista_nomes, lista)\n",
        "print(dict_nomes)"
      ],
      "metadata": {
        "colab": {
          "base_uri": "https://localhost:8080/"
        },
        "id": "opM8_ET6y4ZQ",
        "outputId": "551b1606-1ba7-406b-f189-bc80a485c8d9"
      },
      "execution_count": 35,
      "outputs": [
        {
          "output_type": "stream",
          "name": "stdout",
          "text": [
            "{'Felipe': [1, 2, 3], 'Mauricio': [1, 2, 3], 'Rosana': [1, 2, 3]}\n"
          ]
        }
      ]
    },
    {
      "cell_type": "markdown",
      "source": [
        "Infelizmente ele só atribui valores padrões para todos ;("
      ],
      "metadata": {
        "id": "3lHxuus3zANe"
      }
    },
    {
      "cell_type": "markdown",
      "source": [
        "### *get*"
      ],
      "metadata": {
        "id": "2HjfUdzVzJFp"
      }
    },
    {
      "cell_type": "markdown",
      "source": [
        "O método *get* vai servir para verificarmos o valor de uma chave em específica, se ela não existir vai retornar um valor padrão definido."
      ],
      "metadata": {
        "id": "o348aXjW0l4a"
      }
    },
    {
      "cell_type": "code",
      "source": [
        "tecnologias = {\n",
        "    'backend': ['Python', 'Java', 'PHP'],\n",
        "    'frontend': ['JS', 'React', 'Vue'],\n",
        "    'DataScience': ['Python', 'Pandas', 'R']\n",
        "}\n",
        "\n",
        "print(tecnologias.get('frontend', 'Essa formação não existe'))\n"
      ],
      "metadata": {
        "colab": {
          "base_uri": "https://localhost:8080/"
        },
        "id": "LxsljKEB09dd",
        "outputId": "86e0ef4c-eba0-4c4b-a2fa-2f84029f772a"
      },
      "execution_count": 36,
      "outputs": [
        {
          "output_type": "stream",
          "name": "stdout",
          "text": [
            "['JS', 'React', 'Vue']\n"
          ]
        }
      ]
    },
    {
      "cell_type": "code",
      "source": [
        "print(tecnologias.get('DevOps', 'Vixe, isso não existe aqui não'))"
      ],
      "metadata": {
        "colab": {
          "base_uri": "https://localhost:8080/"
        },
        "id": "tedomRs11fF_",
        "outputId": "8bb11b5e-e4df-4f26-9023-f88344a027ce"
      },
      "execution_count": 38,
      "outputs": [
        {
          "output_type": "stream",
          "name": "stdout",
          "text": [
            "Vixe, isso não existe aqui não\n"
          ]
        }
      ]
    },
    {
      "cell_type": "markdown",
      "source": [
        "### *items*"
      ],
      "metadata": {
        "id": "plyLmyBN1l3d"
      }
    },
    {
      "cell_type": "markdown",
      "source": [
        "Essa função vai retornar uma visualização diferente do nosso dicionário, uma lista de tuplas."
      ],
      "metadata": {
        "id": "G4muksIg2h2l"
      }
    },
    {
      "cell_type": "code",
      "source": [
        "print(tecnologias.items())"
      ],
      "metadata": {
        "colab": {
          "base_uri": "https://localhost:8080/"
        },
        "id": "cq99YSTe3hUw",
        "outputId": "dc6a25f3-6b74-4656-e1be-0f267e962d85"
      },
      "execution_count": 39,
      "outputs": [
        {
          "output_type": "stream",
          "name": "stdout",
          "text": [
            "dict_items([('backend', ['Python', 'Java', 'PHP']), ('frontend', ['JS', 'React', 'Vue']), ('DataScience', ['Python', 'Pandas', 'R'])])\n"
          ]
        }
      ]
    },
    {
      "cell_type": "markdown",
      "source": [
        "Porém, essa função pode ser melhor utilizada na desestruturação do nosso dicionário, sim, assim como faziamos isso em Listas, Strings e Tuplas, podemos fazer isso com dicionários, porém, temos dois dados, no dicionário a chave e o valor, nesse caso, vamos precisar desestruturar os dois campos, dessa forma:"
      ],
      "metadata": {
        "id": "irMoIQal3lnY"
      }
    },
    {
      "cell_type": "code",
      "source": [
        "for chave, valor in tecnologias.items():\n",
        "  '''\n",
        "    Perceba que a primeira variável se refere sempre as chaves\n",
        "    e a segunda variável sempre aos valores, não importando se é outra\n",
        "    coleção ou não.\n",
        "  '''\n",
        "  print(f'{chave} - {valor}')"
      ],
      "metadata": {
        "colab": {
          "base_uri": "https://localhost:8080/"
        },
        "id": "_DW7Xw_44z0_",
        "outputId": "d473f310-f7db-4f7e-9d96-55f3d6e8ecee"
      },
      "execution_count": 41,
      "outputs": [
        {
          "output_type": "stream",
          "name": "stdout",
          "text": [
            "backend - ['Python', 'Java', 'PHP']\n",
            "frontend - ['JS', 'React', 'Vue']\n",
            "DataScience - ['Python', 'Pandas', 'R']\n"
          ]
        }
      ]
    },
    {
      "cell_type": "markdown",
      "source": [
        "### *keys*"
      ],
      "metadata": {
        "id": "Q55DJz1l5BLK"
      }
    },
    {
      "cell_type": "markdown",
      "source": [
        "O *keys* vai retornar apenas os dados das chaves, porém, esse método pode ser útil para visualizarmos também os nossos valores."
      ],
      "metadata": {
        "id": "0qAvMYAL52yV"
      }
    },
    {
      "cell_type": "code",
      "source": [
        "tecnologias.keys()"
      ],
      "metadata": {
        "colab": {
          "base_uri": "https://localhost:8080/"
        },
        "id": "a4ZdMNqP6Bg1",
        "outputId": "e05ef96b-3c26-4429-89bf-8aecdf0541d2"
      },
      "execution_count": 42,
      "outputs": [
        {
          "output_type": "execute_result",
          "data": {
            "text/plain": [
              "dict_keys(['backend', 'frontend', 'DataScience'])"
            ]
          },
          "metadata": {},
          "execution_count": 42
        }
      ]
    },
    {
      "cell_type": "markdown",
      "source": [
        "Mas podemos usar esse método para pegarmos os valores dessa chave"
      ],
      "metadata": {
        "id": "inRKfstg6dIl"
      }
    },
    {
      "cell_type": "code",
      "source": [
        "for tecnologia in tecnologias.keys():\n",
        "  print(tecnologias[tecnologia])"
      ],
      "metadata": {
        "colab": {
          "base_uri": "https://localhost:8080/"
        },
        "id": "mynzgdpt6kWv",
        "outputId": "e048dcce-2d8f-4c9b-e2bd-1a1509d00f0b"
      },
      "execution_count": 45,
      "outputs": [
        {
          "output_type": "stream",
          "name": "stdout",
          "text": [
            "['Python', 'Java', 'PHP']\n",
            "['JS', 'React', 'Vue']\n",
            "['Python', 'Pandas', 'R']\n"
          ]
        }
      ]
    },
    {
      "cell_type": "markdown",
      "source": [
        "Certo, nesse caso acima, eu percorri todas as chaves e guardei em cada loop a chave na variável tecnologia, depois pedi para imprimir no dicionário de tecnologias o campo que tiver de a chave igual a tecnologia percorrida no array."
      ],
      "metadata": {
        "id": "Nv67mwBq6vMM"
      }
    },
    {
      "cell_type": "markdown",
      "source": [
        "### *pop*"
      ],
      "metadata": {
        "id": "UupBfZMm7aQ5"
      }
    },
    {
      "cell_type": "markdown",
      "source": [
        "A função *pop* serve apenas para remover a chave do dicionário, se não houver a chave ele vai retornar um erro ou podemos especificar o erro."
      ],
      "metadata": {
        "id": "WzAOWPkFAytp"
      }
    },
    {
      "cell_type": "code",
      "source": [
        "tecnologias.pop('backend', 'Não existe')"
      ],
      "metadata": {
        "colab": {
          "base_uri": "https://localhost:8080/"
        },
        "id": "B8dG4yviAiLA",
        "outputId": "cfa9987f-920a-4fff-d75b-e177f24dce55"
      },
      "execution_count": 46,
      "outputs": [
        {
          "output_type": "execute_result",
          "data": {
            "text/plain": [
              "['Python', 'Java', 'PHP']"
            ]
          },
          "metadata": {},
          "execution_count": 46
        }
      ]
    },
    {
      "cell_type": "code",
      "source": [
        "print(tecnologias)"
      ],
      "metadata": {
        "colab": {
          "base_uri": "https://localhost:8080/"
        },
        "id": "_axi0I_oBZpx",
        "outputId": "8f8482c0-0491-49ca-b252-4c971b399f6f"
      },
      "execution_count": 47,
      "outputs": [
        {
          "output_type": "stream",
          "name": "stdout",
          "text": [
            "{'frontend': ['JS', 'React', 'Vue'], 'DataScience': ['Python', 'Pandas', 'R']}\n"
          ]
        }
      ]
    },
    {
      "cell_type": "code",
      "source": [
        "tecnologias.pop('Infra', 'Não existe')"
      ],
      "metadata": {
        "colab": {
          "base_uri": "https://localhost:8080/",
          "height": 35
        },
        "id": "iEfPHkAGBdlF",
        "outputId": "84f1bee8-93ad-4264-ae12-363762c2e313"
      },
      "execution_count": 48,
      "outputs": [
        {
          "output_type": "execute_result",
          "data": {
            "text/plain": [
              "'Não existe'"
            ],
            "application/vnd.google.colaboratory.intrinsic+json": {
              "type": "string"
            }
          },
          "metadata": {},
          "execution_count": 48
        }
      ]
    },
    {
      "cell_type": "code",
      "source": [
        "tecnologias.pop('Infra')"
      ],
      "metadata": {
        "colab": {
          "base_uri": "https://localhost:8080/",
          "height": 177
        },
        "id": "SMolrjb8B0hP",
        "outputId": "43095754-dcb5-459a-95b5-9c799747218f"
      },
      "execution_count": 49,
      "outputs": [
        {
          "output_type": "error",
          "ename": "KeyError",
          "evalue": "ignored",
          "traceback": [
            "\u001b[0;31m---------------------------------------------------------------------------\u001b[0m",
            "\u001b[0;31mKeyError\u001b[0m                                  Traceback (most recent call last)",
            "\u001b[0;32m<ipython-input-49-577f28ab5569>\u001b[0m in \u001b[0;36m<cell line: 1>\u001b[0;34m()\u001b[0m\n\u001b[0;32m----> 1\u001b[0;31m \u001b[0mtecnologias\u001b[0m\u001b[0;34m.\u001b[0m\u001b[0mpop\u001b[0m\u001b[0;34m(\u001b[0m\u001b[0;34m'Infra'\u001b[0m\u001b[0;34m)\u001b[0m\u001b[0;34m\u001b[0m\u001b[0;34m\u001b[0m\u001b[0m\n\u001b[0m",
            "\u001b[0;31mKeyError\u001b[0m: 'Infra'"
          ]
        }
      ]
    },
    {
      "cell_type": "markdown",
      "source": [
        "### *values*"
      ],
      "metadata": {
        "id": "whFu2t-KB25C"
      }
    },
    {
      "cell_type": "markdown",
      "source": [],
      "metadata": {
        "id": "WH5bvhzOCELy"
      }
    }
  ]
}