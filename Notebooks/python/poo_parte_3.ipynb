{
  "nbformat": 4,
  "nbformat_minor": 0,
  "metadata": {
    "colab": {
      "provenance": []
    },
    "kernelspec": {
      "name": "python3",
      "display_name": "Python 3"
    },
    "language_info": {
      "name": "python"
    }
  },
  "cells": [
    {
      "cell_type": "markdown",
      "source": [
        "#Bem-vindo(a) a POO(Programação orientada a objetos) - Aula 3\n",
        "\n",
        "\n",
        "####Polimorfismos e Encapsulamento\n"
      ],
      "metadata": {
        "id": "HiRJgNtJRg3E"
      }
    },
    {
      "cell_type": "markdown",
      "source": [
        "###Relembrando\n",
        "\n",
        "Nas aulas passadas, vimos os conceitos de Classe, herança e abstração.\n",
        "\n",
        "Vimos que uma classe é a representação de algo real que é convertida para o mundo virtual, esse conceito se encaixa com a abstração. Além disso, vimos também a parte de herança, Superclasses ou classes Pai e as classes filhas, lembrando que, as classes Pai, **NUNCA** devem ser instânciadas."
      ],
      "metadata": {
        "id": "NAvMTk9ZSZSz"
      }
    },
    {
      "cell_type": "markdown",
      "source": [
        "##Atividade\n",
        "\n",
        "Então, para relembrarmos um pouco mais, vamos fazer um pequeno exercício.\n",
        "\n",
        "Vamos criar uma classe Pessoa, essa classe Pessoa deve ter os atributos nome, idade e cpf.\n",
        "\n",
        "Depois, vocês devem criar uma instância da classe Pessoa, passando todos os atributos."
      ],
      "metadata": {
        "id": "zUYqd57-TNDG"
      }
    },
    {
      "cell_type": "code",
      "source": [
        "class Pessoa:\n",
        "  def __init__(self, nome: str, idade: int, cpf: str) -> None:\n",
        "    self.nome = nome\n",
        "    self.idade = idade\n",
        "    self.cpf = cpf"
      ],
      "metadata": {
        "id": "KGUE99cZTgIV"
      },
      "execution_count": 2,
      "outputs": []
    },
    {
      "cell_type": "code",
      "source": [
        "felipe = Pessoa('Felipe', 23, '12345678910')"
      ],
      "metadata": {
        "id": "Mj7cFZfnULcq"
      },
      "execution_count": 3,
      "outputs": []
    },
    {
      "cell_type": "markdown",
      "source": [
        "Lembrando que, podemos \"printar\" esses atributos de duas formas, chamando o dict ou chamando o próprio atributo"
      ],
      "metadata": {
        "id": "eslwbnwCUUur"
      }
    },
    {
      "cell_type": "code",
      "source": [
        "print(felipe.nome)\n",
        "print(felipe.idade)\n",
        "print(felipe.cpf)"
      ],
      "metadata": {
        "colab": {
          "base_uri": "https://localhost:8080/"
        },
        "id": "NVENwbo_Uj1Z",
        "outputId": "88d00368-1327-4614-bdb2-06feff072667"
      },
      "execution_count": 4,
      "outputs": [
        {
          "output_type": "stream",
          "name": "stdout",
          "text": [
            "Felipe\n",
            "23\n",
            "12345678910\n"
          ]
        }
      ]
    },
    {
      "cell_type": "markdown",
      "source": [
        "Podemos ver que está tudo certo.....\n",
        "\n",
        "Na verdade, não está tudo certo, quando trabalhamos com a orientação a objetos temos que entender que existem atributos e até mesmo métodos que são mais delicados do que outros, por exemplo, CPF, esse é um atributo muito delicado, pois não é comum mudarmos o CPF comumente, é algo único, mas veja algo."
      ],
      "metadata": {
        "id": "G-eF9jeZUoMb"
      }
    },
    {
      "cell_type": "code",
      "source": [
        "felipe.cpf = '8181818181'\n",
        "print(felipe.cpf)"
      ],
      "metadata": {
        "colab": {
          "base_uri": "https://localhost:8080/"
        },
        "id": "lnwKRHKDVfQd",
        "outputId": "09b9ad5b-3a49-4c4e-ccb1-221587288e2f"
      },
      "execution_count": 5,
      "outputs": [
        {
          "output_type": "stream",
          "name": "stdout",
          "text": [
            "8181818181\n"
          ]
        }
      ]
    },
    {
      "cell_type": "markdown",
      "source": [
        "Veja, o CPF é um atributo fácil de se mudar dentro desse contexto e isso não deveria acontecer, para isso então temos um conceito na programação orientada a objetos de encapsulamento."
      ],
      "metadata": {
        "id": "D1m8UAs5VlHO"
      }
    },
    {
      "cell_type": "markdown",
      "source": [
        "##Encapsulamento\n",
        "\n",
        "O encapsulamento acontece principalmente em programação orientada a objetos (POO), em que objetos são utilizados para representar entidades do mundo real e encapsulam os dados e os comportamentos relacionados a esses elementos. A técnica também pode ser aplicada em outras áreas da programação, como em bibliotecas e frameworks, com técnicas de encapsulamento para esconder detalhes de implementação de um recurso e expor somente as operações necessárias para o uso dele."
      ],
      "metadata": {
        "id": "DU4IIQBXV64b"
      }
    },
    {
      "cell_type": "markdown",
      "source": [
        "Nesse sentido, nós entramos agora no conceito de visibilidade, esse conceito engloba quatro itens, que são:\n",
        "\n",
        "- Público\n",
        "- Privado\n",
        "- Protegido\n",
        "\n",
        "Você não percebeu, mas, estamos trabalhando com atributos e métodos publicos desde que começamos a trabalhar com orientação a objetos.\n",
        "\n",
        "Ou seja, quando criamos uma classe da seguinte forma:"
      ],
      "metadata": {
        "id": "5OaxVyfHagBu"
      }
    },
    {
      "cell_type": "code",
      "source": [
        "class Animal:\n",
        "  def __init__(self, nome: str, peso: float) -> None:\n",
        "    self.nome = nome\n",
        "    self.peso = peso"
      ],
      "metadata": {
        "id": "KYJQGl-Mbmlk"
      },
      "execution_count": 6,
      "outputs": []
    },
    {
      "cell_type": "markdown",
      "source": [
        "Os atributos acima se encontram publicos, certo, então como trabalhamos com métodos privados?\n",
        "\n",
        "Para trabalhamos com métodos privados em Python, devemos fazer uma pequena alteração. Por isso, vamos chamar novamente nossa classe Pessoa."
      ],
      "metadata": {
        "id": "YDEIL4GxbvMJ"
      }
    },
    {
      "cell_type": "code",
      "source": [
        "class Pessoa:\n",
        "  def __init__(self, nome: str, idade: int, cpf: str) -> None:\n",
        "    self.nome = nome\n",
        "    self.idade = idade\n",
        "    self.__cpf = cpf"
      ],
      "metadata": {
        "id": "FhB26VcIb3dy"
      },
      "execution_count": 12,
      "outputs": []
    },
    {
      "cell_type": "markdown",
      "source": [
        "Alteramos, colocando dois *underlines* na frente do atributo, agora vamos instanciar nossa classe."
      ],
      "metadata": {
        "id": "3pZN4R3LcPc2"
      }
    },
    {
      "cell_type": "code",
      "source": [
        "pessoa1 = Pessoa('Renan', 24, '123456781')\n",
        "print(pessoa1.nome)\n",
        "print(pessoa1.idade)"
      ],
      "metadata": {
        "colab": {
          "base_uri": "https://localhost:8080/"
        },
        "id": "A5UCtf5kccCQ",
        "outputId": "dc511dee-4bc8-483e-bb2d-9b8dae794d9c"
      },
      "execution_count": 10,
      "outputs": [
        {
          "output_type": "stream",
          "name": "stdout",
          "text": [
            "Renan\n",
            "24\n"
          ]
        }
      ]
    },
    {
      "cell_type": "code",
      "source": [
        "print(pessoa1.cpf)"
      ],
      "metadata": {
        "colab": {
          "base_uri": "https://localhost:8080/",
          "height": 184
        },
        "id": "04S07uQictzb",
        "outputId": "5686a493-38e2-487d-e165-42c55364475a"
      },
      "execution_count": 11,
      "outputs": [
        {
          "output_type": "error",
          "ename": "AttributeError",
          "evalue": "ignored",
          "traceback": [
            "\u001b[0;31m---------------------------------------------------------------------------\u001b[0m",
            "\u001b[0;31mAttributeError\u001b[0m                            Traceback (most recent call last)",
            "\u001b[0;32m<ipython-input-11-dab5c2dbdba8>\u001b[0m in \u001b[0;36m<cell line: 1>\u001b[0;34m()\u001b[0m\n\u001b[0;32m----> 1\u001b[0;31m \u001b[0mprint\u001b[0m\u001b[0;34m(\u001b[0m\u001b[0mpessoa1\u001b[0m\u001b[0;34m.\u001b[0m\u001b[0mcpf\u001b[0m\u001b[0;34m)\u001b[0m\u001b[0;34m\u001b[0m\u001b[0;34m\u001b[0m\u001b[0m\n\u001b[0m",
            "\u001b[0;31mAttributeError\u001b[0m: 'Pessoa' object has no attribute 'cpf'"
          ]
        }
      ]
    },
    {
      "cell_type": "markdown",
      "source": [
        "Perceba, agora, o Python não consegue encontrar o atributo CPF, certo, então o que devemos fazer?\n",
        "\n",
        "Temos algumas formas de se fazer isso, vamos ver a primeira."
      ],
      "metadata": {
        "id": "xxigyyx4c0DW"
      }
    },
    {
      "cell_type": "code",
      "source": [
        "class Pessoa:\n",
        "  def __init__(self, nome: str, idade: int, cpf: str) -> None:\n",
        "    self.nome = nome\n",
        "    self.idade = idade\n",
        "    self.__cpf = cpf\n",
        "\n",
        "  def escrever_cpf(self):\n",
        "    return self.__cpf"
      ],
      "metadata": {
        "id": "oXxqZ8R2dBRF"
      },
      "execution_count": 18,
      "outputs": []
    },
    {
      "cell_type": "code",
      "source": [
        "pessoa1 = Pessoa('Renan', 24, '123456781')\n",
        "print(pessoa1.nome)\n",
        "print(pessoa1.idade)\n",
        "print(pessoa1.escrever_cpf())"
      ],
      "metadata": {
        "colab": {
          "base_uri": "https://localhost:8080/"
        },
        "id": "U9Gc-370dIhN",
        "outputId": "88627228-0afc-4631-c189-5b1732768265"
      },
      "execution_count": 17,
      "outputs": [
        {
          "output_type": "stream",
          "name": "stdout",
          "text": [
            "Renan\n",
            "24\n",
            "123456781\n"
          ]
        }
      ]
    },
    {
      "cell_type": "markdown",
      "source": [
        "Dessa forma, não estamos chamando nosso atributo diretamente, estamos chamando um método e esse método acessa nosso atributo."
      ],
      "metadata": {
        "id": "1mzro7kBdMtS"
      }
    },
    {
      "cell_type": "markdown",
      "source": [
        "Além disso, como foi dito acima, podemos deixar métodos privados, da mesma forma, vamos ver como faríamos isso."
      ],
      "metadata": {
        "id": "d8YlvxlddeWF"
      }
    },
    {
      "cell_type": "code",
      "source": [
        "class Pessoa:\n",
        "  def __init__(self, nome: str, idade: int, cpf: str) -> None:\n",
        "    self.nome = nome\n",
        "    self.idade = idade\n",
        "    self.__cpf = cpf\n",
        "\n",
        "  def escrever_cpf(self):\n",
        "    return self.__cpf\n",
        "\n",
        "  def __metodo_privado(self):\n",
        "    return f'{self.nome} está correndo'"
      ],
      "metadata": {
        "id": "XXXFpdNKeFwa"
      },
      "execution_count": 23,
      "outputs": []
    },
    {
      "cell_type": "code",
      "source": [
        "pessoa1 = Pessoa('Renan', 24, '123456781')\n",
        "print(pessoa1.nome)\n",
        "print(pessoa1.idade)\n",
        "print(pessoa1.escrever_cpf())\n",
        "print(pessoa1.metodo_privado())"
      ],
      "metadata": {
        "colab": {
          "base_uri": "https://localhost:8080/",
          "height": 276
        },
        "id": "iIIBYANXeQF_",
        "outputId": "c7b08bf4-7c36-40f8-8d54-629cc65c4f6b"
      },
      "execution_count": 22,
      "outputs": [
        {
          "output_type": "stream",
          "name": "stdout",
          "text": [
            "Renan\n",
            "24\n",
            "123456781\n"
          ]
        },
        {
          "output_type": "error",
          "ename": "AttributeError",
          "evalue": "ignored",
          "traceback": [
            "\u001b[0;31m---------------------------------------------------------------------------\u001b[0m",
            "\u001b[0;31mAttributeError\u001b[0m                            Traceback (most recent call last)",
            "\u001b[0;32m<ipython-input-22-e0e52d6aa359>\u001b[0m in \u001b[0;36m<cell line: 5>\u001b[0;34m()\u001b[0m\n\u001b[1;32m      3\u001b[0m \u001b[0mprint\u001b[0m\u001b[0;34m(\u001b[0m\u001b[0mpessoa1\u001b[0m\u001b[0;34m.\u001b[0m\u001b[0midade\u001b[0m\u001b[0;34m)\u001b[0m\u001b[0;34m\u001b[0m\u001b[0;34m\u001b[0m\u001b[0m\n\u001b[1;32m      4\u001b[0m \u001b[0mprint\u001b[0m\u001b[0;34m(\u001b[0m\u001b[0mpessoa1\u001b[0m\u001b[0;34m.\u001b[0m\u001b[0mescrever_cpf\u001b[0m\u001b[0;34m(\u001b[0m\u001b[0;34m)\u001b[0m\u001b[0;34m)\u001b[0m\u001b[0;34m\u001b[0m\u001b[0;34m\u001b[0m\u001b[0m\n\u001b[0;32m----> 5\u001b[0;31m \u001b[0mprint\u001b[0m\u001b[0;34m(\u001b[0m\u001b[0mpessoa1\u001b[0m\u001b[0;34m.\u001b[0m\u001b[0mmetodo_privado\u001b[0m\u001b[0;34m(\u001b[0m\u001b[0;34m)\u001b[0m\u001b[0;34m)\u001b[0m\u001b[0;34m\u001b[0m\u001b[0;34m\u001b[0m\u001b[0m\n\u001b[0m",
            "\u001b[0;31mAttributeError\u001b[0m: 'Pessoa' object has no attribute 'metodo_privado'"
          ]
        }
      ]
    },
    {
      "cell_type": "markdown",
      "source": [
        "Então, basta colocar esses dois underline na frente e o método ou atributo passa a ser privado. Nesse caso, na questão da CLASSE os métodos e atributos poderão ser acessados, porém, na questão do objeto não."
      ],
      "metadata": {
        "id": "ivMqZrXIeVn0"
      }
    },
    {
      "cell_type": "markdown",
      "source": [
        "Certo, agora você deve estar se perguntando, \"Qual o sentido de um método ser privado?\"\n",
        "\n",
        "O encapsulamento permite que os detalhes de implementação de um objeto sejam alterados sem afetar o restante do sistema, tornando o código mais flexível e fácil de manter.\n",
        "\n",
        "Vamos ver mais um exemplo."
      ],
      "metadata": {
        "id": "JG91Zs1te1Gf"
      }
    },
    {
      "cell_type": "code",
      "source": [
        "class Pessoa:\n",
        "  def __init__(self, nome: str, idade: int, cpf: str) -> None:\n",
        "    self.nome = nome\n",
        "    self.idade = idade\n",
        "    self.__cpf = cpf\n",
        "\n",
        "  def escrever_cpf(self):\n",
        "    return self.__cpf\n",
        "\n",
        "  def __metodo_privado(self):\n",
        "    return f'{self.nome} está correndo'\n",
        "\n",
        "  def correr(self):\n",
        "    return self.__metodo_privado()"
      ],
      "metadata": {
        "id": "owRC_RUNfm3F"
      },
      "execution_count": 25,
      "outputs": []
    },
    {
      "cell_type": "code",
      "source": [
        "pessoa1 = Pessoa('Renan', 24, '123456781')\n",
        "print(pessoa1.nome)\n",
        "print(pessoa1.idade)\n",
        "print(pessoa1.escrever_cpf())\n",
        "print(pessoa1.correr())"
      ],
      "metadata": {
        "colab": {
          "base_uri": "https://localhost:8080/"
        },
        "id": "IniYScBRfzOD",
        "outputId": "c543a427-9da2-43cb-b9ce-48fa69356f82"
      },
      "execution_count": 26,
      "outputs": [
        {
          "output_type": "stream",
          "name": "stdout",
          "text": [
            "Renan\n",
            "24\n",
            "123456781\n",
            "Renan está correndo\n"
          ]
        }
      ]
    },
    {
      "cell_type": "markdown",
      "source": [
        "O que acontece, nesse caso, temos um método, que está acessado o outro, ou seja, nosso objeto, não pode acessar o método privado, mas, pode acessar o método público que chama o método privado."
      ],
      "metadata": {
        "id": "NwhpFBEEgkUP"
      }
    },
    {
      "cell_type": "markdown",
      "source": [
        "####Vamos ver mais exemplos....\n",
        "\n",
        "Vamos criar agora uma classe de Calculadora"
      ],
      "metadata": {
        "id": "A5b2Rtngg3QM"
      }
    },
    {
      "cell_type": "code",
      "source": [
        "class Calculadora:\n",
        "  def calcular(self, op, num1, num2):\n",
        "    if op == '+':\n",
        "      return self.__somar(num1, num2)\n",
        "    elif op == '-':\n",
        "      return self.__subtrair(num1, num2)\n",
        "    elif op == '*':\n",
        "      return self.__mult(num1, num2)\n",
        "    elif op == '/':\n",
        "      return self.__dividir(num1, num2)\n",
        "\n",
        "  def __somar(self, num1, num2):\n",
        "    return num1 + num2\n",
        "\n",
        "  def __subtrair(self, num1, num2):\n",
        "    return num1 - num2\n",
        "\n",
        "  def __mult(self, num1, num2):\n",
        "    return num1 * num2\n",
        "\n",
        "  def __dividir(self, num1, num2):\n",
        "    return num1 / num2"
      ],
      "metadata": {
        "id": "iNH5rOrGhzMP"
      },
      "execution_count": 29,
      "outputs": []
    },
    {
      "cell_type": "code",
      "source": [
        "calculadora = Calculadora()\n",
        "print(calculadora.calcular('+', 5, 5))"
      ],
      "metadata": {
        "colab": {
          "base_uri": "https://localhost:8080/"
        },
        "id": "5Wz8x35OjDam",
        "outputId": "40af30a9-ac81-4549-b7d3-39553088a503"
      },
      "execution_count": 31,
      "outputs": [
        {
          "output_type": "stream",
          "name": "stdout",
          "text": [
            "10\n"
          ]
        }
      ]
    },
    {
      "cell_type": "markdown",
      "source": [
        "Perceba como fica mais fácil para trabalhar com o objeto em si, não precisamos utilizar vários métodos diferentes, apenas um, que nesse caso, é o método calcular, isso facilita muito a codificação e auxília no clean code."
      ],
      "metadata": {
        "id": "fJwlWQU5jMIL"
      }
    },
    {
      "cell_type": "markdown",
      "source": [
        "###Getters e setters"
      ],
      "metadata": {
        "id": "A77REmhBj8zE"
      }
    },
    {
      "cell_type": "markdown",
      "source": [
        "Perceba que no exemplo acima, de pessoas, não iríamos conseguir alterar o CPF da Pessoa que fosse instanciada.\n",
        "\n",
        "Por isso, temos um modo diferente de se fazer isso, podemos utilizar o os famosos getters e setters."
      ],
      "metadata": {
        "id": "Lr0DHF8JliDu"
      }
    },
    {
      "cell_type": "code",
      "source": [
        "class Pessoa:\n",
        "  def __init__(self, nome: str, idade: int, cpf: str, salario: float) -> None:\n",
        "    self.nome = nome\n",
        "    self.idade = idade\n",
        "    self.__cpf = cpf\n",
        "    self.__salario = salario\n",
        "\n",
        "  def get_cpf(self):\n",
        "    return self.__cpf\n",
        "\n",
        "  def set_cpf(self, novo_cpf: str):\n",
        "    self.__cpf = novo_cpf\n",
        "\n",
        "  def get_salario(self):\n",
        "    return self.__salario\n",
        "\n",
        "  def set_salario(self, novo_salario: float):\n",
        "    self.__salario = novo_salario"
      ],
      "metadata": {
        "id": "4QhkFl0Smoo5"
      },
      "execution_count": 35,
      "outputs": []
    },
    {
      "cell_type": "code",
      "source": [
        "carlos = Pessoa('Carlos', 74, '123456718', 25000)"
      ],
      "metadata": {
        "id": "70gAYbWHnba4"
      },
      "execution_count": 36,
      "outputs": []
    },
    {
      "cell_type": "code",
      "source": [
        "print(carlos.nome)\n",
        "print(carlos.idade)\n",
        "print(carlos.get_cpf())\n",
        "print(carlos.get_salario())"
      ],
      "metadata": {
        "colab": {
          "base_uri": "https://localhost:8080/"
        },
        "id": "GcIERr-onmz2",
        "outputId": "aacbd682-86a2-47d2-d1eb-27e76b5eb11c"
      },
      "execution_count": 42,
      "outputs": [
        {
          "output_type": "stream",
          "name": "stdout",
          "text": [
            "Carlos\n",
            "74\n",
            "123456718\n",
            "30000\n"
          ]
        }
      ]
    },
    {
      "cell_type": "markdown",
      "source": [
        "Assim, se quisermos alterar algum dado, devemos chamar uma função específica que altera esse atributo."
      ],
      "metadata": {
        "id": "9F1lL6E7nxVl"
      }
    },
    {
      "cell_type": "code",
      "source": [
        "carlos.set_salario(30000)"
      ],
      "metadata": {
        "id": "6pbGqWl8ogBW"
      },
      "execution_count": 38,
      "outputs": []
    },
    {
      "cell_type": "code",
      "source": [
        "print(carlos.get_salario())"
      ],
      "metadata": {
        "colab": {
          "base_uri": "https://localhost:8080/"
        },
        "id": "diMzYenro6g-",
        "outputId": "9d8e138e-5ad8-43b5-d771-da6b6443bbce"
      },
      "execution_count": 40,
      "outputs": [
        {
          "output_type": "stream",
          "name": "stdout",
          "text": [
            "30000\n"
          ]
        }
      ]
    },
    {
      "cell_type": "markdown",
      "source": [
        "Porém, essa não é a forma Pytonica de se fazer esses getters e setters.\n",
        "\n",
        "Para esse tipo de caso, temos os **decorators**, que são mais apropriados para fazer esse tipo de operação.\n",
        "\n",
        "São o property e setter."
      ],
      "metadata": {
        "id": "c8kCOM7Vo9iD"
      }
    },
    {
      "cell_type": "code",
      "source": [
        "class Pessoa:\n",
        "  def __init__(self, nome: str, idade: int, cpf: str, salario: float) -> None:\n",
        "    self.nome = nome\n",
        "    self.idade = idade\n",
        "    self.__cpf = cpf\n",
        "    self.__salario = salario\n",
        "\n",
        "  @property\n",
        "  def cpf(self):\n",
        "    return self.__cpf\n",
        "\n",
        "  @cpf.setter\n",
        "  def cpf(self, novo_cpf: str):\n",
        "    self.__cpf = novo_cpf\n",
        "\n",
        "  @property\n",
        "  def salario(self):\n",
        "    return self.__salario\n",
        "\n",
        "  @salario.setter\n",
        "  def salario(self, novo_salario: float):\n",
        "    self.__salario = novo_salario"
      ],
      "metadata": {
        "id": "p3pUEOTZpNI8"
      },
      "execution_count": 41,
      "outputs": []
    },
    {
      "cell_type": "code",
      "source": [
        "carlos = Pessoa('Carlos', 74, '123456718', 25000)"
      ],
      "metadata": {
        "id": "ECZ5DjzjqIBq"
      },
      "execution_count": 43,
      "outputs": []
    },
    {
      "cell_type": "code",
      "source": [
        "print(carlos.nome)\n",
        "print(carlos.idade)\n",
        "print(carlos.cpf)\n",
        "print(carlos.salario)"
      ],
      "metadata": {
        "colab": {
          "base_uri": "https://localhost:8080/"
        },
        "id": "sNLwOAQTqMWC",
        "outputId": "ca9f3339-e1a1-4c6f-ec52-d9e8559e0d3b"
      },
      "execution_count": 48,
      "outputs": [
        {
          "output_type": "stream",
          "name": "stdout",
          "text": [
            "Carlos\n",
            "74\n",
            "123456718\n",
            "25000\n"
          ]
        }
      ]
    },
    {
      "cell_type": "code",
      "source": [
        "carlos.salario = 22000\n",
        "print(carlos.salario)"
      ],
      "metadata": {
        "colab": {
          "base_uri": "https://localhost:8080/"
        },
        "id": "Byx90Z4OqPfa",
        "outputId": "48b5c3c0-8bbb-476d-d2ec-18ff46339225"
      },
      "execution_count": 52,
      "outputs": [
        {
          "output_type": "stream",
          "name": "stdout",
          "text": [
            "22000\n"
          ]
        }
      ]
    },
    {
      "cell_type": "markdown",
      "source": [
        "### Atividade 1\n",
        "\n",
        "\n",
        "\n",
        "Crie uma classe chamada produto com as seguintes características:\n",
        "\n",
        "nome do arquivo : produto.py\n",
        "\n",
        "Atributos\n",
        "\n",
        "    nome\n",
        "    preço (deve ser privado)\n",
        "    categoria (deve ser privado)\n",
        "    descrição\n",
        "\n",
        "Método\n",
        "    \n",
        "    reajustar preço\n",
        "\n"
      ],
      "metadata": {
        "id": "orOn6ANSqg5H"
      }
    },
    {
      "cell_type": "markdown",
      "source": [
        "### Atividade 2\n",
        "\n",
        "\n",
        "Escreva um programa para cadastrar N produtos.\n",
        "\n",
        "Faça uma impressão \"bonita\" para listar todos os produtos cadastrados, cada um com seus det"
      ],
      "metadata": {
        "id": "zMlBbicCrVX8"
      }
    },
    {
      "cell_type": "markdown",
      "source": [
        "##Polimorfismo"
      ],
      "metadata": {
        "id": "KNSSiUxIrlmR"
      }
    },
    {
      "cell_type": "markdown",
      "source": [
        "O polimorfismo é a capacidade que uma subclasse tem de ter métodos com o mesmo nome de sua superclasse, e o programa saber qual método deve ser invocado, especificamente (da super ou sub).\n",
        "\n",
        "Ou seja, o objeto tem a capacidade de assumir diferentes formas (polimorfismo).\n",
        "\n",
        "*Poli = muitas*\n",
        "\n",
        "*Morfo = formas*"
      ],
      "metadata": {
        "id": "e_vtQNYqwMbm"
      }
    },
    {
      "cell_type": "markdown",
      "source": [
        "**Antes de vermos o código, provavelmente você vai pesquisar sobre polimorfismo, então, uma observação, Sobrecarga de métodos(Overload), a linguagem Python, não suporta e sim a sobreposição de métodos(override)**"
      ],
      "metadata": {
        "id": "_TtJ0pwFw1wr"
      }
    },
    {
      "cell_type": "markdown",
      "source": [
        "Agora, vamos fazer alguns exemplos."
      ],
      "metadata": {
        "id": "IWQ-axG2yW27"
      }
    },
    {
      "cell_type": "code",
      "source": [
        "class Usuario:\n",
        "  def apresentacao(self):\n",
        "    return 'Sou a classe Usuario'\n",
        "\n",
        "class Usuario2(Usuario):\n",
        "  def apresentacao(self):\n",
        "    return 'Sou a classe Usuario2'\n",
        ""
      ],
      "metadata": {
        "id": "zXa8BaYsz1-A"
      },
      "execution_count": 53,
      "outputs": []
    },
    {
      "cell_type": "code",
      "source": [
        "usu1 = Usuario()\n",
        "print(usu1.apresentacao())"
      ],
      "metadata": {
        "colab": {
          "base_uri": "https://localhost:8080/"
        },
        "id": "BQnazCpa0Zjp",
        "outputId": "22f8e375-cbef-40f2-cb5b-4dbd931c452e"
      },
      "execution_count": 55,
      "outputs": [
        {
          "output_type": "stream",
          "name": "stdout",
          "text": [
            "Sou a classe Usuario\n"
          ]
        }
      ]
    },
    {
      "cell_type": "code",
      "source": [
        "usu2 = Usuario2()\n",
        "print(usu2.apresentacao())"
      ],
      "metadata": {
        "colab": {
          "base_uri": "https://localhost:8080/"
        },
        "id": "DNNb1dOk0gQl",
        "outputId": "6f1765e9-52a9-409a-e6f7-48ff62a1fe5c"
      },
      "execution_count": 56,
      "outputs": [
        {
          "output_type": "stream",
          "name": "stdout",
          "text": [
            "Sou a classe Usuario2\n"
          ]
        }
      ]
    },
    {
      "cell_type": "markdown",
      "source": [
        "Perceba que ocorre a alteração no meu método, estamos fazendo a sobreposição de métodos.\n",
        "\n",
        "Mas entra um porém nesse caso e se tivermos métodos e atributos privados?\n",
        "\n",
        "Vamos fazer uma atividade rápida, Crie uma classe Animal, com os atributos peso, idade e membros, onde todos serão privados, depois, crie os métodos locomover, alimentar e emitir som, também privados."
      ],
      "metadata": {
        "id": "vuMHQdIw0kI1"
      }
    },
    {
      "cell_type": "code",
      "source": [
        "class Animal:\n",
        "  def __init__(self, peso: float, idade: int, membros: int) -> None:\n",
        "    self.__peso = peso\n",
        "    self.__idade = idade\n",
        "    self.__membros = membros\n",
        "\n",
        "  @property\n",
        "  def peso(self) -> float:\n",
        "    return self.__peso\n",
        "\n",
        "  @peso.setter\n",
        "  def peso(self, novo_peso) -> None:\n",
        "    self.__peso = novo_peso\n",
        "\n",
        "  @property\n",
        "  def idade(self) -> int:\n",
        "    return self.__idade\n",
        "\n",
        "  @idade.setter\n",
        "  def idade(self, nova_idade) -> None:\n",
        "    self.__idade = nova_idade\n",
        "\n",
        "  @property\n",
        "  def membros(self) -> int:\n",
        "    return self.__membros\n",
        "\n",
        "  @membros.setter\n",
        "  def membros(self, quantidade) -> None:\n",
        "    self.__membros = quantidade\n",
        "\n",
        "  def __locomover(self) -> str:\n",
        "    return 'Animal se locomovendo'\n",
        "\n",
        "  def __alimentar(self) -> str:\n",
        "    return 'Animal se alimentando'\n",
        "\n",
        "  def __emitir_som(self) -> str:\n",
        "    return 'Animal emitindo som'"
      ],
      "metadata": {
        "id": "3523dKTD11sN"
      },
      "execution_count": 58,
      "outputs": []
    },
    {
      "cell_type": "markdown",
      "source": [
        "Agora, vamos criar a classe Mamifero, que vai ser uma herança de Animal, com atributos a mais, como pelo e cor."
      ],
      "metadata": {
        "id": "qF97owea27R4"
      }
    },
    {
      "cell_type": "code",
      "source": [
        "class Mamifero(Animal):\n",
        "  def __init__(self, peso: float, idade: int, membros: int,\n",
        "               tem_pelo: bool = True, cor: str = 'caramelo') -> None:\n",
        "    super().__init__(peso, idade, membros)\n",
        "    self.pelo = tem_pelo\n",
        "    self.cor = cor if tem_pelo else None"
      ],
      "metadata": {
        "id": "_8_fJh4T3Hsy"
      },
      "execution_count": 59,
      "outputs": []
    },
    {
      "cell_type": "code",
      "source": [
        "m1 = Mamifero(90, 100, 4, True, 'Verde')"
      ],
      "metadata": {
        "id": "areiWWsw3Q87"
      },
      "execution_count": 60,
      "outputs": []
    },
    {
      "cell_type": "markdown",
      "source": [
        "Se chamarmos os métodos locomover, alimentar e emitir som no objeto que acabamos de criar, vai acontecer um erro."
      ],
      "metadata": {
        "id": "7K4nwgl23fGc"
      }
    },
    {
      "cell_type": "code",
      "source": [
        "print(m1.__alimentar())"
      ],
      "metadata": {
        "colab": {
          "base_uri": "https://localhost:8080/",
          "height": 184
        },
        "id": "_lUklJ8O3oie",
        "outputId": "72a50efc-a6d7-4624-e844-d9547e2e3bd4"
      },
      "execution_count": 62,
      "outputs": [
        {
          "output_type": "error",
          "ename": "AttributeError",
          "evalue": "ignored",
          "traceback": [
            "\u001b[0;31m---------------------------------------------------------------------------\u001b[0m",
            "\u001b[0;31mAttributeError\u001b[0m                            Traceback (most recent call last)",
            "\u001b[0;32m<ipython-input-62-098e1e924a3e>\u001b[0m in \u001b[0;36m<cell line: 1>\u001b[0;34m()\u001b[0m\n\u001b[0;32m----> 1\u001b[0;31m \u001b[0mprint\u001b[0m\u001b[0;34m(\u001b[0m\u001b[0mm1\u001b[0m\u001b[0;34m.\u001b[0m\u001b[0m__alimentar\u001b[0m\u001b[0;34m(\u001b[0m\u001b[0;34m)\u001b[0m\u001b[0;34m)\u001b[0m\u001b[0;34m\u001b[0m\u001b[0;34m\u001b[0m\u001b[0m\n\u001b[0m",
            "\u001b[0;31mAttributeError\u001b[0m: 'Mamifero' object has no attribute '__alimentar'"
          ]
        }
      ]
    },
    {
      "cell_type": "markdown",
      "source": [
        "Isso acontece, por que aquele método está como privado, nesse caso, o método privado só pode ser acessado pela própria classe e os atributos, também."
      ],
      "metadata": {
        "id": "SQWyOqyh364V"
      }
    },
    {
      "cell_type": "markdown",
      "source": [
        "Nesse caso, vamos utilizar o outro tipo de encapsulamento, que é o chamado de Protegido."
      ],
      "metadata": {
        "id": "7rHSdSgh4LR_"
      }
    },
    {
      "cell_type": "code",
      "source": [
        "class Animal:\n",
        "  def __init__(self, peso: float, idade: int, membros: int) -> None:\n",
        "    self.__peso = peso\n",
        "    self.__idade = idade\n",
        "    self.__membros = membros\n",
        "\n",
        "  @property\n",
        "  def peso(self) -> float:\n",
        "    return self.__peso\n",
        "\n",
        "  @peso.setter\n",
        "  def peso(self, novo_peso) -> None:\n",
        "    self.__peso = novo_peso\n",
        "\n",
        "  @property\n",
        "  def idade(self) -> int:\n",
        "    return self.__idade\n",
        "\n",
        "  @idade.setter\n",
        "  def idade(self, nova_idade) -> None:\n",
        "    self.__idade = nova_idade\n",
        "\n",
        "  @property\n",
        "  def membros(self) -> int:\n",
        "    return self.__membros\n",
        "\n",
        "  @membros.setter\n",
        "  def membros(self, quantidade) -> None:\n",
        "    self.__membros = quantidade\n",
        "\n",
        "  def _locomover(self) -> str:\n",
        "    return 'Animal se locomovendo'\n",
        "\n",
        "  def _alimentar(self) -> str:\n",
        "    return 'Animal se alimentando'\n",
        "\n",
        "  def _emitir_som(self) -> str:\n",
        "    return 'Animal emitindo som'"
      ],
      "metadata": {
        "id": "Qgr_OxSr4WS9"
      },
      "execution_count": 63,
      "outputs": []
    },
    {
      "cell_type": "markdown",
      "source": [
        "O protegido, teremos apenas um underline na frente dele, que nesse caso, deixa o métodos serem passados para a classe filha."
      ],
      "metadata": {
        "id": "ixRIGp-D4eo9"
      }
    },
    {
      "cell_type": "code",
      "source": [
        "class Mamifero(Animal):\n",
        "  def __init__(self, peso: float, idade: int, membros: int,\n",
        "               tem_pelo: bool = True, cor: str = 'caramelo') -> None:\n",
        "    super().__init__(peso, idade, membros)\n",
        "    self.pelo = tem_pelo\n",
        "    self.cor = cor if tem_pelo else None"
      ],
      "metadata": {
        "id": "47vcZHPJ4oat"
      },
      "execution_count": 64,
      "outputs": []
    },
    {
      "cell_type": "code",
      "source": [
        "m1 = Mamifero(90, 100, 4, True, 'Verde')"
      ],
      "metadata": {
        "id": "TRObhqWC4sOB"
      },
      "execution_count": 65,
      "outputs": []
    },
    {
      "cell_type": "code",
      "source": [
        "print(m1._alimentar())"
      ],
      "metadata": {
        "colab": {
          "base_uri": "https://localhost:8080/"
        },
        "id": "U5HgCMRG4sxb",
        "outputId": "c866a9ff-6bc6-45df-c37f-fa1615f721dd"
      },
      "execution_count": 66,
      "outputs": [
        {
          "output_type": "stream",
          "name": "stdout",
          "text": [
            "Animal se alimentando\n"
          ]
        }
      ]
    },
    {
      "cell_type": "markdown",
      "source": [
        "Certo, mas o que isso interfere no Polimorfismo?\n",
        "\n",
        "O polimorfismo indica que teremos um método com várias formas diferentes, se você perceber os métodos alimentar, emitir som e locomover, estão com saídas, animal se locomovendo, alimentando, isso é muito vago, dessa forma, podemos criar métodos que sobrescrevam o antigo.\n",
        "\n",
        "Para entendermos melhor, vamos criar mais uma classe, Cachorro.\n",
        "\n",
        "Que agora terá nome e raça no inicializador."
      ],
      "metadata": {
        "id": "ShNDO0Lt42HW"
      }
    },
    {
      "cell_type": "code",
      "source": [
        "\n",
        "class Cachorro(Mamifero):\n",
        "  def __init__(self, nome: str, raca: str,\n",
        "               peso: float, idade: int, membros: int,\n",
        "               tem_pelo: bool, cor: str) -> None:\n",
        "    super().__init__(peso, idade, membros, tem_pelo, cor)\n",
        "    self.__nome = nome\n",
        "    self.__raca = raca\n",
        "\n",
        "  @property\n",
        "  def nome(self) -> str:\n",
        "    return self.__nome\n",
        "\n",
        "  @nome.setter\n",
        "  def nome(self, novo_nome: str) -> None:\n",
        "    self.__nome = novo_nome\n",
        "\n",
        "  @property\n",
        "  def raca(self) -> str:\n",
        "    return self.__raca\n",
        "\n",
        "  @raca.setter\n",
        "  def raca(self, nova_raca: str) -> None:\n",
        "    self.__raca = nova_raca\n",
        "\n",
        "  def _alimentar(self) -> str:\n",
        "    return f'{self.nome.title()} está comendo ração'\n",
        "\n",
        "  def _locomover(self) -> str:\n",
        "    return f'{self.nome.title()} está passeando'\n",
        "\n",
        "  def _emitir_som(self) -> str:\n",
        "    return f'{self.nome.title()} está latindo'\n",
        "\n",
        "  def _fazer_festa(self, pessoa: str = 'mim') -> str:\n",
        "    return f'{self.nome.title()} está fazendo muita festa pra {pessoa}!'\n",
        "\n",
        "  def _enterrar_osso(self) -> str:\n",
        "    return f'{self.nome.title()} enterrou o osso no quintal'"
      ],
      "metadata": {
        "id": "Otk3N10P4579"
      },
      "execution_count": 67,
      "outputs": []
    },
    {
      "cell_type": "code",
      "source": [
        "cachorro = Cachorro('rex', 'pastor', 10, 3, 4, True, 'preto')\n",
        "print(cachorro.__dict__)\n",
        "print(cachorro._alimentar())\n",
        "print(cachorro._locomover())\n",
        "print(cachorro._emitir_som())\n",
        "print(cachorro._fazer_festa())\n",
        "print(cachorro._fazer_festa('visita'))\n",
        "print(cachorro._enterrar_osso())"
      ],
      "metadata": {
        "colab": {
          "base_uri": "https://localhost:8080/"
        },
        "id": "qMYt-iL35wii",
        "outputId": "5ea71883-8b06-4a83-9b14-b77af15c5676"
      },
      "execution_count": 68,
      "outputs": [
        {
          "output_type": "stream",
          "name": "stdout",
          "text": [
            "{'_Animal__peso': 10, '_Animal__idade': 3, '_Animal__membros': 4, 'pelo': True, 'cor': 'preto', '_Cachorro__nome': 'rex', '_Cachorro__raca': 'pastor'}\n",
            "Rex está comendo ração\n",
            "Rex está passeando\n",
            "Rex está latindo\n",
            "Rex está fazendo muita festa pra mim!\n",
            "Rex está fazendo muita festa pra visita!\n",
            "Rex enterrou o osso no quintal\n"
          ]
        }
      ]
    }
  ]
}