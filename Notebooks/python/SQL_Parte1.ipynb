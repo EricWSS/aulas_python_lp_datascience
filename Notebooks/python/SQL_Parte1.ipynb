{
  "nbformat": 4,
  "nbformat_minor": 0,
  "metadata": {
    "colab": {
      "provenance": []
    },
    "kernelspec": {
      "name": "python3",
      "display_name": "Python 3"
    },
    "language_info": {
      "name": "python"
    }
  },
  "cells": [
    {
      "cell_type": "markdown",
      "source": [
        "#Bem-vindo(a) a SQL(Structured Query Language)\n",
        "\n",
        "###Nessa aula veremos os seguintes tópicos:\n",
        "\n",
        "- Introdução a banco de dados\n",
        "\n",
        "- Tipos de banco de dados\n",
        "\n",
        "- Introdução ao SQL\n",
        "\n",
        "- Introdução ao MySQL\n"
      ],
      "metadata": {
        "id": "SR0Y86G_YjKv"
      }
    },
    {
      "cell_type": "markdown",
      "source": [
        "##Introdução a banco de dados"
      ],
      "metadata": {
        "id": "nsTrVYWDZ1VO"
      }
    },
    {
      "cell_type": "markdown",
      "source": [
        "####O que é um banco de dados?"
      ],
      "metadata": {
        "id": "Y3xpFN58aQiO"
      }
    },
    {
      "cell_type": "markdown",
      "source": [
        "Um banco de dados é uma coleção organizada de informações, que nesse caso são os dados, esses dados são armazenados eletronicamente em um sistema de computador. Esse sistema é chamado de SGBD(Sistema de gerenciamento de banco de dados).\n",
        "\n",
        "Juntos, os dados e o SGBD, juntamente com as aplicações associadas a eles, são chamados de sistema de banco de dados, que são abreviados apenas para banco de dados.\n",
        "\n",
        "Os dados nos tipos mais comuns de bancos de dados em operação atualmente são modelados em linhas e colunas em uma série de tabelas para tornar o processamento e a consulta de dados eficientes. Os dados podem ser facilmente acessados, gerenciados, modificados, atualizados, controlados e organizados. A maioria dos bancos de dados usa a linguagem de consulta estruturada (SQL) para escrever e consultar dados."
      ],
      "metadata": {
        "id": "STjosf_zbC86"
      }
    },
    {
      "cell_type": "markdown",
      "source": [
        "####Por que não utilizar apenas uma planilha para armazenar esses dados?"
      ],
      "metadata": {
        "id": "T86D8tx5bt-o"
      }
    },
    {
      "cell_type": "markdown",
      "source": [
        "Uma planilha também é uma ótima forma de armazenar os dados, porém, há algumas pequenas diferenças que devemos levar em conta sobre elas em relação ao banco de dados.\n",
        "\n",
        "- No banco de dados, podemos manipular os dados de diferentes maneiras.\n",
        "\n",
        "- Permissões diferentes.\n",
        "\n",
        "- Quantos dados podem ser armazenados.\n",
        "\n",
        "\n",
        "Além disso, as planilhas foram originalmente criadas para trabalhar com apenas um usuário, já o banco de dados foi criado para vários usuários, criarem, manipularem e definirem padrões."
      ],
      "metadata": {
        "id": "53OBiLiReRnC"
      }
    },
    {
      "cell_type": "markdown",
      "source": [
        "Podemos entender que um banco de dados é responsável pela persistência dos dados.\n",
        "\n",
        "Por persistente, podemos entender que os dados desse banco de dados\n",
        "\"persistem\" porque, uma vez aceitos pelo SGBD para serem\n",
        "salvos no banco de dados, só serão removidos mais tarde por\n",
        "alguma requisição explícita ao SGBD, através do SQL.\n",
        "\n",
        "Um banco de dados é uma coleção de dados persistentes,\n",
        "usada por algum sistema."
      ],
      "metadata": {
        "id": "skebP4oKe8JW"
      }
    },
    {
      "cell_type": "markdown",
      "source": [
        "####Tipos de banco de dados"
      ],
      "metadata": {
        "id": "ltxkBY4Ihu10"
      }
    },
    {
      "cell_type": "markdown",
      "source": [
        "Os tipos de SGBDs\n",
        "\n",
        "Definindo como os dados serão armazenados no banco de dados, podemos destacar os modelos de SGBDs mais utilizados como os seguintes: Relacionais, não-relacionais (NoSQL), hierárquico, de rede e o orientado a objetos.\n",
        "\n",
        "- Relacionais - Os SGBDS relacionais são banco de dados que modelam os dados no formato de tabelas, que podem se relacionar entre si. Cada tabela pode possuir diversos atributos, com diversos tipos de dados.\n",
        "\n",
        "- Não-relacionais (NoSQL) - NoSQL (Not Only SQL) é o termo utilizado para banco de dados não relacionais de alto desempenho, onde geralmente não é utilizado o SQL como linguagem de consulta. Estes bancos utilizam diversos modelos de dados, incluindo documentos, gráficos, chave-valor e colunares. São amplamente reconhecidos pela facilidade em seu desenvolvimento, desempenho escalável, alta disponibilidade e resiliência.\n",
        "\n",
        "- Hierárquico - Modelo hierárquico de banco de dados consiste em uma coleção de arquivos que são conectados entre si por meio de ligações, baseando a sua base de dados em um modelo de entidades e relacionamentos.\n",
        "\n",
        "- De rede - Possuindo uma organização semelhante ao modelo de banco de dados hierárquico, o modelo de rede possui uma estrutura mais completa, possuindo como principal diferença entre eles o fato de não existir restrição hierárquica. É um modelo que permite a organização dos dados em uma estrutura formada por várias listas, formada por um conjunto complexo de ligações.\n",
        "\n",
        "- Orientado a objetos - Baseado no paradigma da programação orientada a objetos, neste modelo as funcionalidades de orientação a objetos são integradas aos bancos de dados, onde cada informação é armazenada em forma de um objeto e seus registros em forma de tuplas.\n",
        "\n"
      ],
      "metadata": {
        "id": "4ExST0oQiv9r"
      }
    },
    {
      "cell_type": "markdown",
      "source": [
        "**NORMALMENTE,** os principais banco de dados que você verá no mercado, são os relacionais e não relacionais.\n",
        "\n",
        "Abaixo, você terá um link para ver melhor a diferença entre eles."
      ],
      "metadata": {
        "id": "FRXUD7rqjOxC"
      }
    },
    {
      "cell_type": "markdown",
      "source": [
        "https://www.treinaweb.com.br/blog/sql-vs-nosql-qual-usar/"
      ],
      "metadata": {
        "id": "5deYdPdujYMt"
      }
    },
    {
      "cell_type": "markdown",
      "source": [
        "###MySQL\n",
        "\n",
        "MySQL é um sistema de gerenciamento de banco de dados\n",
        "relacional de código aberto baseado em SQL.\n",
        "\n",
        "Quanto a sua definição, MySQL é um Banco de Dados relacional\n",
        "(RDBMS – Relational Database Management Systems) com um\n",
        "modelo de cliente-servidor.\n",
        "\n",
        "Ele foi projetado e otimizado para aplicativos da web e pode ser\n",
        "executado em qualquer plataforma. Como surgiram requisitos novos\n",
        "e diferentes com a internet, o MySQL tornou-se a plataforma\n",
        "preferida para desenvolvedores da web e aplicativos baseados na\n",
        "web.\n",
        "\n",
        "Como foi projetado para processar milhões de consultas e milhares\n",
        "de transações, o MySQL é uma escolha popular para empresas de\n",
        "comércio eletrônico que precisam gerenciar várias transferências de\n",
        "dinheiro. A flexibilidade sob demanda é o principal recurso do MySQL."
      ],
      "metadata": {
        "id": "Rhz3ET3bjf72"
      }
    },
    {
      "cell_type": "markdown",
      "source": [
        "###Obs:\n",
        "\n",
        "Existe o SGBD MariaDB, que é uma espécie de fork do MySQL."
      ],
      "metadata": {
        "id": "Fz2hDsSpxiku"
      }
    },
    {
      "cell_type": "markdown",
      "source": [
        "O workbench configura um servidor na nossa\n",
        "máquina onde podemos criar bancos de dados,\n",
        "executar códigos SQL, entre outras funcionalidades.\n",
        "Essa conexão é chamada de\n",
        "\n",
        "\"Local Instance\n",
        "\".\n",
        "\n",
        "O usuário por padrão é o usuário root.\n",
        "\n",
        "Esse servidor roda no nosso localhost, na porta\n",
        "3306 por padrão."
      ],
      "metadata": {
        "id": "1x_AsJPGx2tb"
      }
    },
    {
      "cell_type": "markdown",
      "source": [
        "###SQL"
      ],
      "metadata": {
        "id": "aTOLKhqlx9bb"
      }
    },
    {
      "cell_type": "markdown",
      "source": [
        "O SQL é uma linguagem padrão para manipulação de registros\n",
        "em bancos de dados relacionais. A sigla SQL vem dos termos em\n",
        "inglês “Structured Query Language”\n",
        "\n",
        ", que podem ser traduzidos\n",
        "para o português como “Linguagem de Consulta Estruturada”.\n",
        "\n",
        "Com o SQL, é possível realizar consultas à base de dados\n",
        "informando diversos tipos de parâmetros (seguindo algumas\n",
        "regras e normas da linguagem), podendo obter grandes\n",
        "quantidades de informação de diferentes fontes (no caso,\n",
        "tabelas) com poucos ou até mesmo apenas uma instrução.\n",
        "\n",
        "A linguagem também possui outros subconjuntos de operações\n",
        "utilizadas para gerenciar e manipular as informações e o próprio\n",
        "banco de dados, como inserção, atualização e exclusão de\n",
        "informações, criação de novas tabelas, etc."
      ],
      "metadata": {
        "id": "eWyzRMskyUMG"
      }
    },
    {
      "cell_type": "markdown",
      "source": [
        "A linguagem SQL surgiu a partir de um estudo realizado na\n",
        "década de 70 pelo laboratório da IBM. Esse estudo tinha\n",
        "como um de seus objetivos elaborar uma linguagem que\n",
        "fosse capaz de simplificar o gerenciamento de informações\n",
        "em bancos de dados do tipo relacional (baseado em\n",
        "tabelas).\n",
        "\n",
        "Foi aí que surgiu a especificação original do SQL, que foi\n",
        "feita por dois conhecidos cientistas da computação,\n",
        "Donald D. Chamberlim e Raymond F. Boyce. O sucesso da\n",
        "linguagem foi imediato e rapidamente diversos “dialetos”\n",
        "começaram a ser desenvolvidos, o que gerou a\n",
        "necessidade do ANSI (American National Standards\n",
        "Institute) padronizar o seu uso."
      ],
      "metadata": {
        "id": "jlVqQnr4yXih"
      }
    },
    {
      "cell_type": "markdown",
      "source": [
        "###Comandos SQL"
      ],
      "metadata": {
        "id": "FPhMLXTRyauh"
      }
    },
    {
      "cell_type": "markdown",
      "source": [
        "Os comandos SQL são agrupados da seguinte forma:\n",
        "\n",
        "- DDL : Data Definition Language\n",
        "- DML : Data Manipulation Language\n",
        "- TCL : Transaction Control Language\n",
        "- DQL : Data Query Language\n",
        "- DCL : Data Control Language"
      ],
      "metadata": {
        "id": "qOojyHZRziVG"
      }
    },
    {
      "cell_type": "markdown",
      "source": [
        "### DDL\n",
        "Data Definition Language\n",
        "Consiste em comandos SQL que são usados para definirmos o schema (esquema) do banco de dados.\n",
        "\n",
        "Simplesmente lida com as descrições do esquema do banco de dados, sendo usada para criar e modificar a estrutura dos objetos do banco de dados."
      ],
      "metadata": {
        "id": "CNiBT7w5z7IT"
      }
    },
    {
      "cell_type": "markdown",
      "source": [
        "Assim, DDL é um conjunto de comandos SQL para criar, modificar e apagar estruturas de banco de dados, mas não os dados. Estes comandos são normalmente não são usados por um usuário geral, que deve acessar o banco de dados por meio de um aplicativo (cliente de banco de dados)."
      ],
      "metadata": {
        "id": "UuAWK8Bv0LjU"
      }
    },
    {
      "cell_type": "markdown",
      "source": [
        "Lista dos comandos:"
      ],
      "metadata": {
        "id": "_fNWrOJ60Z7B"
      }
    },
    {
      "cell_type": "markdown",
      "source": [
        "- CREATE : usado para criar banco de dados e seus objetos (tabelas, index, funções, visões, store procedure e triggers)\n",
        "\n",
        "- DROP : usado para remover objetos do banco de dados\n",
        "\n",
        "- ALTER : usado para alterar a estrutura do banco de dados\n",
        "\n",
        "- TRUNCATE : usado para remover todos os registros de uma tabela, incluindo todos os espaços alocados para os registros\n",
        "\n",
        "- COMMENT : usado para adicionar comentários ao dicionário de dados\n",
        "\n",
        "- RENAME : usado para renomear objetos existentes no banco de dados"
      ],
      "metadata": {
        "id": "TrutA5kg0cTK"
      }
    },
    {
      "cell_type": "markdown",
      "source": [
        "####CREATE\n",
        "\n",
        "Existem duas instruções CREATE disponíveis no SQL:\n",
        "\n",
        "CREATE DATABASE\n",
        "CREATE TABLE\n",
        "CREATE DATABASE\n",
        "\n",
        "Um banco de dados é definido como um conjunto estruturado de dados.\n",
        "\n",
        "Assim, no SQL, o primeiro passo para armazenar os dados de maneira bem estruturada é criar um banco de dados.\n",
        "\n",
        "A instrução CREATE DATABASE é usada para criar um novo banco de dados em SQL."
      ],
      "metadata": {
        "id": "mMh1bZFC0kNJ"
      }
    },
    {
      "cell_type": "markdown",
      "source": [
        "Sintaxe\n",
        "\n",
        "```\n",
        "CREATE DATABASE [IF NOT EXISTS] nome_database;\n",
        "\n",
        "USE INFINITY;\n",
        "\n",
        "```"
      ],
      "metadata": {
        "id": "QXRxlW9a0qFw"
      }
    },
    {
      "cell_type": "markdown",
      "source": [
        "CREATE TABLE\n",
        "\n",
        "Aprendemos logo acima sobre a criação de bancos de dados.\n",
        "\n",
        "Agora, para armazenar os dados, precisamos de uma tabela para fazer isso.\n",
        "\n",
        "A instrução CREATE TABLE é usada para criar uma tabela em SQL.\n",
        "\n",
        "Sabemos que uma tabela é composta por linhas e colunas. Então, ao criar tabelas, temos que fornecer todas as informações ao SQL sobre os nomes das colunas, tipo de dados a serem armazenados nas colunas, tamanho dos dados etc."
      ],
      "metadata": {
        "id": "JjmdLxIT0zJ4"
      }
    },
    {
      "cell_type": "markdown",
      "source": [
        "Sintaxe\n",
        "\n",
        "```\n",
        "CREATE TABLE [IF NOT EXISTS] nome_tabela(\n",
        "  coluna1 tipo_dado(tamanho),\n",
        "  coluna2 tipo_dado(tamanho),\n",
        "  coluna3 tipo_dado(tamanho)\n",
        ");\n",
        "```"
      ],
      "metadata": {
        "id": "w7HzDwym1Bsv"
      }
    },
    {
      "cell_type": "markdown",
      "source": [
        "```\n",
        "CREATE TABLE IF NOT EXISTS STUDENTS(\n",
        "  REGISTRATION INT(5) NOT NULL PRIMARY KEY,\n",
        "  NAME VARCHAR(30),\n",
        "  EMAIL VARCHAR(50)\n",
        ");\n",
        "```"
      ],
      "metadata": {
        "id": "9hRN7G-z1NsY"
      }
    },
    {
      "cell_type": "markdown",
      "source": [
        "Essa consulta criará uma tabela chamada STUDENTS.\n",
        "\n",
        "O campo REGISTRATION é do tipo int e pode armazenar um número inteiro de tamanho 5.\n",
        "\n",
        "Já os campos NAME e EMAIL são do tipo varchar e podem armazenar caracteres com tamanho máximo de 30 e 50 caracteres, respectivamente."
      ],
      "metadata": {
        "id": "p_YLQKnx1Wf2"
      }
    },
    {
      "cell_type": "markdown",
      "source": [
        "####DROP\n",
        "DROP é usado para excluir um banco de dados inteiro ou apenas uma tabela.\n",
        "\n",
        "A instrução DROP destrói os objetos como um banco de dados, tabela, índice ou visão.\n",
        "\n",
        "Uma instrução DROP em SQL remove um componente de um sistema de gerenciamento de banco de dados relacional (RDBMS)."
      ],
      "metadata": {
        "id": "cYiLvkGu1cCv"
      }
    },
    {
      "cell_type": "markdown",
      "source": [
        "Sintaxe\n",
        "\n",
        "```\n",
        "DROP OBJECT [IF EXISTS] nome_objeto;\n",
        "```"
      ],
      "metadata": {
        "id": "SI1C9pJE1iDl"
      }
    },
    {
      "cell_type": "markdown",
      "source": [
        "```\n",
        "DROP TABLE [IF EXISTS] STUDENTS;\n",
        "\n",
        "DROP DATABASE [IF EXISTS] INFINITY;\n",
        "```"
      ],
      "metadata": {
        "id": "sR0jHaeW1ro9"
      }
    },
    {
      "cell_type": "markdown",
      "source": [
        "TRUNCATE\n",
        "A instrução TRUNCATE que é usada para remover os dados de uma tabela para fins de desalocação (vazia para reutilização).\n",
        "\n",
        "O resultado dessa operação remove rapidamente todos os dados de uma tabela, geralmente ignorando vários mecanismos de imposição de integridade.\n",
        "\n",
        "Foi introduzido oficialmente no SQL ANSI 2008.\n",
        "\n",
        "A instrução mytable TRUNCATE TABLE é logicamente (embora não fisicamente) equivalente à instrução DELETE FROM mytable (sem uma cláusula WHERE).\n",
        "\n",
        "Sintaxe\n",
        "\n",
        "```\n",
        "TRUNCATE TABLE nome_tabela;\n",
        "```\n",
        "EX:\n",
        "\n",
        "```\n",
        "TRUNCATE TABLE STUDENTS;\n",
        "```\n",
        "\n",
        "OBS : Após executar a consulta acima, a tabela STUDENTS será truncada, ou seja, os dados serão excluídos, mas a estrutura permanecerá na memória para operações posteriores"
      ],
      "metadata": {
        "id": "kv5w1Vxy1x7u"
      }
    },
    {
      "cell_type": "markdown",
      "source": [
        "####ALTER\n",
        "ALTER TABLE é usado para adicionar, excluir/descartar ou modificar colunas na tabela existente.\n",
        "\n",
        "Também é usado para adicionar e descartar várias restrições na tabela existente.\n",
        "\n",
        "####ADD\n",
        "ADD é usado para adicionar colunas à tabela existente.\n",
        "\n",
        "Às vezes precisamos realizar a adição de informações adicionais, nesse caso não precisamos criar todo o banco de dados novamente, o ADD vem em nosso socorro!\n",
        "\n",
        "Sintaxe\n",
        "\n",
        "```\n",
        "ALTER TABLE nome_tabela ADD (\n",
        "  nova_coluna1 tipo_dado(tamanho),\n",
        "  nova_coluna2 tipo_dado(tamanho),\n",
        ")\n",
        "```\n",
        "\n",
        "EX:\n",
        "\n",
        "```\n",
        "ALTER TABLE STUDENTS ADD(\n",
        "  PHONE VARCHAR(9),\n",
        "  COURSE VARCHAR(40)\n",
        ");\n",
        "```\n",
        "\n",
        "####DROP\n",
        "DROP COLUMN é usado para descartar colunas em uma tabela. Excluindo as colunas indesejadas da tabela.\n",
        "\n",
        "Sintaxe\n",
        "\n",
        "```\n",
        "ALTER TABLE nome_tabela DROP COLUMN nome_coluna;\n",
        "```\n",
        "\n",
        "EX:\n",
        "\n",
        "```\n",
        "ALTER TABLE STUDENTS DROP COLUMN COURSE;\n",
        "```\n",
        "\n",
        "####MODIFY\n",
        "Ele é usado para modificar as colunas existentes em uma tabela. Várias colunas também podem ser modificadas de uma só vez.\n",
        "\n",
        "Sintaxe\n",
        "\n",
        "```\n",
        "ALTER TABLE nome_tabela MODIFY nome_coluna tipo_coluna;\n",
        "```\n",
        "\n",
        "EX:\n",
        "\n",
        "```\n",
        "ALTER TABLE STUDENTS MODIFY PHONE VARCHAR(11);\n",
        "```"
      ],
      "metadata": {
        "id": "q6gr0Lkl2EpW"
      }
    },
    {
      "cell_type": "markdown",
      "source": [
        "####RENAME\n",
        "Às vezes, podemos querer renomear nossa tabela para dar um nome mais relevante.\n",
        "\n",
        "Para isso, podemos usar ALTER TABLE para renomear o nome da tabela.\n",
        "\n",
        "Sintaxe\n",
        "\n",
        "Para os SGBDs Oracle e MySQL\n",
        "\n",
        "```\n",
        "ALTER TABLE nome_tabela RENAME TO novo_nome_table;\n",
        "ALTER TABLE nome_tabela RENAME COLUMN nome_antigo TO nome_novo;\n",
        "```\n",
        "\n",
        "Para o SGBD - MariaDB\n",
        "\n",
        "```\n",
        "ALTER TABLE nome_tabela CHANGE nome_antigo nome_novo tipo_dado;\n",
        "```\n",
        "\n",
        "EX:\n",
        "\n",
        "```\n",
        "ALTER TABLE STUDENTS RENAME TO STUDENTS_DETAILS;\n",
        "ALTER TABLE STUDENTS RENAME COLUMN COURSE TO TI_COURSE;\n",
        "ALTER TABLE STUDENTS CHANGE COURSE TI_COURSE VARCHAR(40);\n",
        "```"
      ],
      "metadata": {
        "id": "N94KTAYE3BIJ"
      }
    }
  ]
}