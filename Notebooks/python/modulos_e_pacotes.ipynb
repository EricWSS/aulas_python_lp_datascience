{
  "nbformat": 4,
  "nbformat_minor": 0,
  "metadata": {
    "colab": {
      "provenance": []
    },
    "kernelspec": {
      "name": "python3",
      "display_name": "Python 3"
    },
    "language_info": {
      "name": "python"
    }
  },
  "cells": [
    {
      "cell_type": "markdown",
      "source": [
        "# Bem-vindo a aula de Módulos e Pacotes em *Python*\n",
        "\n",
        "Nessa aula veremos o que são módulos e pacotes, veremos como utilizar eles na nossa aplicação e faremos alguns exercícios sobre essas estruturas"
      ],
      "metadata": {
        "id": "Fn8Gabm23w-a"
      }
    },
    {
      "cell_type": "markdown",
      "source": [
        "###Por que utilizar módulos e pacotes?\n",
        "\n",
        "Bom, ao longo da construção dos nossos códigos veremos que teremos *scripts* maiores, com mais funções, mais regras de negócio. Dessa maneira, ao longo do tempo a legibilidade do nosso código vai ficando cada vez mais difícil e isso traz muitos problemas para nosso código, principalmente para a parte de manutenção.\n",
        "\n",
        "Dessa forma, se faz necessário construirmos um código cada vez mais dividido em diferentes arquivos **.py**, ou seja, ao invés de criarmos um arquivo com várias linhas de código, criaremos vários arquivos, onde cada um terá sua responsabilidade.\n",
        "\n",
        "Assim, acabamos de entender o primeiro conceito de **módulo**, ou seja, chamamos cada arquivo agora de módulo.\n",
        "\n",
        "E o pacote seria então o local onde esses módulos estão, ou seja o diretório."
      ],
      "metadata": {
        "id": "QvxfSzDI49d2"
      }
    },
    {
      "cell_type": "markdown",
      "source": [
        "![Captura de tela de 2023-08-31 20-35-24.png](data:image/png;base64,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)"
      ],
      "metadata": {
        "id": "jHKkJgyT7zQK"
      }
    },
    {
      "cell_type": "markdown",
      "source": [
        "Acima podemos ver um exemplo dessa divisão, o pacote chamado de **aula6**, possui outros dois pacotes **chamados funcoes_numeros** e **funcoes_texto**, e dentro deles existem os módulos, ou seja, os arquivos *Python*."
      ],
      "metadata": {
        "id": "99-WXZ6F89tF"
      }
    },
    {
      "cell_type": "markdown",
      "source": [
        "#### Certo e como fazemos utilizamos as funções de um arquivo dentro de outro?\n",
        "\n",
        "Nesse caso temos diferentes formas de importarmos os módulos, porém, primeiro vamos ver a parte de ambiente virtual em *Python*."
      ],
      "metadata": {
        "id": "stpzSNx69Vmv"
      }
    },
    {
      "cell_type": "markdown",
      "source": [
        "###O que é um ambiente virtual em *Python*?\n",
        "\n",
        "Bom, o *Python* possui o módulo venv que fornece suporte para criação de ambientes virtuais leves e isolados do sistema.\n",
        "\n",
        "Cada ambiente possui seu próprio binário *Python*.\n",
        "\n"
      ],
      "metadata": {
        "id": "vwP959HH9mPL"
      }
    },
    {
      "cell_type": "markdown",
      "source": [
        "### Por que utilizar ambientes virtuais?\n",
        "\n",
        "Bom o ambiente virtual em *Python* é essencial, principalmente por fornecer isolamento na questão de instalações."
      ],
      "metadata": {
        "id": "cpSFJHPP-yR7"
      }
    },
    {
      "cell_type": "markdown",
      "source": [
        "###Como criar um abiente virtual?\n",
        "\n",
        "Linux/MacOS\n",
        "```\n",
        "python3 -m venv .venv\n",
        "source .venv/bin/activate\n",
        "```\n",
        "\n",
        "Windows\n",
        "```\n",
        "python -m venv .venv\n",
        ".venv\\Scripts\\activate\n",
        "```"
      ],
      "metadata": {
        "id": "aoEG6GVU_H0n"
      }
    },
    {
      "cell_type": "markdown",
      "source": [
        "###ATENÇÃO:\n",
        "\n",
        "Em algumas máquinas windows não vamos conseguir ativar o nosso ambiente virtual.\n",
        "\n",
        "Para resolver basta executar o comando **Set-ExecutionPolicy -Scope Process -ExecutionPolicy Bypass**, porém vale ressaltar que essa solução só funciona para o terminal ao qual o comando foi executado, caso abra um novo terminal o erro irá acontecer novamente e será necessário executar novamente o comando."
      ],
      "metadata": {
        "id": "ZT_2-1m8Aykx"
      }
    },
    {
      "cell_type": "markdown",
      "source": [
        "Certo, agora que temos um abiente virtual, vamos fazer as instalações de algumas bibliotecas utilizando o gerenciador de pacote chamado *pip*.\n",
        "\n",
        "O *pip* é um sistema de gerenciamento de pacotes usado para instalar e gerenciar bibliotecas e pacotes de software em Python."
      ],
      "metadata": {
        "id": "8RZEuF2q_MGB"
      }
    },
    {
      "cell_type": "markdown",
      "source": [
        "Agora vamos instalar algo no nosso ambiente virtual\n",
        "\n",
        "```\n",
        "pip install <nome do que você deseja instalar>\n",
        "```"
      ],
      "metadata": {
        "id": "PuEeQWCJATt9"
      }
    },
    {
      "cell_type": "markdown",
      "source": [
        "###Certo, agora vamos verificar as maneiras que temos para importar\n",
        "\n",
        "- 1° Forma:\n",
        "    \n",
        "    ```\n",
        "    import <arquivo>\n",
        "    ```\n",
        "    **AVISO**: Se utilizarmos essa forma, mesmo que seja a mais prática, ela é a pior, já que quando usamos somente o import, estamos pedindo para que seja importado tudo aquilo que está dentro do módulo e muitas vezes vamos usar apenas funções específicas.\n",
        "\n",
        "- 2° Forma:\n",
        "  ```\n",
        "  from <arquivo> import <função>\n",
        "  ```\n",
        "  Para evitar importarmos todo o módulo, podemos pedir uma função espcífica, dessa maneira acima.\n",
        "\n",
        "- 3° Forma:\n",
        "  ```\n",
        "  from <arquivo> import (\n",
        "        <funcao 1>\n",
        "        <funcao 2>\n",
        "        )\n",
        "  ```\n",
        "  Dessa maneira podemos importar várias funções.\n",
        "\n",
        "- 4° Forma:\n",
        "  ```\n",
        "  from caracteres import *\n",
        "  ```\n",
        "  Dessa maneira estamos fazendo quase que a mesma coisa da primeira, estamos importando tudo do no nosso módulo, porém, agora, não necessidade de passarmos o nome do módulo para executar a função."
      ],
      "metadata": {
        "id": "OBfJf0t4Bvu5"
      }
    },
    {
      "cell_type": "markdown",
      "source": [
        "Além disso, podemos, também apelidar nossos módulos que estão sendo importados, por exemplo, quando importamos a biblioteca *Pandas*, é muito comum chamarmos ela de *pd*, da seguinte forma:\n",
        "\n",
        "```\n",
        "import pandas as pd\n",
        "```\n",
        "\n",
        "A palavra reservada *as* serve para informarmos o nome que queremos referenciar biblioteca."
      ],
      "metadata": {
        "id": "fFeWboIOEeJB"
      }
    },
    {
      "cell_type": "markdown",
      "source": [
        "###**Obs:**\n",
        "\n",
        "Se quisermos importar um arquivo *Python* que está em um outro diretório, devemos passar o caminho inteiro."
      ],
      "metadata": {
        "id": "QB0-OEfmTpzS"
      }
    },
    {
      "cell_type": "markdown",
      "source": [
        "###Atividade 1:\n",
        "\n",
        "Crie um diretório chamado de *calculo*, nesse diretório vai haver um arquivo chamado *somar.py*, você agora vai criar uma função somar nesse arquivo e vai chamar essa função no arquivo principal."
      ],
      "metadata": {
        "id": "jxKvIZIRVADq"
      }
    },
    {
      "cell_type": "markdown",
      "source": [
        "Agora, teremos outra observação, para evitar que os módulos sejam chamados diretamente pelo *Python* e executados, devemos inserir ao final de cada arquivo uma cláusula condicional utilizando os dunder objects *___name_ __* e o  *___main_ __*\n",
        "\n",
        "Nesse caso, essa cláusula verifica se o nome do arquivo é igual *___main_ __*, isso faz com que o *Python* execute apenas os arquivos que possuírem esse nome."
      ],
      "metadata": {
        "id": "rTyFTtNOWGGZ"
      }
    },
    {
      "cell_type": "markdown",
      "source": [
        "### Atividade 2:\n",
        "\n",
        "Crie um programa que será uma calculadora.\n",
        "\n",
        "Nesta calculadora você deverá ter um módulo para\n",
        "as operações matemáticas, o arquivo principal\n",
        "deverá conter apenas um menu de escolha para o\n",
        "usuário (soma, subtração, multiplicação, divisão e potência)."
      ],
      "metadata": {
        "id": "1_fDXrUxmZLL"
      }
    },
    {
      "cell_type": "markdown",
      "source": [
        "###Atividade 3:\n",
        "\n",
        "Crie um programa para textos.\n",
        "\n",
        "Você vai criar uma função para contar quantas letras tem em texto, uma função para verificar quantas vogais."
      ],
      "metadata": {
        "id": "5q4vXGJ8mljq"
      }
    },
    {
      "cell_type": "markdown",
      "source": [
        "###Atividade 4:\n",
        "\n",
        "Crie um programa para cadastro.\n",
        "\n",
        "Você vai criar uma função para cadastro de email, nome, cpf e número de telefone."
      ],
      "metadata": {
        "id": "afwXhaW-nyfp"
      }
    }
  ]
}