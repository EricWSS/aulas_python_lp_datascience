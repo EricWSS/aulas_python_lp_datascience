{
  "nbformat": 4,
  "nbformat_minor": 0,
  "metadata": {
    "colab": {
      "provenance": []
    },
    "kernelspec": {
      "name": "python3",
      "display_name": "Python 3"
    },
    "language_info": {
      "name": "python"
    }
  },
  "cells": [
    {
      "cell_type": "markdown",
      "source": [
        "# Bem-vindo(a) a aula 4 do módulo de Python\n",
        "\n",
        "## Nessa aula veremos funções em Python, veremos a definição de funções, a funcionalidade e entre outras coisas\n",
        "\n",
        "## Essa aula será dividida em duas partes."
      ],
      "metadata": {
        "id": "3xKO_NIqGXbh"
      }
    },
    {
      "cell_type": "markdown",
      "source": [
        "### Definição\n",
        "\n",
        "Funções são bloco de código que possuem funcionalidades específicas, normalmente, as funções são usadas para que não haja repetição em determinadas partes do seu código."
      ],
      "metadata": {
        "id": "m2_oGB7trvKA"
      }
    },
    {
      "cell_type": "markdown",
      "source": [
        "Quando iniciamos os estudos na linguagem *Python* chegamos a ver algumas funções, foram elas, *print*, *type*, *input*, todas eram funções, porém, como vimos, elas são funções *builtin* do *Python*"
      ],
      "metadata": {
        "id": "j3HZZn65sNpA"
      }
    },
    {
      "cell_type": "markdown",
      "source": [
        "Certo, então vamos criar nossa primeira função......\n",
        "\n",
        "\n",
        "Por padrão, quando criamos uma função passamos primeiro a palavra reservada **def**"
      ],
      "metadata": {
        "id": "R50pzu0StB8G"
      }
    },
    {
      "cell_type": "code",
      "source": [
        "def saudacao():\n",
        "  print('Hello World')"
      ],
      "metadata": {
        "id": "ste2EMYNt6yC"
      },
      "execution_count": null,
      "outputs": []
    },
    {
      "cell_type": "markdown",
      "source": [
        "Mas perceba, nada será executado no nosso terminal, mesmo com o comando *print()*, isso acontece porque a função só será executada quando ela for chamada ao longo do código."
      ],
      "metadata": {
        "id": "XnANyKRmuWvI"
      }
    },
    {
      "cell_type": "code",
      "source": [
        "saudacao()\n",
        "saudacao()\n",
        "saudacao()\n",
        "saudacao()\n",
        "saudacao()\n",
        "saudacao()"
      ],
      "metadata": {
        "colab": {
          "base_uri": "https://localhost:8080/"
        },
        "id": "BPpgAzBnum_S",
        "outputId": "b055ed5a-c1e3-457d-a629-1ac7a9a57e02"
      },
      "execution_count": null,
      "outputs": [
        {
          "output_type": "stream",
          "name": "stdout",
          "text": [
            "Hello World\n",
            "Hello World\n",
            "Hello World\n",
            "Hello World\n",
            "Hello World\n",
            "Hello World\n"
          ]
        }
      ]
    },
    {
      "cell_type": "markdown",
      "source": [
        "Agora, sempre que chamarmos *saudacao()*, aparecerá na nossa tela o *Hello Wolrd*\n",
        "\n",
        "Assim, criamos nossa primeira função, lembre-se você pode escolher qualquer nome para funções, porém, não podemos usar funções já existentes em *Python*"
      ],
      "metadata": {
        "id": "BPIKCOY9uoKU"
      }
    },
    {
      "cell_type": "markdown",
      "source": [
        "## Parâmetros"
      ],
      "metadata": {
        "id": "3eJapzYvu1d8"
      }
    },
    {
      "cell_type": "markdown",
      "source": [
        "Primeiramente, devemos saber que funções podem receber valores.\n",
        "\n",
        "Esses valores são conhecidos na programação como parâmetros, esses parâmetros vão receber valores em algum momento.\n",
        "\n",
        "Vimos essas funções com parâmetros ao longos das últimas aulas, como por exemplo a função *update* em conjuntos, *pop* em listas e entre outras.\n",
        "\n",
        "Essas funções recebiam os chamados paramêtros."
      ],
      "metadata": {
        "id": "jZPwJFgjxV9H"
      }
    },
    {
      "cell_type": "code",
      "source": [
        "def imprimir_nome(nome):\n",
        "  print(f'Olá {nome}')"
      ],
      "metadata": {
        "id": "9QzjmlPh3alp"
      },
      "execution_count": null,
      "outputs": []
    },
    {
      "cell_type": "code",
      "source": [
        "# Agora, ao chamarmos nossa função, vamos precisar passar algum parâmetro, que nesse caso, seria um nome\n",
        "imprimir_nome('Felipe')"
      ],
      "metadata": {
        "colab": {
          "base_uri": "https://localhost:8080/"
        },
        "id": "QOSGP3Ad4nqG",
        "outputId": "7348b85b-b8a1-4e0a-9b20-3c46c894df39"
      },
      "execution_count": null,
      "outputs": [
        {
          "output_type": "stream",
          "name": "stdout",
          "text": [
            "Olá Felipe\n"
          ]
        }
      ]
    },
    {
      "cell_type": "code",
      "source": [
        "# Dessa maneira, nosso usuário pode passar o nome que quiser a partir de agora\n",
        "nome = input('Digite seu nome: ')\n",
        "imprimir_nome(nome)"
      ],
      "metadata": {
        "colab": {
          "base_uri": "https://localhost:8080/"
        },
        "id": "dRL4YixC41VN",
        "outputId": "9c07e76d-79cc-4de2-8464-61f1c042ed9e"
      },
      "execution_count": null,
      "outputs": [
        {
          "output_type": "stream",
          "name": "stdout",
          "text": [
            "Digite seu nome: felipe\n",
            "Olá felipe\n"
          ]
        }
      ]
    },
    {
      "cell_type": "markdown",
      "source": [
        "Ou seja, podemos criar funções com diversos argumentos diferentes.\n",
        "\n",
        "Vamos ver mais exemplos de funções"
      ],
      "metadata": {
        "id": "bWQnx1Eu48CN"
      }
    },
    {
      "cell_type": "code",
      "source": [
        "def imprimir_nome_escola(nome, escola, turma):\n",
        "  print(f'Olá {nome} da {escola} e turma {turma}')\n",
        "\n",
        "imprimir_nome_escola(nome='Felipe', escola='Infinity', turma=718)"
      ],
      "metadata": {
        "colab": {
          "base_uri": "https://localhost:8080/"
        },
        "id": "Snk_3Vvc8gIP",
        "outputId": "e7dd701e-d3cb-4984-eba9-bc758a689dc8"
      },
      "execution_count": null,
      "outputs": [
        {
          "output_type": "stream",
          "name": "stdout",
          "text": [
            "Olá Felipe da Infinity e turma 718\n"
          ]
        }
      ]
    },
    {
      "cell_type": "markdown",
      "source": [
        "![Captura de tela de 2023-08-18 15-42-27.png](data:image/png;base64,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)"
      ],
      "metadata": {
        "id": "aBwPGG-w9Vqc"
      }
    },
    {
      "cell_type": "markdown",
      "source": [
        "Perceba acima que nossa IDE já informa que a nossa função possui 3 parâmetros e que precisamos nesse caso passar 3 argumentos.\n",
        "\n",
        "Os argumentos nesse caso, são os valores do parâmetros"
      ],
      "metadata": {
        "id": "wcnxo3rv9YqZ"
      }
    },
    {
      "cell_type": "markdown",
      "source": [
        "Com isso que aprendemos, vamos fazer alguma questões"
      ],
      "metadata": {
        "id": "hOfE-rRW9naA"
      }
    },
    {
      "cell_type": "markdown",
      "source": [
        "- 1° Faça 4 funções, uma função para somar dois números, outra para subtrair, outra de multiplicar e a última para dividir."
      ],
      "metadata": {
        "id": "zXxfHjz9-FdC"
      }
    },
    {
      "cell_type": "code",
      "source": [
        "# Soma\n",
        "def soma(x, y):\n",
        "  print(x + y)\n",
        "\n",
        "# Subtração\n",
        "def sub(x, y):\n",
        "  print(x - y)\n",
        "\n",
        "# Multiplicação\n",
        "def mult(x, y):\n",
        "  print(x * y)\n",
        "\n",
        "# Divisão\n",
        "def divi(x, y):\n",
        "  print(x / y)\n",
        "\n",
        "\n",
        "soma(2, 4)\n",
        "sub(10, 2)\n",
        "mult(10, 10)\n",
        "divi(100, 10)"
      ],
      "metadata": {
        "colab": {
          "base_uri": "https://localhost:8080/"
        },
        "id": "2Ae8QnBh-Xg4",
        "outputId": "97ad2a54-2561-42db-be8f-767ae822de69"
      },
      "execution_count": null,
      "outputs": [
        {
          "output_type": "stream",
          "name": "stdout",
          "text": [
            "6\n",
            "8\n",
            "100\n",
            "10.0\n"
          ]
        }
      ]
    },
    {
      "cell_type": "markdown",
      "source": [
        "### DocStrings(PEP 257)\n",
        "\n",
        "https://peps.python.org/pep-0257/\n",
        "\n",
        "Nas primeiras aulas vimos que o *Python* possui dois tipos de comentários, mas agora veremos uma nova funcionalidade para os comentários em *Python* que são as documentações.\n",
        "\n",
        "Agora vamos ver como criar essas DocStrings"
      ],
      "metadata": {
        "id": "sXJ8zW-C-tgU"
      }
    },
    {
      "cell_type": "code",
      "source": [
        "def saudacao(nome):\n",
        "  '''\n",
        "    Essa função serve para fazermos uma saudação diferenciada para o usuário\n",
        "  '''\n",
        "  print(f'Olá {nome}, Bem-vindo')"
      ],
      "metadata": {
        "id": "RqvwsBTA-jOu"
      },
      "execution_count": null,
      "outputs": []
    },
    {
      "cell_type": "markdown",
      "source": [
        "Agora vamos chamar a documentação da função"
      ],
      "metadata": {
        "id": "SXS-NaHDAC6L"
      }
    },
    {
      "cell_type": "code",
      "source": [
        "print(saudacao.__doc__)"
      ],
      "metadata": {
        "colab": {
          "base_uri": "https://localhost:8080/"
        },
        "id": "ee3Ef7pEAS3_",
        "outputId": "96f0b7fc-a72d-4f4b-ad59-fddb54f7f94a"
      },
      "execution_count": null,
      "outputs": [
        {
          "output_type": "stream",
          "name": "stdout",
          "text": [
            "\n",
            "    Essa função serve para fazermos uma saudação diferenciada para o usuário\n",
            "  \n"
          ]
        }
      ]
    },
    {
      "cell_type": "markdown",
      "source": [
        "Nesse sentido, a documentação é super importante quando estamos fazendo nossos códigos, porém, não devemos usar elas sempre, apenas em casos de funções e classes(que veremos mais pra frente)."
      ],
      "metadata": {
        "id": "Opzj5HqLAX8r"
      }
    },
    {
      "cell_type": "markdown",
      "source": [
        "Agora para a 2° Questão vamos criar documentações para nossas funções feitas na 1° Questão"
      ],
      "metadata": {
        "id": "V8f1TWF8CSLb"
      }
    },
    {
      "cell_type": "code",
      "source": [
        "# Soma\n",
        "def soma(x, y):\n",
        "  '''Função para somar dois números'''\n",
        "  print(x + y)\n",
        "\n",
        "# Subtração\n",
        "def sub(x, y):\n",
        "  '''Função para subtrair dois números'''\n",
        "  print(x - y)\n",
        "\n",
        "# Multiplicação\n",
        "def mult(x, y):\n",
        "  '''Função para multiplicar dois números'''\n",
        "  print(x * y)\n",
        "\n",
        "# Divisão\n",
        "def divi(x, y):\n",
        "  '''Função para dividir dois números'''\n",
        "  print(x / y)\n",
        "\n",
        "\n",
        "soma(2, 4)\n",
        "sub(10, 2)\n",
        "mult(10, 10)\n",
        "divi(100, 10)"
      ],
      "metadata": {
        "id": "otYSJHkEDQcH"
      },
      "execution_count": null,
      "outputs": []
    },
    {
      "cell_type": "markdown",
      "source": [
        "### Agora vamos ver algumas observações sobre funções\n",
        "\n",
        "É fora do padrão de funções termos entrada e saída de códigos, ou seja, por padrão, não utilizaremos a função *print()* e nem a função *input()*, dessa forma, para executarmos um texto ou algo do tipo vamos usar a palavra reservada *return*.\n",
        "\n",
        "A segunda observação é que todas a funções retornam por padrão o *None*, que seria algo como sem valor\n",
        "\n",
        "Então, vamos refazer nossas funções"
      ],
      "metadata": {
        "id": "1pHMIGdCD5XL"
      }
    },
    {
      "cell_type": "code",
      "source": [
        "# Soma\n",
        "def soma(x, y):\n",
        "  '''Função para somar dois números'''\n",
        "  return x + y\n",
        "\n",
        "# Subtração\n",
        "def sub(x, y):\n",
        "  '''Função para subtrair dois números'''\n",
        "  return x - y\n",
        "\n",
        "# Multiplicação\n",
        "def mult(x, y):\n",
        "  '''Função para multiplicar dois números'''\n",
        "  return x * y\n",
        "\n",
        "# Divisão\n",
        "def divi(x, y):\n",
        "  '''Função para dividir dois números'''\n",
        "  return x / y"
      ],
      "metadata": {
        "id": "MuGCfCTzH0XS"
      },
      "execution_count": 1,
      "outputs": []
    },
    {
      "cell_type": "markdown",
      "source": [
        "Agora, usamos a função *print()* fora da função"
      ],
      "metadata": {
        "id": "UeJJsuJNewt0"
      }
    },
    {
      "cell_type": "code",
      "source": [
        "print(soma(10, 5))"
      ],
      "metadata": {
        "colab": {
          "base_uri": "https://localhost:8080/"
        },
        "id": "_Td3KgH4e2aj",
        "outputId": "9e34e3eb-3429-4a01-dcbb-d3d3d89c5ca4"
      },
      "execution_count": 2,
      "outputs": [
        {
          "output_type": "stream",
          "name": "stdout",
          "text": [
            "15\n"
          ]
        }
      ]
    },
    {
      "cell_type": "markdown",
      "source": [
        "### Parâmetros nomeados\n",
        "\n",
        "Agora vamos ver os parâmetros nomeados em *Python()*, podemos criar valores padrões para os parmêtros, como por exemplo:"
      ],
      "metadata": {
        "id": "V3FgHdUwe5oU"
      }
    },
    {
      "cell_type": "code",
      "source": [
        "def flor(flor='Rosa', cor='Vermelha'):\n",
        "  return f'O tipo da flor é {flor} e sua cor é {cor}'\n",
        "\n",
        "print(flor())"
      ],
      "metadata": {
        "colab": {
          "base_uri": "https://localhost:8080/"
        },
        "id": "hb9qhzZehuYU",
        "outputId": "db8aed2c-d059-4738-c9b3-03ec67b81ad1"
      },
      "execution_count": 3,
      "outputs": [
        {
          "output_type": "stream",
          "name": "stdout",
          "text": [
            "O tipo da flor é Rosa e sua cor é Vermelha\n"
          ]
        }
      ]
    },
    {
      "cell_type": "markdown",
      "source": [
        "Perceba que agora não somos mais obrigados a passar os argumentos para os parâmetros, fica a nossa escolha."
      ],
      "metadata": {
        "id": "OuFD68hpiJZC"
      }
    },
    {
      "cell_type": "markdown",
      "source": [
        "## *Type Hints*\n",
        "\n",
        "Agora vamos aprender sobre *type hints*\n",
        "\n",
        "Como vimos, não precisamos tipar variáveis em *Python*, por padrão a linguagem já entende, porém, isso leva tempo e pode ocasionar erros, por tanto a linguagem adicionou os *type hints* que será necessário para tiparmos as nossas variáveis, ou seja, vamos informar qual o tipo aquela variável pode aceitar.\n",
        "\n"
      ],
      "metadata": {
        "id": "8Da2E3g4iapi"
      }
    },
    {
      "cell_type": "markdown",
      "source": [
        "Agora vamos ver alguns exemplos, vamos criar uma função para cadastrar usuários."
      ],
      "metadata": {
        "id": "F0ExYGzFjdg1"
      }
    },
    {
      "cell_type": "code",
      "source": [
        "def cadastrar(nome: str, idade: int) -> None:\n",
        "  ''' Função para cadastrar usuários'''\n",
        "  return f'Parabéns pelo cadastro {nome} com a idade {idade}'"
      ],
      "metadata": {
        "id": "X5V4R1dbjpDq"
      },
      "execution_count": 4,
      "outputs": []
    },
    {
      "cell_type": "code",
      "source": [
        "print(cadastrar('Felipe', 22))"
      ],
      "metadata": {
        "colab": {
          "base_uri": "https://localhost:8080/"
        },
        "id": "-v_jpN_vj-qW",
        "outputId": "3560b289-bf03-4b6d-fbe3-5e99bb6f0352"
      },
      "execution_count": 6,
      "outputs": [
        {
          "output_type": "stream",
          "name": "stdout",
          "text": [
            "Parabéns pelo cadastro Felipe com a idade 22\n"
          ]
        }
      ]
    },
    {
      "cell_type": "markdown",
      "source": [
        "Agora, vamos fazer algumas questões:"
      ],
      "metadata": {
        "id": "g1165-vkkBTO"
      }
    },
    {
      "cell_type": "markdown",
      "source": [
        "- 1° Crie uma função para calcular o IMC de 4 pessoas. Em seguida crie um programa\n",
        "que peça o peso e a altura de uma pessoa e implemente a função em seu\n",
        "programa.\n",
        "Atenção:\n",
        "Use as seguintes estruturas:\n",
        "laço de repetição.\n",
        "listas\n",
        "IMC = peso / altura ** 2"
      ],
      "metadata": {
        "id": "A2VAyKu0kRT1"
      }
    }
  ]
}