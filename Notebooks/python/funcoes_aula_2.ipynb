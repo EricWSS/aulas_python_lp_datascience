{
  "nbformat": 4,
  "nbformat_minor": 0,
  "metadata": {
    "colab": {
      "provenance": []
    },
    "kernelspec": {
      "name": "python3",
      "display_name": "Python 3"
    },
    "language_info": {
      "name": "python"
    }
  },
  "cells": [
    {
      "cell_type": "markdown",
      "source": [
        "# Bem-vindo(a) a segunda aula funções em Python\n",
        "\n",
        "### Tópicos da nossa segunda aula:\n",
        "\n",
        "- Revisão de funções\n",
        "- Faremos alguns exercícios sobre funções\n",
        "- Veremos os parâmetros ***args e ***kwargs\n",
        "- Veremos funções *lambda*\n",
        "- E para finalizarmos, veremos o real uso das funções *lambda*"
      ],
      "metadata": {
        "id": "8mHTMwDS2XGl"
      }
    },
    {
      "cell_type": "markdown",
      "source": [
        "### Revisão\n",
        "\n",
        "Como vimos na última aula as funções são um bloco de código que podem ser chamadas em qualquer parte do nosso código, ela possui uma grande utilidade para não ficarmos repetindo códigos dentro do nosso *script*.\n",
        "\n",
        "Vimos que as funções podem ter nenhum ou vários parâmetros e vimos também que ela pode ou não possuir retorno.\n",
        "\n",
        "**OBS:**\n",
        "\n",
        "Existem funções em todas as linguagens de programação."
      ],
      "metadata": {
        "id": "oVq42yE-3jVO"
      }
    },
    {
      "cell_type": "markdown",
      "source": [
        "Dessa maneira, vamos relembrar as funções na prática, vamos fazer uma função para verificar qual palavra ou texto é maior."
      ],
      "metadata": {
        "id": "zL2GJ1Af5LO6"
      }
    },
    {
      "cell_type": "code",
      "source": [
        "def maior_palavra(text1: str, text2: str) -> str:\n",
        "  if len(text1) > len(text2):\n",
        "    return f'O primeiro texto: {text1} \\né o maior'\n",
        "\n",
        "texto1 = 'Olá mundo'\n",
        "texto2 = 'Olá'\n",
        "\n",
        "print(maior_palavra(texto1, texto2))"
      ],
      "metadata": {
        "colab": {
          "base_uri": "https://localhost:8080/"
        },
        "id": "MTI-nWtg5XYm",
        "outputId": "099fcb40-7de3-4176-b480-e3d5bab0e054"
      },
      "execution_count": null,
      "outputs": [
        {
          "output_type": "stream",
          "name": "stdout",
          "text": [
            "O primeiro texto: Olá mundo \n",
            "é o maior\n"
          ]
        }
      ]
    },
    {
      "cell_type": "markdown",
      "source": [
        "Certo, mas e se nesse caso, o texto do segundo parâmetro fosse o maior?\n",
        "\n",
        "Nesse caso, passaríamos outro return, porém, esse return precisa estar no bloco do *else*"
      ],
      "metadata": {
        "id": "CmdT08Vp6OfO"
      }
    },
    {
      "cell_type": "code",
      "source": [
        "def maior_palavra(text1: str, text2: str) -> str:\n",
        "  if len(text1) > len(text2):\n",
        "    return f'O primeiro texto: {text1} \\né o maior'\n",
        "  else:\n",
        "    return f'O primeiro texto: {text2} \\né o maior'\n",
        "\n",
        "texto1 = 'Olá mundo'\n",
        "texto2 = 'Olá Mundo Python'\n",
        "\n",
        "print(maior_palavra(texto1, texto2))"
      ],
      "metadata": {
        "colab": {
          "base_uri": "https://localhost:8080/"
        },
        "id": "Hp5rp7Bw69lO",
        "outputId": "a147cb3d-1cf9-40b0-a340-e6fe0f0d101f"
      },
      "execution_count": null,
      "outputs": [
        {
          "output_type": "stream",
          "name": "stdout",
          "text": [
            "O primeiro texto: Olá Mundo Python \n",
            "é o maior\n"
          ]
        }
      ]
    },
    {
      "cell_type": "markdown",
      "source": [
        "Certo, mas como já vimos, sempre podemos diminuir o nosso código, principalmente em *Python*, nesse caso, nem precisamos do *else*, poderíamos passar nosso código da seguinte maneira:"
      ],
      "metadata": {
        "id": "ubdQt2p37N_p"
      }
    },
    {
      "cell_type": "code",
      "source": [
        "def maior_palavra(text1: str, text2: str) -> str:\n",
        "  if len(text1) > len(text2):\n",
        "    return f'O primeiro texto: {text1} \\né o maior'\n",
        "  return f'O segundo texto: {text2} \\né o maior'\n",
        "\n",
        "texto1 = 'Olá mundo'\n",
        "texto2 = 'Olá Mundo Python'\n",
        "\n",
        "print(maior_palavra(texto1, texto2))"
      ],
      "metadata": {
        "colab": {
          "base_uri": "https://localhost:8080/"
        },
        "id": "iPiz8mp37e8s",
        "outputId": "846678cf-9c1b-4107-8321-4a3c7bbc04ef"
      },
      "execution_count": null,
      "outputs": [
        {
          "output_type": "stream",
          "name": "stdout",
          "text": [
            "O segundo texto: Olá Mundo Python \n",
            "é o maior\n"
          ]
        }
      ]
    },
    {
      "cell_type": "markdown",
      "source": [
        "Nesse caso, como o primeiro *return* que a função encontrar a função irá parar, se a condicional *if* estiver como **False**, o *return* dentro dela nunca irá ser executado, logo, será executado o segundo *return*, logo abaixo."
      ],
      "metadata": {
        "id": "OplvEDQr7h3i"
      }
    },
    {
      "cell_type": "markdown",
      "source": [
        "Sendo assim, vamos ver mais um exemplo, vamos criar uma função para verificarmos qual número é maior."
      ],
      "metadata": {
        "id": "XAbE_oMN793i"
      }
    },
    {
      "cell_type": "code",
      "source": [
        "def verify_number(num1: int, num2: int) -> str:\n",
        "  if num1 > num2:\n",
        "    return f'O primeiro parâmetro passado ({num1}) é o maior'\n",
        "  return f'O segundo parâmetro passado ({num2}) é o maior'\n",
        "\n",
        "print(verify_number(10, 20))\n",
        "print(verify_number(300, 200))"
      ],
      "metadata": {
        "colab": {
          "base_uri": "https://localhost:8080/"
        },
        "id": "g0F2vYSB8nxq",
        "outputId": "547d71c9-fea8-4609-b8c7-fa624f35aecd"
      },
      "execution_count": null,
      "outputs": [
        {
          "output_type": "stream",
          "name": "stdout",
          "text": [
            "O segundo parâmetro passado (20) é o maior\n",
            "O primeiro parâmetro passado (300) é o maior\n"
          ]
        }
      ]
    },
    {
      "cell_type": "markdown",
      "source": [
        "### Agora que revimos como são as funções, vamos fazer alguns exercícios\n",
        "1 - Crie uma função que inverte uma string e a retorna de trás para frente.\n",
        "\n",
        "2 - Crie uma função que recebe uma lista de palavras e retorna a palavra mais longa\n",
        "encontrada.\n",
        "\n",
        "3 - Escreva uma função chamada media_numeros que recebe uma lista de números e retorna a média deles.\n"
      ],
      "metadata": {
        "id": "t4CJNFxZ9Enu"
      }
    },
    {
      "cell_type": "code",
      "source": [
        "# Questão 1\n",
        "def revert(text: str) -> str:\n",
        "  '''Função para reverter uma string'''\n",
        "  return text[::-1]\n",
        "\n",
        "print(revert('Olá'))"
      ],
      "metadata": {
        "colab": {
          "base_uri": "https://localhost:8080/"
        },
        "id": "gRY_psdE9jOi",
        "outputId": "a578998c-9970-433d-f67d-d117769ab616"
      },
      "execution_count": null,
      "outputs": [
        {
          "output_type": "stream",
          "name": "stdout",
          "text": [
            "álO\n"
          ]
        }
      ]
    },
    {
      "cell_type": "code",
      "source": [
        "# Questão 2\n",
        "def media_numeros(numeros: list) -> float:\n",
        "    total = sum(numeros)\n",
        "    media = total / len(numeros)\n",
        "    return media\n",
        "\n",
        "numeros = [10, 20, 30, 40, 50]\n",
        "media = media_numeros(numeros)\n",
        "print(f'A média dos números é: {media}')"
      ],
      "metadata": {
        "colab": {
          "base_uri": "https://localhost:8080/"
        },
        "id": "dK1WdLdN9upE",
        "outputId": "af5e2fd3-1441-4586-fbe9-27a620f6ee9a"
      },
      "execution_count": null,
      "outputs": [
        {
          "output_type": "stream",
          "name": "stdout",
          "text": [
            "A média dos números é: 30.0\n"
          ]
        }
      ]
    },
    {
      "cell_type": "markdown",
      "source": [
        "Antes de passarmos para terceira questão, vamos ver um jeito mais fácil de criarmos listas numericas.\n",
        "\n",
        "Bom, primeiro temos o famoso *list comprehension*, que no caso é uma lista comprimida através de um *for*"
      ],
      "metadata": {
        "id": "T0z5Cts5-2pr"
      }
    },
    {
      "cell_type": "code",
      "source": [
        "lista = [num for num in range(1, 11)]\n",
        "print(lista)"
      ],
      "metadata": {
        "colab": {
          "base_uri": "https://localhost:8080/"
        },
        "id": "DXdsisWJ_OvE",
        "outputId": "c9bf7799-e83f-48e7-e2a8-71325dd78f58"
      },
      "execution_count": null,
      "outputs": [
        {
          "output_type": "stream",
          "name": "stdout",
          "text": [
            "[1, 2, 3, 4, 5, 6, 7, 8, 9, 10]\n"
          ]
        }
      ]
    },
    {
      "cell_type": "markdown",
      "source": [
        "Porém, temom uma forma mais simples de criarmos listas em *Python*, podemos apenas passar o comando *range()*."
      ],
      "metadata": {
        "id": "s9bwq4CD_plI"
      }
    },
    {
      "cell_type": "code",
      "source": [
        "lista2 = [*range(1, 21)]\n",
        "print(lista2)"
      ],
      "metadata": {
        "colab": {
          "base_uri": "https://localhost:8080/"
        },
        "id": "NykP4vxB_0pE",
        "outputId": "0da0176d-af8f-4303-febb-35cc447f6502"
      },
      "execution_count": null,
      "outputs": [
        {
          "output_type": "stream",
          "name": "stdout",
          "text": [
            "[1, 2, 3, 4, 5, 6, 7, 8, 9, 10, 11, 12, 13, 14, 15, 16, 17, 18, 19, 20]\n"
          ]
        }
      ]
    },
    {
      "cell_type": "code",
      "source": [
        "def test(*args):\n",
        "  return args\n",
        "\n",
        "print(test(lista2))"
      ],
      "metadata": {
        "colab": {
          "base_uri": "https://localhost:8080/"
        },
        "id": "QyrtKHkR_33-",
        "outputId": "f649741a-114a-4049-f6d9-a159ecb9b8cc"
      },
      "execution_count": null,
      "outputs": [
        {
          "output_type": "stream",
          "name": "stdout",
          "text": [
            "([1, 2, 3, 4, 5, 6, 7, 8, 9, 10, 11, 12, 13, 14, 15, 16, 17, 18, 19, 20],)\n"
          ]
        }
      ]
    },
    {
      "cell_type": "markdown",
      "source": [
        "### Agora vamos ver ***args e ***kwargs\n",
        "\n",
        "Os parâmetros args e kwargs são muito úteis para quando queremos ou precisamos definir parâmetros com maior flexibilidade quem possam lidar com diferentes números e tipos de argumentos. Nesse caso, vamos entender melhor sobre o *args."
      ],
      "metadata": {
        "id": "68T0m88aA4O6"
      }
    },
    {
      "cell_type": "markdown",
      "source": [
        "\n",
        "###*args"
      ],
      "metadata": {
        "id": "KoeLF9T0DwO6"
      }
    },
    {
      "cell_type": "markdown",
      "source": [
        "O parâmetro args permite que uma função possua um número ilimitado de argumentos. O * indica que todos os argumentos estarão empacotados em uma Tupla, que terá o nome de args. Desse modo, nós podemos iterar sobre os elementos dessa tupla."
      ],
      "metadata": {
        "id": "lXBGjbUjIHva"
      }
    },
    {
      "cell_type": "code",
      "source": [
        "def my_function(*args):\n",
        "  for argumento in args:\n",
        "    print(argumento)\n",
        "\n",
        "print(my_function('Felipe', 'Davi', 'Renan', 'Pedro'))"
      ],
      "metadata": {
        "id": "Gm5KLPvVIwTB",
        "colab": {
          "base_uri": "https://localhost:8080/"
        },
        "outputId": "b27d8567-2440-4723-ba4b-e1f9257d3861"
      },
      "execution_count": null,
      "outputs": [
        {
          "output_type": "stream",
          "name": "stdout",
          "text": [
            "Felipe\n",
            "Davi\n",
            "Renan\n",
            "Pedro\n",
            "None\n"
          ]
        }
      ]
    },
    {
      "cell_type": "markdown",
      "source": [
        "###**kwargs\n",
        "\n",
        "Já o parâmetro **kwargs permite que uma função receba um número variável de de argumentos também, mas nesse caso vamos trabalhar com argumentos nomeados, que podemos entender como chave e valor, ou seja, trabalharemos mais com dicionários."
      ],
      "metadata": {
        "id": "-XtmtTivIzwi"
      }
    },
    {
      "cell_type": "code",
      "source": [
        "def minha_funcao(**kwargs):\n",
        "  for chave, valor in kwargs.items():\n",
        "    print(f'{chave} ------ {valor}')\n",
        "\n",
        "print(minha_funcao(a=22, b=33, c=44))"
      ],
      "metadata": {
        "id": "x5MasWoHJTIX",
        "colab": {
          "base_uri": "https://localhost:8080/"
        },
        "outputId": "72d97885-9850-46e7-e0ba-4dad27e098e3"
      },
      "execution_count": null,
      "outputs": [
        {
          "output_type": "stream",
          "name": "stdout",
          "text": [
            "a ------ 22\n",
            "b ------ 33\n",
            "c ------ 44\n",
            "None\n"
          ]
        }
      ]
    },
    {
      "cell_type": "code",
      "source": [],
      "metadata": {
        "id": "S8DRuHdEnF4v"
      },
      "execution_count": null,
      "outputs": []
    }
  ]
}