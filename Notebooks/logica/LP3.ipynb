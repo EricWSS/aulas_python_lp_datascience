{
  "nbformat": 4,
  "nbformat_minor": 0,
  "metadata": {
    "colab": {
      "provenance": []
    },
    "kernelspec": {
      "name": "python3",
      "display_name": "Python 3"
    },
    "language_info": {
      "name": "python"
    }
  },
  "cells": [
    {
      "cell_type": "markdown",
      "source": [
        "# Bem-vindo(a) a aula 3 de lógica de programação em *Python*\n",
        "\n",
        "Nessa aula veremos a nossa primeira estrutura de repetição, que nesse caso é o *for*"
      ],
      "metadata": {
        "id": "X0yfki9b-g7J"
      }
    },
    {
      "cell_type": "markdown",
      "source": [
        "Tópicos da aula:\n",
        "\n",
        "- Revisão dos assuntos da última aula\n",
        "\n",
        "- Estrutura de repetição\n",
        "\n",
        "- Laço *for*\n",
        "\n",
        "- Percorrendo coleções com *for*\n",
        "\n",
        "- Laço *for* e a função *range()*"
      ],
      "metadata": {
        "id": "D-RonzajxEic"
      }
    },
    {
      "cell_type": "markdown",
      "source": [
        "### Antes de começarmos a nossa aula sobre o *for*, vamos fazer uma breve revisão sobre o que vimos na última aula."
      ],
      "metadata": {
        "id": "Hdfc11A6xsd4"
      }
    },
    {
      "cell_type": "markdown",
      "source": [
        "Na última aula vimos as condicionais, *if*, vimos alguns modos que podemos utilizar ela e fizemos algumas questões.\n",
        "\n",
        "```\n",
        "if\n",
        "elif\n",
        "else\n",
        "```\n",
        "\n",
        "Nesse sentindo, vamos fazer algumas questões para relembrarmos esse assunto."
      ],
      "metadata": {
        "id": "b2T0ZJIIykKr"
      }
    },
    {
      "cell_type": "markdown",
      "source": [
        "1° Questão\n",
        "\n",
        "Faça um Programa que leia três números e mostre-os em ordem decrescente."
      ],
      "metadata": {
        "id": "dmg-0csEzCV3"
      }
    },
    {
      "cell_type": "code",
      "source": [
        "num1 = float(input(\"Digite o primeiro número: \"))\n",
        "num2 = float(input(\"Digite o segundo número: \"))\n",
        "num3 = float(input(\"Digite o terceiro número: \"))\n",
        "\n",
        "if num1 >= num2 and num1 >= num3:\n",
        "    maior = num1\n",
        "    if num2 >= num3:\n",
        "        meio = num2\n",
        "        menor = num3\n",
        "    else:\n",
        "        meio = num3\n",
        "        menor = num2\n",
        "elif num2 >= num1 and num2 >= num3:\n",
        "    maior = num2\n",
        "    if num1 >= num3:\n",
        "        meio = num1\n",
        "        menor = num3\n",
        "    else:\n",
        "        meio = num3\n",
        "        menor = num1\n",
        "else:\n",
        "    maior = num3\n",
        "    if num1 >= num2:\n",
        "        meio = num1\n",
        "        menor = num2\n",
        "    else:\n",
        "        meio = num2\n",
        "        menor = num1\n",
        "\n",
        "print(\"Números em ordem decrescente: \", maior, meio, menor, sep=' - ')\n"
      ],
      "metadata": {
        "colab": {
          "base_uri": "https://localhost:8080/"
        },
        "id": "EIl__IxNzFEw",
        "outputId": "04e7243c-5a84-48e7-e421-b47643c98c9d"
      },
      "execution_count": null,
      "outputs": [
        {
          "output_type": "stream",
          "name": "stdout",
          "text": [
            "Digite o primeiro número: 1\n",
            "Digite o segundo número: 2\n",
            "Digite o terceiro número: 3\n",
            "Números em ordem decrescente:  - 3.0 - 2.0 - 1.0\n"
          ]
        }
      ]
    },
    {
      "cell_type": "markdown",
      "source": [
        "2° Questão\n",
        "\n",
        "Faça um Programa que pergunte em que turno você estuda. Peça para digitar\n",
        "M-matutino ou V-Vespertino ou N- Noturno. Imprima a mensagem \"Bom Dia!\",\n",
        "\"Boa Tarde!\" ou \"Boa Noite!\" ou \"Valor Inválido!\", conforme o caso."
      ],
      "metadata": {
        "id": "h31mGFyuzqUv"
      }
    },
    {
      "cell_type": "code",
      "source": [
        "turno = input(\"Em que turno você estuda? (M-matutino, V-vespertino, N-noturno): \")\n",
        "\n",
        "if turno.isdigit():\n",
        "    print(\"Valor Inválido! Digite M, V ou N.\")\n",
        "else:\n",
        "    turno = turno.upper()\n",
        "\n",
        "    if turno == 'M':\n",
        "        print(\"Bom Dia!\")\n",
        "    elif turno == 'V':\n",
        "        print(\"Boa Tarde!\")\n",
        "    elif turno == 'N':\n",
        "        print(\"Boa Noite!\")\n",
        "    else:\n",
        "        print(\"Valor Inválido! Digite M, V ou N.\")"
      ],
      "metadata": {
        "colab": {
          "base_uri": "https://localhost:8080/"
        },
        "id": "ZeN9t-NQz8Bz",
        "outputId": "172b37f3-b3a5-44fa-b941-c08bba98406a"
      },
      "execution_count": null,
      "outputs": [
        {
          "output_type": "stream",
          "name": "stdout",
          "text": [
            "Em que turno você estuda? (M-matutino, V-vespertino, N-noturno): m\n",
            "Bom Dia!\n"
          ]
        }
      ]
    },
    {
      "cell_type": "markdown",
      "source": [
        "3° Questão\n",
        "\n",
        "Faça um programa para a leitura de duas notas parciais de um aluno. O\n",
        "programa deve calcular a média alcançada por aluno e apresentar:\n",
        "\n",
        "○ A mensagem \"Aprovado\", se a média alcançada for maior ou igual a sete;\n",
        "\n",
        "○ A mensagem \"Reprovado\", se a média for menor do que 5;\n",
        "\n",
        "○ A mensagem \"Aprovado com Distinção\", se a média for igual a dez.\n",
        "\n",
        "○ A mensagem \"Em recuperação\", se a média estiver entre 5 e 7."
      ],
      "metadata": {
        "id": "SFFxZyzG0M92"
      }
    },
    {
      "cell_type": "code",
      "source": [
        "nota1 = float(input(\"Digite a primeira nota: \"))\n",
        "nota2 = float(input(\"Digite a segunda nota: \"))\n",
        "\n",
        "media = (nota1 + nota2) / 2\n",
        "\n",
        "if media == 10:\n",
        "    print(\"Aprovado com Distinção\")\n",
        "elif media >= 7:\n",
        "    print(\"Aprovado\")\n",
        "elif media < 5:\n",
        "    print(\"Reprovado\")\n",
        "else:\n",
        "    print(\"Em recuperação\")"
      ],
      "metadata": {
        "colab": {
          "base_uri": "https://localhost:8080/"
        },
        "id": "vJpK1j9v04PL",
        "outputId": "b50727a1-cbab-4729-b2fa-5b88c4614929"
      },
      "execution_count": null,
      "outputs": [
        {
          "output_type": "stream",
          "name": "stdout",
          "text": [
            "Digite a primeira nota: 5\n",
            "Digite a segunda nota: 5\n",
            "Em recuperação\n"
          ]
        }
      ]
    },
    {
      "cell_type": "markdown",
      "source": [
        "### Estrutura de repetição\n",
        "\n",
        "Um laço de repetição, ou *loop*, é uma estrutura em programação que terá o intuito de repetir linhas de códigos, ela serve então para repetir uma sequência determinada pelo programador.\n",
        "\n",
        "O *Python* possui dois laços de repetição, o *while* e o *for*, nessa aula veremos apenas o comando *for*\n"
      ],
      "metadata": {
        "id": "B9r-Trkk05Zd"
      }
    },
    {
      "cell_type": "markdown",
      "source": [
        "Nesse caso o comando *for* poderá repetir linhas de código, como também percorrer iteráveis. Dessa forma, vamos verificar, primeiro, como percorrer iteráveis."
      ],
      "metadata": {
        "id": "apyGoNvk54Gl"
      }
    },
    {
      "cell_type": "code",
      "source": [
        "for i in 'Olá mundo':\n",
        "  print(i)"
      ],
      "metadata": {
        "colab": {
          "base_uri": "https://localhost:8080/"
        },
        "id": "OctvwuX36REh",
        "outputId": "a26b2a09-f0d1-4122-d181-51f4863cb207"
      },
      "execution_count": null,
      "outputs": [
        {
          "output_type": "stream",
          "name": "stdout",
          "text": [
            "O\n",
            "l\n",
            "á\n",
            " \n",
            "m\n",
            "u\n",
            "n\n",
            "d\n",
            "o\n"
          ]
        }
      ]
    },
    {
      "cell_type": "markdown",
      "source": [
        "Certo, vamos verificar o que acontece nesse caso acima.\n",
        "\n",
        "Nesse caso, criamos uma variável *i*, que terá o valor relacionado com cada letra do texto, ou seja, ela fará uma iteração com o texto, que nesse caso será 'Olá mundo', se ainda possui duvidas utilize o *debug* para ver passo a passo da nossa variável."
      ],
      "metadata": {
        "id": "oEJzwfVy6b-H"
      }
    },
    {
      "cell_type": "markdown",
      "source": [
        "Certo, nesse caso não precisamos percorrer apenas um texto padrão, podemos colocar uma variável ali, certo?"
      ],
      "metadata": {
        "id": "zjxE8Y8N7iEm"
      }
    },
    {
      "cell_type": "code",
      "source": [
        "turma = 'turma 718'\n",
        "\n",
        "for i in turma:\n",
        "  print(i)"
      ],
      "metadata": {
        "colab": {
          "base_uri": "https://localhost:8080/"
        },
        "id": "LMlhUwjM7umb",
        "outputId": "c5d4cba3-2739-4cd9-8e44-46f08e0683da"
      },
      "execution_count": 8,
      "outputs": [
        {
          "output_type": "stream",
          "name": "stdout",
          "text": [
            "t\n",
            "u\n",
            "r\n",
            "m\n",
            "a\n",
            " \n",
            "7\n",
            "1\n",
            "8\n"
          ]
        }
      ]
    },
    {
      "cell_type": "markdown",
      "source": [
        "Pensando nisso, vamos para nossa primeira questão\n",
        "\n",
        "1° Faça um programa para Imprimir os caracteres de uma string\n",
        "separadamente, essa string deve ser passada pelo usuário."
      ],
      "metadata": {
        "id": "n49JM4nH75b_"
      }
    },
    {
      "cell_type": "code",
      "source": [
        "texto = input('Digite algo: ')\n",
        "\n",
        "for i in texto:\n",
        "  print(i)"
      ],
      "metadata": {
        "colab": {
          "base_uri": "https://localhost:8080/"
        },
        "id": "HQ2ao7Aq8R-X",
        "outputId": "ada4cec5-f223-4215-8c27-e58691be94e2"
      },
      "execution_count": 9,
      "outputs": [
        {
          "output_type": "stream",
          "name": "stdout",
          "text": [
            "Digite algo: felipe\n",
            "f\n",
            "e\n",
            "l\n",
            "i\n",
            "p\n",
            "e\n"
          ]
        }
      ]
    },
    {
      "cell_type": "markdown",
      "source": [
        "Certo, vamos dificultar um pouco.\n",
        "\n",
        "2° Faça um programa para contar quantas vogais existem em uma palavra.\n",
        "Utilize a condicional IF dentro do laço FOR."
      ],
      "metadata": {
        "id": "DcxVmVCA8rc_"
      }
    },
    {
      "cell_type": "code",
      "source": [
        "palavra = input('Digite uma palavra: ')\n",
        "\n",
        "cont = 0\n",
        "\n",
        "palavra = palavra.lower()\n",
        "\n",
        "for i in palavra:\n",
        "    if i in 'aeiou':\n",
        "        cont += 1\n",
        "\n",
        "print(f'A palavra possui {cont} vogais.')"
      ],
      "metadata": {
        "colab": {
          "base_uri": "https://localhost:8080/"
        },
        "id": "Hhsk7P948_ED",
        "outputId": "5f9a2f20-4ebe-47fb-82cc-2ceaaaac01d4"
      },
      "execution_count": 13,
      "outputs": [
        {
          "output_type": "stream",
          "name": "stdout",
          "text": [
            "Digite uma palavra: infinity\n",
            "A palavra possui 3 vogais.\n"
          ]
        }
      ]
    },
    {
      "cell_type": "markdown",
      "source": [
        "3° Faça um programa para contar quantas consoantes existem em uma\n",
        "palavra. Utilize a condicional IF dentro do laço FOR."
      ],
      "metadata": {
        "id": "scV_A2Ao9P2W"
      }
    },
    {
      "cell_type": "code",
      "source": [
        "palavra = input('Digite uma palavra: ')\n",
        "\n",
        "cont = 0\n",
        "\n",
        "palavra = palavra.lower()\n",
        "\n",
        "for i in palavra:\n",
        "    if i not in 'aeiou':\n",
        "        cont += 1\n",
        "\n",
        "print(f'A palavra possui {cont} consoantes.')"
      ],
      "metadata": {
        "colab": {
          "base_uri": "https://localhost:8080/"
        },
        "id": "umijOOfP9m5x",
        "outputId": "21da0ef5-2611-4338-c1d9-1dd430078e09"
      },
      "execution_count": 14,
      "outputs": [
        {
          "output_type": "stream",
          "name": "stdout",
          "text": [
            "Digite uma palavra: infinity\n",
            "A palavra possui 5 vogais.\n"
          ]
        }
      ]
    },
    {
      "cell_type": "markdown",
      "source": [
        "###Agora que entendemos como percorrer coleções, vamos ver o comando para percorrer uma coleção de números.\n",
        "\n",
        "Imagine que queremos percorrer de 0 a 9, como poderíamos executar isso? Ou que quisessemos criar apenas uma variável para a questão de notas que vimos acima, dessa maneira o comando *range()* vai ser essencial para esses casos.\n",
        "\n",
        "O comando *range()* vai criar uma coleção de números passadas pelo usuário.\n",
        "\n",
        "Vamos ver como executar ele."
      ],
      "metadata": {
        "id": "B52F1sDp9tmi"
      }
    },
    {
      "cell_type": "code",
      "source": [
        "for i in range(0, 9, 1):\n",
        "  print(i)"
      ],
      "metadata": {
        "colab": {
          "base_uri": "https://localhost:8080/"
        },
        "id": "U1c8o07t-U8m",
        "outputId": "f94c3c11-1393-4da0-ddd1-e925f4f07a7c"
      },
      "execution_count": 16,
      "outputs": [
        {
          "output_type": "stream",
          "name": "stdout",
          "text": [
            "0\n",
            "1\n",
            "2\n",
            "3\n",
            "4\n",
            "5\n",
            "6\n",
            "7\n",
            "8\n"
          ]
        }
      ]
    },
    {
      "cell_type": "markdown",
      "source": [
        "Certo e o que são esses números passados dentro dos parênteses do *range()*?\n",
        "\n",
        "O primeiro número, estamos definindo o valor que eu quero inicializar, o segundo valor informa que o nosso *for* vai executar essa repetição até a nossa variável continuar menor do que o valor e o último valor passado é o incremento do nosso range, ou seja, a variável vai pular de 1 em 1."
      ],
      "metadata": {
        "id": "GM6mnIjZ_cpn"
      }
    },
    {
      "cell_type": "markdown",
      "source": [
        "Nesse sentindo, vamos fazer a nossa primeira questão sobre *range()*\n",
        "\n",
        "1° Faça um programa para imprimir os números de 1 a 10. Utilize a função\n",
        "range() para criar a coleção de números."
      ],
      "metadata": {
        "id": "8kZrj-99ASdf"
      }
    },
    {
      "cell_type": "code",
      "source": [
        "for i in range(1, 11, 1):\n",
        "  print(i)"
      ],
      "metadata": {
        "colab": {
          "base_uri": "https://localhost:8080/"
        },
        "id": "noM9fQnyMbmw",
        "outputId": "b21e2fff-1c17-41be-8eae-ba741f6aeef1"
      },
      "execution_count": 17,
      "outputs": [
        {
          "output_type": "stream",
          "name": "stdout",
          "text": [
            "1\n",
            "2\n",
            "3\n",
            "4\n",
            "5\n",
            "6\n",
            "7\n",
            "8\n",
            "9\n",
            "10\n"
          ]
        }
      ]
    },
    {
      "cell_type": "markdown",
      "source": [
        "O caso acima está correto, porém, podemos melhorar nosso código. Por padrão quando passamos a função *range()* a nossa variável vai sempre incrementar o valor 1, então, nesse caso, não precisamos passar o último valor."
      ],
      "metadata": {
        "id": "PGe5lTELMgT7"
      }
    },
    {
      "cell_type": "code",
      "source": [
        "for i in range(1, 11):\n",
        "  print(i)"
      ],
      "metadata": {
        "colab": {
          "base_uri": "https://localhost:8080/"
        },
        "id": "Lg_tUxwKM7Hj",
        "outputId": "d7deaa69-a731-486c-a7f5-7ab06715aa14"
      },
      "execution_count": 18,
      "outputs": [
        {
          "output_type": "stream",
          "name": "stdout",
          "text": [
            "1\n",
            "2\n",
            "3\n",
            "4\n",
            "5\n",
            "6\n",
            "7\n",
            "8\n",
            "9\n",
            "10\n"
          ]
        }
      ]
    },
    {
      "cell_type": "markdown",
      "source": [
        "Agora e se quisessemos os valores de 0 a 10"
      ],
      "metadata": {
        "id": "BDZz66abM-5D"
      }
    },
    {
      "cell_type": "code",
      "source": [
        "for i in range(0, 11):\n",
        "  print(i)"
      ],
      "metadata": {
        "colab": {
          "base_uri": "https://localhost:8080/"
        },
        "id": "TWSDLCLhNMPE",
        "outputId": "7c8ca21d-8c69-4eea-95b5-1370f238dc60"
      },
      "execution_count": 20,
      "outputs": [
        {
          "output_type": "stream",
          "name": "stdout",
          "text": [
            "0\n",
            "1\n",
            "2\n",
            "3\n",
            "4\n",
            "5\n",
            "6\n",
            "7\n",
            "8\n",
            "9\n",
            "10\n"
          ]
        }
      ]
    },
    {
      "cell_type": "markdown",
      "source": [
        "Essa maneira está correta, porém, assim como o incremento, se você não passar um valor para a variável inicializar, por padrão será 0"
      ],
      "metadata": {
        "id": "83Iqa9raNQxq"
      }
    },
    {
      "cell_type": "code",
      "source": [
        "for i in range(11):\n",
        "  print(i)"
      ],
      "metadata": {
        "colab": {
          "base_uri": "https://localhost:8080/"
        },
        "id": "gSLoIQkiNo6Y",
        "outputId": "fe8370ff-abf5-43a7-b631-984c5519d925"
      },
      "execution_count": 21,
      "outputs": [
        {
          "output_type": "stream",
          "name": "stdout",
          "text": [
            "0\n",
            "1\n",
            "2\n",
            "3\n",
            "4\n",
            "5\n",
            "6\n",
            "7\n",
            "8\n",
            "9\n",
            "10\n"
          ]
        }
      ]
    },
    {
      "cell_type": "markdown",
      "source": [
        "Então, por padrão o valor de incremento e de inicialização não são obrigatórios"
      ],
      "metadata": {
        "id": "GCFQRjEgNrPp"
      }
    },
    {
      "cell_type": "markdown",
      "source": [
        "Pensando nisso, vamos fazer algumas atividades, com a função que aprendemos agora.\n",
        "\n",
        "1° Faça um programa para imprimir os números ímpares de 1 a 19. Utilize a\n",
        "função range() para criar a coleção de números.\n",
        "\n",
        "2° Faça um programa para imprimir os números pares de 1 a 20. Utilize a\n",
        "função range() para criar a coleção de números.\n",
        "\n",
        "3° Faça um programa para calcular a soma dos números de 1 a 100. Utilize a\n",
        "função range() para criar a coleção de números.\n",
        "\n",
        "4° Desenvolva um gerador de tabuada\n",
        "\n",
        "5° Refaça a questão em relação as notas e agora peça 5 notas, com apenas uma variável, porém, deve ter a mesma saída."
      ],
      "metadata": {
        "id": "TAwzFAI7N7bq"
      }
    }
  ]
}