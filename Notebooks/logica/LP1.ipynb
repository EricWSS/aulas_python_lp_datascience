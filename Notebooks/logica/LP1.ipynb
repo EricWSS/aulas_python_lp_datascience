{
 "cells": [
  {
   "cell_type": "markdown",
   "metadata": {
    "id": "dzT3c6Ad-91O"
   },
   "source": [
    "# Bem vindo a primeira aula de lógica de programação em Python"
   ]
  },
  {
   "cell_type": "markdown",
   "metadata": {
    "id": "KbAAOSNsDDsC"
   },
   "source": [
    "### Nessa aula veremos a definição de algoritmos, explicaremos algumas profissões da área, iremos preparar nosso ambiente de desenvolvimento e veremos alguns código na linguagem Python\n",
    "\n",
    "### Espero que curtam bastante esse estudo e que aprendam muito, boa sorte e let's code!!! 🔥"
   ]
  },
  {
   "cell_type": "markdown",
   "metadata": {
    "id": "i9nbhCE6D6pk"
   },
   "source": [
    "### O que é programação?\n",
    "\n",
    "Em suma, a programação é o caminho que nos leva a produzir um programa informático, do qual funciona através de uma série de regras e princípios que visam sempre chegar em um determinado resultado. O ato de programar algo afirma que você está desenvolvendo um algoritmo"
   ]
  },
  {
   "cell_type": "markdown",
   "metadata": {
    "id": "jj8LMjZmFmax"
   },
   "source": [
    "### E o que seria um algoritmo?\n",
    "Um algoritmo em si, não está totalmente ligado a programação de sistemas, o algoritmo está relacionado com uma sequência de passos lógicos que visam chegar em um determinado resultado, dessa forma, toda a nossa vida é baseada em um algoritmo, por exemplo, fazer um bolo já se encaixa na definição de algoritmos, já que devemos seguir uma sequência de passos até chegar no resultado do bolo pronto, podemos pensar em outros exemplos como trocar uma lâmpada, fazer uma pizza, uma macarrão, até mesmo abrir uma porta.                                  \n",
    "Pensando assim, um software ou um programa funciona da mesma maneira, precisamos construir o sistema através de uma sequência passos lógicos, porém, devemos sempre passar as instruções bem definidas.\n"
   ]
  },
  {
   "cell_type": "markdown",
   "metadata": {
    "id": "jyYu3cGZHXgz"
   },
   "source": [
    "### Exemplo de algoritmo"
   ]
  },
  {
   "cell_type": "markdown",
   "metadata": {
    "id": "MlzeFRObJy25"
   },
   "source": [
    "#### Trocar pneu do carro:\n",
    "- 1° Desligar o carro\n",
    "- 2° Pegar ferramentas\n",
    "- 3° Pegar estepe\n",
    "- 4° Suspender carro com  macaco\n",
    "- 5° Desenroscar os 4 parafusos do pneu furado\n",
    "- 6° Colocar estepe\n",
    "- 7° Enroscar os 4 parafusos\n",
    "- 8° Baixar o carro com o macaco\n",
    "- 9° Guardar as ferramentas\n",
    "- 10° Ligar o carro"
   ]
  },
  {
   "cell_type": "markdown",
   "metadata": {
    "id": "xv4aBOFZJ9K9"
   },
   "source": [
    "## Certo, agora que vimos algoritmos, vamos ver algumas profissões da área que codificam no seu dia a dia."
   ]
  },
  {
   "cell_type": "markdown",
   "metadata": {
    "id": "pNofA5u2LlHz"
   },
   "source": [
    "- Engenheiro de software\n",
    "- Analista de testes\n",
    "- Analista de sistemas\n",
    "- DevOps\n",
    "- Cientista de dados\n",
    "- Engenheiro de dados\n",
    "- Programador web\n",
    "- Arquiteto de redes\n",
    "- Administrador de banco de dados"
   ]
  },
  {
   "cell_type": "markdown",
   "metadata": {
    "id": "mFA-Xyw_MSTS"
   },
   "source": [
    "Essas são só algumas das áreas de desenvolvimento que você verá no mercado, então fica uma observação, não fique preso ao famoso desenvolvedor backend ou frontend, existem diversas áreas na área e cada uma delas com seu foco e peculiaridade, então, veja um pouco de cada uma e veja o que é mais a sua cara e foque nessa área."
   ]
  },
  {
   "cell_type": "markdown",
   "metadata": {
    "id": "vfTCt1ofMvtg"
   },
   "source": [
    "### Aqui está um site que vocês podem verificar a trilha de cada área:\n",
    "https://roadmap.sh/roadmaps"
   ]
  },
  {
   "cell_type": "markdown",
   "metadata": {
    "id": "syjmTFSfNGOo"
   },
   "source": [
    "## Voltando....\n",
    "### Agora, entrando já na área de programação, vamos ver o que são as famosas variáveis\n",
    "\n",
    "Bom, de uma forma rápida de se explicar, variável será um espaço de memória reservada ao computador, ou seja, variável é algo que queremos que o computador armazene ou guarde, dessa forma, poderemos chamar essa variável em outras parte do nosso código.                            \n",
    "\n",
    "A variável pode ser entendida como uma caixa, nesse caso, essa caixa vai armazenar um determinado valor, um exemplo disso seria uma caixa chamada \"casaco\", sendo que dentro dessa caixa tem um casaco, então toda vez que você chamar essa caixa casaco, ela te dará o casaco em si e não a caixa.\n",
    "\n",
    "Assim, outro exemplo que poderíamos colocar seria uma caixa chamada idade, porém, nessa caixa, não está armazenada a idade e sim o seu nome, estranho, não? **NÃO**, os valores guardados não tem nenhuma relação com o nome da variável em si, dessa forma, se eu quiser chamar a minha idade de x, eu poderia.\n",
    "\n",
    "Veremos mais explicação sobre isso em código.....\n",
    "\n",
    "Entretanto, antes do código, iremos explicar melhor sobre o ambiente de desenvolvimento"
   ]
  },
  {
   "cell_type": "markdown",
   "metadata": {
    "id": "WNmVIA5eODNC"
   },
   "source": [
    "### Breve explicação sobre o Python\n",
    "O Python é uma linguagem de programação de alto nível, hoje ela está em top 2 linguagens mais utilizadas no mundo, justamente por ser uma linguagem de alto nível, ou seja de alto compreensão.\n",
    "\n",
    "O Python foi desenvolvido na década de 90, por um holandês chamado Guido Van Rossum.\n",
    "\n",
    "### Instalando o Python\n",
    "\n",
    "### Windows\n",
    "Para instalar o Python em um ambiente Windows basta ir no site https://www.python.org/downloads/ e fazer instalação, depois basta seguir a sequência de passos.\n",
    "Para verificar se a instalação foi completa, utilize o terminal no Windows\n",
    "\n",
    "Abra o terminal utilizando as seguintes teclas\n",
    "```\n",
    "Windows + R\n",
    "```\n",
    "Depois, utilize o comando:\n",
    "```\n",
    "python --version\n",
    "```\n",
    "Assim se a saída for python e sua versão o Python estará instalado em sua máquina.\n",
    "\n",
    "\n",
    "### Linux\n",
    "No Linux ele já vem instalado por padrão 🙂.\n",
    "\n",
    "Se não estiver instalado, basta utilizar o comando:\n",
    "```\n",
    "sudo apt-get install python3.11\n",
    "```"
   ]
  },
  {
   "cell_type": "markdown",
   "metadata": {
    "id": "oCag1j0BdS8H"
   },
   "source": [
    "### Ambiente de desenvolvimento ou IDE\n",
    "\n",
    "- O que é uma IDE?\n",
    "\n",
    "Uma IDE é o local onde vamos criar nossos código, é nosso local de trabalho é lá que criaremos nossos programas.\n",
    "\n",
    "Nesse sentido, temos diversas IDE's, como:\n",
    "\n",
    "- Pycharm\n",
    "- Google Colab\n",
    "- Jupyter Notebook\n",
    "- Sublime\n",
    "- IntelliJ\n",
    "\n",
    "Enfim, várias, porém, a \"IDE\" mais utilizada hoje é o Visual Studio Code ou VsCode, pois ela possui uma quantidade enorme de extensões e podemos desenvolver de uma forma mais amigável. Portanto, o VsCode é a IDE que eu recomendo.\n",
    "\n",
    "------------------------------------\n",
    "\n",
    "## Instalação do VsCode\n",
    "\n",
    "### Windows:\n",
    "Basta clicar no link abaixo e ser feliz:\n",
    "\n",
    "https://code.visualstudio.com/download\n",
    "\n",
    "### Linux:\n",
    "Basta abrir seu terminal com\n",
    "\n",
    "\n",
    "```\n",
    "Ctrl + alt + t\n",
    "```\n",
    "\n",
    "E digitar:\n",
    "```\n",
    " sudo snap install code --classic\n",
    "```\n"
   ]
  },
  {
   "cell_type": "markdown",
   "metadata": {
    "id": "pf-VJmKTf6tK"
   },
   "source": [
    "### Agora vamos criar nosso primeiro arquivo **Python**\n",
    "\n",
    "Lembre-se, todo arquivo **Python** precisa ter essa extensão *.py*\n",
    "![Captura de tela de 2023-07-19 11-19-53.png](data:image/png;base64,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)"
   ]
  },
  {
   "cell_type": "markdown",
   "metadata": {
    "id": "OLBwOe4IhjUm"
   },
   "source": [
    "Agora, criado nosso arquivo, vamos utilizar o comando para nos livrarmos da maldição, vamos dar um Olá a esse mundo da programação:\n",
    "\n",
    "Escreva no arquivo no seguinte comando:\n",
    "\n",
    "\n",
    "\n",
    "```\n",
    "print('Hello World')\n",
    "```\n",
    "\n"
   ]
  },
  {
   "cell_type": "markdown",
   "metadata": {
    "id": "DNZrlzy3ian2"
   },
   "source": [
    "Agora para executar o código, basta clicar no botão de play no canto direito do seu VsCode.\n",
    "\n",
    "![Captura de tela de 2023-07-19 11-25-31.png](data:image/png;base64,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)"
   ]
  },
  {
   "cell_type": "code",
   "execution_count": 1,
   "metadata": {
    "colab": {
     "base_uri": "https://localhost:8080/"
    },
    "id": "N3OdbG5JiNOe",
    "outputId": "820655d6-fc68-4699-b04f-49e819567567"
   },
   "outputs": [
    {
     "name": "stdout",
     "output_type": "stream",
     "text": [
      "Hello World\n"
     ]
    }
   ],
   "source": [
    "# Após executar o comando, você deve ver o 'Hello World' em sua tela\n",
    "print('Hello World')"
   ]
  },
  {
   "cell_type": "markdown",
   "metadata": {
    "id": "1X3qWYeKiP-t"
   },
   "source": [
    "Dessa forma, o comando print vai ser aquilo que vamos utilizar para escrever algo no nosso terminal. Assim, teste outras coisas com esse comando."
   ]
  },
  {
   "cell_type": "code",
   "execution_count": 2,
   "metadata": {
    "colab": {
     "base_uri": "https://localhost:8080/"
    },
    "id": "ytNWuVY-kD03",
    "outputId": "32cac2c9-b075-433b-a933-a7d5bfad77f8"
   },
   "outputs": [
    {
     "name": "stdout",
     "output_type": "stream",
     "text": [
      "Olá alunos\n"
     ]
    }
   ],
   "source": [
    "print('Olá alunos')"
   ]
  },
  {
   "cell_type": "code",
   "execution_count": 3,
   "metadata": {
    "colab": {
     "base_uri": "https://localhost:8080/"
    },
    "id": "6fTHlF_ckF12",
    "outputId": "959c72c9-3e5f-4a7f-c57a-b22534190927"
   },
   "outputs": [
    {
     "name": "stdout",
     "output_type": "stream",
     "text": [
      "Hoje é aula de lógica\n"
     ]
    }
   ],
   "source": [
    "print('Hoje é aula de lógica')"
   ]
  },
  {
   "cell_type": "markdown",
   "metadata": {
    "id": "vV-LOWL4kK5o"
   },
   "source": [
    "Você deve estar se perguntando o porque das aspas. Certo, sempre que vamos escrever algum **TEXTO** no nosso terminal precisamos utilizar as aspas, podendo ser simples ou duplas.\n",
    "Porém, em caso de números, podemos escrever sem aspas."
   ]
  },
  {
   "cell_type": "code",
   "execution_count": 4,
   "metadata": {
    "colab": {
     "base_uri": "https://localhost:8080/"
    },
    "id": "3cWiKRqckcbh",
    "outputId": "0de85041-d20b-4999-dfed-64ae1face7ce"
   },
   "outputs": [
    {
     "name": "stdout",
     "output_type": "stream",
     "text": [
      "5\n"
     ]
    }
   ],
   "source": [
    "print(5)"
   ]
  },
  {
   "cell_type": "code",
   "execution_count": 5,
   "metadata": {
    "colab": {
     "base_uri": "https://localhost:8080/"
    },
    "id": "Tn_W061TkjA9",
    "outputId": "76761c45-32f9-4823-df50-e1bda5be274e"
   },
   "outputs": [
    {
     "name": "stdout",
     "output_type": "stream",
     "text": [
      "10\n"
     ]
    }
   ],
   "source": [
    "print(10)"
   ]
  },
  {
   "cell_type": "markdown",
   "metadata": {
    "id": "m7Cddp_Jkj-m"
   },
   "source": [
    "### Certo, como foi dito acima, iriamos voltar a falar de variáveis, assim vamos ver como criar variáveis em Python."
   ]
  },
  {
   "cell_type": "markdown",
   "metadata": {
    "id": "gdrSxD7mk6LN"
   },
   "source": [
    "Basta escolher um nome para a variável e igualar ela a algo\n",
    "\n",
    "Exemplo:\n"
   ]
  },
  {
   "cell_type": "code",
   "execution_count": 7,
   "metadata": {
    "id": "SLSXL5kKlD4C"
   },
   "outputs": [],
   "source": [
    "nome = 'Felipe'"
   ]
  },
  {
   "cell_type": "markdown",
   "metadata": {
    "id": "HdqVES2slOSb"
   },
   "source": [
    "Lembre-se, a variável nesse caso é nome, 'Felipe' é apenas o valor guardado nela,\n",
    "assim como vimos no exemplo do casaco, quando chamarmos nome, será o valor da variável que deverá aparecer, que nesse caso é 'Felipe'\n",
    "\n",
    "E como podemos chamar a variável?\n",
    "\n",
    "Da seguinte forma:\n"
   ]
  },
  {
   "cell_type": "code",
   "execution_count": 8,
   "metadata": {
    "colab": {
     "base_uri": "https://localhost:8080/"
    },
    "id": "Z2hNvNtPlujq",
    "outputId": "401ec8c1-7a69-4391-af1c-71d171ef136b"
   },
   "outputs": [
    {
     "name": "stdout",
     "output_type": "stream",
     "text": [
      "Felipe\n"
     ]
    }
   ],
   "source": [
    "print(nome)"
   ]
  },
  {
   "cell_type": "markdown",
   "metadata": {
    "id": "4YaUGGbVlwL8"
   },
   "source": [
    "Veja, quando eu dou o comando print em nome o que aparece é valor de memória da variável.\n",
    "\n",
    "Agora, vamos testar de outras formas"
   ]
  },
  {
   "cell_type": "code",
   "execution_count": 9,
   "metadata": {
    "colab": {
     "base_uri": "https://localhost:8080/"
    },
    "id": "rD0E-HdNmGm0",
    "outputId": "0edd6609-47da-4305-c980-0a68a4cf23eb"
   },
   "outputs": [
    {
     "name": "stdout",
     "output_type": "stream",
     "text": [
      "22\n"
     ]
    }
   ],
   "source": [
    "idade = 22\n",
    "print(idade)"
   ]
  },
  {
   "cell_type": "markdown",
   "metadata": {
    "id": "1FJ-J51MmL8a"
   },
   "source": [
    "##*Obs*:\n",
    "Variáveis **NÃO** podem conter espaços e por padrão não colocamos acentos, de nenhum tipo, seguimos o padrão americano."
   ]
  },
  {
   "cell_type": "markdown",
   "metadata": {
    "id": "wknBjuFVmq40"
   },
   "source": [
    "Desse modo quando queremos um nome de uma variável grande, usamos alguns padrões, que são chamados de snake_case e camelCase.\n",
    "\n",
    "Que mostram como a variável deve ser declarada\n",
    "\n",
    "Na linguagem Python, existe um padrão utilizado pelos programadores Python, que é o snake_case, que ficaria dessa forma\n",
    "  "
   ]
  },
  {
   "cell_type": "code",
   "execution_count": 11,
   "metadata": {
    "colab": {
     "base_uri": "https://localhost:8080/"
    },
    "id": "2kgA5fKmnd1J",
    "outputId": "2964b605-d6dd-48b5-df58-27627e403a09"
   },
   "outputs": [
    {
     "name": "stdout",
     "output_type": "stream",
     "text": [
      "22\n"
     ]
    }
   ],
   "source": [
    "idade_de_maria = 22\n",
    "print(idade_de_maria)"
   ]
  },
  {
   "cell_type": "markdown",
   "metadata": {
    "id": "XUGed0b_njd-"
   },
   "source": [
    "Ou seja, utilizamos o _ para separar as palavras das variáveis."
   ]
  },
  {
   "cell_type": "markdown",
   "metadata": {
    "id": "XESpksRXnr9p"
   },
   "source": [
    "### Agora vamos entender os tipos de cada variável, isso mesmo, cada variável tem o seu tipo.\n",
    "\n",
    "Temos o seguintes tipos:\n",
    "\n",
    "*int* que serve para números interos, ex: 1, 2, 34, 5, 6, 78, 99, 90\n",
    "\n",
    "*float* que serve para números flutuantes(decimais), ex: 0.8, 1.1, 15.7\n",
    "\n",
    "*string* que serve para textos: 'Felipe', 'Olá Mundo', 'Alouuuuuu'\n",
    "\n",
    "*bool* que serve para verdadeiro e falso: True e False"
   ]
  },
  {
   "cell_type": "markdown",
   "metadata": {
    "id": "8IURJpUdo1GS"
   },
   "source": [
    "E podemos ver esses tipos das seguintes maneiras:"
   ]
  },
  {
   "cell_type": "code",
   "execution_count": 12,
   "metadata": {
    "colab": {
     "base_uri": "https://localhost:8080/"
    },
    "id": "mXhUlVvtpipD",
    "outputId": "3c8f2d4d-4d49-41b3-8ed4-530c396f5be0"
   },
   "outputs": [
    {
     "name": "stdout",
     "output_type": "stream",
     "text": [
      "<class 'int'>\n",
      "<class 'float'>\n",
      "<class 'str'>\n",
      "<class 'bool'>\n"
     ]
    }
   ],
   "source": [
    "idade = 20\n",
    "altura = 1.90\n",
    "nome = 'Adriano'\n",
    "programador = True\n",
    "\n",
    "print(type(idade))\n",
    "print(type(altura))\n",
    "print(type(nome))\n",
    "print(type(programador))"
   ]
  },
  {
   "cell_type": "markdown",
   "metadata": {
    "id": "zW6XaYknp3ee"
   },
   "source": [
    "Então, o uso o *type* muda o nosso *print*, agora ele vai sair os tipos de cada dado que nós temos"
   ]
  },
  {
   "cell_type": "markdown",
   "metadata": {
    "id": "emyHY7HWqGCh"
   },
   "source": [
    "Além disso, você deve ter percebido o uso das aspas e do ponto no valor da altura. As aspas significam que aquilo é um campo de texto e sempre que você precisa utilizar texto, precisa passar aspas, mas antes de tudo, teste colocar um número das aspas, da seguinte forma:\n"
   ]
  },
  {
   "cell_type": "code",
   "execution_count": 13,
   "metadata": {
    "colab": {
     "base_uri": "https://localhost:8080/"
    },
    "id": "ioUQe4LBqe-W",
    "outputId": "95eeeb6d-4c69-48a9-8eba-6cc43f323383"
   },
   "outputs": [
    {
     "name": "stdout",
     "output_type": "stream",
     "text": [
      "<class 'str'>\n"
     ]
    }
   ],
   "source": [
    "valor = '5'\n",
    "print(type(valor))"
   ]
  },
  {
   "cell_type": "markdown",
   "metadata": {
    "id": "A7tW1sjHqlTe"
   },
   "source": [
    "Veja, ele saiu como texto e isso é claro, tudo que tiver entre as aspas sempre será texto"
   ]
  },
  {
   "cell_type": "markdown",
   "metadata": {
    "id": "By_V2AVeqv4u"
   },
   "source": [
    "Em relação ao ponto, sempre que utilizamos números decimais, precisamos separar por pontos, pois, seguimos o padrão americano."
   ]
  },
  {
   "cell_type": "markdown",
   "metadata": {
    "id": "kQ8ejKN0q9Qm"
   },
   "source": [
    "## Agora vamos conhecer os operadores do Python\n",
    "![Captura de tela de 2023-07-19 12-03-44.png](data:image/png;base64,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)\n",
    "\n"
   ]
  },
  {
   "cell_type": "markdown",
   "metadata": {
    "id": "t47U8z0prfVZ"
   },
   "source": [
    "Certo, agora podemos fazer alguns testes para entender melhor esses operadores."
   ]
  },
  {
   "cell_type": "code",
   "execution_count": 14,
   "metadata": {
    "colab": {
     "base_uri": "https://localhost:8080/"
    },
    "id": "YRMFl6Varoa1",
    "outputId": "2242d2c5-d9ca-4a34-d521-e2c321795ae2"
   },
   "outputs": [
    {
     "name": "stdout",
     "output_type": "stream",
     "text": [
      "10\n",
      "7\n",
      "20\n",
      "5.0\n"
     ]
    }
   ],
   "source": [
    "print(5 + 5)\n",
    "print(10 - 3)\n",
    "print(10 * 2)\n",
    "print(10 / 2)"
   ]
  },
  {
   "cell_type": "code",
   "execution_count": 15,
   "metadata": {
    "colab": {
     "base_uri": "https://localhost:8080/"
    },
    "id": "ZgRjyg9rr3N6",
    "outputId": "162bd9be-ae21-4593-d9a6-76c36db98aa7"
   },
   "outputs": [
    {
     "name": "stdout",
     "output_type": "stream",
     "text": [
      "3\n"
     ]
    }
   ],
   "source": [
    "print(10 // 3)"
   ]
  },
  {
   "cell_type": "markdown",
   "metadata": {
    "id": "LQIH3ZmGr70_"
   },
   "source": [
    "Perceba, na divisão inteira não pegamos o valor decimal, ele retorna de forma inteira, ou seja, no exemplo acima, retiramos o .3 de 3.3, ficando apenas o valor 3"
   ]
  },
  {
   "cell_type": "code",
   "execution_count": 16,
   "metadata": {
    "colab": {
     "base_uri": "https://localhost:8080/"
    },
    "id": "mvlSwbUBr6WS",
    "outputId": "fbc573ac-ce08-4161-bdc2-b424da6d1891"
   },
   "outputs": [
    {
     "name": "stdout",
     "output_type": "stream",
     "text": [
      "1\n"
     ]
    }
   ],
   "source": [
    "print(10 % 3)"
   ]
  },
  {
   "cell_type": "markdown",
   "metadata": {
    "id": "tB-xx_kJsWEB"
   },
   "source": [
    "Nessa caso, o valor retornado será 1, pois 10 / 3, teria um resto de 1."
   ]
  },
  {
   "cell_type": "markdown",
   "metadata": {
    "id": "o-LWknMjshDV"
   },
   "source": [
    "### Operadores relacionais\n",
    "Na programação também temos alguns operadores relacionais que irá retornar pra gente um True ou False"
   ]
  },
  {
   "cell_type": "code",
   "execution_count": 17,
   "metadata": {
    "colab": {
     "base_uri": "https://localhost:8080/"
    },
    "id": "3f8D3x1dvzti",
    "outputId": "7de6ee93-dedc-424d-8168-ae29243a7030"
   },
   "outputs": [
    {
     "name": "stdout",
     "output_type": "stream",
     "text": [
      "False\n"
     ]
    }
   ],
   "source": [
    "# Nós temos o operador de maior\n",
    "print(5 > 10)"
   ]
  },
  {
   "cell_type": "code",
   "execution_count": 18,
   "metadata": {
    "colab": {
     "base_uri": "https://localhost:8080/"
    },
    "id": "klSrOSLvv-8i",
    "outputId": "2c575a3c-1701-4d01-da33-c85b38e27fff"
   },
   "outputs": [
    {
     "name": "stdout",
     "output_type": "stream",
     "text": [
      "True\n"
     ]
    }
   ],
   "source": [
    "# Nós temos o operador de menor\n",
    "print(5 < 10)"
   ]
  },
  {
   "cell_type": "code",
   "execution_count": 19,
   "metadata": {
    "colab": {
     "base_uri": "https://localhost:8080/"
    },
    "id": "KH_Hac4HwDxS",
    "outputId": "11756dfc-0a39-413b-8b06-1472d884fc11"
   },
   "outputs": [
    {
     "name": "stdout",
     "output_type": "stream",
     "text": [
      "True\n"
     ]
    }
   ],
   "source": [
    "# Nós temos o operador de maior ou igual, ou seja, se um for verdadeiro, a setença toda é verdadeira\n",
    "# Por exemplo:\n",
    "print(5 >= 5)\n",
    "# Nesse caso, vemos que 5 não é maior do que 5, porém, eles são iguais, desssa forma, a setença se torna verdadeira"
   ]
  },
  {
   "cell_type": "code",
   "execution_count": 20,
   "metadata": {
    "colab": {
     "base_uri": "https://localhost:8080/"
    },
    "id": "sZa9h99XwXCz",
    "outputId": "a4e962e8-23d6-4c52-adab-01a8237675cf"
   },
   "outputs": [
    {
     "name": "stdout",
     "output_type": "stream",
     "text": [
      "False\n"
     ]
    }
   ],
   "source": [
    "# Também temos o menor ou igual\n",
    "print(10 <= 5)\n",
    "# Nesse  caso, 10 não é menor do que 5 e nem igual"
   ]
  },
  {
   "cell_type": "code",
   "execution_count": 21,
   "metadata": {
    "colab": {
     "base_uri": "https://localhost:8080/"
    },
    "id": "hxq8PwBPwqN6",
    "outputId": "b35f3544-2a4f-4b82-89bd-dc971751ff8f"
   },
   "outputs": [
    {
     "name": "stdout",
     "output_type": "stream",
     "text": [
      "True\n"
     ]
    }
   ],
   "source": [
    "# E por último, temos o operador de diferente\n",
    "# Nesse caso, o operador está verificando se os dois números são diferentes, se for, ele retornará True\n",
    "print(10 != 5)"
   ]
  },
  {
   "cell_type": "markdown",
   "metadata": {
    "id": "hU1hBwtXw27q"
   },
   "source": [
    "Alguns devem estar se perguntando o que é esse # no meio do código, em Python e em qualquer outra linguagem de programação, temos comentários e esses comentários não são lidos pela linguagem, então o código roda normalmente"
   ]
  },
  {
   "cell_type": "markdown",
   "metadata": {
    "id": "z0fBcHmfMwOi"
   },
   "source": [
    "### Certo, agora que vimos operadores relacionais, agora vamos ver uma outra função, que é a de entrada de dados.\n",
    "\n",
    "Essa entrada de dados vem através do usuário, até porque, muitas vezes você vai precisar e quer que o usuário digite algo.\n",
    "\n",
    "Por exemplo, você não quer que a idade fique padrão, de forma fixa como vimos acima, é interessante que a gente possa deixar o usuário digitar a sua idade.\n",
    "\n",
    "Sendo assim, temos a função chamada *input*, ela serve basicamente para deixar digitarmos algo pelo terminal."
   ]
  },
  {
   "cell_type": "code",
   "execution_count": 23,
   "metadata": {
    "colab": {
     "base_uri": "https://localhost:8080/",
     "height": 53
    },
    "id": "_m_Tp8g_Od3m",
    "outputId": "d0262a62-4a43-4126-e83b-da2b5a8386f6"
   },
   "outputs": [
    {
     "name": "stdout",
     "output_type": "stream",
     "text": [
      "Digite seu nome: felipe\n"
     ]
    },
    {
     "data": {
      "application/vnd.google.colaboratory.intrinsic+json": {
       "type": "string"
      },
      "text/plain": [
       "'felipe'"
      ]
     },
     "execution_count": 23,
     "metadata": {},
     "output_type": "execute_result"
    }
   ],
   "source": [
    "input('Digite seu nome: ')"
   ]
  },
  {
   "cell_type": "markdown",
   "metadata": {
    "id": "--ErhT8vOi8X"
   },
   "source": [
    "Porém, se passarmos dessa maneira, não estamos armazenando o dados passado pelo usuário em nenhum lugar, por isso, precisamos armazenar em uma variável, assim como antes"
   ]
  },
  {
   "cell_type": "code",
   "execution_count": 24,
   "metadata": {
    "colab": {
     "base_uri": "https://localhost:8080/"
    },
    "id": "TU_pkhJQOz08",
    "outputId": "0b3afe94-fdaf-41d9-d739-da81b7527986"
   },
   "outputs": [
    {
     "name": "stdout",
     "output_type": "stream",
     "text": [
      "Digite seu nome: felipe\n",
      "felipe\n"
     ]
    }
   ],
   "source": [
    "nome = input('Digite seu nome: ')\n",
    "print(nome)"
   ]
  },
  {
   "cell_type": "markdown",
   "metadata": {
    "id": "UhY_vNJmO420"
   },
   "source": [
    "Certo, então vimos que podemos começar a receber dados do usuário.\n",
    "Outro exemplo que podemos fazer é com a idade"
   ]
  },
  {
   "cell_type": "code",
   "execution_count": 25,
   "metadata": {
    "colab": {
     "base_uri": "https://localhost:8080/"
    },
    "id": "3w8TlavYPNZ9",
    "outputId": "6a4efbae-d4a9-45b3-891f-73e86fbf0300"
   },
   "outputs": [
    {
     "name": "stdout",
     "output_type": "stream",
     "text": [
      "Sua idade é: 22\n",
      "22\n"
     ]
    }
   ],
   "source": [
    "idade = input('Sua idade é: ')\n",
    "print(idade)"
   ]
  },
  {
   "cell_type": "markdown",
   "metadata": {
    "id": "kNU-THaNPTWV"
   },
   "source": [
    "Tudo certo, correto? **NÃOOOOOOOOOOOOOOOOOO**"
   ]
  },
  {
   "cell_type": "markdown",
   "metadata": {
    "id": "z93AiqA3PaCU"
   },
   "source": [
    "Vamos verificar o tipo da idade:"
   ]
  },
  {
   "cell_type": "code",
   "execution_count": 26,
   "metadata": {
    "colab": {
     "base_uri": "https://localhost:8080/"
    },
    "id": "TTRgh_A8PeOV",
    "outputId": "2dc68c4e-72ea-4e70-aa35-11838cfad256"
   },
   "outputs": [
    {
     "name": "stdout",
     "output_type": "stream",
     "text": [
      "<class 'str'>\n"
     ]
    }
   ],
   "source": [
    "print(type(idade))"
   ]
  },
  {
   "cell_type": "markdown",
   "metadata": {
    "id": "9Vmjlq2JPgLU"
   },
   "source": [
    "Ele apareceu como string e isso acontece porque se passarmos o input vazio, ele sempre será uma string, portanto precisamos fazer um *casting*.\n",
    "\n",
    "Que nada mais é do que mudar o tipo de uma variável\n",
    "\n",
    "Podemos fazer de duas formas:"
   ]
  },
  {
   "cell_type": "code",
   "execution_count": 27,
   "metadata": {
    "colab": {
     "base_uri": "https://localhost:8080/"
    },
    "id": "YUrQFb1SPxw2",
    "outputId": "474167d5-0329-4849-d787-742f10a46322"
   },
   "outputs": [
    {
     "name": "stdout",
     "output_type": "stream",
     "text": [
      "Digite sua idade: 22\n",
      "<class 'int'>\n"
     ]
    }
   ],
   "source": [
    "idade = int(input('Digite sua idade: '))\n",
    "print(type(idade))"
   ]
  },
  {
   "cell_type": "code",
   "execution_count": 29,
   "metadata": {
    "colab": {
     "base_uri": "https://localhost:8080/"
    },
    "id": "GECAPSJ7P_1j",
    "outputId": "7a2a70f2-d264-4ce7-e520-0c5fd064a5e8"
   },
   "outputs": [
    {
     "name": "stdout",
     "output_type": "stream",
     "text": [
      "Digite sua idade: 22\n",
      "<class 'int'>\n"
     ]
    }
   ],
   "source": [
    "# Outra forma, que não é muita usada é:\n",
    "idade = input('Digite sua idade: ')\n",
    "idade = int(idade)\n",
    "print(type(idade))"
   ]
  },
  {
   "cell_type": "markdown",
   "metadata": {
    "id": "Y5LJ3bbNQLzA"
   },
   "source": [
    "Pensando assim, podemos fazer esse *casting* para os outros tipos, poderiamos pedir altura, nota, quantidade, nome, só precisamos saber qual tipo queremos."
   ]
  },
  {
   "cell_type": "markdown",
   "metadata": {
    "id": "RY9Fzm2zQgYp"
   },
   "source": [
    "###Agora o último assunto dessa aula....."
   ]
  },
  {
   "cell_type": "markdown",
   "metadata": {
    "id": "Kh6ig0X8QxbY"
   },
   "source": [
    "Vamos ver sobre o f string, se você foi curioso, você tentou colocar o seu texto junto com a variável, porém, se você não estiver avançado, você não conseguiu\n",
    "\n",
    "```\n",
    "f'{}'\n",
    "```"
   ]
  },
  {
   "cell_type": "markdown",
   "metadata": {
    "id": "LHcradtjRHhu"
   },
   "source": [
    "\n",
    "Perceba que se você colocar uma variável e um texto juntos, isso vai acontecer:"
   ]
  },
  {
   "cell_type": "code",
   "execution_count": 30,
   "metadata": {
    "colab": {
     "base_uri": "https://localhost:8080/"
    },
    "id": "diHhM3C2RO-w",
    "outputId": "7bb54afe-c1fc-4449-96ca-ae4e6e68d283"
   },
   "outputs": [
    {
     "name": "stdout",
     "output_type": "stream",
     "text": [
      "Idade: 22\n",
      "Sua idade é: idade\n"
     ]
    }
   ],
   "source": [
    "idade = int(input('Idade: '))\n",
    "print('Sua idade é: idade')"
   ]
  },
  {
   "cell_type": "markdown",
   "metadata": {
    "id": "YoL3A-zaRWXy"
   },
   "source": [
    "Certo e como colocaremos a idade junto com o texto?\n",
    "Podemos utilizar o *fstring*, ele fará com que a variável apareça no texto."
   ]
  },
  {
   "cell_type": "code",
   "execution_count": 31,
   "metadata": {
    "colab": {
     "base_uri": "https://localhost:8080/"
    },
    "id": "i0cO8Z1ZRsJx",
    "outputId": "86db8af9-a99c-46c5-efbf-6852944af6e1"
   },
   "outputs": [
    {
     "name": "stdout",
     "output_type": "stream",
     "text": [
      "Alutra: 1.9\n",
      "Sua altura é: 1.9\n"
     ]
    }
   ],
   "source": [
    "altura = float(input('Alutra: '))\n",
    "print(f'Sua altura é: {altura}')"
   ]
  },
  {
   "cell_type": "markdown",
   "metadata": {
    "id": "dXnbRXYhR38T"
   },
   "source": [
    "Utilizamos a sitaxe acima para colocar variáveis dentro de texto, podemos usar com qualquer tipo."
   ]
  },
  {
   "cell_type": "markdown",
   "metadata": {
    "id": "lSGvrV7wSCTF"
   },
   "source": [
    "## Chegamos ao fim da primeira aula, espero que tenha gostado e te vejo na segunda aula, bons estudos ⚡⚡⚡⚡⚡⚡⚡⚡⚡⚡⚡⚡⚡⚡⚡⚡⚡⚡⚡"
   ]
  }
 ],
 "metadata": {
  "colab": {
   "provenance": []
  },
  "kernelspec": {
   "display_name": "Python 3 (ipykernel)",
   "language": "python",
   "name": "python3"
  },
  "language_info": {
   "codemirror_mode": {
    "name": "ipython",
    "version": 3
   },
   "file_extension": ".py",
   "mimetype": "text/x-python",
   "name": "python",
   "nbconvert_exporter": "python",
   "pygments_lexer": "ipython3",
   "version": "3.10.6"
  }
 },
 "nbformat": 4,
 "nbformat_minor": 1
}
