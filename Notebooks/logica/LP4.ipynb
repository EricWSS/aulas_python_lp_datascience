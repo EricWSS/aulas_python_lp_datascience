{
  "nbformat": 4,
  "nbformat_minor": 0,
  "metadata": {
    "colab": {
      "provenance": []
    },
    "kernelspec": {
      "name": "python3",
      "display_name": "Python 3"
    },
    "language_info": {
      "name": "python"
    }
  },
  "cells": [
    {
      "cell_type": "markdown",
      "source": [
        "# Bem-vindo(a) a aula 4 de lógica de programação em *Python*\n",
        "\n",
        "### Nessa aula daremos continuidade a estruturas de repetição, porém, utilizando o comando *While*.\n",
        "\n",
        "### ⚡⚡⚡⚡⚡⚡⚡⚡⚡⚡⚡⚡⚡⚡⚡⚡⚡⚡⚡⚡⚡⚡⚡⚡⚡⚡⚡⚡⚡⚡⚡⚡"
      ],
      "metadata": {
        "id": "QVOEqA2CWq05"
      }
    },
    {
      "cell_type": "markdown",
      "source": [
        "### O que será visto:\n",
        "\n",
        "- loop While\n",
        "- Um loop infinito\n",
        "- As instruções *break* e *continue*"
      ],
      "metadata": {
        "id": "9GInloqIYiVj"
      }
    },
    {
      "cell_type": "markdown",
      "source": [
        "### Certo e qual é a diferença do *while* para o *for*?\n",
        "O comando *while* é utilizado quando queremos que determinado bloco de código seja executado enquanto uma codição for atendida, ou seja, no *while*, não sabemos quando o código irá acabar ou parar, já no *for*, nós mesmos decidimos quando o código irá parar.\n",
        "\n"
      ],
      "metadata": {
        "id": "5JJMsGQ6Y06G"
      }
    },
    {
      "cell_type": "markdown",
      "source": [
        "### Certo e qual seria a estrutura do *while*?\n",
        "\n",
        "O *while* assim como o *if*, necessita de uma condição, podemos verificar se um valor é maior do que o outro, se um valor é igual ao outro, se um texto é igual ao outro e assim por diante.\n",
        "\n",
        "Então, qual a seria a diferença do *while* para o *if*?\n",
        "No *if* queremos que a instrução seja executada apenas uma vez, já no *while*, usaremos quando a instrução precisa ser executada mais de uma vez.\n",
        "\n",
        "```\n",
        "while (condição):\n",
        "  instruções\n",
        "```"
      ],
      "metadata": {
        "id": "hfZyzDEmbF-M"
      }
    },
    {
      "cell_type": "markdown",
      "source": [
        "Agora vamos a um exemplo do *while*:"
      ],
      "metadata": {
        "id": "YH7Z8e4Jb5-c"
      }
    },
    {
      "cell_type": "code",
      "source": [
        "# Assim como fizemos na aula de for, no while podemos criar contadores, que serão variáveis que não terão valores fixos durante a execução do código\n",
        "\n",
        "# Exemplo 1:\n",
        "\n",
        "contador = 0\n",
        "\n",
        "while contador <=3:\n",
        "  print(contador)\n",
        "  contador += 1\n"
      ],
      "metadata": {
        "colab": {
          "base_uri": "https://localhost:8080/"
        },
        "id": "qVZ_Em9XceKv",
        "outputId": "1225d8d4-e3a5-4d6e-93a1-81881cab8cd9"
      },
      "execution_count": null,
      "outputs": [
        {
          "output_type": "stream",
          "name": "stdout",
          "text": [
            "0\n",
            "1\n",
            "2\n",
            "3\n"
          ]
        }
      ]
    },
    {
      "cell_type": "markdown",
      "source": [
        "### Agora que vimos como funciona a sintaxe do while, tente fazer as seguintes questões\n",
        "\n",
        "- 1º Construa um laço de repetição com *while* que conte de 1 ao número 10\n",
        "- 2º Construa um laço que conte de 10 até -10"
      ],
      "metadata": {
        "id": "7e4WYGB3hFZM"
      }
    },
    {
      "cell_type": "code",
      "source": [
        "# Questão 1\n",
        "\n",
        "contador = 1\n",
        "while contador <= 10:\n",
        "  print(contador)\n",
        "  contador += 1"
      ],
      "metadata": {
        "colab": {
          "base_uri": "https://localhost:8080/"
        },
        "id": "rU_TZsA4iT1S",
        "outputId": "ab9e471e-bac0-42f8-d4b0-a8d7f4b5ed7e"
      },
      "execution_count": null,
      "outputs": [
        {
          "output_type": "stream",
          "name": "stdout",
          "text": [
            "1\n",
            "2\n",
            "3\n",
            "4\n",
            "5\n",
            "6\n",
            "7\n",
            "8\n",
            "9\n",
            "10\n"
          ]
        }
      ]
    },
    {
      "cell_type": "code",
      "source": [
        "# Questão 2\n",
        "\n",
        "contador = 10\n",
        "while contador >= -10:\n",
        "  print(contador)\n",
        "  contador -= 1"
      ],
      "metadata": {
        "colab": {
          "base_uri": "https://localhost:8080/"
        },
        "id": "7idSrJvvihI-",
        "outputId": "d2c1ca3e-c415-4372-8498-7f966000c93d"
      },
      "execution_count": null,
      "outputs": [
        {
          "output_type": "stream",
          "name": "stdout",
          "text": [
            "10\n",
            "9\n",
            "8\n",
            "7\n",
            "6\n",
            "5\n",
            "4\n",
            "3\n",
            "2\n",
            "1\n",
            "0\n",
            "-1\n",
            "-2\n",
            "-3\n",
            "-4\n",
            "-5\n",
            "-6\n",
            "-7\n",
            "-8\n",
            "-9\n",
            "-10\n"
          ]
        }
      ]
    },
    {
      "cell_type": "markdown",
      "source": [
        "Outro exemplo que podemos verificar é com campos de texto, podemos verificar se o valor de um texto é igual ao outro."
      ],
      "metadata": {
        "id": "hlj5aatdc4BI"
      }
    },
    {
      "cell_type": "code",
      "source": [
        "# Exemplo 2:\n",
        "\n",
        "nome1 = 'Felipe'\n",
        "nome2 = 'Bernardo'\n",
        "\n",
        "while nome1 == nome2:\n",
        "  print('São iguais')"
      ],
      "metadata": {
        "id": "235XfKvKdO8d"
      },
      "execution_count": null,
      "outputs": []
    },
    {
      "cell_type": "markdown",
      "source": [
        "Perceba que ele não vai escrever nada em nosso terminal, justamente por Felipe e Bernardo não serem nomes iguais.\n",
        "\n",
        "Porém, da forma que fizemos acima estaria errado, já que não temos necessidade de utilizar no *while* nesse código, poderiámos utilizar apenas o *if*.\n",
        "\n",
        "Então, seria mais interessante se pudessemos perguntar ao nosso usuário os nomes deles e deixar que seja executado o bloco de código somente quando o a condição for verdadeira."
      ],
      "metadata": {
        "id": "wYRyGFDidd5T"
      }
    },
    {
      "cell_type": "markdown",
      "source": [
        "### Pensando nisso, temos o famoso *loop* infinito.\n",
        "#### Que consiste basicamente em um *loop* que nunca vai parar.\n",
        "\n",
        "Sintaxe:\n",
        "```\n",
        "while True:\n",
        "  instruções\n",
        "```"
      ],
      "metadata": {
        "id": "DKo1jh5xdpng"
      }
    },
    {
      "cell_type": "code",
      "source": [
        "while True:\n",
        "  print('Loop infinito')"
      ],
      "metadata": {
        "id": "8glFLNXjgOr5"
      },
      "execution_count": null,
      "outputs": []
    },
    {
      "cell_type": "markdown",
      "source": [
        "Se rodarmos esse *loop*, ele exibirá o *print* de forma infinita na tela, certo, então devemos procurar formas de parar esse *loop*.\n",
        "\n",
        "No *Python* temos os auxiliadores *break*, *continue* e *pass* esses auxiliadores vão nos ajudar a parar, continuar ou pular as instruções\n",
        "\n",
        "**break**\n",
        "O comando *break* geralmente, virá acompanhado de uma condição *if*, como vimos na aula passada, podemos colocar laços com condicionais.\n"
      ],
      "metadata": {
        "id": "0HIIbVJ1grxL"
      }
    },
    {
      "cell_type": "code",
      "source": [
        "# Exemplo\n",
        "\n",
        "for i in range(10):\n",
        "  if i == 5:\n",
        "    break\n",
        "  else:\n",
        "    print(i)"
      ],
      "metadata": {
        "colab": {
          "base_uri": "https://localhost:8080/"
        },
        "id": "C-doiv1GqxHa",
        "outputId": "653ae71f-bcfe-4a6a-c8b5-1546da5a846f"
      },
      "execution_count": null,
      "outputs": [
        {
          "output_type": "stream",
          "name": "stdout",
          "text": [
            "0\n",
            "1\n",
            "2\n",
            "3\n",
            "4\n"
          ]
        }
      ]
    },
    {
      "cell_type": "markdown",
      "source": [
        "Certo, então vendo assim, vemos que o nosso *for*, não vai completar todo nosso laço que pedimos, justamente pela condicional seguida do comando break\n",
        "\n",
        "Podemos utilizar esse comando tanto com *while* como com *for*."
      ],
      "metadata": {
        "id": "N9wZirYKq7aK"
      }
    },
    {
      "cell_type": "code",
      "source": [
        "# Exemplo 2\n",
        "\n",
        "cont = 0\n",
        "while cont <= 10:\n",
        "  cont += 1\n",
        "  if cont == 6:\n",
        "    break\n",
        "  else:\n",
        "    print(cont)"
      ],
      "metadata": {
        "colab": {
          "base_uri": "https://localhost:8080/"
        },
        "id": "V4IteyhYrKo_",
        "outputId": "395cc225-0313-4781-b14f-271fb8c93716"
      },
      "execution_count": null,
      "outputs": [
        {
          "output_type": "stream",
          "name": "stdout",
          "text": [
            "1\n",
            "2\n",
            "3\n",
            "4\n",
            "5\n"
          ]
        }
      ]
    },
    {
      "cell_type": "markdown",
      "source": [
        "Certo, agora vamos ver o comando *continue*\n",
        "\n",
        "O *continue* é similar ao *break*, porém, ao invés dele parar todo bloco de código, ele irá pular e vai para a próxima instrução"
      ],
      "metadata": {
        "id": "pkPgxB8DuUVD"
      }
    },
    {
      "cell_type": "code",
      "source": [
        "# Exemplo 1\n",
        "\n",
        "cont = 0\n",
        "\n",
        "while cont <= 5:\n",
        "  cont += 1\n",
        "  if cont == 4:\n",
        "    continue\n",
        "  else:\n",
        "    print(cont)"
      ],
      "metadata": {
        "colab": {
          "base_uri": "https://localhost:8080/"
        },
        "id": "htMhlefruhss",
        "outputId": "e4cc7f87-eda2-4fbe-9fb7-12d201a74530"
      },
      "execution_count": null,
      "outputs": [
        {
          "output_type": "stream",
          "name": "stdout",
          "text": [
            "1\n",
            "2\n",
            "3\n",
            "5\n",
            "6\n"
          ]
        }
      ]
    },
    {
      "cell_type": "markdown",
      "source": [
        "Vendo dessa maneiram, verificamos que ele pulou o número 4 justamente por conta do *continue*, ele entrou no bloco do *if* e não no do *else*, fazendo com que o *continue* seja executado.\n",
        "\n",
        "Certo agora que vimos o *continue*, podemos voltar para aquela atividade acima e agora sim, pedir o nome dos usuários, certo?\n"
      ],
      "metadata": {
        "id": "QsEVUEahvJwt"
      }
    },
    {
      "cell_type": "code",
      "source": [
        "# Exemplo 1\n",
        "\n",
        "\n",
        "while True:\n",
        "  name1 = input('Digite seu nome: ')\n",
        "  name2 = input('Digite seu nome: ')\n",
        "  if name1 != name2:\n",
        "    print('Os nomes são diferentes')\n",
        "    continue\n",
        "  else:\n",
        "    print(f'O primeiro nome: {name1} é igual ao segundo nome: {name2}')\n",
        "    break\n"
      ],
      "metadata": {
        "colab": {
          "base_uri": "https://localhost:8080/"
        },
        "id": "oleLqX6owBDW",
        "outputId": "c4363c35-075d-455c-cdf6-89915b41524c"
      },
      "execution_count": null,
      "outputs": [
        {
          "output_type": "stream",
          "name": "stdout",
          "text": [
            "Digite seu nome: felipe\n",
            "Digite seu nome: a\n",
            "Os nomes são diferentes\n",
            "Digite seu nome: f\n",
            "Digite seu nome: e\n",
            "Os nomes são diferentes\n",
            "Digite seu nome: r\n",
            "Digite seu nome: t\n",
            "Os nomes são diferentes\n",
            "Digite seu nome: t\n",
            "Digite seu nome: t\n",
            "O primeiro nome: t é igual ao segundo nome: t\n"
          ]
        }
      ]
    },
    {
      "cell_type": "markdown",
      "source": [
        "Outra maneira que poderíamos fazer sem o *continue* e o *break*, era com reatribuição de variável, da seguinte maneira"
      ],
      "metadata": {
        "id": "C7LUZqNGxfZt"
      }
    },
    {
      "cell_type": "markdown",
      "source": [
        "Além disso, temos o comando *pass*, que ele ignora qualquer bloco de código, veja na sua IDE, quando você escreve *while*, *for* ou *if*, se não passarmos nenhuma instrução, a IDE fica reclamando, como se estivesse falando \"Passe uma instrução, se não está errado\""
      ],
      "metadata": {
        "id": "NMmG6QZDx80o"
      }
    },
    {
      "cell_type": "code",
      "source": [
        "# Exemplo\n",
        "for i in range(10):\n",
        "  pass"
      ],
      "metadata": {
        "id": "5NgocKgjyigM"
      },
      "execution_count": null,
      "outputs": []
    },
    {
      "cell_type": "markdown",
      "source": [
        "Só precisamos disso para utilizar o *pass*, ele é muito utilizado em funções, quando não sabemos o que queremos, mas sabemos que temos que ter essa função, que será visto daqui a algumas aulas.\n",
        "\n",
        "Porém, em *python*, temos ainda outra forma de utilizar o *pass*, que é utilizando *...*\n",
        "\n",
        "Isso mesmo, apenas três pontos fazem a mesma coisa que a palavra *pass*"
      ],
      "metadata": {
        "id": "0Vu8juvnyqyl"
      }
    },
    {
      "cell_type": "code",
      "source": [
        "for i in range(10):\n",
        "  ..."
      ],
      "metadata": {
        "id": "4bxfpWFky6FN"
      },
      "execution_count": null,
      "outputs": []
    },
    {
      "cell_type": "markdown",
      "source": [
        "#Agora que vimos esses comandos, vamos treinar em algumas atividades:\n",
        "- 1º Faça um programa para confirmação de senha, o primeiro input do usuário deve igual ao segundo, se não forem iguais o loop deve continuar até o usuário colocar as senhas iguais"
      ],
      "metadata": {
        "id": "WyWtSg0M0A62"
      }
    },
    {
      "cell_type": "code",
      "source": [
        "print('''\n",
        "      Aplicação para verificação de senhas\n",
        "      O usuário precisa passar as senhas\n",
        "      iguais, se não será um loop infinito\n",
        "      ''')\n",
        "\n",
        "while True:\n",
        "  senha1 = int(input('Digite uma senha(apenas números): '))\n",
        "  senha2 = int(input('Repita a senha(apenas números): '))\n",
        "  if senha1 != senha2:\n",
        "    print('Senhas diferentes')\n",
        "    continue\n",
        "  else:\n",
        "    print('''\n",
        "               Parabéns!!!!\n",
        "        Cadastro efetuado com sucesso\n",
        "    ''')\n",
        "    break\n"
      ],
      "metadata": {
        "colab": {
          "base_uri": "https://localhost:8080/"
        },
        "id": "k4C-EJc7K3tL",
        "outputId": "e0ca4aaf-1289-4fca-f363-fe4db06ee628"
      },
      "execution_count": 1,
      "outputs": [
        {
          "output_type": "stream",
          "name": "stdout",
          "text": [
            "\n",
            "      Aplicação para verificação de senhas\n",
            "      O usuário precisa passar as senhas\n",
            "      iguais, se não será um loop infinito\n",
            "      \n",
            "Digite uma senha(apenas números): 12345\n",
            "Repita a senha(apenas números): 123\n",
            "Digite uma senha(apenas números): 123\n",
            "Repita a senha(apenas números): 12345\n",
            "Digite uma senha(apenas números): 12345\n",
            "Repita a senha(apenas números): 12345\n",
            "\n",
            "               Parabéns!!!!\n",
            "        Cadastro efetuado com sucesso\n",
            "    \n"
          ]
        }
      ]
    },
    {
      "cell_type": "code",
      "source": [
        "print('Confirmação de senha')\n",
        "senha1 = input('Digite a senha: ')\n",
        "senha2 = input('Confirme a senha: ')\n",
        "while senha1 != senha2:\n",
        "    print('Senha errada, digite novamente.')\n",
        "    senha1 = input('Digite a senha: ')\n",
        "    senha2 = input('Confirme a senha: ')\n",
        "\n",
        "print('senha confirmada, parabéns!')"
      ],
      "metadata": {
        "colab": {
          "base_uri": "https://localhost:8080/"
        },
        "id": "EM7hyZ3Rw6_5",
        "outputId": "18dd60e3-26f5-42ee-ceb1-27aadbb0520b"
      },
      "execution_count": null,
      "outputs": [
        {
          "output_type": "stream",
          "name": "stdout",
          "text": [
            "Confirmação de senha\n",
            "Digite a senha: 123\n",
            "Confirme a senha: 23\n",
            "Senha errada, digite novamente.\n",
            "Digite a senha: 323\n",
            "Confirme a senha: 23\n",
            "Senha errada, digite novamente.\n",
            "Digite a senha: 22\n",
            "Confirme a senha: 22\n",
            "senha confirmada, parabéns!\n"
          ]
        }
      ]
    },
    {
      "cell_type": "markdown",
      "source": [
        "### Por último, vamos ver o operador *else*, isso mesmo, o operador *else*.\n",
        "Como vimos em condicionais, quase sempre vem um *else* depois do operador *if*,\n",
        "o *else* vem sempre que uma ou nenhuma condição é atendida e com o *for* e *while* não diferente, quando a condição não estiver mais sendo atendida, o operador *else* vai aparecer\n",
        "\n",
        "```\n",
        "  contador = 0\n",
        "  while contador <= 10:\n",
        "    print(contador)\n",
        "    contador += 1\n",
        "  else:\n",
        "    print(f'A contagem do {contador} acabou')\n",
        "```\n",
        "\n",
        "Mas lembre-se, esse *else* utilizado com *while* e *for* é muito pouco utilizado."
      ],
      "metadata": {
        "id": "0TgWWvgYOlAE"
      }
    },
    {
      "cell_type": "code",
      "source": [
        "contador = 0\n",
        "while contador <= 10:\n",
        "  print(contador)\n",
        "  contador += 1\n",
        "else:\n",
        "  print(f'A contagem do {contador} acabou')"
      ],
      "metadata": {
        "colab": {
          "base_uri": "https://localhost:8080/"
        },
        "id": "_BBETTxtQdQS",
        "outputId": "1b2f6727-80b2-44b9-815e-5753c3178fac"
      },
      "execution_count": 3,
      "outputs": [
        {
          "output_type": "stream",
          "name": "stdout",
          "text": [
            "0\n",
            "1\n",
            "2\n",
            "3\n",
            "4\n",
            "5\n",
            "6\n",
            "7\n",
            "8\n",
            "9\n",
            "10\n",
            "A contagem do 11 acabou\n"
          ]
        }
      ]
    },
    {
      "cell_type": "markdown",
      "source": [
        "Perceba que ele ainda incremeta mais um no valor 10, porque ele precisa ser menor ou **igual** a 10, então ele incrementa, porém, quando volta no looping, o 11 já não menor nem muito menos igual a 10, por isso, ele cai no 10."
      ],
      "metadata": {
        "id": "OHoYuY97RHzc"
      }
    },
    {
      "cell_type": "markdown",
      "source": [
        "##Chegamos ao fim de mais uma aula, espero que tenha gostado\n",
        "🦾🦾🦾🦾🦾🦾🦾🦾🦾🦾🦾🦾🦾🦾🦾🦾"
      ],
      "metadata": {
        "id": "NDc8DtmwRc8F"
      }
    }
  ]
}