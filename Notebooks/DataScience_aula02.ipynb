{
  "nbformat": 4,
  "nbformat_minor": 0,
  "metadata": {
    "colab": {
      "provenance": []
    },
    "kernelspec": {
      "name": "python3",
      "display_name": "Python 3"
    },
    "language_info": {
      "name": "python"
    }
  },
  "cells": [
    {
      "cell_type": "markdown",
      "source": [
        "#Por que o Python para ciência de dados?\n",
        "\n",
        "##Python:\n",
        "- 2° linguagem mais popular do mundo\n",
        "- Linguagem que atende uma gama de recursos de Big Data, Machine learning, estatística, análise de dados, IA e entre diversas outras coisas.\n",
        "- Possui bibliotecas muito boas, como matplotlib, pandas, seaborn e numpy\n",
        "\n",
        "##Certo e o que é o Pandas?\n",
        "O Pandas, é uma biblioteca para manipulação de dados, sendo a mais utilizada hoje em dia. Ela é *open source* desde 2009 e tem a licença **BSD**\n",
        "### E quem criou o Pandas?\n",
        "A biblioteca foi criada por uma americana chamada **AQR Capital Management**, pelo programador Wes McKinney."
      ],
      "metadata": {
        "id": "76zuuP82J16p"
      }
    },
    {
      "cell_type": "markdown",
      "source": [
        "##Obs:\n",
        "A biblioteca *Pandas*, foi escrita em C, Python e Cython."
      ],
      "metadata": {
        "id": "iWOC7yIT2mIo"
      }
    },
    {
      "cell_type": "markdown",
      "source": [
        "###O **Pandas** pode trabalhar com diversos conjuntos de dados e suporta, diversas extensões, como:\n",
        " - CSV\n",
        " - XLSX\n",
        " - PARQUET\n",
        " - HTML\n",
        " - HDFS\n",
        " - JSON\n",
        " - SQL"
      ],
      "metadata": {
        "id": "0Wd78t9V2z2X"
      }
    },
    {
      "cell_type": "markdown",
      "source": [
        "#Objetos primários:\n",
        "\n",
        "Dentro da biblioteca Pandas, nós temos dois objetos primários muito importantes, que são as *Series* e os nossos *DataFrames*. \n",
        "\n",
        "##O que são Series?\n",
        "\n",
        "As Series são objetos unidimensional, com somente um eixo de rótulos, que é conhecido como *Index*, ou seja, o *Index* fica responsável por identificar cada registro dos nossos dados *Series*.\n",
        "\n",
        "###Exemplo de Series:"
      ],
      "metadata": {
        "id": "zsjC1gfl3iKo"
      }
    },
    {
      "cell_type": "code",
      "source": [
        "import pandas as pd"
      ],
      "metadata": {
        "id": "ceT6GONy5Maj"
      },
      "execution_count": 1,
      "outputs": []
    },
    {
      "cell_type": "code",
      "source": [
        "dataset = r'https://raw.githubusercontent.com/rafaelpuyau/infinity_school/main/ds/datasets/wine_billing.csv'\n",
        "df = pd.read_csv(dataset, sep=';')"
      ],
      "metadata": {
        "id": "Z9Iws7bI6Dcl"
      },
      "execution_count": 2,
      "outputs": []
    },
    {
      "cell_type": "code",
      "source": [
        "#Isso é uma Series\n",
        "df['data']"
      ],
      "metadata": {
        "colab": {
          "base_uri": "https://localhost:8080/"
        },
        "id": "u_DWPrAb6MQI",
        "outputId": "0014d6f3-ab06-4da2-d945-2652d430f70d"
      },
      "execution_count": 3,
      "outputs": [
        {
          "output_type": "execute_result",
          "data": {
            "text/plain": [
              "0     2021-11-01\n",
              "1     2021-11-01\n",
              "2     2021-11-01\n",
              "3     2021-11-02\n",
              "4     2021-11-02\n",
              "5     2021-11-02\n",
              "6     2021-11-03\n",
              "7     2021-11-03\n",
              "8     2021-11-03\n",
              "9     2021-11-04\n",
              "10    2021-11-04\n",
              "11    2021-11-04\n",
              "12    2021-11-05\n",
              "13    2021-11-05\n",
              "14    2021-11-05\n",
              "15    2021-11-06\n",
              "16    2021-11-06\n",
              "17    2021-11-06\n",
              "18    2021-11-07\n",
              "19    2021-11-07\n",
              "20    2021-11-07\n",
              "21    2021-11-08\n",
              "22    2021-11-08\n",
              "23    2021-11-08\n",
              "24    2021-11-09\n",
              "25    2021-11-09\n",
              "26    2021-11-09\n",
              "27    2021-11-10\n",
              "28    2021-11-10\n",
              "29    2021-11-10\n",
              "30    2021-11-11\n",
              "31    2021-11-11\n",
              "32    2021-11-11\n",
              "33    2021-11-12\n",
              "34    2021-11-12\n",
              "35    2021-11-12\n",
              "36    2021-11-13\n",
              "37    2021-11-13\n",
              "38    2021-11-13\n",
              "39    2021-11-14\n",
              "40    2021-11-14\n",
              "41    2021-11-14\n",
              "42    2021-11-15\n",
              "43    2021-11-15\n",
              "44    2021-11-15\n",
              "Name: data, dtype: object"
            ]
          },
          "metadata": {},
          "execution_count": 3
        }
      ]
    },
    {
      "cell_type": "markdown",
      "source": [
        "Portanto, a *Series* possui esse padrão apresentado acima, os dados a direita e os *Index* a esquerda, abaixo vemos também a pequena descrição da *Series*."
      ],
      "metadata": {
        "id": "znLRpush6XVv"
      }
    },
    {
      "cell_type": "markdown",
      "source": [
        "## E o que são **DataFrame?**\n",
        "\n",
        "Os *DataFrame* são objetos bidemensionais, de tamanhos variados. O seu formato se assemelha ao do Excel, onde possuímos uma tabela organizadas entre linhas e colunas.\n",
        "O *DataFrame* séria como um conjunto de *Series*, que ao invés de possuir uma única coluna, ele possui várias, com apenas um único Index: "
      ],
      "metadata": {
        "id": "ZeBjGhj37Y8A"
      }
    },
    {
      "cell_type": "markdown",
      "source": [
        "\n",
        "###Exemplo de **DataFrame**"
      ],
      "metadata": {
        "id": "p132mAp38jzQ"
      }
    },
    {
      "cell_type": "markdown",
      "source": [
        "Dessa vez podemos reutilizar o CSV que possuímos acima."
      ],
      "metadata": {
        "id": "CrMIlxU38pg4"
      }
    },
    {
      "cell_type": "code",
      "source": [
        "'''Você pode chamar das duas formas: '''\n",
        "display(df)\n",
        "df"
      ],
      "metadata": {
        "colab": {
          "base_uri": "https://localhost:8080/",
          "height": 1000
        },
        "id": "jgHIHiYX80a-",
        "outputId": "28baedb9-75e9-4ff7-b0aa-9953fbf65ef1"
      },
      "execution_count": 4,
      "outputs": [
        {
          "output_type": "display_data",
          "data": {
            "text/plain": [
              "          data     estilo  quantidade de garrafas  preço da garrafa\n",
              "0   2021-11-01      tinto                       7            219.69\n",
              "1   2021-11-01     branco                       4            118.83\n",
              "2   2021-11-01  espumante                       5            110.38\n",
              "3   2021-11-02      tinto                       3            215.55\n",
              "4   2021-11-02     branco                       2            118.83\n",
              "5   2021-11-02  espumante                       1            128.35\n",
              "6   2021-11-03      tinto                      10            227.98\n",
              "7   2021-11-03     branco                      14            110.54\n",
              "8   2021-11-03  espumante                      10            114.53\n",
              "9   2021-11-04      tinto                       8            215.55\n",
              "10  2021-11-04     branco                       8            111.92\n",
              "11  2021-11-04  espumante                       4            117.29\n",
              "12  2021-11-05      tinto                      10            196.20\n",
              "13  2021-11-05     branco                       3             99.48\n",
              "14  2021-11-05  espumante                       8             88.28\n",
              "15  2021-11-06      tinto                       7            181.00\n",
              "16  2021-11-06     branco                       5             85.67\n",
              "17  2021-11-06  espumante                       5             77.22\n",
              "18  2021-11-07      tinto                       9            154.75\n",
              "19  2021-11-07     branco                       5             89.81\n",
              "20  2021-11-07  espumante                      10            104.86\n",
              "21  2021-11-08      tinto                       7            207.26\n",
              "22  2021-11-08     branco                       4            103.63\n",
              "23  2021-11-08  espumante                       9            104.86\n",
              "24  2021-11-09      tinto                      15            207.26\n",
              "25  2021-11-09     branco                      14            103.63\n",
              "26  2021-11-09  espumante                      11            104.86\n",
              "27  2021-11-10      tinto                      17            207.26\n",
              "28  2021-11-10     branco                      12            103.63\n",
              "29  2021-11-10  espumante                      10            104.86\n",
              "30  2021-11-11      tinto                       7            207.26\n",
              "31  2021-11-11     branco                       8            103.63\n",
              "32  2021-11-11  espumante                       3            104.86\n",
              "33  2021-11-12      tinto                       7            207.26\n",
              "34  2021-11-12     branco                       2            103.63\n",
              "35  2021-11-12  espumante                       5            104.86\n",
              "36  2021-11-13      tinto                       9            207.26\n",
              "37  2021-11-13     branco                       9            103.63\n",
              "38  2021-11-13  espumante                       9            104.86\n",
              "39  2021-11-14      tinto                      20            207.26\n",
              "40  2021-11-14     branco                       8            103.63\n",
              "41  2021-11-14  espumante                      12            104.86\n",
              "42  2021-11-15      tinto                      10            207.26\n",
              "43  2021-11-15     branco                      10            103.63\n",
              "44  2021-11-15  espumante                      15            104.86"
            ],
            "text/html": [
              "\n",
              "  <div id=\"df-5d05a012-550b-449e-8957-c55cb2712bdf\">\n",
              "    <div class=\"colab-df-container\">\n",
              "      <div>\n",
              "<style scoped>\n",
              "    .dataframe tbody tr th:only-of-type {\n",
              "        vertical-align: middle;\n",
              "    }\n",
              "\n",
              "    .dataframe tbody tr th {\n",
              "        vertical-align: top;\n",
              "    }\n",
              "\n",
              "    .dataframe thead th {\n",
              "        text-align: right;\n",
              "    }\n",
              "</style>\n",
              "<table border=\"1\" class=\"dataframe\">\n",
              "  <thead>\n",
              "    <tr style=\"text-align: right;\">\n",
              "      <th></th>\n",
              "      <th>data</th>\n",
              "      <th>estilo</th>\n",
              "      <th>quantidade de garrafas</th>\n",
              "      <th>preço da garrafa</th>\n",
              "    </tr>\n",
              "  </thead>\n",
              "  <tbody>\n",
              "    <tr>\n",
              "      <th>0</th>\n",
              "      <td>2021-11-01</td>\n",
              "      <td>tinto</td>\n",
              "      <td>7</td>\n",
              "      <td>219.69</td>\n",
              "    </tr>\n",
              "    <tr>\n",
              "      <th>1</th>\n",
              "      <td>2021-11-01</td>\n",
              "      <td>branco</td>\n",
              "      <td>4</td>\n",
              "      <td>118.83</td>\n",
              "    </tr>\n",
              "    <tr>\n",
              "      <th>2</th>\n",
              "      <td>2021-11-01</td>\n",
              "      <td>espumante</td>\n",
              "      <td>5</td>\n",
              "      <td>110.38</td>\n",
              "    </tr>\n",
              "    <tr>\n",
              "      <th>3</th>\n",
              "      <td>2021-11-02</td>\n",
              "      <td>tinto</td>\n",
              "      <td>3</td>\n",
              "      <td>215.55</td>\n",
              "    </tr>\n",
              "    <tr>\n",
              "      <th>4</th>\n",
              "      <td>2021-11-02</td>\n",
              "      <td>branco</td>\n",
              "      <td>2</td>\n",
              "      <td>118.83</td>\n",
              "    </tr>\n",
              "    <tr>\n",
              "      <th>5</th>\n",
              "      <td>2021-11-02</td>\n",
              "      <td>espumante</td>\n",
              "      <td>1</td>\n",
              "      <td>128.35</td>\n",
              "    </tr>\n",
              "    <tr>\n",
              "      <th>6</th>\n",
              "      <td>2021-11-03</td>\n",
              "      <td>tinto</td>\n",
              "      <td>10</td>\n",
              "      <td>227.98</td>\n",
              "    </tr>\n",
              "    <tr>\n",
              "      <th>7</th>\n",
              "      <td>2021-11-03</td>\n",
              "      <td>branco</td>\n",
              "      <td>14</td>\n",
              "      <td>110.54</td>\n",
              "    </tr>\n",
              "    <tr>\n",
              "      <th>8</th>\n",
              "      <td>2021-11-03</td>\n",
              "      <td>espumante</td>\n",
              "      <td>10</td>\n",
              "      <td>114.53</td>\n",
              "    </tr>\n",
              "    <tr>\n",
              "      <th>9</th>\n",
              "      <td>2021-11-04</td>\n",
              "      <td>tinto</td>\n",
              "      <td>8</td>\n",
              "      <td>215.55</td>\n",
              "    </tr>\n",
              "    <tr>\n",
              "      <th>10</th>\n",
              "      <td>2021-11-04</td>\n",
              "      <td>branco</td>\n",
              "      <td>8</td>\n",
              "      <td>111.92</td>\n",
              "    </tr>\n",
              "    <tr>\n",
              "      <th>11</th>\n",
              "      <td>2021-11-04</td>\n",
              "      <td>espumante</td>\n",
              "      <td>4</td>\n",
              "      <td>117.29</td>\n",
              "    </tr>\n",
              "    <tr>\n",
              "      <th>12</th>\n",
              "      <td>2021-11-05</td>\n",
              "      <td>tinto</td>\n",
              "      <td>10</td>\n",
              "      <td>196.20</td>\n",
              "    </tr>\n",
              "    <tr>\n",
              "      <th>13</th>\n",
              "      <td>2021-11-05</td>\n",
              "      <td>branco</td>\n",
              "      <td>3</td>\n",
              "      <td>99.48</td>\n",
              "    </tr>\n",
              "    <tr>\n",
              "      <th>14</th>\n",
              "      <td>2021-11-05</td>\n",
              "      <td>espumante</td>\n",
              "      <td>8</td>\n",
              "      <td>88.28</td>\n",
              "    </tr>\n",
              "    <tr>\n",
              "      <th>15</th>\n",
              "      <td>2021-11-06</td>\n",
              "      <td>tinto</td>\n",
              "      <td>7</td>\n",
              "      <td>181.00</td>\n",
              "    </tr>\n",
              "    <tr>\n",
              "      <th>16</th>\n",
              "      <td>2021-11-06</td>\n",
              "      <td>branco</td>\n",
              "      <td>5</td>\n",
              "      <td>85.67</td>\n",
              "    </tr>\n",
              "    <tr>\n",
              "      <th>17</th>\n",
              "      <td>2021-11-06</td>\n",
              "      <td>espumante</td>\n",
              "      <td>5</td>\n",
              "      <td>77.22</td>\n",
              "    </tr>\n",
              "    <tr>\n",
              "      <th>18</th>\n",
              "      <td>2021-11-07</td>\n",
              "      <td>tinto</td>\n",
              "      <td>9</td>\n",
              "      <td>154.75</td>\n",
              "    </tr>\n",
              "    <tr>\n",
              "      <th>19</th>\n",
              "      <td>2021-11-07</td>\n",
              "      <td>branco</td>\n",
              "      <td>5</td>\n",
              "      <td>89.81</td>\n",
              "    </tr>\n",
              "    <tr>\n",
              "      <th>20</th>\n",
              "      <td>2021-11-07</td>\n",
              "      <td>espumante</td>\n",
              "      <td>10</td>\n",
              "      <td>104.86</td>\n",
              "    </tr>\n",
              "    <tr>\n",
              "      <th>21</th>\n",
              "      <td>2021-11-08</td>\n",
              "      <td>tinto</td>\n",
              "      <td>7</td>\n",
              "      <td>207.26</td>\n",
              "    </tr>\n",
              "    <tr>\n",
              "      <th>22</th>\n",
              "      <td>2021-11-08</td>\n",
              "      <td>branco</td>\n",
              "      <td>4</td>\n",
              "      <td>103.63</td>\n",
              "    </tr>\n",
              "    <tr>\n",
              "      <th>23</th>\n",
              "      <td>2021-11-08</td>\n",
              "      <td>espumante</td>\n",
              "      <td>9</td>\n",
              "      <td>104.86</td>\n",
              "    </tr>\n",
              "    <tr>\n",
              "      <th>24</th>\n",
              "      <td>2021-11-09</td>\n",
              "      <td>tinto</td>\n",
              "      <td>15</td>\n",
              "      <td>207.26</td>\n",
              "    </tr>\n",
              "    <tr>\n",
              "      <th>25</th>\n",
              "      <td>2021-11-09</td>\n",
              "      <td>branco</td>\n",
              "      <td>14</td>\n",
              "      <td>103.63</td>\n",
              "    </tr>\n",
              "    <tr>\n",
              "      <th>26</th>\n",
              "      <td>2021-11-09</td>\n",
              "      <td>espumante</td>\n",
              "      <td>11</td>\n",
              "      <td>104.86</td>\n",
              "    </tr>\n",
              "    <tr>\n",
              "      <th>27</th>\n",
              "      <td>2021-11-10</td>\n",
              "      <td>tinto</td>\n",
              "      <td>17</td>\n",
              "      <td>207.26</td>\n",
              "    </tr>\n",
              "    <tr>\n",
              "      <th>28</th>\n",
              "      <td>2021-11-10</td>\n",
              "      <td>branco</td>\n",
              "      <td>12</td>\n",
              "      <td>103.63</td>\n",
              "    </tr>\n",
              "    <tr>\n",
              "      <th>29</th>\n",
              "      <td>2021-11-10</td>\n",
              "      <td>espumante</td>\n",
              "      <td>10</td>\n",
              "      <td>104.86</td>\n",
              "    </tr>\n",
              "    <tr>\n",
              "      <th>30</th>\n",
              "      <td>2021-11-11</td>\n",
              "      <td>tinto</td>\n",
              "      <td>7</td>\n",
              "      <td>207.26</td>\n",
              "    </tr>\n",
              "    <tr>\n",
              "      <th>31</th>\n",
              "      <td>2021-11-11</td>\n",
              "      <td>branco</td>\n",
              "      <td>8</td>\n",
              "      <td>103.63</td>\n",
              "    </tr>\n",
              "    <tr>\n",
              "      <th>32</th>\n",
              "      <td>2021-11-11</td>\n",
              "      <td>espumante</td>\n",
              "      <td>3</td>\n",
              "      <td>104.86</td>\n",
              "    </tr>\n",
              "    <tr>\n",
              "      <th>33</th>\n",
              "      <td>2021-11-12</td>\n",
              "      <td>tinto</td>\n",
              "      <td>7</td>\n",
              "      <td>207.26</td>\n",
              "    </tr>\n",
              "    <tr>\n",
              "      <th>34</th>\n",
              "      <td>2021-11-12</td>\n",
              "      <td>branco</td>\n",
              "      <td>2</td>\n",
              "      <td>103.63</td>\n",
              "    </tr>\n",
              "    <tr>\n",
              "      <th>35</th>\n",
              "      <td>2021-11-12</td>\n",
              "      <td>espumante</td>\n",
              "      <td>5</td>\n",
              "      <td>104.86</td>\n",
              "    </tr>\n",
              "    <tr>\n",
              "      <th>36</th>\n",
              "      <td>2021-11-13</td>\n",
              "      <td>tinto</td>\n",
              "      <td>9</td>\n",
              "      <td>207.26</td>\n",
              "    </tr>\n",
              "    <tr>\n",
              "      <th>37</th>\n",
              "      <td>2021-11-13</td>\n",
              "      <td>branco</td>\n",
              "      <td>9</td>\n",
              "      <td>103.63</td>\n",
              "    </tr>\n",
              "    <tr>\n",
              "      <th>38</th>\n",
              "      <td>2021-11-13</td>\n",
              "      <td>espumante</td>\n",
              "      <td>9</td>\n",
              "      <td>104.86</td>\n",
              "    </tr>\n",
              "    <tr>\n",
              "      <th>39</th>\n",
              "      <td>2021-11-14</td>\n",
              "      <td>tinto</td>\n",
              "      <td>20</td>\n",
              "      <td>207.26</td>\n",
              "    </tr>\n",
              "    <tr>\n",
              "      <th>40</th>\n",
              "      <td>2021-11-14</td>\n",
              "      <td>branco</td>\n",
              "      <td>8</td>\n",
              "      <td>103.63</td>\n",
              "    </tr>\n",
              "    <tr>\n",
              "      <th>41</th>\n",
              "      <td>2021-11-14</td>\n",
              "      <td>espumante</td>\n",
              "      <td>12</td>\n",
              "      <td>104.86</td>\n",
              "    </tr>\n",
              "    <tr>\n",
              "      <th>42</th>\n",
              "      <td>2021-11-15</td>\n",
              "      <td>tinto</td>\n",
              "      <td>10</td>\n",
              "      <td>207.26</td>\n",
              "    </tr>\n",
              "    <tr>\n",
              "      <th>43</th>\n",
              "      <td>2021-11-15</td>\n",
              "      <td>branco</td>\n",
              "      <td>10</td>\n",
              "      <td>103.63</td>\n",
              "    </tr>\n",
              "    <tr>\n",
              "      <th>44</th>\n",
              "      <td>2021-11-15</td>\n",
              "      <td>espumante</td>\n",
              "      <td>15</td>\n",
              "      <td>104.86</td>\n",
              "    </tr>\n",
              "  </tbody>\n",
              "</table>\n",
              "</div>\n",
              "      <button class=\"colab-df-convert\" onclick=\"convertToInteractive('df-5d05a012-550b-449e-8957-c55cb2712bdf')\"\n",
              "              title=\"Convert this dataframe to an interactive table.\"\n",
              "              style=\"display:none;\">\n",
              "        \n",
              "  <svg xmlns=\"http://www.w3.org/2000/svg\" height=\"24px\"viewBox=\"0 0 24 24\"\n",
              "       width=\"24px\">\n",
              "    <path d=\"M0 0h24v24H0V0z\" fill=\"none\"/>\n",
              "    <path d=\"M18.56 5.44l.94 2.06.94-2.06 2.06-.94-2.06-.94-.94-2.06-.94 2.06-2.06.94zm-11 1L8.5 8.5l.94-2.06 2.06-.94-2.06-.94L8.5 2.5l-.94 2.06-2.06.94zm10 10l.94 2.06.94-2.06 2.06-.94-2.06-.94-.94-2.06-.94 2.06-2.06.94z\"/><path d=\"M17.41 7.96l-1.37-1.37c-.4-.4-.92-.59-1.43-.59-.52 0-1.04.2-1.43.59L10.3 9.45l-7.72 7.72c-.78.78-.78 2.05 0 2.83L4 21.41c.39.39.9.59 1.41.59.51 0 1.02-.2 1.41-.59l7.78-7.78 2.81-2.81c.8-.78.8-2.07 0-2.86zM5.41 20L4 18.59l7.72-7.72 1.47 1.35L5.41 20z\"/>\n",
              "  </svg>\n",
              "      </button>\n",
              "      \n",
              "  <style>\n",
              "    .colab-df-container {\n",
              "      display:flex;\n",
              "      flex-wrap:wrap;\n",
              "      gap: 12px;\n",
              "    }\n",
              "\n",
              "    .colab-df-convert {\n",
              "      background-color: #E8F0FE;\n",
              "      border: none;\n",
              "      border-radius: 50%;\n",
              "      cursor: pointer;\n",
              "      display: none;\n",
              "      fill: #1967D2;\n",
              "      height: 32px;\n",
              "      padding: 0 0 0 0;\n",
              "      width: 32px;\n",
              "    }\n",
              "\n",
              "    .colab-df-convert:hover {\n",
              "      background-color: #E2EBFA;\n",
              "      box-shadow: 0px 1px 2px rgba(60, 64, 67, 0.3), 0px 1px 3px 1px rgba(60, 64, 67, 0.15);\n",
              "      fill: #174EA6;\n",
              "    }\n",
              "\n",
              "    [theme=dark] .colab-df-convert {\n",
              "      background-color: #3B4455;\n",
              "      fill: #D2E3FC;\n",
              "    }\n",
              "\n",
              "    [theme=dark] .colab-df-convert:hover {\n",
              "      background-color: #434B5C;\n",
              "      box-shadow: 0px 1px 3px 1px rgba(0, 0, 0, 0.15);\n",
              "      filter: drop-shadow(0px 1px 2px rgba(0, 0, 0, 0.3));\n",
              "      fill: #FFFFFF;\n",
              "    }\n",
              "  </style>\n",
              "\n",
              "      <script>\n",
              "        const buttonEl =\n",
              "          document.querySelector('#df-5d05a012-550b-449e-8957-c55cb2712bdf button.colab-df-convert');\n",
              "        buttonEl.style.display =\n",
              "          google.colab.kernel.accessAllowed ? 'block' : 'none';\n",
              "\n",
              "        async function convertToInteractive(key) {\n",
              "          const element = document.querySelector('#df-5d05a012-550b-449e-8957-c55cb2712bdf');\n",
              "          const dataTable =\n",
              "            await google.colab.kernel.invokeFunction('convertToInteractive',\n",
              "                                                     [key], {});\n",
              "          if (!dataTable) return;\n",
              "\n",
              "          const docLinkHtml = 'Like what you see? Visit the ' +\n",
              "            '<a target=\"_blank\" href=https://colab.research.google.com/notebooks/data_table.ipynb>data table notebook</a>'\n",
              "            + ' to learn more about interactive tables.';\n",
              "          element.innerHTML = '';\n",
              "          dataTable['output_type'] = 'display_data';\n",
              "          await google.colab.output.renderOutput(dataTable, element);\n",
              "          const docLink = document.createElement('div');\n",
              "          docLink.innerHTML = docLinkHtml;\n",
              "          element.appendChild(docLink);\n",
              "        }\n",
              "      </script>\n",
              "    </div>\n",
              "  </div>\n",
              "  "
            ]
          },
          "metadata": {}
        },
        {
          "output_type": "execute_result",
          "data": {
            "text/plain": [
              "          data     estilo  quantidade de garrafas  preço da garrafa\n",
              "0   2021-11-01      tinto                       7            219.69\n",
              "1   2021-11-01     branco                       4            118.83\n",
              "2   2021-11-01  espumante                       5            110.38\n",
              "3   2021-11-02      tinto                       3            215.55\n",
              "4   2021-11-02     branco                       2            118.83\n",
              "5   2021-11-02  espumante                       1            128.35\n",
              "6   2021-11-03      tinto                      10            227.98\n",
              "7   2021-11-03     branco                      14            110.54\n",
              "8   2021-11-03  espumante                      10            114.53\n",
              "9   2021-11-04      tinto                       8            215.55\n",
              "10  2021-11-04     branco                       8            111.92\n",
              "11  2021-11-04  espumante                       4            117.29\n",
              "12  2021-11-05      tinto                      10            196.20\n",
              "13  2021-11-05     branco                       3             99.48\n",
              "14  2021-11-05  espumante                       8             88.28\n",
              "15  2021-11-06      tinto                       7            181.00\n",
              "16  2021-11-06     branco                       5             85.67\n",
              "17  2021-11-06  espumante                       5             77.22\n",
              "18  2021-11-07      tinto                       9            154.75\n",
              "19  2021-11-07     branco                       5             89.81\n",
              "20  2021-11-07  espumante                      10            104.86\n",
              "21  2021-11-08      tinto                       7            207.26\n",
              "22  2021-11-08     branco                       4            103.63\n",
              "23  2021-11-08  espumante                       9            104.86\n",
              "24  2021-11-09      tinto                      15            207.26\n",
              "25  2021-11-09     branco                      14            103.63\n",
              "26  2021-11-09  espumante                      11            104.86\n",
              "27  2021-11-10      tinto                      17            207.26\n",
              "28  2021-11-10     branco                      12            103.63\n",
              "29  2021-11-10  espumante                      10            104.86\n",
              "30  2021-11-11      tinto                       7            207.26\n",
              "31  2021-11-11     branco                       8            103.63\n",
              "32  2021-11-11  espumante                       3            104.86\n",
              "33  2021-11-12      tinto                       7            207.26\n",
              "34  2021-11-12     branco                       2            103.63\n",
              "35  2021-11-12  espumante                       5            104.86\n",
              "36  2021-11-13      tinto                       9            207.26\n",
              "37  2021-11-13     branco                       9            103.63\n",
              "38  2021-11-13  espumante                       9            104.86\n",
              "39  2021-11-14      tinto                      20            207.26\n",
              "40  2021-11-14     branco                       8            103.63\n",
              "41  2021-11-14  espumante                      12            104.86\n",
              "42  2021-11-15      tinto                      10            207.26\n",
              "43  2021-11-15     branco                      10            103.63\n",
              "44  2021-11-15  espumante                      15            104.86"
            ],
            "text/html": [
              "\n",
              "  <div id=\"df-291b600e-b806-43b3-9c8e-0f6df92980ca\">\n",
              "    <div class=\"colab-df-container\">\n",
              "      <div>\n",
              "<style scoped>\n",
              "    .dataframe tbody tr th:only-of-type {\n",
              "        vertical-align: middle;\n",
              "    }\n",
              "\n",
              "    .dataframe tbody tr th {\n",
              "        vertical-align: top;\n",
              "    }\n",
              "\n",
              "    .dataframe thead th {\n",
              "        text-align: right;\n",
              "    }\n",
              "</style>\n",
              "<table border=\"1\" class=\"dataframe\">\n",
              "  <thead>\n",
              "    <tr style=\"text-align: right;\">\n",
              "      <th></th>\n",
              "      <th>data</th>\n",
              "      <th>estilo</th>\n",
              "      <th>quantidade de garrafas</th>\n",
              "      <th>preço da garrafa</th>\n",
              "    </tr>\n",
              "  </thead>\n",
              "  <tbody>\n",
              "    <tr>\n",
              "      <th>0</th>\n",
              "      <td>2021-11-01</td>\n",
              "      <td>tinto</td>\n",
              "      <td>7</td>\n",
              "      <td>219.69</td>\n",
              "    </tr>\n",
              "    <tr>\n",
              "      <th>1</th>\n",
              "      <td>2021-11-01</td>\n",
              "      <td>branco</td>\n",
              "      <td>4</td>\n",
              "      <td>118.83</td>\n",
              "    </tr>\n",
              "    <tr>\n",
              "      <th>2</th>\n",
              "      <td>2021-11-01</td>\n",
              "      <td>espumante</td>\n",
              "      <td>5</td>\n",
              "      <td>110.38</td>\n",
              "    </tr>\n",
              "    <tr>\n",
              "      <th>3</th>\n",
              "      <td>2021-11-02</td>\n",
              "      <td>tinto</td>\n",
              "      <td>3</td>\n",
              "      <td>215.55</td>\n",
              "    </tr>\n",
              "    <tr>\n",
              "      <th>4</th>\n",
              "      <td>2021-11-02</td>\n",
              "      <td>branco</td>\n",
              "      <td>2</td>\n",
              "      <td>118.83</td>\n",
              "    </tr>\n",
              "    <tr>\n",
              "      <th>5</th>\n",
              "      <td>2021-11-02</td>\n",
              "      <td>espumante</td>\n",
              "      <td>1</td>\n",
              "      <td>128.35</td>\n",
              "    </tr>\n",
              "    <tr>\n",
              "      <th>6</th>\n",
              "      <td>2021-11-03</td>\n",
              "      <td>tinto</td>\n",
              "      <td>10</td>\n",
              "      <td>227.98</td>\n",
              "    </tr>\n",
              "    <tr>\n",
              "      <th>7</th>\n",
              "      <td>2021-11-03</td>\n",
              "      <td>branco</td>\n",
              "      <td>14</td>\n",
              "      <td>110.54</td>\n",
              "    </tr>\n",
              "    <tr>\n",
              "      <th>8</th>\n",
              "      <td>2021-11-03</td>\n",
              "      <td>espumante</td>\n",
              "      <td>10</td>\n",
              "      <td>114.53</td>\n",
              "    </tr>\n",
              "    <tr>\n",
              "      <th>9</th>\n",
              "      <td>2021-11-04</td>\n",
              "      <td>tinto</td>\n",
              "      <td>8</td>\n",
              "      <td>215.55</td>\n",
              "    </tr>\n",
              "    <tr>\n",
              "      <th>10</th>\n",
              "      <td>2021-11-04</td>\n",
              "      <td>branco</td>\n",
              "      <td>8</td>\n",
              "      <td>111.92</td>\n",
              "    </tr>\n",
              "    <tr>\n",
              "      <th>11</th>\n",
              "      <td>2021-11-04</td>\n",
              "      <td>espumante</td>\n",
              "      <td>4</td>\n",
              "      <td>117.29</td>\n",
              "    </tr>\n",
              "    <tr>\n",
              "      <th>12</th>\n",
              "      <td>2021-11-05</td>\n",
              "      <td>tinto</td>\n",
              "      <td>10</td>\n",
              "      <td>196.20</td>\n",
              "    </tr>\n",
              "    <tr>\n",
              "      <th>13</th>\n",
              "      <td>2021-11-05</td>\n",
              "      <td>branco</td>\n",
              "      <td>3</td>\n",
              "      <td>99.48</td>\n",
              "    </tr>\n",
              "    <tr>\n",
              "      <th>14</th>\n",
              "      <td>2021-11-05</td>\n",
              "      <td>espumante</td>\n",
              "      <td>8</td>\n",
              "      <td>88.28</td>\n",
              "    </tr>\n",
              "    <tr>\n",
              "      <th>15</th>\n",
              "      <td>2021-11-06</td>\n",
              "      <td>tinto</td>\n",
              "      <td>7</td>\n",
              "      <td>181.00</td>\n",
              "    </tr>\n",
              "    <tr>\n",
              "      <th>16</th>\n",
              "      <td>2021-11-06</td>\n",
              "      <td>branco</td>\n",
              "      <td>5</td>\n",
              "      <td>85.67</td>\n",
              "    </tr>\n",
              "    <tr>\n",
              "      <th>17</th>\n",
              "      <td>2021-11-06</td>\n",
              "      <td>espumante</td>\n",
              "      <td>5</td>\n",
              "      <td>77.22</td>\n",
              "    </tr>\n",
              "    <tr>\n",
              "      <th>18</th>\n",
              "      <td>2021-11-07</td>\n",
              "      <td>tinto</td>\n",
              "      <td>9</td>\n",
              "      <td>154.75</td>\n",
              "    </tr>\n",
              "    <tr>\n",
              "      <th>19</th>\n",
              "      <td>2021-11-07</td>\n",
              "      <td>branco</td>\n",
              "      <td>5</td>\n",
              "      <td>89.81</td>\n",
              "    </tr>\n",
              "    <tr>\n",
              "      <th>20</th>\n",
              "      <td>2021-11-07</td>\n",
              "      <td>espumante</td>\n",
              "      <td>10</td>\n",
              "      <td>104.86</td>\n",
              "    </tr>\n",
              "    <tr>\n",
              "      <th>21</th>\n",
              "      <td>2021-11-08</td>\n",
              "      <td>tinto</td>\n",
              "      <td>7</td>\n",
              "      <td>207.26</td>\n",
              "    </tr>\n",
              "    <tr>\n",
              "      <th>22</th>\n",
              "      <td>2021-11-08</td>\n",
              "      <td>branco</td>\n",
              "      <td>4</td>\n",
              "      <td>103.63</td>\n",
              "    </tr>\n",
              "    <tr>\n",
              "      <th>23</th>\n",
              "      <td>2021-11-08</td>\n",
              "      <td>espumante</td>\n",
              "      <td>9</td>\n",
              "      <td>104.86</td>\n",
              "    </tr>\n",
              "    <tr>\n",
              "      <th>24</th>\n",
              "      <td>2021-11-09</td>\n",
              "      <td>tinto</td>\n",
              "      <td>15</td>\n",
              "      <td>207.26</td>\n",
              "    </tr>\n",
              "    <tr>\n",
              "      <th>25</th>\n",
              "      <td>2021-11-09</td>\n",
              "      <td>branco</td>\n",
              "      <td>14</td>\n",
              "      <td>103.63</td>\n",
              "    </tr>\n",
              "    <tr>\n",
              "      <th>26</th>\n",
              "      <td>2021-11-09</td>\n",
              "      <td>espumante</td>\n",
              "      <td>11</td>\n",
              "      <td>104.86</td>\n",
              "    </tr>\n",
              "    <tr>\n",
              "      <th>27</th>\n",
              "      <td>2021-11-10</td>\n",
              "      <td>tinto</td>\n",
              "      <td>17</td>\n",
              "      <td>207.26</td>\n",
              "    </tr>\n",
              "    <tr>\n",
              "      <th>28</th>\n",
              "      <td>2021-11-10</td>\n",
              "      <td>branco</td>\n",
              "      <td>12</td>\n",
              "      <td>103.63</td>\n",
              "    </tr>\n",
              "    <tr>\n",
              "      <th>29</th>\n",
              "      <td>2021-11-10</td>\n",
              "      <td>espumante</td>\n",
              "      <td>10</td>\n",
              "      <td>104.86</td>\n",
              "    </tr>\n",
              "    <tr>\n",
              "      <th>30</th>\n",
              "      <td>2021-11-11</td>\n",
              "      <td>tinto</td>\n",
              "      <td>7</td>\n",
              "      <td>207.26</td>\n",
              "    </tr>\n",
              "    <tr>\n",
              "      <th>31</th>\n",
              "      <td>2021-11-11</td>\n",
              "      <td>branco</td>\n",
              "      <td>8</td>\n",
              "      <td>103.63</td>\n",
              "    </tr>\n",
              "    <tr>\n",
              "      <th>32</th>\n",
              "      <td>2021-11-11</td>\n",
              "      <td>espumante</td>\n",
              "      <td>3</td>\n",
              "      <td>104.86</td>\n",
              "    </tr>\n",
              "    <tr>\n",
              "      <th>33</th>\n",
              "      <td>2021-11-12</td>\n",
              "      <td>tinto</td>\n",
              "      <td>7</td>\n",
              "      <td>207.26</td>\n",
              "    </tr>\n",
              "    <tr>\n",
              "      <th>34</th>\n",
              "      <td>2021-11-12</td>\n",
              "      <td>branco</td>\n",
              "      <td>2</td>\n",
              "      <td>103.63</td>\n",
              "    </tr>\n",
              "    <tr>\n",
              "      <th>35</th>\n",
              "      <td>2021-11-12</td>\n",
              "      <td>espumante</td>\n",
              "      <td>5</td>\n",
              "      <td>104.86</td>\n",
              "    </tr>\n",
              "    <tr>\n",
              "      <th>36</th>\n",
              "      <td>2021-11-13</td>\n",
              "      <td>tinto</td>\n",
              "      <td>9</td>\n",
              "      <td>207.26</td>\n",
              "    </tr>\n",
              "    <tr>\n",
              "      <th>37</th>\n",
              "      <td>2021-11-13</td>\n",
              "      <td>branco</td>\n",
              "      <td>9</td>\n",
              "      <td>103.63</td>\n",
              "    </tr>\n",
              "    <tr>\n",
              "      <th>38</th>\n",
              "      <td>2021-11-13</td>\n",
              "      <td>espumante</td>\n",
              "      <td>9</td>\n",
              "      <td>104.86</td>\n",
              "    </tr>\n",
              "    <tr>\n",
              "      <th>39</th>\n",
              "      <td>2021-11-14</td>\n",
              "      <td>tinto</td>\n",
              "      <td>20</td>\n",
              "      <td>207.26</td>\n",
              "    </tr>\n",
              "    <tr>\n",
              "      <th>40</th>\n",
              "      <td>2021-11-14</td>\n",
              "      <td>branco</td>\n",
              "      <td>8</td>\n",
              "      <td>103.63</td>\n",
              "    </tr>\n",
              "    <tr>\n",
              "      <th>41</th>\n",
              "      <td>2021-11-14</td>\n",
              "      <td>espumante</td>\n",
              "      <td>12</td>\n",
              "      <td>104.86</td>\n",
              "    </tr>\n",
              "    <tr>\n",
              "      <th>42</th>\n",
              "      <td>2021-11-15</td>\n",
              "      <td>tinto</td>\n",
              "      <td>10</td>\n",
              "      <td>207.26</td>\n",
              "    </tr>\n",
              "    <tr>\n",
              "      <th>43</th>\n",
              "      <td>2021-11-15</td>\n",
              "      <td>branco</td>\n",
              "      <td>10</td>\n",
              "      <td>103.63</td>\n",
              "    </tr>\n",
              "    <tr>\n",
              "      <th>44</th>\n",
              "      <td>2021-11-15</td>\n",
              "      <td>espumante</td>\n",
              "      <td>15</td>\n",
              "      <td>104.86</td>\n",
              "    </tr>\n",
              "  </tbody>\n",
              "</table>\n",
              "</div>\n",
              "      <button class=\"colab-df-convert\" onclick=\"convertToInteractive('df-291b600e-b806-43b3-9c8e-0f6df92980ca')\"\n",
              "              title=\"Convert this dataframe to an interactive table.\"\n",
              "              style=\"display:none;\">\n",
              "        \n",
              "  <svg xmlns=\"http://www.w3.org/2000/svg\" height=\"24px\"viewBox=\"0 0 24 24\"\n",
              "       width=\"24px\">\n",
              "    <path d=\"M0 0h24v24H0V0z\" fill=\"none\"/>\n",
              "    <path d=\"M18.56 5.44l.94 2.06.94-2.06 2.06-.94-2.06-.94-.94-2.06-.94 2.06-2.06.94zm-11 1L8.5 8.5l.94-2.06 2.06-.94-2.06-.94L8.5 2.5l-.94 2.06-2.06.94zm10 10l.94 2.06.94-2.06 2.06-.94-2.06-.94-.94-2.06-.94 2.06-2.06.94z\"/><path d=\"M17.41 7.96l-1.37-1.37c-.4-.4-.92-.59-1.43-.59-.52 0-1.04.2-1.43.59L10.3 9.45l-7.72 7.72c-.78.78-.78 2.05 0 2.83L4 21.41c.39.39.9.59 1.41.59.51 0 1.02-.2 1.41-.59l7.78-7.78 2.81-2.81c.8-.78.8-2.07 0-2.86zM5.41 20L4 18.59l7.72-7.72 1.47 1.35L5.41 20z\"/>\n",
              "  </svg>\n",
              "      </button>\n",
              "      \n",
              "  <style>\n",
              "    .colab-df-container {\n",
              "      display:flex;\n",
              "      flex-wrap:wrap;\n",
              "      gap: 12px;\n",
              "    }\n",
              "\n",
              "    .colab-df-convert {\n",
              "      background-color: #E8F0FE;\n",
              "      border: none;\n",
              "      border-radius: 50%;\n",
              "      cursor: pointer;\n",
              "      display: none;\n",
              "      fill: #1967D2;\n",
              "      height: 32px;\n",
              "      padding: 0 0 0 0;\n",
              "      width: 32px;\n",
              "    }\n",
              "\n",
              "    .colab-df-convert:hover {\n",
              "      background-color: #E2EBFA;\n",
              "      box-shadow: 0px 1px 2px rgba(60, 64, 67, 0.3), 0px 1px 3px 1px rgba(60, 64, 67, 0.15);\n",
              "      fill: #174EA6;\n",
              "    }\n",
              "\n",
              "    [theme=dark] .colab-df-convert {\n",
              "      background-color: #3B4455;\n",
              "      fill: #D2E3FC;\n",
              "    }\n",
              "\n",
              "    [theme=dark] .colab-df-convert:hover {\n",
              "      background-color: #434B5C;\n",
              "      box-shadow: 0px 1px 3px 1px rgba(0, 0, 0, 0.15);\n",
              "      filter: drop-shadow(0px 1px 2px rgba(0, 0, 0, 0.3));\n",
              "      fill: #FFFFFF;\n",
              "    }\n",
              "  </style>\n",
              "\n",
              "      <script>\n",
              "        const buttonEl =\n",
              "          document.querySelector('#df-291b600e-b806-43b3-9c8e-0f6df92980ca button.colab-df-convert');\n",
              "        buttonEl.style.display =\n",
              "          google.colab.kernel.accessAllowed ? 'block' : 'none';\n",
              "\n",
              "        async function convertToInteractive(key) {\n",
              "          const element = document.querySelector('#df-291b600e-b806-43b3-9c8e-0f6df92980ca');\n",
              "          const dataTable =\n",
              "            await google.colab.kernel.invokeFunction('convertToInteractive',\n",
              "                                                     [key], {});\n",
              "          if (!dataTable) return;\n",
              "\n",
              "          const docLinkHtml = 'Like what you see? Visit the ' +\n",
              "            '<a target=\"_blank\" href=https://colab.research.google.com/notebooks/data_table.ipynb>data table notebook</a>'\n",
              "            + ' to learn more about interactive tables.';\n",
              "          element.innerHTML = '';\n",
              "          dataTable['output_type'] = 'display_data';\n",
              "          await google.colab.output.renderOutput(dataTable, element);\n",
              "          const docLink = document.createElement('div');\n",
              "          docLink.innerHTML = docLinkHtml;\n",
              "          element.appendChild(docLink);\n",
              "        }\n",
              "      </script>\n",
              "    </div>\n",
              "  </div>\n",
              "  "
            ]
          },
          "metadata": {},
          "execution_count": 4
        }
      ]
    },
    {
      "cell_type": "markdown",
      "source": [
        "###Agora vamos trabalhar com a nossa biblioteca:"
      ],
      "metadata": {
        "id": "qmcVDQf_9HsJ"
      }
    },
    {
      "cell_type": "markdown",
      "source": [
        "Para trabalhar com o Pandas locamentem, só precisamos criar nosso ambiente virtual e depois instalar o *Pandas* através do *pip install*.\n",
        "\n",
        "No *colab*, já vem o *Pandas* por padrão mas podemos utilizar outras versões dele.                                                                           \n"
      ],
      "metadata": {
        "id": "hSkhA8tq9Sq2"
      }
    },
    {
      "cell_type": "markdown",
      "source": [
        "###Importando novamente nosso arquivo **CSV**"
      ],
      "metadata": {
        "id": "5EqJSHs3EpG4"
      }
    },
    {
      "cell_type": "code",
      "source": [
        "dataset = r'https://raw.githubusercontent.com/rafaelpuyau/infinity_school/main/ds/datasets/wine_billing.csv'\n",
        "df = pd.read_csv(dataset, sep=';')"
      ],
      "metadata": {
        "id": "hdUNOQiVFLgp"
      },
      "execution_count": 5,
      "outputs": []
    },
    {
      "cell_type": "markdown",
      "source": [
        "Acima temos a função *read_csv*, essa função tem muitos parâmetros e na versão mais nova do *Pandas*, foi adicionado mais parâmetros                            \n",
        "🔗 https://pandas.pydata.org/docs/reference/api/pandas.read_csv.html                                       \n",
        "🔗 https://help.highbond.com/helpdocs/fraudbond/pt-br/Content/robots/scripting/hcl/hcl_read_csv.htm\n",
        "\n",
        "**Os principais que vamos ver são:**\n",
        "\n",
        "- sep: Que vamos especificar o separador que nós queremos.\n",
        "- skiprows: Para pular linhas.\n",
        "- thousands: Ele pode alterar o caractere de milhar.\n",
        "- decimal: Alterar o caractere de decimal.\n",
        "- encoding: Para reconhecer alguns caracteres especiais e mudar o codificação.\n"
      ],
      "metadata": {
        "id": "BvRqeFwkFMvi"
      }
    },
    {
      "cell_type": "markdown",
      "source": [
        "#O que vimos na última aula?"
      ],
      "metadata": {
        "id": "GNl4rRwoHhYX"
      }
    },
    {
      "cell_type": "code",
      "source": [
        "df.shape"
      ],
      "metadata": {
        "colab": {
          "base_uri": "https://localhost:8080/"
        },
        "id": "puP5XhitHogf",
        "outputId": "c98a1a40-8fff-4922-9f51-1b66bc3139e3"
      },
      "execution_count": 6,
      "outputs": [
        {
          "output_type": "execute_result",
          "data": {
            "text/plain": [
              "(45, 4)"
            ]
          },
          "metadata": {},
          "execution_count": 6
        }
      ]
    },
    {
      "cell_type": "code",
      "source": [
        "df.info()"
      ],
      "metadata": {
        "colab": {
          "base_uri": "https://localhost:8080/"
        },
        "id": "YVNVrJtnHqFZ",
        "outputId": "37ba6f47-b3b6-4505-d47c-5127302f4277"
      },
      "execution_count": 7,
      "outputs": [
        {
          "output_type": "stream",
          "name": "stdout",
          "text": [
            "<class 'pandas.core.frame.DataFrame'>\n",
            "RangeIndex: 45 entries, 0 to 44\n",
            "Data columns (total 4 columns):\n",
            " #   Column                  Non-Null Count  Dtype  \n",
            "---  ------                  --------------  -----  \n",
            " 0   data                    45 non-null     object \n",
            " 1   estilo                  45 non-null     object \n",
            " 2   quantidade de garrafas  45 non-null     int64  \n",
            " 3   preço da garrafa        45 non-null     float64\n",
            "dtypes: float64(1), int64(1), object(2)\n",
            "memory usage: 1.5+ KB\n"
          ]
        }
      ]
    },
    {
      "cell_type": "code",
      "source": [
        "df.describe()"
      ],
      "metadata": {
        "colab": {
          "base_uri": "https://localhost:8080/",
          "height": 300
        },
        "id": "MPu1EN7DHu6p",
        "outputId": "0f5c03f8-21b3-4411-dde1-631acd7c6317"
      },
      "execution_count": 8,
      "outputs": [
        {
          "output_type": "execute_result",
          "data": {
            "text/plain": [
              "       quantidade de garrafas  preço da garrafa\n",
              "count               45.000000         45.000000\n",
              "mean                 8.244444        138.060222\n",
              "std                  4.156898         49.253588\n",
              "min                  1.000000         77.220000\n",
              "25%                  5.000000        103.630000\n",
              "50%                  8.000000        110.380000\n",
              "75%                 10.000000        207.260000\n",
              "max                 20.000000        227.980000"
            ],
            "text/html": [
              "\n",
              "  <div id=\"df-ff18cd30-4fa6-4852-b4ec-0154c26aac1d\">\n",
              "    <div class=\"colab-df-container\">\n",
              "      <div>\n",
              "<style scoped>\n",
              "    .dataframe tbody tr th:only-of-type {\n",
              "        vertical-align: middle;\n",
              "    }\n",
              "\n",
              "    .dataframe tbody tr th {\n",
              "        vertical-align: top;\n",
              "    }\n",
              "\n",
              "    .dataframe thead th {\n",
              "        text-align: right;\n",
              "    }\n",
              "</style>\n",
              "<table border=\"1\" class=\"dataframe\">\n",
              "  <thead>\n",
              "    <tr style=\"text-align: right;\">\n",
              "      <th></th>\n",
              "      <th>quantidade de garrafas</th>\n",
              "      <th>preço da garrafa</th>\n",
              "    </tr>\n",
              "  </thead>\n",
              "  <tbody>\n",
              "    <tr>\n",
              "      <th>count</th>\n",
              "      <td>45.000000</td>\n",
              "      <td>45.000000</td>\n",
              "    </tr>\n",
              "    <tr>\n",
              "      <th>mean</th>\n",
              "      <td>8.244444</td>\n",
              "      <td>138.060222</td>\n",
              "    </tr>\n",
              "    <tr>\n",
              "      <th>std</th>\n",
              "      <td>4.156898</td>\n",
              "      <td>49.253588</td>\n",
              "    </tr>\n",
              "    <tr>\n",
              "      <th>min</th>\n",
              "      <td>1.000000</td>\n",
              "      <td>77.220000</td>\n",
              "    </tr>\n",
              "    <tr>\n",
              "      <th>25%</th>\n",
              "      <td>5.000000</td>\n",
              "      <td>103.630000</td>\n",
              "    </tr>\n",
              "    <tr>\n",
              "      <th>50%</th>\n",
              "      <td>8.000000</td>\n",
              "      <td>110.380000</td>\n",
              "    </tr>\n",
              "    <tr>\n",
              "      <th>75%</th>\n",
              "      <td>10.000000</td>\n",
              "      <td>207.260000</td>\n",
              "    </tr>\n",
              "    <tr>\n",
              "      <th>max</th>\n",
              "      <td>20.000000</td>\n",
              "      <td>227.980000</td>\n",
              "    </tr>\n",
              "  </tbody>\n",
              "</table>\n",
              "</div>\n",
              "      <button class=\"colab-df-convert\" onclick=\"convertToInteractive('df-ff18cd30-4fa6-4852-b4ec-0154c26aac1d')\"\n",
              "              title=\"Convert this dataframe to an interactive table.\"\n",
              "              style=\"display:none;\">\n",
              "        \n",
              "  <svg xmlns=\"http://www.w3.org/2000/svg\" height=\"24px\"viewBox=\"0 0 24 24\"\n",
              "       width=\"24px\">\n",
              "    <path d=\"M0 0h24v24H0V0z\" fill=\"none\"/>\n",
              "    <path d=\"M18.56 5.44l.94 2.06.94-2.06 2.06-.94-2.06-.94-.94-2.06-.94 2.06-2.06.94zm-11 1L8.5 8.5l.94-2.06 2.06-.94-2.06-.94L8.5 2.5l-.94 2.06-2.06.94zm10 10l.94 2.06.94-2.06 2.06-.94-2.06-.94-.94-2.06-.94 2.06-2.06.94z\"/><path d=\"M17.41 7.96l-1.37-1.37c-.4-.4-.92-.59-1.43-.59-.52 0-1.04.2-1.43.59L10.3 9.45l-7.72 7.72c-.78.78-.78 2.05 0 2.83L4 21.41c.39.39.9.59 1.41.59.51 0 1.02-.2 1.41-.59l7.78-7.78 2.81-2.81c.8-.78.8-2.07 0-2.86zM5.41 20L4 18.59l7.72-7.72 1.47 1.35L5.41 20z\"/>\n",
              "  </svg>\n",
              "      </button>\n",
              "      \n",
              "  <style>\n",
              "    .colab-df-container {\n",
              "      display:flex;\n",
              "      flex-wrap:wrap;\n",
              "      gap: 12px;\n",
              "    }\n",
              "\n",
              "    .colab-df-convert {\n",
              "      background-color: #E8F0FE;\n",
              "      border: none;\n",
              "      border-radius: 50%;\n",
              "      cursor: pointer;\n",
              "      display: none;\n",
              "      fill: #1967D2;\n",
              "      height: 32px;\n",
              "      padding: 0 0 0 0;\n",
              "      width: 32px;\n",
              "    }\n",
              "\n",
              "    .colab-df-convert:hover {\n",
              "      background-color: #E2EBFA;\n",
              "      box-shadow: 0px 1px 2px rgba(60, 64, 67, 0.3), 0px 1px 3px 1px rgba(60, 64, 67, 0.15);\n",
              "      fill: #174EA6;\n",
              "    }\n",
              "\n",
              "    [theme=dark] .colab-df-convert {\n",
              "      background-color: #3B4455;\n",
              "      fill: #D2E3FC;\n",
              "    }\n",
              "\n",
              "    [theme=dark] .colab-df-convert:hover {\n",
              "      background-color: #434B5C;\n",
              "      box-shadow: 0px 1px 3px 1px rgba(0, 0, 0, 0.15);\n",
              "      filter: drop-shadow(0px 1px 2px rgba(0, 0, 0, 0.3));\n",
              "      fill: #FFFFFF;\n",
              "    }\n",
              "  </style>\n",
              "\n",
              "      <script>\n",
              "        const buttonEl =\n",
              "          document.querySelector('#df-ff18cd30-4fa6-4852-b4ec-0154c26aac1d button.colab-df-convert');\n",
              "        buttonEl.style.display =\n",
              "          google.colab.kernel.accessAllowed ? 'block' : 'none';\n",
              "\n",
              "        async function convertToInteractive(key) {\n",
              "          const element = document.querySelector('#df-ff18cd30-4fa6-4852-b4ec-0154c26aac1d');\n",
              "          const dataTable =\n",
              "            await google.colab.kernel.invokeFunction('convertToInteractive',\n",
              "                                                     [key], {});\n",
              "          if (!dataTable) return;\n",
              "\n",
              "          const docLinkHtml = 'Like what you see? Visit the ' +\n",
              "            '<a target=\"_blank\" href=https://colab.research.google.com/notebooks/data_table.ipynb>data table notebook</a>'\n",
              "            + ' to learn more about interactive tables.';\n",
              "          element.innerHTML = '';\n",
              "          dataTable['output_type'] = 'display_data';\n",
              "          await google.colab.output.renderOutput(dataTable, element);\n",
              "          const docLink = document.createElement('div');\n",
              "          docLink.innerHTML = docLinkHtml;\n",
              "          element.appendChild(docLink);\n",
              "        }\n",
              "      </script>\n",
              "    </div>\n",
              "  </div>\n",
              "  "
            ]
          },
          "metadata": {},
          "execution_count": 8
        }
      ]
    },
    {
      "cell_type": "code",
      "source": [
        "df.dtypes"
      ],
      "metadata": {
        "colab": {
          "base_uri": "https://localhost:8080/"
        },
        "id": "xd1oBaccHwfy",
        "outputId": "14ad4c1b-674d-4277-f339-0808a771b1c4"
      },
      "execution_count": 9,
      "outputs": [
        {
          "output_type": "execute_result",
          "data": {
            "text/plain": [
              "data                       object\n",
              "estilo                     object\n",
              "quantidade de garrafas      int64\n",
              "preço da garrafa          float64\n",
              "dtype: object"
            ]
          },
          "metadata": {},
          "execution_count": 9
        }
      ]
    },
    {
      "cell_type": "code",
      "source": [
        "df.columns"
      ],
      "metadata": {
        "colab": {
          "base_uri": "https://localhost:8080/"
        },
        "id": "xBhI_fUhHysZ",
        "outputId": "5ca425e7-9e29-413e-b662-bf8a13dc1592"
      },
      "execution_count": 10,
      "outputs": [
        {
          "output_type": "execute_result",
          "data": {
            "text/plain": [
              "Index(['data', 'estilo', 'quantidade de garrafas', 'preço da garrafa'], dtype='object')"
            ]
          },
          "metadata": {},
          "execution_count": 10
        }
      ]
    },
    {
      "cell_type": "code",
      "source": [
        "df.head()"
      ],
      "metadata": {
        "colab": {
          "base_uri": "https://localhost:8080/",
          "height": 206
        },
        "id": "HH19Vyv2H2K3",
        "outputId": "0d87d9f9-891a-4cf3-c3aa-3d2fbb9e1f6a"
      },
      "execution_count": 11,
      "outputs": [
        {
          "output_type": "execute_result",
          "data": {
            "text/plain": [
              "         data     estilo  quantidade de garrafas  preço da garrafa\n",
              "0  2021-11-01      tinto                       7            219.69\n",
              "1  2021-11-01     branco                       4            118.83\n",
              "2  2021-11-01  espumante                       5            110.38\n",
              "3  2021-11-02      tinto                       3            215.55\n",
              "4  2021-11-02     branco                       2            118.83"
            ],
            "text/html": [
              "\n",
              "  <div id=\"df-7154b20c-403b-4ae5-9c30-2b4ac3d23b4f\">\n",
              "    <div class=\"colab-df-container\">\n",
              "      <div>\n",
              "<style scoped>\n",
              "    .dataframe tbody tr th:only-of-type {\n",
              "        vertical-align: middle;\n",
              "    }\n",
              "\n",
              "    .dataframe tbody tr th {\n",
              "        vertical-align: top;\n",
              "    }\n",
              "\n",
              "    .dataframe thead th {\n",
              "        text-align: right;\n",
              "    }\n",
              "</style>\n",
              "<table border=\"1\" class=\"dataframe\">\n",
              "  <thead>\n",
              "    <tr style=\"text-align: right;\">\n",
              "      <th></th>\n",
              "      <th>data</th>\n",
              "      <th>estilo</th>\n",
              "      <th>quantidade de garrafas</th>\n",
              "      <th>preço da garrafa</th>\n",
              "    </tr>\n",
              "  </thead>\n",
              "  <tbody>\n",
              "    <tr>\n",
              "      <th>0</th>\n",
              "      <td>2021-11-01</td>\n",
              "      <td>tinto</td>\n",
              "      <td>7</td>\n",
              "      <td>219.69</td>\n",
              "    </tr>\n",
              "    <tr>\n",
              "      <th>1</th>\n",
              "      <td>2021-11-01</td>\n",
              "      <td>branco</td>\n",
              "      <td>4</td>\n",
              "      <td>118.83</td>\n",
              "    </tr>\n",
              "    <tr>\n",
              "      <th>2</th>\n",
              "      <td>2021-11-01</td>\n",
              "      <td>espumante</td>\n",
              "      <td>5</td>\n",
              "      <td>110.38</td>\n",
              "    </tr>\n",
              "    <tr>\n",
              "      <th>3</th>\n",
              "      <td>2021-11-02</td>\n",
              "      <td>tinto</td>\n",
              "      <td>3</td>\n",
              "      <td>215.55</td>\n",
              "    </tr>\n",
              "    <tr>\n",
              "      <th>4</th>\n",
              "      <td>2021-11-02</td>\n",
              "      <td>branco</td>\n",
              "      <td>2</td>\n",
              "      <td>118.83</td>\n",
              "    </tr>\n",
              "  </tbody>\n",
              "</table>\n",
              "</div>\n",
              "      <button class=\"colab-df-convert\" onclick=\"convertToInteractive('df-7154b20c-403b-4ae5-9c30-2b4ac3d23b4f')\"\n",
              "              title=\"Convert this dataframe to an interactive table.\"\n",
              "              style=\"display:none;\">\n",
              "        \n",
              "  <svg xmlns=\"http://www.w3.org/2000/svg\" height=\"24px\"viewBox=\"0 0 24 24\"\n",
              "       width=\"24px\">\n",
              "    <path d=\"M0 0h24v24H0V0z\" fill=\"none\"/>\n",
              "    <path d=\"M18.56 5.44l.94 2.06.94-2.06 2.06-.94-2.06-.94-.94-2.06-.94 2.06-2.06.94zm-11 1L8.5 8.5l.94-2.06 2.06-.94-2.06-.94L8.5 2.5l-.94 2.06-2.06.94zm10 10l.94 2.06.94-2.06 2.06-.94-2.06-.94-.94-2.06-.94 2.06-2.06.94z\"/><path d=\"M17.41 7.96l-1.37-1.37c-.4-.4-.92-.59-1.43-.59-.52 0-1.04.2-1.43.59L10.3 9.45l-7.72 7.72c-.78.78-.78 2.05 0 2.83L4 21.41c.39.39.9.59 1.41.59.51 0 1.02-.2 1.41-.59l7.78-7.78 2.81-2.81c.8-.78.8-2.07 0-2.86zM5.41 20L4 18.59l7.72-7.72 1.47 1.35L5.41 20z\"/>\n",
              "  </svg>\n",
              "      </button>\n",
              "      \n",
              "  <style>\n",
              "    .colab-df-container {\n",
              "      display:flex;\n",
              "      flex-wrap:wrap;\n",
              "      gap: 12px;\n",
              "    }\n",
              "\n",
              "    .colab-df-convert {\n",
              "      background-color: #E8F0FE;\n",
              "      border: none;\n",
              "      border-radius: 50%;\n",
              "      cursor: pointer;\n",
              "      display: none;\n",
              "      fill: #1967D2;\n",
              "      height: 32px;\n",
              "      padding: 0 0 0 0;\n",
              "      width: 32px;\n",
              "    }\n",
              "\n",
              "    .colab-df-convert:hover {\n",
              "      background-color: #E2EBFA;\n",
              "      box-shadow: 0px 1px 2px rgba(60, 64, 67, 0.3), 0px 1px 3px 1px rgba(60, 64, 67, 0.15);\n",
              "      fill: #174EA6;\n",
              "    }\n",
              "\n",
              "    [theme=dark] .colab-df-convert {\n",
              "      background-color: #3B4455;\n",
              "      fill: #D2E3FC;\n",
              "    }\n",
              "\n",
              "    [theme=dark] .colab-df-convert:hover {\n",
              "      background-color: #434B5C;\n",
              "      box-shadow: 0px 1px 3px 1px rgba(0, 0, 0, 0.15);\n",
              "      filter: drop-shadow(0px 1px 2px rgba(0, 0, 0, 0.3));\n",
              "      fill: #FFFFFF;\n",
              "    }\n",
              "  </style>\n",
              "\n",
              "      <script>\n",
              "        const buttonEl =\n",
              "          document.querySelector('#df-7154b20c-403b-4ae5-9c30-2b4ac3d23b4f button.colab-df-convert');\n",
              "        buttonEl.style.display =\n",
              "          google.colab.kernel.accessAllowed ? 'block' : 'none';\n",
              "\n",
              "        async function convertToInteractive(key) {\n",
              "          const element = document.querySelector('#df-7154b20c-403b-4ae5-9c30-2b4ac3d23b4f');\n",
              "          const dataTable =\n",
              "            await google.colab.kernel.invokeFunction('convertToInteractive',\n",
              "                                                     [key], {});\n",
              "          if (!dataTable) return;\n",
              "\n",
              "          const docLinkHtml = 'Like what you see? Visit the ' +\n",
              "            '<a target=\"_blank\" href=https://colab.research.google.com/notebooks/data_table.ipynb>data table notebook</a>'\n",
              "            + ' to learn more about interactive tables.';\n",
              "          element.innerHTML = '';\n",
              "          dataTable['output_type'] = 'display_data';\n",
              "          await google.colab.output.renderOutput(dataTable, element);\n",
              "          const docLink = document.createElement('div');\n",
              "          docLink.innerHTML = docLinkHtml;\n",
              "          element.appendChild(docLink);\n",
              "        }\n",
              "      </script>\n",
              "    </div>\n",
              "  </div>\n",
              "  "
            ]
          },
          "metadata": {},
          "execution_count": 11
        }
      ]
    },
    {
      "cell_type": "code",
      "source": [
        "df.tail()"
      ],
      "metadata": {
        "colab": {
          "base_uri": "https://localhost:8080/",
          "height": 206
        },
        "id": "FHZc78SUH3kp",
        "outputId": "dbd675df-e7fd-43b0-e1e9-0a192ad8dcb3"
      },
      "execution_count": 12,
      "outputs": [
        {
          "output_type": "execute_result",
          "data": {
            "text/plain": [
              "          data     estilo  quantidade de garrafas  preço da garrafa\n",
              "40  2021-11-14     branco                       8            103.63\n",
              "41  2021-11-14  espumante                      12            104.86\n",
              "42  2021-11-15      tinto                      10            207.26\n",
              "43  2021-11-15     branco                      10            103.63\n",
              "44  2021-11-15  espumante                      15            104.86"
            ],
            "text/html": [
              "\n",
              "  <div id=\"df-3ecb5e9d-65a4-49ca-a6a2-9e1985890051\">\n",
              "    <div class=\"colab-df-container\">\n",
              "      <div>\n",
              "<style scoped>\n",
              "    .dataframe tbody tr th:only-of-type {\n",
              "        vertical-align: middle;\n",
              "    }\n",
              "\n",
              "    .dataframe tbody tr th {\n",
              "        vertical-align: top;\n",
              "    }\n",
              "\n",
              "    .dataframe thead th {\n",
              "        text-align: right;\n",
              "    }\n",
              "</style>\n",
              "<table border=\"1\" class=\"dataframe\">\n",
              "  <thead>\n",
              "    <tr style=\"text-align: right;\">\n",
              "      <th></th>\n",
              "      <th>data</th>\n",
              "      <th>estilo</th>\n",
              "      <th>quantidade de garrafas</th>\n",
              "      <th>preço da garrafa</th>\n",
              "    </tr>\n",
              "  </thead>\n",
              "  <tbody>\n",
              "    <tr>\n",
              "      <th>40</th>\n",
              "      <td>2021-11-14</td>\n",
              "      <td>branco</td>\n",
              "      <td>8</td>\n",
              "      <td>103.63</td>\n",
              "    </tr>\n",
              "    <tr>\n",
              "      <th>41</th>\n",
              "      <td>2021-11-14</td>\n",
              "      <td>espumante</td>\n",
              "      <td>12</td>\n",
              "      <td>104.86</td>\n",
              "    </tr>\n",
              "    <tr>\n",
              "      <th>42</th>\n",
              "      <td>2021-11-15</td>\n",
              "      <td>tinto</td>\n",
              "      <td>10</td>\n",
              "      <td>207.26</td>\n",
              "    </tr>\n",
              "    <tr>\n",
              "      <th>43</th>\n",
              "      <td>2021-11-15</td>\n",
              "      <td>branco</td>\n",
              "      <td>10</td>\n",
              "      <td>103.63</td>\n",
              "    </tr>\n",
              "    <tr>\n",
              "      <th>44</th>\n",
              "      <td>2021-11-15</td>\n",
              "      <td>espumante</td>\n",
              "      <td>15</td>\n",
              "      <td>104.86</td>\n",
              "    </tr>\n",
              "  </tbody>\n",
              "</table>\n",
              "</div>\n",
              "      <button class=\"colab-df-convert\" onclick=\"convertToInteractive('df-3ecb5e9d-65a4-49ca-a6a2-9e1985890051')\"\n",
              "              title=\"Convert this dataframe to an interactive table.\"\n",
              "              style=\"display:none;\">\n",
              "        \n",
              "  <svg xmlns=\"http://www.w3.org/2000/svg\" height=\"24px\"viewBox=\"0 0 24 24\"\n",
              "       width=\"24px\">\n",
              "    <path d=\"M0 0h24v24H0V0z\" fill=\"none\"/>\n",
              "    <path d=\"M18.56 5.44l.94 2.06.94-2.06 2.06-.94-2.06-.94-.94-2.06-.94 2.06-2.06.94zm-11 1L8.5 8.5l.94-2.06 2.06-.94-2.06-.94L8.5 2.5l-.94 2.06-2.06.94zm10 10l.94 2.06.94-2.06 2.06-.94-2.06-.94-.94-2.06-.94 2.06-2.06.94z\"/><path d=\"M17.41 7.96l-1.37-1.37c-.4-.4-.92-.59-1.43-.59-.52 0-1.04.2-1.43.59L10.3 9.45l-7.72 7.72c-.78.78-.78 2.05 0 2.83L4 21.41c.39.39.9.59 1.41.59.51 0 1.02-.2 1.41-.59l7.78-7.78 2.81-2.81c.8-.78.8-2.07 0-2.86zM5.41 20L4 18.59l7.72-7.72 1.47 1.35L5.41 20z\"/>\n",
              "  </svg>\n",
              "      </button>\n",
              "      \n",
              "  <style>\n",
              "    .colab-df-container {\n",
              "      display:flex;\n",
              "      flex-wrap:wrap;\n",
              "      gap: 12px;\n",
              "    }\n",
              "\n",
              "    .colab-df-convert {\n",
              "      background-color: #E8F0FE;\n",
              "      border: none;\n",
              "      border-radius: 50%;\n",
              "      cursor: pointer;\n",
              "      display: none;\n",
              "      fill: #1967D2;\n",
              "      height: 32px;\n",
              "      padding: 0 0 0 0;\n",
              "      width: 32px;\n",
              "    }\n",
              "\n",
              "    .colab-df-convert:hover {\n",
              "      background-color: #E2EBFA;\n",
              "      box-shadow: 0px 1px 2px rgba(60, 64, 67, 0.3), 0px 1px 3px 1px rgba(60, 64, 67, 0.15);\n",
              "      fill: #174EA6;\n",
              "    }\n",
              "\n",
              "    [theme=dark] .colab-df-convert {\n",
              "      background-color: #3B4455;\n",
              "      fill: #D2E3FC;\n",
              "    }\n",
              "\n",
              "    [theme=dark] .colab-df-convert:hover {\n",
              "      background-color: #434B5C;\n",
              "      box-shadow: 0px 1px 3px 1px rgba(0, 0, 0, 0.15);\n",
              "      filter: drop-shadow(0px 1px 2px rgba(0, 0, 0, 0.3));\n",
              "      fill: #FFFFFF;\n",
              "    }\n",
              "  </style>\n",
              "\n",
              "      <script>\n",
              "        const buttonEl =\n",
              "          document.querySelector('#df-3ecb5e9d-65a4-49ca-a6a2-9e1985890051 button.colab-df-convert');\n",
              "        buttonEl.style.display =\n",
              "          google.colab.kernel.accessAllowed ? 'block' : 'none';\n",
              "\n",
              "        async function convertToInteractive(key) {\n",
              "          const element = document.querySelector('#df-3ecb5e9d-65a4-49ca-a6a2-9e1985890051');\n",
              "          const dataTable =\n",
              "            await google.colab.kernel.invokeFunction('convertToInteractive',\n",
              "                                                     [key], {});\n",
              "          if (!dataTable) return;\n",
              "\n",
              "          const docLinkHtml = 'Like what you see? Visit the ' +\n",
              "            '<a target=\"_blank\" href=https://colab.research.google.com/notebooks/data_table.ipynb>data table notebook</a>'\n",
              "            + ' to learn more about interactive tables.';\n",
              "          element.innerHTML = '';\n",
              "          dataTable['output_type'] = 'display_data';\n",
              "          await google.colab.output.renderOutput(dataTable, element);\n",
              "          const docLink = document.createElement('div');\n",
              "          docLink.innerHTML = docLinkHtml;\n",
              "          element.appendChild(docLink);\n",
              "        }\n",
              "      </script>\n",
              "    </div>\n",
              "  </div>\n",
              "  "
            ]
          },
          "metadata": {},
          "execution_count": 12
        }
      ]
    },
    {
      "cell_type": "markdown",
      "source": [
        "##Agora que revemos essas funções, vamos ver e criar nossas *Series*\n",
        " "
      ],
      "metadata": {
        "id": "vvbgmj8_H5mS"
      }
    },
    {
      "cell_type": "code",
      "source": [
        "series = pd.Series([22, 21, 40, 35, 29, 20, 19])\n",
        "series"
      ],
      "metadata": {
        "colab": {
          "base_uri": "https://localhost:8080/"
        },
        "id": "iS0S1SaWIaUE",
        "outputId": "44d2e547-3e59-497a-d44e-ea7425d80895"
      },
      "execution_count": 13,
      "outputs": [
        {
          "output_type": "execute_result",
          "data": {
            "text/plain": [
              "0    22\n",
              "1    21\n",
              "2    40\n",
              "3    35\n",
              "4    29\n",
              "5    20\n",
              "6    19\n",
              "dtype: int64"
            ]
          },
          "metadata": {},
          "execution_count": 13
        }
      ]
    },
    {
      "cell_type": "markdown",
      "source": [
        "###O que podemos ver com esses informações obtidas? \n",
        "Como vimos mais pra cima na explicação sobre *Series*, temos o *Index*, os dados no lado direito e abaixo temos o tipo da nossa *Series*, que nesse caso é **int64**, por só possuirmos valores inteiros.                                    \n",
        "E criando outra *Series* vários tipos de valores?"
      ],
      "metadata": {
        "id": "X19Ywu_TIrQi"
      }
    },
    {
      "cell_type": "code",
      "source": [
        "series2 = pd.Series(['Turma 615', 22, 15.30, 'Felipe', 'Guilherme', True, 'Carlos', 31, False, 'Camila'])\n",
        "series2"
      ],
      "metadata": {
        "colab": {
          "base_uri": "https://localhost:8080/"
        },
        "id": "vkhB992YJYLK",
        "outputId": "e3d71eef-2341-4900-a91b-6ba218794a5a"
      },
      "execution_count": 14,
      "outputs": [
        {
          "output_type": "execute_result",
          "data": {
            "text/plain": [
              "0    Turma 615\n",
              "1           22\n",
              "2         15.3\n",
              "3       Felipe\n",
              "4    Guilherme\n",
              "5         True\n",
              "6       Carlos\n",
              "7           31\n",
              "8        False\n",
              "9       Camila\n",
              "dtype: object"
            ]
          },
          "metadata": {},
          "execution_count": 14
        }
      ]
    },
    {
      "cell_type": "markdown",
      "source": [
        "Nesse segundo exemplo, ele retorna pra gente o tipo *object*, pois temos diversos tipos de dados dentro da nossa lista."
      ],
      "metadata": {
        "id": "0TDIsxhWJ4yx"
      }
    },
    {
      "cell_type": "markdown",
      "source": [
        "###Outro exemplo que podemos visualizar é o *float64*"
      ],
      "metadata": {
        "id": "hdw2QGvxOCx4"
      }
    },
    {
      "cell_type": "code",
      "source": [
        "series3 = pd.Series([14.9, 18.6, 25.8, 1.0, 142.7])\n",
        "display(series3)"
      ],
      "metadata": {
        "colab": {
          "base_uri": "https://localhost:8080/",
          "height": 121
        },
        "id": "UDKkL_5fOMP_",
        "outputId": "201f6171-b710-4449-ce88-b7c4ef289714"
      },
      "execution_count": 15,
      "outputs": [
        {
          "output_type": "display_data",
          "data": {
            "text/plain": [
              "0     14.9\n",
              "1     18.6\n",
              "2     25.8\n",
              "3      1.0\n",
              "4    142.7\n",
              "dtype: float64"
            ]
          },
          "metadata": {}
        }
      ]
    },
    {
      "cell_type": "markdown",
      "source": [
        "###Também temos outras formas de construir nossas *Series*, até mesmo mudar esse *index* que temos e o tipo da *Series*."
      ],
      "metadata": {
        "id": "Jqcl3b7bKoYA"
      }
    },
    {
      "cell_type": "markdown",
      "source": [
        "####Para modificarmos nosso tipo da *Series*, precisamos utilizar o *astype*"
      ],
      "metadata": {
        "id": "qgUCMXgDOx1w"
      }
    },
    {
      "cell_type": "code",
      "source": [
        "s4 = pd.Series([5,4,3,2,1])\n",
        "print(f'O tipo é: {s4.dtype}')\n",
        "s4 = s4.astype(float)\n",
        "print(f'O novo tipo é: {s4.dtype}')"
      ],
      "metadata": {
        "colab": {
          "base_uri": "https://localhost:8080/"
        },
        "id": "RNF8bTtHPAv7",
        "outputId": "178dfa2b-73bc-4b29-90f7-e8a29adf4fa4"
      },
      "execution_count": 16,
      "outputs": [
        {
          "output_type": "stream",
          "name": "stdout",
          "text": [
            "O tipo é: int64\n",
            "O novo tipo é: float64\n"
          ]
        }
      ]
    },
    {
      "cell_type": "markdown",
      "source": [
        "###Outras formas de criarmos nossa *Series*"
      ],
      "metadata": {
        "id": "LtfkFF0pPekz"
      }
    },
    {
      "cell_type": "code",
      "source": [
        "pessoas = ['Felipe', 'Carlos', 'Gabriel', 'Camila', 'Clara', 'Guilherme']\n",
        "idades = [22, 31, 19, 22, 27, 21]\n",
        "\n",
        "'''Poderiamos passar a variável que armazena uma lista'''\n",
        "s1 = pd.Series(pessoas)\n",
        "display(s1)"
      ],
      "metadata": {
        "colab": {
          "base_uri": "https://localhost:8080/",
          "height": 139
        },
        "id": "TfL-YRWaLemK",
        "outputId": "12f3328f-d229-4690-ad12-32219de747ca"
      },
      "execution_count": 17,
      "outputs": [
        {
          "output_type": "display_data",
          "data": {
            "text/plain": [
              "0       Felipe\n",
              "1       Carlos\n",
              "2      Gabriel\n",
              "3       Camila\n",
              "4        Clara\n",
              "5    Guilherme\n",
              "dtype: object"
            ]
          },
          "metadata": {}
        }
      ]
    },
    {
      "cell_type": "markdown",
      "source": [
        "Como também podemos já mudar o index dessa Series"
      ],
      "metadata": {
        "id": "3AiR-yIWMaKr"
      }
    },
    {
      "cell_type": "code",
      "source": [
        "s1_novo = pd.Series(data=pessoas, index=idades)\n",
        "display(s1_novo)"
      ],
      "metadata": {
        "colab": {
          "base_uri": "https://localhost:8080/",
          "height": 139
        },
        "id": "UIV0fryvMbmw",
        "outputId": "4dae7f02-22f8-4e12-a332-4996a6fe18d1"
      },
      "execution_count": 18,
      "outputs": [
        {
          "output_type": "display_data",
          "data": {
            "text/plain": [
              "22       Felipe\n",
              "31       Carlos\n",
              "19      Gabriel\n",
              "22       Camila\n",
              "27        Clara\n",
              "21    Guilherme\n",
              "dtype: object"
            ]
          },
          "metadata": {}
        }
      ]
    },
    {
      "cell_type": "markdown",
      "source": [
        "Dessa formam, podemos criar os *index* que quisermos"
      ],
      "metadata": {
        "id": "G0Rv66wcMjHG"
      }
    },
    {
      "cell_type": "code",
      "source": [
        "nova_lista = [*range(10, 16)]\n",
        "nova_lista"
      ],
      "metadata": {
        "colab": {
          "base_uri": "https://localhost:8080/"
        },
        "id": "hYsx0JbCMwTH",
        "outputId": "5bc81fd3-533d-4933-d202-c3c5638037aa"
      },
      "execution_count": 19,
      "outputs": [
        {
          "output_type": "execute_result",
          "data": {
            "text/plain": [
              "[10, 11, 12, 13, 14, 15]"
            ]
          },
          "metadata": {},
          "execution_count": 19
        }
      ]
    },
    {
      "cell_type": "code",
      "source": [
        "s2 = pd.Series(data=pessoas, index=nova_lista)\n",
        "display(s2)"
      ],
      "metadata": {
        "colab": {
          "base_uri": "https://localhost:8080/",
          "height": 139
        },
        "id": "xzvRxbHYM6E6",
        "outputId": "d97beb85-fc37-40f6-bbcd-4dcd1df78f71"
      },
      "execution_count": 20,
      "outputs": [
        {
          "output_type": "display_data",
          "data": {
            "text/plain": [
              "10       Felipe\n",
              "11       Carlos\n",
              "12      Gabriel\n",
              "13       Camila\n",
              "14        Clara\n",
              "15    Guilherme\n",
              "dtype: object"
            ]
          },
          "metadata": {}
        }
      ]
    },
    {
      "cell_type": "markdown",
      "source": [
        "###Além disso, podemos acessar os nossos dados, através dos Index"
      ],
      "metadata": {
        "id": "lN7ZXa6cQJXd"
      }
    },
    {
      "cell_type": "code",
      "source": [
        "s2[13]"
      ],
      "metadata": {
        "colab": {
          "base_uri": "https://localhost:8080/",
          "height": 35
        },
        "id": "-IVKvdC8QUcS",
        "outputId": "96610f62-7460-43dc-b816-a40467acd5b6"
      },
      "execution_count": 23,
      "outputs": [
        {
          "output_type": "execute_result",
          "data": {
            "text/plain": [
              "'Camila'"
            ],
            "application/vnd.google.colaboratory.intrinsic+json": {
              "type": "string"
            }
          },
          "metadata": {},
          "execution_count": 23
        }
      ]
    },
    {
      "cell_type": "markdown",
      "source": [
        "###E para finalizarmos nosssas *Series*, podemos criar uma espécie de título para elas: "
      ],
      "metadata": {
        "id": "6K-lUGX9Qp1-"
      }
    },
    {
      "cell_type": "code",
      "source": [
        "s5 = pd.Series(data=[10, 15, 220, 1], index=['Camisa do vasco', 'Camisa do Bahia', 'Camisa do Flamengo', 'Camisa do FluminenC'], name='Camisas de Futebol')\n",
        "display(s5)"
      ],
      "metadata": {
        "colab": {
          "base_uri": "https://localhost:8080/",
          "height": 104
        },
        "id": "ATRnZ6WdQ17n",
        "outputId": "b267e023-746f-498e-ff70-f708422e16e2"
      },
      "execution_count": 24,
      "outputs": [
        {
          "output_type": "display_data",
          "data": {
            "text/plain": [
              "Camisa do vasco         10\n",
              "Camisa do Bahia         15\n",
              "Camisa do Flamengo     220\n",
              "Camisa do FluminenC      1\n",
              "Name: Camisas de Futebol, dtype: int64"
            ]
          },
          "metadata": {}
        }
      ]
    },
    {
      "cell_type": "markdown",
      "source": [
        "#Atividade 1:\n",
        "Façam 2 Series diferentes, sendo que a primeira vai receber, notas escolares, contudo, mude a indexação dessa Series, para não começar por 0.\n",
        "\n",
        "Na outra Series, façam uma lista de filmes e passem como index o ano de lançamento de cada filme.\n",
        "\n",
        "Coloque título em todas as Series"
      ],
      "metadata": {
        "id": "lKTemtCQNHIS"
      }
    },
    {
      "cell_type": "markdown",
      "source": [
        "##DataFrames"
      ],
      "metadata": {
        "id": "jThTwDGrN6gU"
      }
    },
    {
      "cell_type": "markdown",
      "source": [
        "Os *DataFrames*, são uma coleção de *Series*, eles possui uma forma bidmensional, muito similar ao Excel, porém, por estarmos utilizando o *python* juntamente ao *Pandas*, temos mais facilidades de fazer certas funções."
      ],
      "metadata": {
        "id": "nO_4sgeoSI4k"
      }
    },
    {
      "cell_type": "markdown",
      "source": [
        "####O que os *DataFrames* possuem?\n",
        "Por padrão, um *DataFrame* deve possuir:                                                   \n",
        "- Dados: Que poderão vir de diversos lugares, uma planilha excel, arquivo CSV, json, html e entre outros.\n",
        "- índices\n",
        "- Colunas\n",
        "- Tipos"
      ],
      "metadata": {
        "id": "crD1Cy2wS45A"
      }
    },
    {
      "cell_type": "markdown",
      "source": [
        "#Agora vamos ver na prática: 🙂🙂🙂🙂🙂🙂🙂"
      ],
      "metadata": {
        "id": "Zg0pk4DDTi3f"
      }
    },
    {
      "cell_type": "code",
      "source": [
        "df = pd.DataFrame(\n",
        "    data=[\n",
        "        ['Felipe', 2000],\n",
        "        ['Iago', 2004],\n",
        "        ['Davi', 2003],\n",
        "        ['Pedro', 2001]\n",
        "    ],\n",
        "    index=['Aluno 1', 'Aluno 2', 'Aluno 3', 'Aluno 4'],\n",
        "    columns=['Alunos', 'Ano Nasc']\n",
        ")\n",
        "display(df)"
      ],
      "metadata": {
        "colab": {
          "base_uri": "https://localhost:8080/",
          "height": 175
        },
        "id": "iA1z_BP2T2ci",
        "outputId": "a5c28f37-a37b-42e0-9ca7-2beaf1bf057f"
      },
      "execution_count": 26,
      "outputs": [
        {
          "output_type": "display_data",
          "data": {
            "text/plain": [
              "         Alunos  Ano Nasc\n",
              "Aluno 1  Felipe      2000\n",
              "Aluno 2    Iago      2004\n",
              "Aluno 3    Davi      2003\n",
              "Aluno 4   Pedro      2001"
            ],
            "text/html": [
              "\n",
              "  <div id=\"df-9830b7de-a535-45df-a5fa-7913d404ea95\">\n",
              "    <div class=\"colab-df-container\">\n",
              "      <div>\n",
              "<style scoped>\n",
              "    .dataframe tbody tr th:only-of-type {\n",
              "        vertical-align: middle;\n",
              "    }\n",
              "\n",
              "    .dataframe tbody tr th {\n",
              "        vertical-align: top;\n",
              "    }\n",
              "\n",
              "    .dataframe thead th {\n",
              "        text-align: right;\n",
              "    }\n",
              "</style>\n",
              "<table border=\"1\" class=\"dataframe\">\n",
              "  <thead>\n",
              "    <tr style=\"text-align: right;\">\n",
              "      <th></th>\n",
              "      <th>Alunos</th>\n",
              "      <th>Ano Nasc</th>\n",
              "    </tr>\n",
              "  </thead>\n",
              "  <tbody>\n",
              "    <tr>\n",
              "      <th>Aluno 1</th>\n",
              "      <td>Felipe</td>\n",
              "      <td>2000</td>\n",
              "    </tr>\n",
              "    <tr>\n",
              "      <th>Aluno 2</th>\n",
              "      <td>Iago</td>\n",
              "      <td>2004</td>\n",
              "    </tr>\n",
              "    <tr>\n",
              "      <th>Aluno 3</th>\n",
              "      <td>Davi</td>\n",
              "      <td>2003</td>\n",
              "    </tr>\n",
              "    <tr>\n",
              "      <th>Aluno 4</th>\n",
              "      <td>Pedro</td>\n",
              "      <td>2001</td>\n",
              "    </tr>\n",
              "  </tbody>\n",
              "</table>\n",
              "</div>\n",
              "      <button class=\"colab-df-convert\" onclick=\"convertToInteractive('df-9830b7de-a535-45df-a5fa-7913d404ea95')\"\n",
              "              title=\"Convert this dataframe to an interactive table.\"\n",
              "              style=\"display:none;\">\n",
              "        \n",
              "  <svg xmlns=\"http://www.w3.org/2000/svg\" height=\"24px\"viewBox=\"0 0 24 24\"\n",
              "       width=\"24px\">\n",
              "    <path d=\"M0 0h24v24H0V0z\" fill=\"none\"/>\n",
              "    <path d=\"M18.56 5.44l.94 2.06.94-2.06 2.06-.94-2.06-.94-.94-2.06-.94 2.06-2.06.94zm-11 1L8.5 8.5l.94-2.06 2.06-.94-2.06-.94L8.5 2.5l-.94 2.06-2.06.94zm10 10l.94 2.06.94-2.06 2.06-.94-2.06-.94-.94-2.06-.94 2.06-2.06.94z\"/><path d=\"M17.41 7.96l-1.37-1.37c-.4-.4-.92-.59-1.43-.59-.52 0-1.04.2-1.43.59L10.3 9.45l-7.72 7.72c-.78.78-.78 2.05 0 2.83L4 21.41c.39.39.9.59 1.41.59.51 0 1.02-.2 1.41-.59l7.78-7.78 2.81-2.81c.8-.78.8-2.07 0-2.86zM5.41 20L4 18.59l7.72-7.72 1.47 1.35L5.41 20z\"/>\n",
              "  </svg>\n",
              "      </button>\n",
              "      \n",
              "  <style>\n",
              "    .colab-df-container {\n",
              "      display:flex;\n",
              "      flex-wrap:wrap;\n",
              "      gap: 12px;\n",
              "    }\n",
              "\n",
              "    .colab-df-convert {\n",
              "      background-color: #E8F0FE;\n",
              "      border: none;\n",
              "      border-radius: 50%;\n",
              "      cursor: pointer;\n",
              "      display: none;\n",
              "      fill: #1967D2;\n",
              "      height: 32px;\n",
              "      padding: 0 0 0 0;\n",
              "      width: 32px;\n",
              "    }\n",
              "\n",
              "    .colab-df-convert:hover {\n",
              "      background-color: #E2EBFA;\n",
              "      box-shadow: 0px 1px 2px rgba(60, 64, 67, 0.3), 0px 1px 3px 1px rgba(60, 64, 67, 0.15);\n",
              "      fill: #174EA6;\n",
              "    }\n",
              "\n",
              "    [theme=dark] .colab-df-convert {\n",
              "      background-color: #3B4455;\n",
              "      fill: #D2E3FC;\n",
              "    }\n",
              "\n",
              "    [theme=dark] .colab-df-convert:hover {\n",
              "      background-color: #434B5C;\n",
              "      box-shadow: 0px 1px 3px 1px rgba(0, 0, 0, 0.15);\n",
              "      filter: drop-shadow(0px 1px 2px rgba(0, 0, 0, 0.3));\n",
              "      fill: #FFFFFF;\n",
              "    }\n",
              "  </style>\n",
              "\n",
              "      <script>\n",
              "        const buttonEl =\n",
              "          document.querySelector('#df-9830b7de-a535-45df-a5fa-7913d404ea95 button.colab-df-convert');\n",
              "        buttonEl.style.display =\n",
              "          google.colab.kernel.accessAllowed ? 'block' : 'none';\n",
              "\n",
              "        async function convertToInteractive(key) {\n",
              "          const element = document.querySelector('#df-9830b7de-a535-45df-a5fa-7913d404ea95');\n",
              "          const dataTable =\n",
              "            await google.colab.kernel.invokeFunction('convertToInteractive',\n",
              "                                                     [key], {});\n",
              "          if (!dataTable) return;\n",
              "\n",
              "          const docLinkHtml = 'Like what you see? Visit the ' +\n",
              "            '<a target=\"_blank\" href=https://colab.research.google.com/notebooks/data_table.ipynb>data table notebook</a>'\n",
              "            + ' to learn more about interactive tables.';\n",
              "          element.innerHTML = '';\n",
              "          dataTable['output_type'] = 'display_data';\n",
              "          await google.colab.output.renderOutput(dataTable, element);\n",
              "          const docLink = document.createElement('div');\n",
              "          docLink.innerHTML = docLinkHtml;\n",
              "          element.appendChild(docLink);\n",
              "        }\n",
              "      </script>\n",
              "    </div>\n",
              "  </div>\n",
              "  "
            ]
          },
          "metadata": {}
        }
      ]
    },
    {
      "cell_type": "markdown",
      "source": [
        "####Podemos também criar um *DataFrame* sem passar o index e as colunas, assim o nosso *DataFrame* vai apresentar um padrão."
      ],
      "metadata": {
        "id": "T8m-SaSAU082"
      }
    },
    {
      "cell_type": "code",
      "source": [
        "pd.DataFrame(['Dev', 'DS', 'Marketing'])"
      ],
      "metadata": {
        "colab": {
          "base_uri": "https://localhost:8080/",
          "height": 143
        },
        "id": "LSbQw1fKVNNk",
        "outputId": "433d4f04-1428-4981-a3a2-5d240cb95d48"
      },
      "execution_count": 27,
      "outputs": [
        {
          "output_type": "execute_result",
          "data": {
            "text/plain": [
              "           0\n",
              "0        Dev\n",
              "1         DS\n",
              "2  Marketing"
            ],
            "text/html": [
              "\n",
              "  <div id=\"df-dd3ee659-1fa1-4940-bfc4-d84648c1e72e\">\n",
              "    <div class=\"colab-df-container\">\n",
              "      <div>\n",
              "<style scoped>\n",
              "    .dataframe tbody tr th:only-of-type {\n",
              "        vertical-align: middle;\n",
              "    }\n",
              "\n",
              "    .dataframe tbody tr th {\n",
              "        vertical-align: top;\n",
              "    }\n",
              "\n",
              "    .dataframe thead th {\n",
              "        text-align: right;\n",
              "    }\n",
              "</style>\n",
              "<table border=\"1\" class=\"dataframe\">\n",
              "  <thead>\n",
              "    <tr style=\"text-align: right;\">\n",
              "      <th></th>\n",
              "      <th>0</th>\n",
              "    </tr>\n",
              "  </thead>\n",
              "  <tbody>\n",
              "    <tr>\n",
              "      <th>0</th>\n",
              "      <td>Dev</td>\n",
              "    </tr>\n",
              "    <tr>\n",
              "      <th>1</th>\n",
              "      <td>DS</td>\n",
              "    </tr>\n",
              "    <tr>\n",
              "      <th>2</th>\n",
              "      <td>Marketing</td>\n",
              "    </tr>\n",
              "  </tbody>\n",
              "</table>\n",
              "</div>\n",
              "      <button class=\"colab-df-convert\" onclick=\"convertToInteractive('df-dd3ee659-1fa1-4940-bfc4-d84648c1e72e')\"\n",
              "              title=\"Convert this dataframe to an interactive table.\"\n",
              "              style=\"display:none;\">\n",
              "        \n",
              "  <svg xmlns=\"http://www.w3.org/2000/svg\" height=\"24px\"viewBox=\"0 0 24 24\"\n",
              "       width=\"24px\">\n",
              "    <path d=\"M0 0h24v24H0V0z\" fill=\"none\"/>\n",
              "    <path d=\"M18.56 5.44l.94 2.06.94-2.06 2.06-.94-2.06-.94-.94-2.06-.94 2.06-2.06.94zm-11 1L8.5 8.5l.94-2.06 2.06-.94-2.06-.94L8.5 2.5l-.94 2.06-2.06.94zm10 10l.94 2.06.94-2.06 2.06-.94-2.06-.94-.94-2.06-.94 2.06-2.06.94z\"/><path d=\"M17.41 7.96l-1.37-1.37c-.4-.4-.92-.59-1.43-.59-.52 0-1.04.2-1.43.59L10.3 9.45l-7.72 7.72c-.78.78-.78 2.05 0 2.83L4 21.41c.39.39.9.59 1.41.59.51 0 1.02-.2 1.41-.59l7.78-7.78 2.81-2.81c.8-.78.8-2.07 0-2.86zM5.41 20L4 18.59l7.72-7.72 1.47 1.35L5.41 20z\"/>\n",
              "  </svg>\n",
              "      </button>\n",
              "      \n",
              "  <style>\n",
              "    .colab-df-container {\n",
              "      display:flex;\n",
              "      flex-wrap:wrap;\n",
              "      gap: 12px;\n",
              "    }\n",
              "\n",
              "    .colab-df-convert {\n",
              "      background-color: #E8F0FE;\n",
              "      border: none;\n",
              "      border-radius: 50%;\n",
              "      cursor: pointer;\n",
              "      display: none;\n",
              "      fill: #1967D2;\n",
              "      height: 32px;\n",
              "      padding: 0 0 0 0;\n",
              "      width: 32px;\n",
              "    }\n",
              "\n",
              "    .colab-df-convert:hover {\n",
              "      background-color: #E2EBFA;\n",
              "      box-shadow: 0px 1px 2px rgba(60, 64, 67, 0.3), 0px 1px 3px 1px rgba(60, 64, 67, 0.15);\n",
              "      fill: #174EA6;\n",
              "    }\n",
              "\n",
              "    [theme=dark] .colab-df-convert {\n",
              "      background-color: #3B4455;\n",
              "      fill: #D2E3FC;\n",
              "    }\n",
              "\n",
              "    [theme=dark] .colab-df-convert:hover {\n",
              "      background-color: #434B5C;\n",
              "      box-shadow: 0px 1px 3px 1px rgba(0, 0, 0, 0.15);\n",
              "      filter: drop-shadow(0px 1px 2px rgba(0, 0, 0, 0.3));\n",
              "      fill: #FFFFFF;\n",
              "    }\n",
              "  </style>\n",
              "\n",
              "      <script>\n",
              "        const buttonEl =\n",
              "          document.querySelector('#df-dd3ee659-1fa1-4940-bfc4-d84648c1e72e button.colab-df-convert');\n",
              "        buttonEl.style.display =\n",
              "          google.colab.kernel.accessAllowed ? 'block' : 'none';\n",
              "\n",
              "        async function convertToInteractive(key) {\n",
              "          const element = document.querySelector('#df-dd3ee659-1fa1-4940-bfc4-d84648c1e72e');\n",
              "          const dataTable =\n",
              "            await google.colab.kernel.invokeFunction('convertToInteractive',\n",
              "                                                     [key], {});\n",
              "          if (!dataTable) return;\n",
              "\n",
              "          const docLinkHtml = 'Like what you see? Visit the ' +\n",
              "            '<a target=\"_blank\" href=https://colab.research.google.com/notebooks/data_table.ipynb>data table notebook</a>'\n",
              "            + ' to learn more about interactive tables.';\n",
              "          element.innerHTML = '';\n",
              "          dataTable['output_type'] = 'display_data';\n",
              "          await google.colab.output.renderOutput(dataTable, element);\n",
              "          const docLink = document.createElement('div');\n",
              "          docLink.innerHTML = docLinkHtml;\n",
              "          element.appendChild(docLink);\n",
              "        }\n",
              "      </script>\n",
              "    </div>\n",
              "  </div>\n",
              "  "
            ]
          },
          "metadata": {},
          "execution_count": 27
        }
      ]
    },
    {
      "cell_type": "markdown",
      "source": [
        "Além dessas formas, nossos *DataFrames*, apresentam diversas formas para construirmos eles, podemos fazer através de **Conjuntos**, **Listas**, **Dicionários**"
      ],
      "metadata": {
        "id": "EJPQVThVVZGw"
      }
    },
    {
      "cell_type": "code",
      "source": [
        "frutas = ['Maça', 'Melancia', 'Kiwi']\n",
        "conjunto = set(frutas)\n",
        "pd.DataFrame(conjunto)"
      ],
      "metadata": {
        "colab": {
          "base_uri": "https://localhost:8080/",
          "height": 143
        },
        "id": "Uv4qJX39WBie",
        "outputId": "42c665dc-a310-4463-d85a-b7994fdc0ed5"
      },
      "execution_count": 28,
      "outputs": [
        {
          "output_type": "execute_result",
          "data": {
            "text/plain": [
              "          0\n",
              "0  Melancia\n",
              "1      Kiwi\n",
              "2      Maça"
            ],
            "text/html": [
              "\n",
              "  <div id=\"df-3c1f7aea-315b-4f43-a8c6-6d1562078f9b\">\n",
              "    <div class=\"colab-df-container\">\n",
              "      <div>\n",
              "<style scoped>\n",
              "    .dataframe tbody tr th:only-of-type {\n",
              "        vertical-align: middle;\n",
              "    }\n",
              "\n",
              "    .dataframe tbody tr th {\n",
              "        vertical-align: top;\n",
              "    }\n",
              "\n",
              "    .dataframe thead th {\n",
              "        text-align: right;\n",
              "    }\n",
              "</style>\n",
              "<table border=\"1\" class=\"dataframe\">\n",
              "  <thead>\n",
              "    <tr style=\"text-align: right;\">\n",
              "      <th></th>\n",
              "      <th>0</th>\n",
              "    </tr>\n",
              "  </thead>\n",
              "  <tbody>\n",
              "    <tr>\n",
              "      <th>0</th>\n",
              "      <td>Melancia</td>\n",
              "    </tr>\n",
              "    <tr>\n",
              "      <th>1</th>\n",
              "      <td>Kiwi</td>\n",
              "    </tr>\n",
              "    <tr>\n",
              "      <th>2</th>\n",
              "      <td>Maça</td>\n",
              "    </tr>\n",
              "  </tbody>\n",
              "</table>\n",
              "</div>\n",
              "      <button class=\"colab-df-convert\" onclick=\"convertToInteractive('df-3c1f7aea-315b-4f43-a8c6-6d1562078f9b')\"\n",
              "              title=\"Convert this dataframe to an interactive table.\"\n",
              "              style=\"display:none;\">\n",
              "        \n",
              "  <svg xmlns=\"http://www.w3.org/2000/svg\" height=\"24px\"viewBox=\"0 0 24 24\"\n",
              "       width=\"24px\">\n",
              "    <path d=\"M0 0h24v24H0V0z\" fill=\"none\"/>\n",
              "    <path d=\"M18.56 5.44l.94 2.06.94-2.06 2.06-.94-2.06-.94-.94-2.06-.94 2.06-2.06.94zm-11 1L8.5 8.5l.94-2.06 2.06-.94-2.06-.94L8.5 2.5l-.94 2.06-2.06.94zm10 10l.94 2.06.94-2.06 2.06-.94-2.06-.94-.94-2.06-.94 2.06-2.06.94z\"/><path d=\"M17.41 7.96l-1.37-1.37c-.4-.4-.92-.59-1.43-.59-.52 0-1.04.2-1.43.59L10.3 9.45l-7.72 7.72c-.78.78-.78 2.05 0 2.83L4 21.41c.39.39.9.59 1.41.59.51 0 1.02-.2 1.41-.59l7.78-7.78 2.81-2.81c.8-.78.8-2.07 0-2.86zM5.41 20L4 18.59l7.72-7.72 1.47 1.35L5.41 20z\"/>\n",
              "  </svg>\n",
              "      </button>\n",
              "      \n",
              "  <style>\n",
              "    .colab-df-container {\n",
              "      display:flex;\n",
              "      flex-wrap:wrap;\n",
              "      gap: 12px;\n",
              "    }\n",
              "\n",
              "    .colab-df-convert {\n",
              "      background-color: #E8F0FE;\n",
              "      border: none;\n",
              "      border-radius: 50%;\n",
              "      cursor: pointer;\n",
              "      display: none;\n",
              "      fill: #1967D2;\n",
              "      height: 32px;\n",
              "      padding: 0 0 0 0;\n",
              "      width: 32px;\n",
              "    }\n",
              "\n",
              "    .colab-df-convert:hover {\n",
              "      background-color: #E2EBFA;\n",
              "      box-shadow: 0px 1px 2px rgba(60, 64, 67, 0.3), 0px 1px 3px 1px rgba(60, 64, 67, 0.15);\n",
              "      fill: #174EA6;\n",
              "    }\n",
              "\n",
              "    [theme=dark] .colab-df-convert {\n",
              "      background-color: #3B4455;\n",
              "      fill: #D2E3FC;\n",
              "    }\n",
              "\n",
              "    [theme=dark] .colab-df-convert:hover {\n",
              "      background-color: #434B5C;\n",
              "      box-shadow: 0px 1px 3px 1px rgba(0, 0, 0, 0.15);\n",
              "      filter: drop-shadow(0px 1px 2px rgba(0, 0, 0, 0.3));\n",
              "      fill: #FFFFFF;\n",
              "    }\n",
              "  </style>\n",
              "\n",
              "      <script>\n",
              "        const buttonEl =\n",
              "          document.querySelector('#df-3c1f7aea-315b-4f43-a8c6-6d1562078f9b button.colab-df-convert');\n",
              "        buttonEl.style.display =\n",
              "          google.colab.kernel.accessAllowed ? 'block' : 'none';\n",
              "\n",
              "        async function convertToInteractive(key) {\n",
              "          const element = document.querySelector('#df-3c1f7aea-315b-4f43-a8c6-6d1562078f9b');\n",
              "          const dataTable =\n",
              "            await google.colab.kernel.invokeFunction('convertToInteractive',\n",
              "                                                     [key], {});\n",
              "          if (!dataTable) return;\n",
              "\n",
              "          const docLinkHtml = 'Like what you see? Visit the ' +\n",
              "            '<a target=\"_blank\" href=https://colab.research.google.com/notebooks/data_table.ipynb>data table notebook</a>'\n",
              "            + ' to learn more about interactive tables.';\n",
              "          element.innerHTML = '';\n",
              "          dataTable['output_type'] = 'display_data';\n",
              "          await google.colab.output.renderOutput(dataTable, element);\n",
              "          const docLink = document.createElement('div');\n",
              "          docLink.innerHTML = docLinkHtml;\n",
              "          element.appendChild(docLink);\n",
              "        }\n",
              "      </script>\n",
              "    </div>\n",
              "  </div>\n",
              "  "
            ]
          },
          "metadata": {},
          "execution_count": 28
        }
      ]
    },
    {
      "cell_type": "code",
      "source": [
        "bairros = ['Stella Mares', 'Praia do Flamengo', 'Ipitanga']\n",
        "pd.DataFrame(bairros)"
      ],
      "metadata": {
        "colab": {
          "base_uri": "https://localhost:8080/",
          "height": 143
        },
        "id": "SLQbKj-BWO_f",
        "outputId": "4671b24c-ae55-49f3-abc1-000933f6f3fe"
      },
      "execution_count": 29,
      "outputs": [
        {
          "output_type": "execute_result",
          "data": {
            "text/plain": [
              "                   0\n",
              "0       Stella Mares\n",
              "1  Praia do Flamengo\n",
              "2           Ipitanga"
            ],
            "text/html": [
              "\n",
              "  <div id=\"df-693c46a8-f564-4ef8-b18d-b3da69fccb8a\">\n",
              "    <div class=\"colab-df-container\">\n",
              "      <div>\n",
              "<style scoped>\n",
              "    .dataframe tbody tr th:only-of-type {\n",
              "        vertical-align: middle;\n",
              "    }\n",
              "\n",
              "    .dataframe tbody tr th {\n",
              "        vertical-align: top;\n",
              "    }\n",
              "\n",
              "    .dataframe thead th {\n",
              "        text-align: right;\n",
              "    }\n",
              "</style>\n",
              "<table border=\"1\" class=\"dataframe\">\n",
              "  <thead>\n",
              "    <tr style=\"text-align: right;\">\n",
              "      <th></th>\n",
              "      <th>0</th>\n",
              "    </tr>\n",
              "  </thead>\n",
              "  <tbody>\n",
              "    <tr>\n",
              "      <th>0</th>\n",
              "      <td>Stella Mares</td>\n",
              "    </tr>\n",
              "    <tr>\n",
              "      <th>1</th>\n",
              "      <td>Praia do Flamengo</td>\n",
              "    </tr>\n",
              "    <tr>\n",
              "      <th>2</th>\n",
              "      <td>Ipitanga</td>\n",
              "    </tr>\n",
              "  </tbody>\n",
              "</table>\n",
              "</div>\n",
              "      <button class=\"colab-df-convert\" onclick=\"convertToInteractive('df-693c46a8-f564-4ef8-b18d-b3da69fccb8a')\"\n",
              "              title=\"Convert this dataframe to an interactive table.\"\n",
              "              style=\"display:none;\">\n",
              "        \n",
              "  <svg xmlns=\"http://www.w3.org/2000/svg\" height=\"24px\"viewBox=\"0 0 24 24\"\n",
              "       width=\"24px\">\n",
              "    <path d=\"M0 0h24v24H0V0z\" fill=\"none\"/>\n",
              "    <path d=\"M18.56 5.44l.94 2.06.94-2.06 2.06-.94-2.06-.94-.94-2.06-.94 2.06-2.06.94zm-11 1L8.5 8.5l.94-2.06 2.06-.94-2.06-.94L8.5 2.5l-.94 2.06-2.06.94zm10 10l.94 2.06.94-2.06 2.06-.94-2.06-.94-.94-2.06-.94 2.06-2.06.94z\"/><path d=\"M17.41 7.96l-1.37-1.37c-.4-.4-.92-.59-1.43-.59-.52 0-1.04.2-1.43.59L10.3 9.45l-7.72 7.72c-.78.78-.78 2.05 0 2.83L4 21.41c.39.39.9.59 1.41.59.51 0 1.02-.2 1.41-.59l7.78-7.78 2.81-2.81c.8-.78.8-2.07 0-2.86zM5.41 20L4 18.59l7.72-7.72 1.47 1.35L5.41 20z\"/>\n",
              "  </svg>\n",
              "      </button>\n",
              "      \n",
              "  <style>\n",
              "    .colab-df-container {\n",
              "      display:flex;\n",
              "      flex-wrap:wrap;\n",
              "      gap: 12px;\n",
              "    }\n",
              "\n",
              "    .colab-df-convert {\n",
              "      background-color: #E8F0FE;\n",
              "      border: none;\n",
              "      border-radius: 50%;\n",
              "      cursor: pointer;\n",
              "      display: none;\n",
              "      fill: #1967D2;\n",
              "      height: 32px;\n",
              "      padding: 0 0 0 0;\n",
              "      width: 32px;\n",
              "    }\n",
              "\n",
              "    .colab-df-convert:hover {\n",
              "      background-color: #E2EBFA;\n",
              "      box-shadow: 0px 1px 2px rgba(60, 64, 67, 0.3), 0px 1px 3px 1px rgba(60, 64, 67, 0.15);\n",
              "      fill: #174EA6;\n",
              "    }\n",
              "\n",
              "    [theme=dark] .colab-df-convert {\n",
              "      background-color: #3B4455;\n",
              "      fill: #D2E3FC;\n",
              "    }\n",
              "\n",
              "    [theme=dark] .colab-df-convert:hover {\n",
              "      background-color: #434B5C;\n",
              "      box-shadow: 0px 1px 3px 1px rgba(0, 0, 0, 0.15);\n",
              "      filter: drop-shadow(0px 1px 2px rgba(0, 0, 0, 0.3));\n",
              "      fill: #FFFFFF;\n",
              "    }\n",
              "  </style>\n",
              "\n",
              "      <script>\n",
              "        const buttonEl =\n",
              "          document.querySelector('#df-693c46a8-f564-4ef8-b18d-b3da69fccb8a button.colab-df-convert');\n",
              "        buttonEl.style.display =\n",
              "          google.colab.kernel.accessAllowed ? 'block' : 'none';\n",
              "\n",
              "        async function convertToInteractive(key) {\n",
              "          const element = document.querySelector('#df-693c46a8-f564-4ef8-b18d-b3da69fccb8a');\n",
              "          const dataTable =\n",
              "            await google.colab.kernel.invokeFunction('convertToInteractive',\n",
              "                                                     [key], {});\n",
              "          if (!dataTable) return;\n",
              "\n",
              "          const docLinkHtml = 'Like what you see? Visit the ' +\n",
              "            '<a target=\"_blank\" href=https://colab.research.google.com/notebooks/data_table.ipynb>data table notebook</a>'\n",
              "            + ' to learn more about interactive tables.';\n",
              "          element.innerHTML = '';\n",
              "          dataTable['output_type'] = 'display_data';\n",
              "          await google.colab.output.renderOutput(dataTable, element);\n",
              "          const docLink = document.createElement('div');\n",
              "          docLink.innerHTML = docLinkHtml;\n",
              "          element.appendChild(docLink);\n",
              "        }\n",
              "      </script>\n",
              "    </div>\n",
              "  </div>\n",
              "  "
            ]
          },
          "metadata": {},
          "execution_count": 29
        }
      ]
    },
    {
      "cell_type": "code",
      "source": [
        "dicionario = {\n",
        "    'Filmes': ['Guerra nas Estrelas', 'O Império Contra-Ataca', 'O Retorno de Jedi'],\n",
        "    'Ano de Lançamento': [1977, 1980, 1983]\n",
        "}\n",
        "\n",
        "df2 = pd.DataFrame(dicionario)\n",
        "df2"
      ],
      "metadata": {
        "colab": {
          "base_uri": "https://localhost:8080/",
          "height": 143
        },
        "id": "oWxX06I_WwO_",
        "outputId": "e43e813e-52fe-4857-d23d-d32c5f4ed8f3"
      },
      "execution_count": 30,
      "outputs": [
        {
          "output_type": "execute_result",
          "data": {
            "text/plain": [
              "                   Filmes  Ano de Lançamento\n",
              "0     Guerra nas Estrelas               1977\n",
              "1  O Império Contra-Ataca               1980\n",
              "2       O Retorno de Jedi               1983"
            ],
            "text/html": [
              "\n",
              "  <div id=\"df-a0c64876-fb39-48fd-b570-15148588c2e9\">\n",
              "    <div class=\"colab-df-container\">\n",
              "      <div>\n",
              "<style scoped>\n",
              "    .dataframe tbody tr th:only-of-type {\n",
              "        vertical-align: middle;\n",
              "    }\n",
              "\n",
              "    .dataframe tbody tr th {\n",
              "        vertical-align: top;\n",
              "    }\n",
              "\n",
              "    .dataframe thead th {\n",
              "        text-align: right;\n",
              "    }\n",
              "</style>\n",
              "<table border=\"1\" class=\"dataframe\">\n",
              "  <thead>\n",
              "    <tr style=\"text-align: right;\">\n",
              "      <th></th>\n",
              "      <th>Filmes</th>\n",
              "      <th>Ano de Lançamento</th>\n",
              "    </tr>\n",
              "  </thead>\n",
              "  <tbody>\n",
              "    <tr>\n",
              "      <th>0</th>\n",
              "      <td>Guerra nas Estrelas</td>\n",
              "      <td>1977</td>\n",
              "    </tr>\n",
              "    <tr>\n",
              "      <th>1</th>\n",
              "      <td>O Império Contra-Ataca</td>\n",
              "      <td>1980</td>\n",
              "    </tr>\n",
              "    <tr>\n",
              "      <th>2</th>\n",
              "      <td>O Retorno de Jedi</td>\n",
              "      <td>1983</td>\n",
              "    </tr>\n",
              "  </tbody>\n",
              "</table>\n",
              "</div>\n",
              "      <button class=\"colab-df-convert\" onclick=\"convertToInteractive('df-a0c64876-fb39-48fd-b570-15148588c2e9')\"\n",
              "              title=\"Convert this dataframe to an interactive table.\"\n",
              "              style=\"display:none;\">\n",
              "        \n",
              "  <svg xmlns=\"http://www.w3.org/2000/svg\" height=\"24px\"viewBox=\"0 0 24 24\"\n",
              "       width=\"24px\">\n",
              "    <path d=\"M0 0h24v24H0V0z\" fill=\"none\"/>\n",
              "    <path d=\"M18.56 5.44l.94 2.06.94-2.06 2.06-.94-2.06-.94-.94-2.06-.94 2.06-2.06.94zm-11 1L8.5 8.5l.94-2.06 2.06-.94-2.06-.94L8.5 2.5l-.94 2.06-2.06.94zm10 10l.94 2.06.94-2.06 2.06-.94-2.06-.94-.94-2.06-.94 2.06-2.06.94z\"/><path d=\"M17.41 7.96l-1.37-1.37c-.4-.4-.92-.59-1.43-.59-.52 0-1.04.2-1.43.59L10.3 9.45l-7.72 7.72c-.78.78-.78 2.05 0 2.83L4 21.41c.39.39.9.59 1.41.59.51 0 1.02-.2 1.41-.59l7.78-7.78 2.81-2.81c.8-.78.8-2.07 0-2.86zM5.41 20L4 18.59l7.72-7.72 1.47 1.35L5.41 20z\"/>\n",
              "  </svg>\n",
              "      </button>\n",
              "      \n",
              "  <style>\n",
              "    .colab-df-container {\n",
              "      display:flex;\n",
              "      flex-wrap:wrap;\n",
              "      gap: 12px;\n",
              "    }\n",
              "\n",
              "    .colab-df-convert {\n",
              "      background-color: #E8F0FE;\n",
              "      border: none;\n",
              "      border-radius: 50%;\n",
              "      cursor: pointer;\n",
              "      display: none;\n",
              "      fill: #1967D2;\n",
              "      height: 32px;\n",
              "      padding: 0 0 0 0;\n",
              "      width: 32px;\n",
              "    }\n",
              "\n",
              "    .colab-df-convert:hover {\n",
              "      background-color: #E2EBFA;\n",
              "      box-shadow: 0px 1px 2px rgba(60, 64, 67, 0.3), 0px 1px 3px 1px rgba(60, 64, 67, 0.15);\n",
              "      fill: #174EA6;\n",
              "    }\n",
              "\n",
              "    [theme=dark] .colab-df-convert {\n",
              "      background-color: #3B4455;\n",
              "      fill: #D2E3FC;\n",
              "    }\n",
              "\n",
              "    [theme=dark] .colab-df-convert:hover {\n",
              "      background-color: #434B5C;\n",
              "      box-shadow: 0px 1px 3px 1px rgba(0, 0, 0, 0.15);\n",
              "      filter: drop-shadow(0px 1px 2px rgba(0, 0, 0, 0.3));\n",
              "      fill: #FFFFFF;\n",
              "    }\n",
              "  </style>\n",
              "\n",
              "      <script>\n",
              "        const buttonEl =\n",
              "          document.querySelector('#df-a0c64876-fb39-48fd-b570-15148588c2e9 button.colab-df-convert');\n",
              "        buttonEl.style.display =\n",
              "          google.colab.kernel.accessAllowed ? 'block' : 'none';\n",
              "\n",
              "        async function convertToInteractive(key) {\n",
              "          const element = document.querySelector('#df-a0c64876-fb39-48fd-b570-15148588c2e9');\n",
              "          const dataTable =\n",
              "            await google.colab.kernel.invokeFunction('convertToInteractive',\n",
              "                                                     [key], {});\n",
              "          if (!dataTable) return;\n",
              "\n",
              "          const docLinkHtml = 'Like what you see? Visit the ' +\n",
              "            '<a target=\"_blank\" href=https://colab.research.google.com/notebooks/data_table.ipynb>data table notebook</a>'\n",
              "            + ' to learn more about interactive tables.';\n",
              "          element.innerHTML = '';\n",
              "          dataTable['output_type'] = 'display_data';\n",
              "          await google.colab.output.renderOutput(dataTable, element);\n",
              "          const docLink = document.createElement('div');\n",
              "          docLink.innerHTML = docLinkHtml;\n",
              "          element.appendChild(docLink);\n",
              "        }\n",
              "      </script>\n",
              "    </div>\n",
              "  </div>\n",
              "  "
            ]
          },
          "metadata": {},
          "execution_count": 30
        }
      ]
    },
    {
      "cell_type": "code",
      "source": [
        "dataset = r'https://raw.githubusercontent.com/FelipeHardmann/Curso_DataScience/main/dataset/roupas.csv'\n",
        "df = pd.read_csv(dataset, sep=';')\n",
        "df.head()"
      ],
      "metadata": {
        "colab": {
          "base_uri": "https://localhost:8080/",
          "height": 206
        },
        "id": "_bnPdzVYWxpc",
        "outputId": "81c93e38-b15a-4959-8aec-81aa29fac17e"
      },
      "execution_count": 39,
      "outputs": [
        {
          "output_type": "execute_result",
          "data": {
            "text/plain": [
              "          nome  preco\n",
              "0     Camiseta  29.99\n",
              "1  Calça Jeans  59.99\n",
              "2        Blusa  19.99\n",
              "3      Jaqueta  79.99\n",
              "4      Vestido  39.99"
            ],
            "text/html": [
              "\n",
              "  <div id=\"df-a56d890c-7d32-434f-bc6e-83e8d844fe01\">\n",
              "    <div class=\"colab-df-container\">\n",
              "      <div>\n",
              "<style scoped>\n",
              "    .dataframe tbody tr th:only-of-type {\n",
              "        vertical-align: middle;\n",
              "    }\n",
              "\n",
              "    .dataframe tbody tr th {\n",
              "        vertical-align: top;\n",
              "    }\n",
              "\n",
              "    .dataframe thead th {\n",
              "        text-align: right;\n",
              "    }\n",
              "</style>\n",
              "<table border=\"1\" class=\"dataframe\">\n",
              "  <thead>\n",
              "    <tr style=\"text-align: right;\">\n",
              "      <th></th>\n",
              "      <th>nome</th>\n",
              "      <th>preco</th>\n",
              "    </tr>\n",
              "  </thead>\n",
              "  <tbody>\n",
              "    <tr>\n",
              "      <th>0</th>\n",
              "      <td>Camiseta</td>\n",
              "      <td>29.99</td>\n",
              "    </tr>\n",
              "    <tr>\n",
              "      <th>1</th>\n",
              "      <td>Calça Jeans</td>\n",
              "      <td>59.99</td>\n",
              "    </tr>\n",
              "    <tr>\n",
              "      <th>2</th>\n",
              "      <td>Blusa</td>\n",
              "      <td>19.99</td>\n",
              "    </tr>\n",
              "    <tr>\n",
              "      <th>3</th>\n",
              "      <td>Jaqueta</td>\n",
              "      <td>79.99</td>\n",
              "    </tr>\n",
              "    <tr>\n",
              "      <th>4</th>\n",
              "      <td>Vestido</td>\n",
              "      <td>39.99</td>\n",
              "    </tr>\n",
              "  </tbody>\n",
              "</table>\n",
              "</div>\n",
              "      <button class=\"colab-df-convert\" onclick=\"convertToInteractive('df-a56d890c-7d32-434f-bc6e-83e8d844fe01')\"\n",
              "              title=\"Convert this dataframe to an interactive table.\"\n",
              "              style=\"display:none;\">\n",
              "        \n",
              "  <svg xmlns=\"http://www.w3.org/2000/svg\" height=\"24px\"viewBox=\"0 0 24 24\"\n",
              "       width=\"24px\">\n",
              "    <path d=\"M0 0h24v24H0V0z\" fill=\"none\"/>\n",
              "    <path d=\"M18.56 5.44l.94 2.06.94-2.06 2.06-.94-2.06-.94-.94-2.06-.94 2.06-2.06.94zm-11 1L8.5 8.5l.94-2.06 2.06-.94-2.06-.94L8.5 2.5l-.94 2.06-2.06.94zm10 10l.94 2.06.94-2.06 2.06-.94-2.06-.94-.94-2.06-.94 2.06-2.06.94z\"/><path d=\"M17.41 7.96l-1.37-1.37c-.4-.4-.92-.59-1.43-.59-.52 0-1.04.2-1.43.59L10.3 9.45l-7.72 7.72c-.78.78-.78 2.05 0 2.83L4 21.41c.39.39.9.59 1.41.59.51 0 1.02-.2 1.41-.59l7.78-7.78 2.81-2.81c.8-.78.8-2.07 0-2.86zM5.41 20L4 18.59l7.72-7.72 1.47 1.35L5.41 20z\"/>\n",
              "  </svg>\n",
              "      </button>\n",
              "      \n",
              "  <style>\n",
              "    .colab-df-container {\n",
              "      display:flex;\n",
              "      flex-wrap:wrap;\n",
              "      gap: 12px;\n",
              "    }\n",
              "\n",
              "    .colab-df-convert {\n",
              "      background-color: #E8F0FE;\n",
              "      border: none;\n",
              "      border-radius: 50%;\n",
              "      cursor: pointer;\n",
              "      display: none;\n",
              "      fill: #1967D2;\n",
              "      height: 32px;\n",
              "      padding: 0 0 0 0;\n",
              "      width: 32px;\n",
              "    }\n",
              "\n",
              "    .colab-df-convert:hover {\n",
              "      background-color: #E2EBFA;\n",
              "      box-shadow: 0px 1px 2px rgba(60, 64, 67, 0.3), 0px 1px 3px 1px rgba(60, 64, 67, 0.15);\n",
              "      fill: #174EA6;\n",
              "    }\n",
              "\n",
              "    [theme=dark] .colab-df-convert {\n",
              "      background-color: #3B4455;\n",
              "      fill: #D2E3FC;\n",
              "    }\n",
              "\n",
              "    [theme=dark] .colab-df-convert:hover {\n",
              "      background-color: #434B5C;\n",
              "      box-shadow: 0px 1px 3px 1px rgba(0, 0, 0, 0.15);\n",
              "      filter: drop-shadow(0px 1px 2px rgba(0, 0, 0, 0.3));\n",
              "      fill: #FFFFFF;\n",
              "    }\n",
              "  </style>\n",
              "\n",
              "      <script>\n",
              "        const buttonEl =\n",
              "          document.querySelector('#df-a56d890c-7d32-434f-bc6e-83e8d844fe01 button.colab-df-convert');\n",
              "        buttonEl.style.display =\n",
              "          google.colab.kernel.accessAllowed ? 'block' : 'none';\n",
              "\n",
              "        async function convertToInteractive(key) {\n",
              "          const element = document.querySelector('#df-a56d890c-7d32-434f-bc6e-83e8d844fe01');\n",
              "          const dataTable =\n",
              "            await google.colab.kernel.invokeFunction('convertToInteractive',\n",
              "                                                     [key], {});\n",
              "          if (!dataTable) return;\n",
              "\n",
              "          const docLinkHtml = 'Like what you see? Visit the ' +\n",
              "            '<a target=\"_blank\" href=https://colab.research.google.com/notebooks/data_table.ipynb>data table notebook</a>'\n",
              "            + ' to learn more about interactive tables.';\n",
              "          element.innerHTML = '';\n",
              "          dataTable['output_type'] = 'display_data';\n",
              "          await google.colab.output.renderOutput(dataTable, element);\n",
              "          const docLink = document.createElement('div');\n",
              "          docLink.innerHTML = docLinkHtml;\n",
              "          element.appendChild(docLink);\n",
              "        }\n",
              "      </script>\n",
              "    </div>\n",
              "  </div>\n",
              "  "
            ]
          },
          "metadata": {},
          "execution_count": 39
        }
      ]
    },
    {
      "cell_type": "code",
      "source": [
        "df.shape"
      ],
      "metadata": {
        "colab": {
          "base_uri": "https://localhost:8080/"
        },
        "id": "0s2-Xv2PbQvr",
        "outputId": "4611d5f0-a409-405b-d38c-db7ab3ffc3ef"
      },
      "execution_count": 40,
      "outputs": [
        {
          "output_type": "execute_result",
          "data": {
            "text/plain": [
              "(142, 2)"
            ]
          },
          "metadata": {},
          "execution_count": 40
        }
      ]
    },
    {
      "cell_type": "code",
      "source": [
        "type(df)"
      ],
      "metadata": {
        "colab": {
          "base_uri": "https://localhost:8080/"
        },
        "id": "ic-uWvyEbSUc",
        "outputId": "20c97a0a-c619-4be7-d423-29b2f8d47960"
      },
      "execution_count": 41,
      "outputs": [
        {
          "output_type": "execute_result",
          "data": {
            "text/plain": [
              "pandas.core.frame.DataFrame"
            ]
          },
          "metadata": {},
          "execution_count": 41
        }
      ]
    },
    {
      "cell_type": "code",
      "source": [
        "type(df['nome'])"
      ],
      "metadata": {
        "colab": {
          "base_uri": "https://localhost:8080/"
        },
        "id": "d-sZirh_bXgw",
        "outputId": "5140790b-2d62-48d6-a8a0-4ad5395bdca1"
      },
      "execution_count": 42,
      "outputs": [
        {
          "output_type": "execute_result",
          "data": {
            "text/plain": [
              "pandas.core.series.Series"
            ]
          },
          "metadata": {},
          "execution_count": 42
        }
      ]
    },
    {
      "cell_type": "markdown",
      "source": [
        "Agora que já aprendeu como criar _Series_ e _DataFrames_, é a sua vez de praticar tudo que aprendeu nesta aula.\n",
        "\n",
        "1. Crie _Series_ com parâmetro posicional e depois com parâmetro nomeado (named parameter)\n",
        "2. Adicione index a sua _Series_ (mude o index para valores inteiros, depois para string e veja o resultado)\n",
        "3. Adicione um nome à sua _Series_\n",
        "4. Crie mais de uma! (__Lembre-se : É hora de praticar!__)\n",
        "5. Crie uma _Series_ com um tipo de dado e depois mude para outro tipo usando o método astype( )\n",
        "6. Crie um _DataFrame_ de 2 colunas usando um dicionário\n",
        "7. Recrie este mesmo _DataFrame_ através de lista e com index e columns\n",
        "8. Veja todos os exemplos e refaça-os utilizando seus próprios exemplos e valores"
      ],
      "metadata": {
        "id": "1xGm7lTPbaiN"
      }
    }
  ]
}